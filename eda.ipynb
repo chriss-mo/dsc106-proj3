{
 "cells": [
  {
   "cell_type": "code",
   "execution_count": 45,
   "metadata": {},
   "outputs": [],
   "source": [
    "import pandas as pd\n",
    "import glob, os\n",
    "import numpy as np\n",
    "import re\n",
    "# import seaborn as sns\n",
    "import matplotlib.pyplot as plt\n",
    "import plotly.express as px\n",
    "import plotly.graph_objects as go"
   ]
  },
  {
   "cell_type": "code",
   "execution_count": 46,
   "metadata": {},
   "outputs": [],
   "source": [
    "# ! pip --version"
   ]
  },
  {
   "cell_type": "code",
   "execution_count": 47,
   "metadata": {},
   "outputs": [],
   "source": [
    "entire_dataset = pd.DataFrame()\n",
    "for i,file in enumerate(glob.glob('./data/*.csv')):\n",
    "    df_temp = pd.read_csv(file)\n",
    "    df_temp['subject'] = np.ones(df_temp.shape[0]) * (i+1)\n",
    "    entire_dataset = pd.concat([entire_dataset, df_temp])"
   ]
  },
  {
   "cell_type": "code",
   "execution_count": 48,
   "metadata": {},
   "outputs": [],
   "source": [
    "demographic = pd.read_csv('./data/demo/demographics.csv')\n",
    "entire_dataset = entire_dataset.merge(demographic, left_on='subject', right_on='ID',how='inner')"
   ]
  },
  {
   "cell_type": "code",
   "execution_count": 49,
   "metadata": {},
   "outputs": [
    {
     "data": {
      "text/plain": [
       "date             False\n",
       "time              True\n",
       "time_begin        True\n",
       "time_end          True\n",
       "logged_food      False\n",
       "amount            True\n",
       "unit              True\n",
       "searched_food     True\n",
       "calorie          False\n",
       "total_carb       False\n",
       "dietary_fiber     True\n",
       "sugar            False\n",
       "protein           True\n",
       "total_fat         True\n",
       "subject          False\n",
       "time_of_day       True\n",
       "ID               False\n",
       "Gender           False\n",
       "HbA1c            False\n",
       "dtype: bool"
      ]
     },
     "execution_count": 49,
     "metadata": {},
     "output_type": "execute_result"
    }
   ],
   "source": [
    "entire_dataset.isna().any()"
   ]
  },
  {
   "cell_type": "code",
   "execution_count": 50,
   "metadata": {},
   "outputs": [
    {
     "data": {
      "text/html": [
       "<div>\n",
       "<style scoped>\n",
       "    .dataframe tbody tr th:only-of-type {\n",
       "        vertical-align: middle;\n",
       "    }\n",
       "\n",
       "    .dataframe tbody tr th {\n",
       "        vertical-align: top;\n",
       "    }\n",
       "\n",
       "    .dataframe thead th {\n",
       "        text-align: right;\n",
       "    }\n",
       "</style>\n",
       "<table border=\"1\" class=\"dataframe\">\n",
       "  <thead>\n",
       "    <tr style=\"text-align: right;\">\n",
       "      <th></th>\n",
       "      <th>date</th>\n",
       "      <th>time</th>\n",
       "      <th>time_begin</th>\n",
       "      <th>time_end</th>\n",
       "      <th>logged_food</th>\n",
       "      <th>amount</th>\n",
       "      <th>unit</th>\n",
       "      <th>searched_food</th>\n",
       "      <th>calorie</th>\n",
       "      <th>total_carb</th>\n",
       "      <th>dietary_fiber</th>\n",
       "      <th>sugar</th>\n",
       "      <th>protein</th>\n",
       "      <th>total_fat</th>\n",
       "      <th>subject</th>\n",
       "      <th>time_of_day</th>\n",
       "      <th>ID</th>\n",
       "      <th>Gender</th>\n",
       "      <th>HbA1c</th>\n",
       "    </tr>\n",
       "  </thead>\n",
       "  <tbody>\n",
       "    <tr>\n",
       "      <th>0</th>\n",
       "      <td>2020-02-13</td>\n",
       "      <td>18:00:00</td>\n",
       "      <td>2020-02-13 18:00:00</td>\n",
       "      <td>NaN</td>\n",
       "      <td>Berry Smoothie</td>\n",
       "      <td>20.0</td>\n",
       "      <td>fluid ounce</td>\n",
       "      <td>Strawberry Smoothie</td>\n",
       "      <td>456.0</td>\n",
       "      <td>85.0</td>\n",
       "      <td>1.7</td>\n",
       "      <td>83.0</td>\n",
       "      <td>16.0</td>\n",
       "      <td>3.3</td>\n",
       "      <td>1.0</td>\n",
       "      <td>NaN</td>\n",
       "      <td>1</td>\n",
       "      <td>FEMALE</td>\n",
       "      <td>5.5</td>\n",
       "    </tr>\n",
       "    <tr>\n",
       "      <th>1</th>\n",
       "      <td>2020-02-13</td>\n",
       "      <td>20:30:00</td>\n",
       "      <td>2020-02-13 20:30:00</td>\n",
       "      <td>NaN</td>\n",
       "      <td>Chicken Leg</td>\n",
       "      <td>1.0</td>\n",
       "      <td>NaN</td>\n",
       "      <td>chicken leg</td>\n",
       "      <td>475.0</td>\n",
       "      <td>0.0</td>\n",
       "      <td>0.0</td>\n",
       "      <td>0.0</td>\n",
       "      <td>62.0</td>\n",
       "      <td>23.0</td>\n",
       "      <td>1.0</td>\n",
       "      <td>NaN</td>\n",
       "      <td>1</td>\n",
       "      <td>FEMALE</td>\n",
       "      <td>5.5</td>\n",
       "    </tr>\n",
       "    <tr>\n",
       "      <th>2</th>\n",
       "      <td>2020-02-13</td>\n",
       "      <td>20:30:00</td>\n",
       "      <td>2020-02-13 20:30:00</td>\n",
       "      <td>NaN</td>\n",
       "      <td>Asparagus</td>\n",
       "      <td>4.0</td>\n",
       "      <td>NaN</td>\n",
       "      <td>Asparagus</td>\n",
       "      <td>13.0</td>\n",
       "      <td>2.5</td>\n",
       "      <td>1.2</td>\n",
       "      <td>0.8</td>\n",
       "      <td>1.4</td>\n",
       "      <td>0.1</td>\n",
       "      <td>1.0</td>\n",
       "      <td>NaN</td>\n",
       "      <td>1</td>\n",
       "      <td>FEMALE</td>\n",
       "      <td>5.5</td>\n",
       "    </tr>\n",
       "    <tr>\n",
       "      <th>3</th>\n",
       "      <td>2020-02-14</td>\n",
       "      <td>07:10:00</td>\n",
       "      <td>2020-02-14 07:10:00</td>\n",
       "      <td>NaN</td>\n",
       "      <td>Natrel Lactose Free 2 Percent</td>\n",
       "      <td>8.0</td>\n",
       "      <td>fluid ounce</td>\n",
       "      <td>(Natrel) Lactose Free 2% Partly Skimmed Milk</td>\n",
       "      <td>120.0</td>\n",
       "      <td>9.0</td>\n",
       "      <td>NaN</td>\n",
       "      <td>8.0</td>\n",
       "      <td>12.0</td>\n",
       "      <td>NaN</td>\n",
       "      <td>1.0</td>\n",
       "      <td>NaN</td>\n",
       "      <td>1</td>\n",
       "      <td>FEMALE</td>\n",
       "      <td>5.5</td>\n",
       "    </tr>\n",
       "    <tr>\n",
       "      <th>4</th>\n",
       "      <td>2020-02-14</td>\n",
       "      <td>07:10:00</td>\n",
       "      <td>2020-02-14 07:10:00</td>\n",
       "      <td>NaN</td>\n",
       "      <td>Standard Breakfast</td>\n",
       "      <td>0.75</td>\n",
       "      <td>cup</td>\n",
       "      <td>(Kellogg's) Frosted Flakes, Cereal</td>\n",
       "      <td>110.0</td>\n",
       "      <td>26.0</td>\n",
       "      <td>NaN</td>\n",
       "      <td>10.0</td>\n",
       "      <td>1.0</td>\n",
       "      <td>NaN</td>\n",
       "      <td>1.0</td>\n",
       "      <td>NaN</td>\n",
       "      <td>1</td>\n",
       "      <td>FEMALE</td>\n",
       "      <td>5.5</td>\n",
       "    </tr>\n",
       "    <tr>\n",
       "      <th>...</th>\n",
       "      <td>...</td>\n",
       "      <td>...</td>\n",
       "      <td>...</td>\n",
       "      <td>...</td>\n",
       "      <td>...</td>\n",
       "      <td>...</td>\n",
       "      <td>...</td>\n",
       "      <td>...</td>\n",
       "      <td>...</td>\n",
       "      <td>...</td>\n",
       "      <td>...</td>\n",
       "      <td>...</td>\n",
       "      <td>...</td>\n",
       "      <td>...</td>\n",
       "      <td>...</td>\n",
       "      <td>...</td>\n",
       "      <td>...</td>\n",
       "      <td>...</td>\n",
       "      <td>...</td>\n",
       "    </tr>\n",
       "    <tr>\n",
       "      <th>1417</th>\n",
       "      <td>2/26/2020</td>\n",
       "      <td>NaN</td>\n",
       "      <td>2020-02-26 18:30:00</td>\n",
       "      <td>NaN</td>\n",
       "      <td>Lemonade</td>\n",
       "      <td>32</td>\n",
       "      <td>oz</td>\n",
       "      <td>NaN</td>\n",
       "      <td>99.0</td>\n",
       "      <td>26.0</td>\n",
       "      <td>0.0</td>\n",
       "      <td>25.0</td>\n",
       "      <td>0.2</td>\n",
       "      <td>0.1</td>\n",
       "      <td>16.0</td>\n",
       "      <td>18:30</td>\n",
       "      <td>16</td>\n",
       "      <td>MALE</td>\n",
       "      <td>5.5</td>\n",
       "    </tr>\n",
       "    <tr>\n",
       "      <th>1418</th>\n",
       "      <td>2/27/2020</td>\n",
       "      <td>NaN</td>\n",
       "      <td>2020-02-27 10:30:00</td>\n",
       "      <td>NaN</td>\n",
       "      <td>Standard breakfast</td>\n",
       "      <td>NaN</td>\n",
       "      <td>NaN</td>\n",
       "      <td>NaN</td>\n",
       "      <td>280.0</td>\n",
       "      <td>56.5</td>\n",
       "      <td>1.0</td>\n",
       "      <td>24.0</td>\n",
       "      <td>8.0</td>\n",
       "      <td>2.5</td>\n",
       "      <td>16.0</td>\n",
       "      <td>10:30</td>\n",
       "      <td>16</td>\n",
       "      <td>MALE</td>\n",
       "      <td>5.5</td>\n",
       "    </tr>\n",
       "    <tr>\n",
       "      <th>1419</th>\n",
       "      <td>2/27/2020</td>\n",
       "      <td>NaN</td>\n",
       "      <td>2020-02-27 11:30:00</td>\n",
       "      <td>NaN</td>\n",
       "      <td>Plain cheese pizza</td>\n",
       "      <td>1</td>\n",
       "      <td>slices</td>\n",
       "      <td>NaN</td>\n",
       "      <td>452.0</td>\n",
       "      <td>57.0</td>\n",
       "      <td>3.9</td>\n",
       "      <td>6.1</td>\n",
       "      <td>19.0</td>\n",
       "      <td>16.0</td>\n",
       "      <td>16.0</td>\n",
       "      <td>11:30</td>\n",
       "      <td>16</td>\n",
       "      <td>MALE</td>\n",
       "      <td>5.5</td>\n",
       "    </tr>\n",
       "    <tr>\n",
       "      <th>1420</th>\n",
       "      <td>2/27/2020</td>\n",
       "      <td>NaN</td>\n",
       "      <td>2020-02-27 11:30:00</td>\n",
       "      <td>NaN</td>\n",
       "      <td>cooked black eyed peas</td>\n",
       "      <td>1</td>\n",
       "      <td>cup</td>\n",
       "      <td>NaN</td>\n",
       "      <td>198.0</td>\n",
       "      <td>35.0</td>\n",
       "      <td>11.0</td>\n",
       "      <td>5.6</td>\n",
       "      <td>13.0</td>\n",
       "      <td>0.9</td>\n",
       "      <td>16.0</td>\n",
       "      <td>11:30</td>\n",
       "      <td>16</td>\n",
       "      <td>MALE</td>\n",
       "      <td>5.5</td>\n",
       "    </tr>\n",
       "    <tr>\n",
       "      <th>1421</th>\n",
       "      <td>2/28/2020</td>\n",
       "      <td>NaN</td>\n",
       "      <td>2020-02-28 08:00:00</td>\n",
       "      <td>NaN</td>\n",
       "      <td>Boost</td>\n",
       "      <td>NaN</td>\n",
       "      <td>NaN</td>\n",
       "      <td>NaN</td>\n",
       "      <td>654.0</td>\n",
       "      <td>82.0</td>\n",
       "      <td>5.6</td>\n",
       "      <td>40.0</td>\n",
       "      <td>26.0</td>\n",
       "      <td>26.0</td>\n",
       "      <td>16.0</td>\n",
       "      <td>8:00</td>\n",
       "      <td>16</td>\n",
       "      <td>MALE</td>\n",
       "      <td>5.5</td>\n",
       "    </tr>\n",
       "  </tbody>\n",
       "</table>\n",
       "<p>1422 rows × 19 columns</p>\n",
       "</div>"
      ],
      "text/plain": [
       "            date      time           time_begin time_end  \\\n",
       "0     2020-02-13  18:00:00  2020-02-13 18:00:00      NaN   \n",
       "1     2020-02-13  20:30:00  2020-02-13 20:30:00      NaN   \n",
       "2     2020-02-13  20:30:00  2020-02-13 20:30:00      NaN   \n",
       "3     2020-02-14  07:10:00  2020-02-14 07:10:00      NaN   \n",
       "4     2020-02-14  07:10:00  2020-02-14 07:10:00      NaN   \n",
       "...          ...       ...                  ...      ...   \n",
       "1417   2/26/2020       NaN  2020-02-26 18:30:00      NaN   \n",
       "1418   2/27/2020       NaN  2020-02-27 10:30:00      NaN   \n",
       "1419   2/27/2020       NaN  2020-02-27 11:30:00      NaN   \n",
       "1420   2/27/2020       NaN  2020-02-27 11:30:00      NaN   \n",
       "1421   2/28/2020       NaN  2020-02-28 08:00:00      NaN   \n",
       "\n",
       "                        logged_food amount         unit  \\\n",
       "0                    Berry Smoothie   20.0  fluid ounce   \n",
       "1                       Chicken Leg    1.0          NaN   \n",
       "2                         Asparagus    4.0          NaN   \n",
       "3     Natrel Lactose Free 2 Percent    8.0  fluid ounce   \n",
       "4                Standard Breakfast   0.75          cup   \n",
       "...                             ...    ...          ...   \n",
       "1417                       Lemonade     32           oz   \n",
       "1418             Standard breakfast    NaN          NaN   \n",
       "1419             Plain cheese pizza      1       slices   \n",
       "1420         cooked black eyed peas      1          cup   \n",
       "1421                          Boost    NaN          NaN   \n",
       "\n",
       "                                     searched_food  calorie  total_carb  \\\n",
       "0                              Strawberry Smoothie    456.0        85.0   \n",
       "1                                      chicken leg    475.0         0.0   \n",
       "2                                        Asparagus     13.0         2.5   \n",
       "3     (Natrel) Lactose Free 2% Partly Skimmed Milk    120.0         9.0   \n",
       "4               (Kellogg's) Frosted Flakes, Cereal    110.0        26.0   \n",
       "...                                            ...      ...         ...   \n",
       "1417                                           NaN     99.0        26.0   \n",
       "1418                                           NaN    280.0        56.5   \n",
       "1419                                           NaN    452.0        57.0   \n",
       "1420                                           NaN    198.0        35.0   \n",
       "1421                                           NaN    654.0        82.0   \n",
       "\n",
       "      dietary_fiber  sugar  protein  total_fat  subject time_of_day  ID  \\\n",
       "0               1.7   83.0     16.0        3.3      1.0         NaN   1   \n",
       "1               0.0    0.0     62.0       23.0      1.0         NaN   1   \n",
       "2               1.2    0.8      1.4        0.1      1.0         NaN   1   \n",
       "3               NaN    8.0     12.0        NaN      1.0         NaN   1   \n",
       "4               NaN   10.0      1.0        NaN      1.0         NaN   1   \n",
       "...             ...    ...      ...        ...      ...         ...  ..   \n",
       "1417            0.0   25.0      0.2        0.1     16.0       18:30  16   \n",
       "1418            1.0   24.0      8.0        2.5     16.0       10:30  16   \n",
       "1419            3.9    6.1     19.0       16.0     16.0       11:30  16   \n",
       "1420           11.0    5.6     13.0        0.9     16.0       11:30  16   \n",
       "1421            5.6   40.0     26.0       26.0     16.0        8:00  16   \n",
       "\n",
       "      Gender  HbA1c  \n",
       "0     FEMALE    5.5  \n",
       "1     FEMALE    5.5  \n",
       "2     FEMALE    5.5  \n",
       "3     FEMALE    5.5  \n",
       "4     FEMALE    5.5  \n",
       "...      ...    ...  \n",
       "1417    MALE    5.5  \n",
       "1418    MALE    5.5  \n",
       "1419    MALE    5.5  \n",
       "1420    MALE    5.5  \n",
       "1421    MALE    5.5  \n",
       "\n",
       "[1422 rows x 19 columns]"
      ]
     },
     "execution_count": 50,
     "metadata": {},
     "output_type": "execute_result"
    }
   ],
   "source": [
    "def fix_time(df):\n",
    "    if 'time_begin' in df.columns:\n",
    "        df['time_begin'].fillna(df['date'] + ' ' + df['time'], inplace=True)\n",
    "    else:\n",
    "        df['time_begin'] = df['date'] + ' ' + df['time']\n",
    "    return df\n",
    "entire_dataset.transform(fix_time)"
   ]
  },
  {
   "cell_type": "code",
   "execution_count": 51,
   "metadata": {},
   "outputs": [
    {
     "data": {
      "text/plain": [
       "['2020-02-13', '18:00:00']"
      ]
     },
     "execution_count": 51,
     "metadata": {},
     "output_type": "execute_result"
    }
   ],
   "source": [
    "entire_dataset['time_begin'].iloc[0].split(' ')"
   ]
  },
  {
   "cell_type": "markdown",
   "metadata": {},
   "source": [
    "entire_dataset[entire_dataset['time'] != entire_dataset['time_begin'].str.split(' ')[-1]]"
   ]
  },
  {
   "cell_type": "code",
   "execution_count": 52,
   "metadata": {},
   "outputs": [],
   "source": [
    "def convert_date_time(df):\n",
    "    df[['date', 'time']] = df['time_begin'].str.split(' ', expand=True)\n",
    "    return df\n",
    "\n",
    "entire_dataset = entire_dataset.transform(convert_date_time)\n"
   ]
  },
  {
   "cell_type": "code",
   "execution_count": 53,
   "metadata": {},
   "outputs": [
    {
     "data": {
      "text/plain": [
       "date             False\n",
       "time             False\n",
       "time_begin       False\n",
       "time_end          True\n",
       "logged_food      False\n",
       "amount            True\n",
       "unit              True\n",
       "searched_food     True\n",
       "calorie          False\n",
       "total_carb       False\n",
       "dietary_fiber     True\n",
       "sugar            False\n",
       "protein           True\n",
       "total_fat         True\n",
       "subject          False\n",
       "time_of_day       True\n",
       "ID               False\n",
       "Gender           False\n",
       "HbA1c            False\n",
       "dtype: bool"
      ]
     },
     "execution_count": 53,
     "metadata": {},
     "output_type": "execute_result"
    }
   ],
   "source": [
    "entire_dataset.isna().any()"
   ]
  },
  {
   "cell_type": "code",
   "execution_count": 54,
   "metadata": {},
   "outputs": [],
   "source": [
    "def convert_to_datetime(df):\n",
    "    df['datetime'] = pd.to_datetime(df['date'] + ' ' + df['time'], errors='coerce')\n",
    "    df['date'] = pd.to_datetime(df['date'])\n",
    "    df['time'] = pd.to_datetime(df['time'])\n",
    "    return df\n",
    "\n",
    "entire_dataset = convert_to_datetime(entire_dataset)"
   ]
  },
  {
   "cell_type": "code",
   "execution_count": 55,
   "metadata": {},
   "outputs": [
    {
     "data": {
      "text/plain": [
       "date             datetime64[ns]\n",
       "time             datetime64[ns]\n",
       "time_begin               object\n",
       "time_end                 object\n",
       "logged_food              object\n",
       "amount                   object\n",
       "unit                     object\n",
       "searched_food            object\n",
       "calorie                 float64\n",
       "total_carb              float64\n",
       "dietary_fiber           float64\n",
       "sugar                   float64\n",
       "protein                 float64\n",
       "total_fat               float64\n",
       "subject                 float64\n",
       "time_of_day              object\n",
       "ID                        int64\n",
       "Gender                   object\n",
       "HbA1c                   float64\n",
       "datetime         datetime64[ns]\n",
       "dtype: object"
      ]
     },
     "execution_count": 55,
     "metadata": {},
     "output_type": "execute_result"
    }
   ],
   "source": [
    "entire_dataset.dtypes"
   ]
  },
  {
   "cell_type": "code",
   "execution_count": 56,
   "metadata": {},
   "outputs": [
    {
     "data": {
      "text/html": [
       "<div>\n",
       "<style scoped>\n",
       "    .dataframe tbody tr th:only-of-type {\n",
       "        vertical-align: middle;\n",
       "    }\n",
       "\n",
       "    .dataframe tbody tr th {\n",
       "        vertical-align: top;\n",
       "    }\n",
       "\n",
       "    .dataframe thead th {\n",
       "        text-align: right;\n",
       "    }\n",
       "</style>\n",
       "<table border=\"1\" class=\"dataframe\">\n",
       "  <thead>\n",
       "    <tr style=\"text-align: right;\">\n",
       "      <th></th>\n",
       "      <th>date</th>\n",
       "      <th>time</th>\n",
       "      <th>time_begin</th>\n",
       "      <th>time_end</th>\n",
       "      <th>logged_food</th>\n",
       "      <th>amount</th>\n",
       "      <th>unit</th>\n",
       "      <th>searched_food</th>\n",
       "      <th>calorie</th>\n",
       "      <th>total_carb</th>\n",
       "      <th>...</th>\n",
       "      <th>sugar</th>\n",
       "      <th>protein</th>\n",
       "      <th>total_fat</th>\n",
       "      <th>subject</th>\n",
       "      <th>time_of_day</th>\n",
       "      <th>ID</th>\n",
       "      <th>Gender</th>\n",
       "      <th>HbA1c</th>\n",
       "      <th>datetime</th>\n",
       "      <th>hour</th>\n",
       "    </tr>\n",
       "  </thead>\n",
       "  <tbody>\n",
       "    <tr>\n",
       "      <th>0</th>\n",
       "      <td>2020-02-13</td>\n",
       "      <td>2025-02-11 18:00:00</td>\n",
       "      <td>2020-02-13 18:00:00</td>\n",
       "      <td>NaN</td>\n",
       "      <td>Berry Smoothie</td>\n",
       "      <td>20.0</td>\n",
       "      <td>fluid ounce</td>\n",
       "      <td>Strawberry Smoothie</td>\n",
       "      <td>456.0</td>\n",
       "      <td>85.0</td>\n",
       "      <td>...</td>\n",
       "      <td>83.0</td>\n",
       "      <td>16.0</td>\n",
       "      <td>3.3</td>\n",
       "      <td>1.0</td>\n",
       "      <td>NaN</td>\n",
       "      <td>1</td>\n",
       "      <td>FEMALE</td>\n",
       "      <td>5.5</td>\n",
       "      <td>2020-02-13 18:00:00</td>\n",
       "      <td>18</td>\n",
       "    </tr>\n",
       "    <tr>\n",
       "      <th>1</th>\n",
       "      <td>2020-02-13</td>\n",
       "      <td>2025-02-11 20:30:00</td>\n",
       "      <td>2020-02-13 20:30:00</td>\n",
       "      <td>NaN</td>\n",
       "      <td>Chicken Leg</td>\n",
       "      <td>1.0</td>\n",
       "      <td>NaN</td>\n",
       "      <td>chicken leg</td>\n",
       "      <td>475.0</td>\n",
       "      <td>0.0</td>\n",
       "      <td>...</td>\n",
       "      <td>0.0</td>\n",
       "      <td>62.0</td>\n",
       "      <td>23.0</td>\n",
       "      <td>1.0</td>\n",
       "      <td>NaN</td>\n",
       "      <td>1</td>\n",
       "      <td>FEMALE</td>\n",
       "      <td>5.5</td>\n",
       "      <td>2020-02-13 20:30:00</td>\n",
       "      <td>20</td>\n",
       "    </tr>\n",
       "    <tr>\n",
       "      <th>2</th>\n",
       "      <td>2020-02-13</td>\n",
       "      <td>2025-02-11 20:30:00</td>\n",
       "      <td>2020-02-13 20:30:00</td>\n",
       "      <td>NaN</td>\n",
       "      <td>Asparagus</td>\n",
       "      <td>4.0</td>\n",
       "      <td>NaN</td>\n",
       "      <td>Asparagus</td>\n",
       "      <td>13.0</td>\n",
       "      <td>2.5</td>\n",
       "      <td>...</td>\n",
       "      <td>0.8</td>\n",
       "      <td>1.4</td>\n",
       "      <td>0.1</td>\n",
       "      <td>1.0</td>\n",
       "      <td>NaN</td>\n",
       "      <td>1</td>\n",
       "      <td>FEMALE</td>\n",
       "      <td>5.5</td>\n",
       "      <td>2020-02-13 20:30:00</td>\n",
       "      <td>20</td>\n",
       "    </tr>\n",
       "    <tr>\n",
       "      <th>3</th>\n",
       "      <td>2020-02-14</td>\n",
       "      <td>2025-02-11 07:10:00</td>\n",
       "      <td>2020-02-14 07:10:00</td>\n",
       "      <td>NaN</td>\n",
       "      <td>Natrel Lactose Free 2 Percent</td>\n",
       "      <td>8.0</td>\n",
       "      <td>fluid ounce</td>\n",
       "      <td>(Natrel) Lactose Free 2% Partly Skimmed Milk</td>\n",
       "      <td>120.0</td>\n",
       "      <td>9.0</td>\n",
       "      <td>...</td>\n",
       "      <td>8.0</td>\n",
       "      <td>12.0</td>\n",
       "      <td>NaN</td>\n",
       "      <td>1.0</td>\n",
       "      <td>NaN</td>\n",
       "      <td>1</td>\n",
       "      <td>FEMALE</td>\n",
       "      <td>5.5</td>\n",
       "      <td>2020-02-14 07:10:00</td>\n",
       "      <td>7</td>\n",
       "    </tr>\n",
       "    <tr>\n",
       "      <th>4</th>\n",
       "      <td>2020-02-14</td>\n",
       "      <td>2025-02-11 07:10:00</td>\n",
       "      <td>2020-02-14 07:10:00</td>\n",
       "      <td>NaN</td>\n",
       "      <td>Standard Breakfast</td>\n",
       "      <td>0.75</td>\n",
       "      <td>cup</td>\n",
       "      <td>(Kellogg's) Frosted Flakes, Cereal</td>\n",
       "      <td>110.0</td>\n",
       "      <td>26.0</td>\n",
       "      <td>...</td>\n",
       "      <td>10.0</td>\n",
       "      <td>1.0</td>\n",
       "      <td>NaN</td>\n",
       "      <td>1.0</td>\n",
       "      <td>NaN</td>\n",
       "      <td>1</td>\n",
       "      <td>FEMALE</td>\n",
       "      <td>5.5</td>\n",
       "      <td>2020-02-14 07:10:00</td>\n",
       "      <td>7</td>\n",
       "    </tr>\n",
       "    <tr>\n",
       "      <th>...</th>\n",
       "      <td>...</td>\n",
       "      <td>...</td>\n",
       "      <td>...</td>\n",
       "      <td>...</td>\n",
       "      <td>...</td>\n",
       "      <td>...</td>\n",
       "      <td>...</td>\n",
       "      <td>...</td>\n",
       "      <td>...</td>\n",
       "      <td>...</td>\n",
       "      <td>...</td>\n",
       "      <td>...</td>\n",
       "      <td>...</td>\n",
       "      <td>...</td>\n",
       "      <td>...</td>\n",
       "      <td>...</td>\n",
       "      <td>...</td>\n",
       "      <td>...</td>\n",
       "      <td>...</td>\n",
       "      <td>...</td>\n",
       "      <td>...</td>\n",
       "    </tr>\n",
       "    <tr>\n",
       "      <th>1417</th>\n",
       "      <td>2020-02-26</td>\n",
       "      <td>2025-02-11 18:30:00</td>\n",
       "      <td>2020-02-26 18:30:00</td>\n",
       "      <td>NaN</td>\n",
       "      <td>Lemonade</td>\n",
       "      <td>32</td>\n",
       "      <td>oz</td>\n",
       "      <td>NaN</td>\n",
       "      <td>99.0</td>\n",
       "      <td>26.0</td>\n",
       "      <td>...</td>\n",
       "      <td>25.0</td>\n",
       "      <td>0.2</td>\n",
       "      <td>0.1</td>\n",
       "      <td>16.0</td>\n",
       "      <td>18:30</td>\n",
       "      <td>16</td>\n",
       "      <td>MALE</td>\n",
       "      <td>5.5</td>\n",
       "      <td>2020-02-26 18:30:00</td>\n",
       "      <td>18</td>\n",
       "    </tr>\n",
       "    <tr>\n",
       "      <th>1418</th>\n",
       "      <td>2020-02-27</td>\n",
       "      <td>2025-02-11 10:30:00</td>\n",
       "      <td>2020-02-27 10:30:00</td>\n",
       "      <td>NaN</td>\n",
       "      <td>Standard breakfast</td>\n",
       "      <td>NaN</td>\n",
       "      <td>NaN</td>\n",
       "      <td>NaN</td>\n",
       "      <td>280.0</td>\n",
       "      <td>56.5</td>\n",
       "      <td>...</td>\n",
       "      <td>24.0</td>\n",
       "      <td>8.0</td>\n",
       "      <td>2.5</td>\n",
       "      <td>16.0</td>\n",
       "      <td>10:30</td>\n",
       "      <td>16</td>\n",
       "      <td>MALE</td>\n",
       "      <td>5.5</td>\n",
       "      <td>2020-02-27 10:30:00</td>\n",
       "      <td>10</td>\n",
       "    </tr>\n",
       "    <tr>\n",
       "      <th>1419</th>\n",
       "      <td>2020-02-27</td>\n",
       "      <td>2025-02-11 11:30:00</td>\n",
       "      <td>2020-02-27 11:30:00</td>\n",
       "      <td>NaN</td>\n",
       "      <td>Plain cheese pizza</td>\n",
       "      <td>1</td>\n",
       "      <td>slices</td>\n",
       "      <td>NaN</td>\n",
       "      <td>452.0</td>\n",
       "      <td>57.0</td>\n",
       "      <td>...</td>\n",
       "      <td>6.1</td>\n",
       "      <td>19.0</td>\n",
       "      <td>16.0</td>\n",
       "      <td>16.0</td>\n",
       "      <td>11:30</td>\n",
       "      <td>16</td>\n",
       "      <td>MALE</td>\n",
       "      <td>5.5</td>\n",
       "      <td>2020-02-27 11:30:00</td>\n",
       "      <td>11</td>\n",
       "    </tr>\n",
       "    <tr>\n",
       "      <th>1420</th>\n",
       "      <td>2020-02-27</td>\n",
       "      <td>2025-02-11 11:30:00</td>\n",
       "      <td>2020-02-27 11:30:00</td>\n",
       "      <td>NaN</td>\n",
       "      <td>cooked black eyed peas</td>\n",
       "      <td>1</td>\n",
       "      <td>cup</td>\n",
       "      <td>NaN</td>\n",
       "      <td>198.0</td>\n",
       "      <td>35.0</td>\n",
       "      <td>...</td>\n",
       "      <td>5.6</td>\n",
       "      <td>13.0</td>\n",
       "      <td>0.9</td>\n",
       "      <td>16.0</td>\n",
       "      <td>11:30</td>\n",
       "      <td>16</td>\n",
       "      <td>MALE</td>\n",
       "      <td>5.5</td>\n",
       "      <td>2020-02-27 11:30:00</td>\n",
       "      <td>11</td>\n",
       "    </tr>\n",
       "    <tr>\n",
       "      <th>1421</th>\n",
       "      <td>2020-02-28</td>\n",
       "      <td>2025-02-11 08:00:00</td>\n",
       "      <td>2020-02-28 08:00:00</td>\n",
       "      <td>NaN</td>\n",
       "      <td>Boost</td>\n",
       "      <td>NaN</td>\n",
       "      <td>NaN</td>\n",
       "      <td>NaN</td>\n",
       "      <td>654.0</td>\n",
       "      <td>82.0</td>\n",
       "      <td>...</td>\n",
       "      <td>40.0</td>\n",
       "      <td>26.0</td>\n",
       "      <td>26.0</td>\n",
       "      <td>16.0</td>\n",
       "      <td>8:00</td>\n",
       "      <td>16</td>\n",
       "      <td>MALE</td>\n",
       "      <td>5.5</td>\n",
       "      <td>2020-02-28 08:00:00</td>\n",
       "      <td>8</td>\n",
       "    </tr>\n",
       "  </tbody>\n",
       "</table>\n",
       "<p>1422 rows × 21 columns</p>\n",
       "</div>"
      ],
      "text/plain": [
       "           date                time           time_begin time_end  \\\n",
       "0    2020-02-13 2025-02-11 18:00:00  2020-02-13 18:00:00      NaN   \n",
       "1    2020-02-13 2025-02-11 20:30:00  2020-02-13 20:30:00      NaN   \n",
       "2    2020-02-13 2025-02-11 20:30:00  2020-02-13 20:30:00      NaN   \n",
       "3    2020-02-14 2025-02-11 07:10:00  2020-02-14 07:10:00      NaN   \n",
       "4    2020-02-14 2025-02-11 07:10:00  2020-02-14 07:10:00      NaN   \n",
       "...         ...                 ...                  ...      ...   \n",
       "1417 2020-02-26 2025-02-11 18:30:00  2020-02-26 18:30:00      NaN   \n",
       "1418 2020-02-27 2025-02-11 10:30:00  2020-02-27 10:30:00      NaN   \n",
       "1419 2020-02-27 2025-02-11 11:30:00  2020-02-27 11:30:00      NaN   \n",
       "1420 2020-02-27 2025-02-11 11:30:00  2020-02-27 11:30:00      NaN   \n",
       "1421 2020-02-28 2025-02-11 08:00:00  2020-02-28 08:00:00      NaN   \n",
       "\n",
       "                        logged_food amount         unit  \\\n",
       "0                    Berry Smoothie   20.0  fluid ounce   \n",
       "1                       Chicken Leg    1.0          NaN   \n",
       "2                         Asparagus    4.0          NaN   \n",
       "3     Natrel Lactose Free 2 Percent    8.0  fluid ounce   \n",
       "4                Standard Breakfast   0.75          cup   \n",
       "...                             ...    ...          ...   \n",
       "1417                       Lemonade     32           oz   \n",
       "1418             Standard breakfast    NaN          NaN   \n",
       "1419             Plain cheese pizza      1       slices   \n",
       "1420         cooked black eyed peas      1          cup   \n",
       "1421                          Boost    NaN          NaN   \n",
       "\n",
       "                                     searched_food  calorie  total_carb  ...  \\\n",
       "0                              Strawberry Smoothie    456.0        85.0  ...   \n",
       "1                                      chicken leg    475.0         0.0  ...   \n",
       "2                                        Asparagus     13.0         2.5  ...   \n",
       "3     (Natrel) Lactose Free 2% Partly Skimmed Milk    120.0         9.0  ...   \n",
       "4               (Kellogg's) Frosted Flakes, Cereal    110.0        26.0  ...   \n",
       "...                                            ...      ...         ...  ...   \n",
       "1417                                           NaN     99.0        26.0  ...   \n",
       "1418                                           NaN    280.0        56.5  ...   \n",
       "1419                                           NaN    452.0        57.0  ...   \n",
       "1420                                           NaN    198.0        35.0  ...   \n",
       "1421                                           NaN    654.0        82.0  ...   \n",
       "\n",
       "      sugar  protein  total_fat  subject  time_of_day  ID  Gender HbA1c  \\\n",
       "0      83.0     16.0        3.3      1.0          NaN   1  FEMALE   5.5   \n",
       "1       0.0     62.0       23.0      1.0          NaN   1  FEMALE   5.5   \n",
       "2       0.8      1.4        0.1      1.0          NaN   1  FEMALE   5.5   \n",
       "3       8.0     12.0        NaN      1.0          NaN   1  FEMALE   5.5   \n",
       "4      10.0      1.0        NaN      1.0          NaN   1  FEMALE   5.5   \n",
       "...     ...      ...        ...      ...          ...  ..     ...   ...   \n",
       "1417   25.0      0.2        0.1     16.0        18:30  16    MALE   5.5   \n",
       "1418   24.0      8.0        2.5     16.0        10:30  16    MALE   5.5   \n",
       "1419    6.1     19.0       16.0     16.0        11:30  16    MALE   5.5   \n",
       "1420    5.6     13.0        0.9     16.0        11:30  16    MALE   5.5   \n",
       "1421   40.0     26.0       26.0     16.0         8:00  16    MALE   5.5   \n",
       "\n",
       "                datetime hour  \n",
       "0    2020-02-13 18:00:00   18  \n",
       "1    2020-02-13 20:30:00   20  \n",
       "2    2020-02-13 20:30:00   20  \n",
       "3    2020-02-14 07:10:00    7  \n",
       "4    2020-02-14 07:10:00    7  \n",
       "...                  ...  ...  \n",
       "1417 2020-02-26 18:30:00   18  \n",
       "1418 2020-02-27 10:30:00   10  \n",
       "1419 2020-02-27 11:30:00   11  \n",
       "1420 2020-02-27 11:30:00   11  \n",
       "1421 2020-02-28 08:00:00    8  \n",
       "\n",
       "[1422 rows x 21 columns]"
      ]
     },
     "metadata": {},
     "output_type": "display_data"
    }
   ],
   "source": [
    "entire_dataset['hour'] = entire_dataset['datetime'].dt.hour\n",
    "display(entire_dataset)"
   ]
  },
  {
   "cell_type": "code",
   "execution_count": 57,
   "metadata": {},
   "outputs": [
    {
     "data": {
      "text/html": [
       "<div>\n",
       "<style scoped>\n",
       "    .dataframe tbody tr th:only-of-type {\n",
       "        vertical-align: middle;\n",
       "    }\n",
       "\n",
       "    .dataframe tbody tr th {\n",
       "        vertical-align: top;\n",
       "    }\n",
       "\n",
       "    .dataframe thead th {\n",
       "        text-align: right;\n",
       "    }\n",
       "</style>\n",
       "<table border=\"1\" class=\"dataframe\">\n",
       "  <thead>\n",
       "    <tr style=\"text-align: right;\">\n",
       "      <th></th>\n",
       "      <th>hour</th>\n",
       "      <th>subject</th>\n",
       "      <th>logged_food</th>\n",
       "      <th>calorie</th>\n",
       "    </tr>\n",
       "  </thead>\n",
       "  <tbody>\n",
       "    <tr>\n",
       "      <th>0</th>\n",
       "      <td>0</td>\n",
       "      <td>2.0</td>\n",
       "      <td>[(Powerade) Grape]</td>\n",
       "      <td>65.000000</td>\n",
       "    </tr>\n",
       "    <tr>\n",
       "      <th>1</th>\n",
       "      <td>0</td>\n",
       "      <td>6.0</td>\n",
       "      <td>[Blue Bunny fudge bar, M&amp;Ms]</td>\n",
       "      <td>180.000000</td>\n",
       "    </tr>\n",
       "    <tr>\n",
       "      <th>2</th>\n",
       "      <td>0</td>\n",
       "      <td>13.0</td>\n",
       "      <td>[Pretzel Rod]</td>\n",
       "      <td>115.000000</td>\n",
       "    </tr>\n",
       "    <tr>\n",
       "      <th>3</th>\n",
       "      <td>1</td>\n",
       "      <td>1.0</td>\n",
       "      <td>[Kale and Fruit Smoothie]</td>\n",
       "      <td>307.500000</td>\n",
       "    </tr>\n",
       "    <tr>\n",
       "      <th>4</th>\n",
       "      <td>1</td>\n",
       "      <td>6.0</td>\n",
       "      <td>[Fruit smoothie, Baked cheetos]</td>\n",
       "      <td>171.000000</td>\n",
       "    </tr>\n",
       "    <tr>\n",
       "      <th>...</th>\n",
       "      <td>...</td>\n",
       "      <td>...</td>\n",
       "      <td>...</td>\n",
       "      <td>...</td>\n",
       "    </tr>\n",
       "    <tr>\n",
       "      <th>236</th>\n",
       "      <td>22</td>\n",
       "      <td>12.0</td>\n",
       "      <td>[(Babybel) Cheese Bite, (Mich) Ultra Beer]</td>\n",
       "      <td>83.000000</td>\n",
       "    </tr>\n",
       "    <tr>\n",
       "      <th>237</th>\n",
       "      <td>22</td>\n",
       "      <td>13.0</td>\n",
       "      <td>[ice cream sandwich]</td>\n",
       "      <td>284.000000</td>\n",
       "    </tr>\n",
       "    <tr>\n",
       "      <th>238</th>\n",
       "      <td>22</td>\n",
       "      <td>15.0</td>\n",
       "      <td>[Outback cheesecake with chocolate sauce]</td>\n",
       "      <td>480.000000</td>\n",
       "    </tr>\n",
       "    <tr>\n",
       "      <th>239</th>\n",
       "      <td>23</td>\n",
       "      <td>6.0</td>\n",
       "      <td>[Baked cheetos, Oreo shake, Fruit smoothie, PB...</td>\n",
       "      <td>387.866667</td>\n",
       "    </tr>\n",
       "    <tr>\n",
       "      <th>240</th>\n",
       "      <td>23</td>\n",
       "      <td>11.0</td>\n",
       "      <td>[Diet Mountain Dew, Oreo Cookie]</td>\n",
       "      <td>100.000000</td>\n",
       "    </tr>\n",
       "  </tbody>\n",
       "</table>\n",
       "<p>241 rows × 4 columns</p>\n",
       "</div>"
      ],
      "text/plain": [
       "     hour  subject                                        logged_food  \\\n",
       "0       0      2.0                                 [(Powerade) Grape]   \n",
       "1       0      6.0                       [Blue Bunny fudge bar, M&Ms]   \n",
       "2       0     13.0                                      [Pretzel Rod]   \n",
       "3       1      1.0                          [Kale and Fruit Smoothie]   \n",
       "4       1      6.0                    [Fruit smoothie, Baked cheetos]   \n",
       "..    ...      ...                                                ...   \n",
       "236    22     12.0         [(Babybel) Cheese Bite, (Mich) Ultra Beer]   \n",
       "237    22     13.0                               [ice cream sandwich]   \n",
       "238    22     15.0          [Outback cheesecake with chocolate sauce]   \n",
       "239    23      6.0  [Baked cheetos, Oreo shake, Fruit smoothie, PB...   \n",
       "240    23     11.0                   [Diet Mountain Dew, Oreo Cookie]   \n",
       "\n",
       "        calorie  \n",
       "0     65.000000  \n",
       "1    180.000000  \n",
       "2    115.000000  \n",
       "3    307.500000  \n",
       "4    171.000000  \n",
       "..          ...  \n",
       "236   83.000000  \n",
       "237  284.000000  \n",
       "238  480.000000  \n",
       "239  387.866667  \n",
       "240  100.000000  \n",
       "\n",
       "[241 rows x 4 columns]"
      ]
     },
     "metadata": {},
     "output_type": "display_data"
    }
   ],
   "source": [
    "agged = entire_dataset.groupby(['hour','subject']).agg({'logged_food':list, 'calorie':'mean'}).reset_index()\n",
    "display(agged)"
   ]
  },
  {
   "cell_type": "code",
   "execution_count": 58,
   "metadata": {},
   "outputs": [
    {
     "data": {
      "application/vnd.plotly.v1+json": {
       "config": {
        "plotlyServerURL": "https://plot.ly"
       },
       "data": [
        {
         "hovertemplate": "hour=%{x}<br>calorie=%{y}<br>subject=%{marker.color}<extra></extra>",
         "legendgroup": "",
         "marker": {
          "color": [
           2,
           6,
           13,
           1,
           6,
           15,
           6,
           12,
           15,
           2,
           10,
           12,
           15,
           2,
           3,
           6,
           10,
           11,
           12,
           15,
           1,
           2,
           3,
           7,
           8,
           10,
           11,
           12,
           14,
           15,
           16,
           1,
           6,
           9,
           10,
           11,
           12,
           14,
           15,
           1,
           2,
           3,
           4,
           5,
           6,
           7,
           8,
           9,
           10,
           11,
           12,
           15,
           16,
           1,
           2,
           3,
           4,
           5,
           6,
           7,
           8,
           9,
           10,
           11,
           12,
           13,
           14,
           16,
           2,
           3,
           5,
           6,
           7,
           8,
           9,
           10,
           11,
           12,
           13,
           14,
           15,
           16,
           1,
           3,
           4,
           5,
           6,
           7,
           8,
           9,
           10,
           11,
           12,
           13,
           14,
           15,
           16,
           1,
           2,
           3,
           4,
           5,
           6,
           7,
           8,
           9,
           10,
           11,
           12,
           13,
           14,
           15,
           16,
           1,
           2,
           3,
           4,
           5,
           6,
           7,
           8,
           9,
           10,
           11,
           12,
           13,
           14,
           15,
           16,
           2,
           3,
           4,
           5,
           6,
           8,
           9,
           10,
           12,
           13,
           14,
           15,
           1,
           2,
           4,
           5,
           6,
           8,
           9,
           10,
           11,
           12,
           13,
           14,
           15,
           2,
           3,
           4,
           5,
           6,
           7,
           8,
           9,
           10,
           11,
           12,
           13,
           14,
           16,
           2,
           5,
           7,
           8,
           9,
           10,
           11,
           12,
           13,
           14,
           15,
           16,
           1,
           2,
           3,
           4,
           5,
           6,
           7,
           8,
           9,
           10,
           11,
           12,
           13,
           14,
           15,
           16,
           1,
           2,
           3,
           5,
           6,
           7,
           8,
           9,
           10,
           11,
           12,
           13,
           14,
           16,
           1,
           2,
           3,
           4,
           6,
           7,
           8,
           9,
           10,
           11,
           12,
           13,
           15,
           16,
           1,
           2,
           3,
           5,
           7,
           9,
           12,
           13,
           1,
           5,
           6,
           7,
           12,
           13,
           15,
           6,
           11
          ],
          "coloraxis": "coloraxis",
          "symbol": "circle"
         },
         "mode": "markers",
         "name": "",
         "orientation": "v",
         "showlegend": false,
         "type": "scatter",
         "x": [
          0,
          0,
          0,
          1,
          1,
          1,
          2,
          3,
          3,
          4,
          4,
          4,
          4,
          5,
          5,
          5,
          5,
          5,
          5,
          5,
          6,
          6,
          6,
          6,
          6,
          6,
          6,
          6,
          6,
          6,
          6,
          7,
          7,
          7,
          7,
          7,
          7,
          7,
          7,
          8,
          8,
          8,
          8,
          8,
          8,
          8,
          8,
          8,
          8,
          8,
          8,
          8,
          8,
          9,
          9,
          9,
          9,
          9,
          9,
          9,
          9,
          9,
          9,
          9,
          9,
          9,
          9,
          9,
          10,
          10,
          10,
          10,
          10,
          10,
          10,
          10,
          10,
          10,
          10,
          10,
          10,
          10,
          11,
          11,
          11,
          11,
          11,
          11,
          11,
          11,
          11,
          11,
          11,
          11,
          11,
          11,
          11,
          12,
          12,
          12,
          12,
          12,
          12,
          12,
          12,
          12,
          12,
          12,
          12,
          12,
          12,
          12,
          12,
          13,
          13,
          13,
          13,
          13,
          13,
          13,
          13,
          13,
          13,
          13,
          13,
          13,
          13,
          13,
          13,
          14,
          14,
          14,
          14,
          14,
          14,
          14,
          14,
          14,
          14,
          14,
          14,
          15,
          15,
          15,
          15,
          15,
          15,
          15,
          15,
          15,
          15,
          15,
          15,
          15,
          16,
          16,
          16,
          16,
          16,
          16,
          16,
          16,
          16,
          16,
          16,
          16,
          16,
          16,
          17,
          17,
          17,
          17,
          17,
          17,
          17,
          17,
          17,
          17,
          17,
          17,
          18,
          18,
          18,
          18,
          18,
          18,
          18,
          18,
          18,
          18,
          18,
          18,
          18,
          18,
          18,
          18,
          19,
          19,
          19,
          19,
          19,
          19,
          19,
          19,
          19,
          19,
          19,
          19,
          19,
          19,
          20,
          20,
          20,
          20,
          20,
          20,
          20,
          20,
          20,
          20,
          20,
          20,
          20,
          20,
          21,
          21,
          21,
          21,
          21,
          21,
          21,
          21,
          22,
          22,
          22,
          22,
          22,
          22,
          22,
          23,
          23
         ],
         "xaxis": "x",
         "y": [
          65,
          180,
          115,
          307.5,
          171,
          171,
          240,
          35.5,
          35,
          180,
          101.36,
          19.8,
          181.33333333333334,
          115,
          140,
          280,
          86.28571428571429,
          275.14285714285717,
          85.77142857142857,
          35,
          129.33333333333334,
          180,
          140,
          280,
          143.33333333333334,
          80.93333333333334,
          258,
          100.94545454545455,
          256,
          42,
          366.6666666666667,
          160.55555555555554,
          654,
          20.599999999999998,
          654,
          654,
          117.12857142857142,
          171,
          312.25,
          215.5,
          294.8,
          311.3333333333333,
          233.66666666666666,
          86.94285714285715,
          133.4,
          654,
          118.44000000000001,
          93.26,
          104.39999999999999,
          756.4,
          34.01538461538461,
          172.77777777777777,
          287.57142857142856,
          280,
          115,
          29,
          133,
          151.94615384615383,
          147.5,
          280,
          142.95714285714286,
          57.9125,
          70.16,
          163.4,
          45.6,
          335.8,
          197.30769230769232,
          168,
          249.5,
          325.75,
          218,
          280,
          108.23076923076923,
          105,
          120.83333333333333,
          86.18181818181819,
          105,
          41.8,
          292.6666666666667,
          103.33333333333333,
          206.33333333333334,
          124.16666666666667,
          231.66666666666666,
          50,
          195.5,
          133.20833333333334,
          165.42857142857142,
          160,
          198.25,
          97,
          301.77777777777777,
          393.5,
          13.133333333333333,
          97.1,
          276.72727272727275,
          67,
          314,
          176.5,
          109.33333333333333,
          122.60000000000001,
          306.8333333333333,
          428.56666666666666,
          113.5,
          66.83333333333333,
          161.84,
          217.4333333333333,
          128.3111111111111,
          224.89473684210526,
          197.39333333333335,
          242.6,
          236.57142857142858,
          214.25,
          332.75,
          151,
          142.9,
          189.66666666666666,
          216.57142857142858,
          152.71428571428572,
          193.75,
          161.55882352941177,
          266.65999999999997,
          103.75,
          64.73333333333333,
          238.6,
          82.06666666666666,
          194.85714285714286,
          22.5,
          325.6,
          359,
          266.6666666666667,
          257.3333333333333,
          98.75,
          126.88333333333333,
          296,
          312,
          139.46666666666667,
          21.4,
          134.1625,
          183.71428571428572,
          94,
          171,
          310,
          241.23749999999998,
          77.73333333333333,
          50.5,
          350,
          297,
          50.620000000000005,
          81.04444444444444,
          253.5,
          236,
          190.16666666666666,
          128.33333333333334,
          222.5,
          105,
          138.1,
          930,
          131,
          626,
          171.85714285714286,
          161.33333333333334,
          45.2,
          91.75,
          155,
          137.675,
          285.5,
          129.25,
          179,
          205,
          116.1,
          92.67999999999999,
          204.175,
          108.82000000000001,
          115.5764705882353,
          247.66666666666666,
          291.1818181818182,
          183.3846153846154,
          196.83333333333334,
          234,
          1064,
          272.3333333333333,
          582,
          208.20000000000002,
          270.5,
          195.125,
          246.5,
          72.46363636363637,
          228.5,
          491.5,
          158.25294117647059,
          180.25,
          259.46666666666664,
          220.5,
          191.6153846153846,
          190.42857142857142,
          396.42857142857144,
          540,
          369.3333333333333,
          370.5444444444445,
          251.21428571428572,
          600,
          55.74782608695652,
          268.1909090909091,
          127.00833333333333,
          88.1,
          351.76190476190476,
          296.0230769230769,
          174.6,
          129.16666666666666,
          515,
          209.91666666666666,
          185.73333333333335,
          227.95999999999998,
          159.56363636363636,
          403.5,
          171.42857142857142,
          281,
          262.34000000000003,
          175.33333333333334,
          295.3333333333333,
          133.33333333333334,
          207.4,
          298.85,
          517,
          121.925,
          316.4,
          325,
          175.5,
          150,
          237.4,
          120.75999999999999,
          407.4,
          776,
          146.88888888888889,
          653,
          119,
          83,
          284,
          480,
          387.8666666666667,
          100
         ],
         "yaxis": "y"
        }
       ],
       "layout": {
        "coloraxis": {
         "colorbar": {
          "title": {
           "text": "subject"
          }
         },
         "colorscale": [
          [
           0,
           "#0d0887"
          ],
          [
           0.1111111111111111,
           "#46039f"
          ],
          [
           0.2222222222222222,
           "#7201a8"
          ],
          [
           0.3333333333333333,
           "#9c179e"
          ],
          [
           0.4444444444444444,
           "#bd3786"
          ],
          [
           0.5555555555555556,
           "#d8576b"
          ],
          [
           0.6666666666666666,
           "#ed7953"
          ],
          [
           0.7777777777777778,
           "#fb9f3a"
          ],
          [
           0.8888888888888888,
           "#fdca26"
          ],
          [
           1,
           "#f0f921"
          ]
         ]
        },
        "legend": {
         "tracegroupgap": 0
        },
        "template": {
         "data": {
          "bar": [
           {
            "error_x": {
             "color": "#2a3f5f"
            },
            "error_y": {
             "color": "#2a3f5f"
            },
            "marker": {
             "line": {
              "color": "#E5ECF6",
              "width": 0.5
             },
             "pattern": {
              "fillmode": "overlay",
              "size": 10,
              "solidity": 0.2
             }
            },
            "type": "bar"
           }
          ],
          "barpolar": [
           {
            "marker": {
             "line": {
              "color": "#E5ECF6",
              "width": 0.5
             },
             "pattern": {
              "fillmode": "overlay",
              "size": 10,
              "solidity": 0.2
             }
            },
            "type": "barpolar"
           }
          ],
          "carpet": [
           {
            "aaxis": {
             "endlinecolor": "#2a3f5f",
             "gridcolor": "white",
             "linecolor": "white",
             "minorgridcolor": "white",
             "startlinecolor": "#2a3f5f"
            },
            "baxis": {
             "endlinecolor": "#2a3f5f",
             "gridcolor": "white",
             "linecolor": "white",
             "minorgridcolor": "white",
             "startlinecolor": "#2a3f5f"
            },
            "type": "carpet"
           }
          ],
          "choropleth": [
           {
            "colorbar": {
             "outlinewidth": 0,
             "ticks": ""
            },
            "type": "choropleth"
           }
          ],
          "contour": [
           {
            "colorbar": {
             "outlinewidth": 0,
             "ticks": ""
            },
            "colorscale": [
             [
              0,
              "#0d0887"
             ],
             [
              0.1111111111111111,
              "#46039f"
             ],
             [
              0.2222222222222222,
              "#7201a8"
             ],
             [
              0.3333333333333333,
              "#9c179e"
             ],
             [
              0.4444444444444444,
              "#bd3786"
             ],
             [
              0.5555555555555556,
              "#d8576b"
             ],
             [
              0.6666666666666666,
              "#ed7953"
             ],
             [
              0.7777777777777778,
              "#fb9f3a"
             ],
             [
              0.8888888888888888,
              "#fdca26"
             ],
             [
              1,
              "#f0f921"
             ]
            ],
            "type": "contour"
           }
          ],
          "contourcarpet": [
           {
            "colorbar": {
             "outlinewidth": 0,
             "ticks": ""
            },
            "type": "contourcarpet"
           }
          ],
          "heatmap": [
           {
            "colorbar": {
             "outlinewidth": 0,
             "ticks": ""
            },
            "colorscale": [
             [
              0,
              "#0d0887"
             ],
             [
              0.1111111111111111,
              "#46039f"
             ],
             [
              0.2222222222222222,
              "#7201a8"
             ],
             [
              0.3333333333333333,
              "#9c179e"
             ],
             [
              0.4444444444444444,
              "#bd3786"
             ],
             [
              0.5555555555555556,
              "#d8576b"
             ],
             [
              0.6666666666666666,
              "#ed7953"
             ],
             [
              0.7777777777777778,
              "#fb9f3a"
             ],
             [
              0.8888888888888888,
              "#fdca26"
             ],
             [
              1,
              "#f0f921"
             ]
            ],
            "type": "heatmap"
           }
          ],
          "heatmapgl": [
           {
            "colorbar": {
             "outlinewidth": 0,
             "ticks": ""
            },
            "colorscale": [
             [
              0,
              "#0d0887"
             ],
             [
              0.1111111111111111,
              "#46039f"
             ],
             [
              0.2222222222222222,
              "#7201a8"
             ],
             [
              0.3333333333333333,
              "#9c179e"
             ],
             [
              0.4444444444444444,
              "#bd3786"
             ],
             [
              0.5555555555555556,
              "#d8576b"
             ],
             [
              0.6666666666666666,
              "#ed7953"
             ],
             [
              0.7777777777777778,
              "#fb9f3a"
             ],
             [
              0.8888888888888888,
              "#fdca26"
             ],
             [
              1,
              "#f0f921"
             ]
            ],
            "type": "heatmapgl"
           }
          ],
          "histogram": [
           {
            "marker": {
             "pattern": {
              "fillmode": "overlay",
              "size": 10,
              "solidity": 0.2
             }
            },
            "type": "histogram"
           }
          ],
          "histogram2d": [
           {
            "colorbar": {
             "outlinewidth": 0,
             "ticks": ""
            },
            "colorscale": [
             [
              0,
              "#0d0887"
             ],
             [
              0.1111111111111111,
              "#46039f"
             ],
             [
              0.2222222222222222,
              "#7201a8"
             ],
             [
              0.3333333333333333,
              "#9c179e"
             ],
             [
              0.4444444444444444,
              "#bd3786"
             ],
             [
              0.5555555555555556,
              "#d8576b"
             ],
             [
              0.6666666666666666,
              "#ed7953"
             ],
             [
              0.7777777777777778,
              "#fb9f3a"
             ],
             [
              0.8888888888888888,
              "#fdca26"
             ],
             [
              1,
              "#f0f921"
             ]
            ],
            "type": "histogram2d"
           }
          ],
          "histogram2dcontour": [
           {
            "colorbar": {
             "outlinewidth": 0,
             "ticks": ""
            },
            "colorscale": [
             [
              0,
              "#0d0887"
             ],
             [
              0.1111111111111111,
              "#46039f"
             ],
             [
              0.2222222222222222,
              "#7201a8"
             ],
             [
              0.3333333333333333,
              "#9c179e"
             ],
             [
              0.4444444444444444,
              "#bd3786"
             ],
             [
              0.5555555555555556,
              "#d8576b"
             ],
             [
              0.6666666666666666,
              "#ed7953"
             ],
             [
              0.7777777777777778,
              "#fb9f3a"
             ],
             [
              0.8888888888888888,
              "#fdca26"
             ],
             [
              1,
              "#f0f921"
             ]
            ],
            "type": "histogram2dcontour"
           }
          ],
          "mesh3d": [
           {
            "colorbar": {
             "outlinewidth": 0,
             "ticks": ""
            },
            "type": "mesh3d"
           }
          ],
          "parcoords": [
           {
            "line": {
             "colorbar": {
              "outlinewidth": 0,
              "ticks": ""
             }
            },
            "type": "parcoords"
           }
          ],
          "pie": [
           {
            "automargin": true,
            "type": "pie"
           }
          ],
          "scatter": [
           {
            "fillpattern": {
             "fillmode": "overlay",
             "size": 10,
             "solidity": 0.2
            },
            "type": "scatter"
           }
          ],
          "scatter3d": [
           {
            "line": {
             "colorbar": {
              "outlinewidth": 0,
              "ticks": ""
             }
            },
            "marker": {
             "colorbar": {
              "outlinewidth": 0,
              "ticks": ""
             }
            },
            "type": "scatter3d"
           }
          ],
          "scattercarpet": [
           {
            "marker": {
             "colorbar": {
              "outlinewidth": 0,
              "ticks": ""
             }
            },
            "type": "scattercarpet"
           }
          ],
          "scattergeo": [
           {
            "marker": {
             "colorbar": {
              "outlinewidth": 0,
              "ticks": ""
             }
            },
            "type": "scattergeo"
           }
          ],
          "scattergl": [
           {
            "marker": {
             "colorbar": {
              "outlinewidth": 0,
              "ticks": ""
             }
            },
            "type": "scattergl"
           }
          ],
          "scattermapbox": [
           {
            "marker": {
             "colorbar": {
              "outlinewidth": 0,
              "ticks": ""
             }
            },
            "type": "scattermapbox"
           }
          ],
          "scatterpolar": [
           {
            "marker": {
             "colorbar": {
              "outlinewidth": 0,
              "ticks": ""
             }
            },
            "type": "scatterpolar"
           }
          ],
          "scatterpolargl": [
           {
            "marker": {
             "colorbar": {
              "outlinewidth": 0,
              "ticks": ""
             }
            },
            "type": "scatterpolargl"
           }
          ],
          "scatterternary": [
           {
            "marker": {
             "colorbar": {
              "outlinewidth": 0,
              "ticks": ""
             }
            },
            "type": "scatterternary"
           }
          ],
          "surface": [
           {
            "colorbar": {
             "outlinewidth": 0,
             "ticks": ""
            },
            "colorscale": [
             [
              0,
              "#0d0887"
             ],
             [
              0.1111111111111111,
              "#46039f"
             ],
             [
              0.2222222222222222,
              "#7201a8"
             ],
             [
              0.3333333333333333,
              "#9c179e"
             ],
             [
              0.4444444444444444,
              "#bd3786"
             ],
             [
              0.5555555555555556,
              "#d8576b"
             ],
             [
              0.6666666666666666,
              "#ed7953"
             ],
             [
              0.7777777777777778,
              "#fb9f3a"
             ],
             [
              0.8888888888888888,
              "#fdca26"
             ],
             [
              1,
              "#f0f921"
             ]
            ],
            "type": "surface"
           }
          ],
          "table": [
           {
            "cells": {
             "fill": {
              "color": "#EBF0F8"
             },
             "line": {
              "color": "white"
             }
            },
            "header": {
             "fill": {
              "color": "#C8D4E3"
             },
             "line": {
              "color": "white"
             }
            },
            "type": "table"
           }
          ]
         },
         "layout": {
          "annotationdefaults": {
           "arrowcolor": "#2a3f5f",
           "arrowhead": 0,
           "arrowwidth": 1
          },
          "autotypenumbers": "strict",
          "coloraxis": {
           "colorbar": {
            "outlinewidth": 0,
            "ticks": ""
           }
          },
          "colorscale": {
           "diverging": [
            [
             0,
             "#8e0152"
            ],
            [
             0.1,
             "#c51b7d"
            ],
            [
             0.2,
             "#de77ae"
            ],
            [
             0.3,
             "#f1b6da"
            ],
            [
             0.4,
             "#fde0ef"
            ],
            [
             0.5,
             "#f7f7f7"
            ],
            [
             0.6,
             "#e6f5d0"
            ],
            [
             0.7,
             "#b8e186"
            ],
            [
             0.8,
             "#7fbc41"
            ],
            [
             0.9,
             "#4d9221"
            ],
            [
             1,
             "#276419"
            ]
           ],
           "sequential": [
            [
             0,
             "#0d0887"
            ],
            [
             0.1111111111111111,
             "#46039f"
            ],
            [
             0.2222222222222222,
             "#7201a8"
            ],
            [
             0.3333333333333333,
             "#9c179e"
            ],
            [
             0.4444444444444444,
             "#bd3786"
            ],
            [
             0.5555555555555556,
             "#d8576b"
            ],
            [
             0.6666666666666666,
             "#ed7953"
            ],
            [
             0.7777777777777778,
             "#fb9f3a"
            ],
            [
             0.8888888888888888,
             "#fdca26"
            ],
            [
             1,
             "#f0f921"
            ]
           ],
           "sequentialminus": [
            [
             0,
             "#0d0887"
            ],
            [
             0.1111111111111111,
             "#46039f"
            ],
            [
             0.2222222222222222,
             "#7201a8"
            ],
            [
             0.3333333333333333,
             "#9c179e"
            ],
            [
             0.4444444444444444,
             "#bd3786"
            ],
            [
             0.5555555555555556,
             "#d8576b"
            ],
            [
             0.6666666666666666,
             "#ed7953"
            ],
            [
             0.7777777777777778,
             "#fb9f3a"
            ],
            [
             0.8888888888888888,
             "#fdca26"
            ],
            [
             1,
             "#f0f921"
            ]
           ]
          },
          "colorway": [
           "#636efa",
           "#EF553B",
           "#00cc96",
           "#ab63fa",
           "#FFA15A",
           "#19d3f3",
           "#FF6692",
           "#B6E880",
           "#FF97FF",
           "#FECB52"
          ],
          "font": {
           "color": "#2a3f5f"
          },
          "geo": {
           "bgcolor": "white",
           "lakecolor": "white",
           "landcolor": "#E5ECF6",
           "showlakes": true,
           "showland": true,
           "subunitcolor": "white"
          },
          "hoverlabel": {
           "align": "left"
          },
          "hovermode": "closest",
          "mapbox": {
           "style": "light"
          },
          "paper_bgcolor": "white",
          "plot_bgcolor": "#E5ECF6",
          "polar": {
           "angularaxis": {
            "gridcolor": "white",
            "linecolor": "white",
            "ticks": ""
           },
           "bgcolor": "#E5ECF6",
           "radialaxis": {
            "gridcolor": "white",
            "linecolor": "white",
            "ticks": ""
           }
          },
          "scene": {
           "xaxis": {
            "backgroundcolor": "#E5ECF6",
            "gridcolor": "white",
            "gridwidth": 2,
            "linecolor": "white",
            "showbackground": true,
            "ticks": "",
            "zerolinecolor": "white"
           },
           "yaxis": {
            "backgroundcolor": "#E5ECF6",
            "gridcolor": "white",
            "gridwidth": 2,
            "linecolor": "white",
            "showbackground": true,
            "ticks": "",
            "zerolinecolor": "white"
           },
           "zaxis": {
            "backgroundcolor": "#E5ECF6",
            "gridcolor": "white",
            "gridwidth": 2,
            "linecolor": "white",
            "showbackground": true,
            "ticks": "",
            "zerolinecolor": "white"
           }
          },
          "shapedefaults": {
           "line": {
            "color": "#2a3f5f"
           }
          },
          "ternary": {
           "aaxis": {
            "gridcolor": "white",
            "linecolor": "white",
            "ticks": ""
           },
           "baxis": {
            "gridcolor": "white",
            "linecolor": "white",
            "ticks": ""
           },
           "bgcolor": "#E5ECF6",
           "caxis": {
            "gridcolor": "white",
            "linecolor": "white",
            "ticks": ""
           }
          },
          "title": {
           "x": 0.05
          },
          "xaxis": {
           "automargin": true,
           "gridcolor": "white",
           "linecolor": "white",
           "ticks": "",
           "title": {
            "standoff": 15
           },
           "zerolinecolor": "white",
           "zerolinewidth": 2
          },
          "yaxis": {
           "automargin": true,
           "gridcolor": "white",
           "linecolor": "white",
           "ticks": "",
           "title": {
            "standoff": 15
           },
           "zerolinecolor": "white",
           "zerolinewidth": 2
          }
         }
        },
        "title": {
         "text": "Average Caloric Intake Throughout the Day"
        },
        "xaxis": {
         "anchor": "y",
         "domain": [
          0,
          1
         ],
         "title": {
          "text": "hour"
         }
        },
        "yaxis": {
         "anchor": "x",
         "domain": [
          0,
          1
         ],
         "title": {
          "text": "calorie"
         }
        }
       }
      }
     },
     "metadata": {},
     "output_type": "display_data"
    }
   ],
   "source": [
    "px.scatter(data_frame=agged, x='hour', y='calorie', color='subject',labels='logged_food', title='Average Caloric Intake Throughout the Day')"
   ]
  },
  {
   "cell_type": "code",
   "execution_count": 59,
   "metadata": {},
   "outputs": [
    {
     "data": {
      "application/vnd.plotly.v1+json": {
       "config": {
        "plotlyServerURL": "https://plot.ly"
       },
       "data": [
        {
         "hovertemplate": "hour=%{x}<br>calorie=%{y}<br>subject=%{marker.color}<extra></extra>",
         "legendgroup": "",
         "marker": {
          "color": [
           1,
           1,
           1,
           1,
           1,
           1,
           1,
           1,
           1,
           1,
           1,
           1,
           1,
           1,
           1,
           1,
           1,
           1,
           1,
           1,
           1,
           1,
           1,
           1,
           1,
           1,
           1,
           1,
           1,
           1,
           1,
           1,
           1,
           1,
           1,
           1,
           1,
           1,
           1,
           1,
           1,
           1,
           1,
           1,
           1,
           1,
           1,
           1,
           1,
           1,
           1,
           1,
           1,
           1,
           1,
           1,
           1,
           1,
           1,
           1,
           1,
           2,
           2,
           2,
           2,
           2,
           2,
           2,
           2,
           2,
           2,
           2,
           2,
           2,
           2,
           2,
           2,
           2,
           2,
           2,
           2,
           2,
           2,
           2,
           2,
           2,
           2,
           2,
           2,
           2,
           2,
           2,
           2,
           2,
           2,
           2,
           2,
           2,
           2,
           2,
           2,
           2,
           2,
           2,
           2,
           2,
           2,
           2,
           2,
           2,
           2,
           2,
           2,
           2,
           2,
           2,
           2,
           2,
           2,
           2,
           2,
           2,
           2,
           2,
           2,
           2,
           2,
           2,
           2,
           3,
           3,
           3,
           3,
           3,
           3,
           3,
           3,
           3,
           3,
           3,
           3,
           3,
           3,
           3,
           3,
           3,
           3,
           3,
           3,
           3,
           3,
           3,
           3,
           3,
           3,
           3,
           3,
           3,
           3,
           3,
           3,
           3,
           3,
           3,
           3,
           3,
           3,
           3,
           3,
           3,
           3,
           3,
           3,
           3,
           3,
           3,
           3,
           3,
           3,
           3,
           3,
           3,
           3,
           3,
           3,
           3,
           3,
           4,
           4,
           4,
           4,
           4,
           4,
           4,
           4,
           4,
           4,
           4,
           4,
           4,
           4,
           4,
           4,
           4,
           4,
           4,
           4,
           4,
           4,
           4,
           4,
           4,
           4,
           4,
           4,
           4,
           4,
           4,
           4,
           4,
           4,
           4,
           4,
           4,
           4,
           4,
           4,
           4,
           4,
           4,
           4,
           4,
           4,
           4,
           4,
           4,
           4,
           4,
           4,
           4,
           4,
           4,
           5,
           5,
           5,
           5,
           5,
           5,
           5,
           5,
           5,
           5,
           5,
           5,
           5,
           5,
           5,
           5,
           5,
           5,
           5,
           5,
           5,
           5,
           5,
           5,
           5,
           5,
           5,
           5,
           5,
           5,
           5,
           5,
           5,
           5,
           5,
           5,
           5,
           5,
           5,
           5,
           5,
           5,
           5,
           5,
           5,
           5,
           5,
           5,
           5,
           5,
           5,
           5,
           5,
           5,
           5,
           5,
           5,
           5,
           5,
           5,
           5,
           5,
           5,
           5,
           5,
           5,
           5,
           5,
           5,
           5,
           5,
           5,
           5,
           5,
           5,
           5,
           5,
           5,
           5,
           5,
           5,
           5,
           5,
           5,
           5,
           5,
           5,
           5,
           5,
           5,
           5,
           5,
           5,
           6,
           6,
           6,
           6,
           6,
           6,
           6,
           6,
           6,
           6,
           6,
           6,
           6,
           6,
           6,
           6,
           6,
           6,
           6,
           6,
           6,
           6,
           6,
           6,
           6,
           6,
           6,
           6,
           6,
           6,
           6,
           6,
           6,
           6,
           6,
           6,
           6,
           6,
           6,
           6,
           6,
           6,
           6,
           6,
           6,
           6,
           6,
           6,
           6,
           6,
           6,
           6,
           6,
           6,
           6,
           6,
           6,
           6,
           6,
           6,
           6,
           6,
           6,
           6,
           6,
           6,
           6,
           6,
           6,
           6,
           6,
           6,
           6,
           7,
           7,
           7,
           7,
           7,
           7,
           7,
           7,
           7,
           7,
           7,
           7,
           7,
           7,
           7,
           7,
           7,
           7,
           7,
           7,
           7,
           7,
           7,
           7,
           7,
           7,
           7,
           7,
           7,
           7,
           7,
           7,
           7,
           7,
           7,
           7,
           7,
           7,
           7,
           7,
           7,
           7,
           7,
           7,
           7,
           7,
           7,
           7,
           7,
           7,
           7,
           7,
           7,
           7,
           7,
           7,
           7,
           7,
           7,
           7,
           7,
           7,
           7,
           7,
           7,
           7,
           7,
           7,
           7,
           7,
           7,
           7,
           7,
           7,
           7,
           7,
           7,
           7,
           7,
           7,
           7,
           7,
           7,
           7,
           7,
           7,
           7,
           7,
           7,
           7,
           7,
           7,
           7,
           7,
           7,
           7,
           7,
           7,
           7,
           7,
           7,
           7,
           7,
           8,
           8,
           8,
           8,
           8,
           8,
           8,
           8,
           8,
           8,
           8,
           8,
           8,
           8,
           8,
           8,
           8,
           8,
           8,
           8,
           8,
           8,
           8,
           8,
           8,
           8,
           8,
           8,
           8,
           8,
           8,
           8,
           8,
           8,
           8,
           8,
           8,
           8,
           8,
           8,
           8,
           8,
           8,
           8,
           8,
           8,
           8,
           8,
           8,
           8,
           8,
           8,
           8,
           8,
           8,
           8,
           8,
           8,
           8,
           8,
           8,
           8,
           8,
           8,
           8,
           8,
           8,
           8,
           8,
           8,
           8,
           8,
           8,
           8,
           8,
           8,
           8,
           8,
           8,
           8,
           8,
           8,
           9,
           9,
           9,
           9,
           9,
           9,
           9,
           9,
           9,
           9,
           9,
           9,
           9,
           9,
           9,
           9,
           9,
           9,
           9,
           9,
           9,
           9,
           9,
           9,
           9,
           9,
           9,
           9,
           9,
           9,
           9,
           9,
           9,
           9,
           9,
           9,
           9,
           9,
           9,
           9,
           9,
           9,
           9,
           9,
           9,
           9,
           9,
           9,
           9,
           9,
           9,
           9,
           9,
           9,
           9,
           9,
           9,
           9,
           9,
           9,
           9,
           9,
           9,
           9,
           9,
           9,
           9,
           9,
           9,
           9,
           9,
           9,
           9,
           9,
           9,
           9,
           9,
           9,
           9,
           9,
           9,
           9,
           9,
           9,
           9,
           9,
           9,
           9,
           9,
           9,
           9,
           9,
           9,
           9,
           9,
           9,
           9,
           9,
           9,
           9,
           10,
           10,
           10,
           10,
           10,
           10,
           10,
           10,
           10,
           10,
           10,
           10,
           10,
           10,
           10,
           10,
           10,
           10,
           10,
           10,
           10,
           10,
           10,
           10,
           10,
           10,
           10,
           10,
           10,
           10,
           10,
           10,
           10,
           10,
           10,
           10,
           10,
           10,
           10,
           10,
           10,
           10,
           10,
           10,
           10,
           10,
           10,
           10,
           10,
           10,
           10,
           10,
           10,
           10,
           10,
           10,
           10,
           10,
           10,
           10,
           10,
           10,
           10,
           10,
           10,
           10,
           10,
           10,
           10,
           10,
           10,
           10,
           10,
           10,
           10,
           10,
           10,
           10,
           10,
           10,
           10,
           10,
           10,
           10,
           10,
           10,
           10,
           10,
           10,
           10,
           10,
           10,
           10,
           10,
           10,
           10,
           10,
           10,
           10,
           10,
           10,
           10,
           10,
           10,
           10,
           10,
           10,
           10,
           10,
           10,
           10,
           10,
           10,
           10,
           10,
           10,
           10,
           10,
           10,
           10,
           10,
           10,
           10,
           10,
           10,
           10,
           10,
           10,
           10,
           10,
           10,
           10,
           10,
           10,
           10,
           10,
           10,
           10,
           10,
           10,
           10,
           10,
           10,
           10,
           10,
           10,
           10,
           10,
           10,
           10,
           10,
           10,
           10,
           10,
           10,
           10,
           10,
           10,
           10,
           10,
           10,
           10,
           10,
           10,
           10,
           10,
           10,
           10,
           10,
           10,
           10,
           10,
           10,
           11,
           11,
           11,
           11,
           11,
           11,
           11,
           11,
           11,
           11,
           11,
           11,
           11,
           11,
           11,
           11,
           11,
           11,
           11,
           11,
           11,
           11,
           11,
           11,
           11,
           11,
           11,
           11,
           11,
           11,
           11,
           11,
           11,
           11,
           11,
           11,
           11,
           11,
           11,
           11,
           11,
           11,
           11,
           11,
           11,
           11,
           11,
           11,
           11,
           11,
           11,
           11,
           11,
           11,
           11,
           11,
           11,
           11,
           11,
           11,
           11,
           11,
           11,
           11,
           11,
           11,
           11,
           11,
           11,
           11,
           11,
           11,
           11,
           11,
           11,
           11,
           11,
           11,
           11,
           11,
           11,
           11,
           11,
           11,
           11,
           11,
           11,
           11,
           11,
           11,
           11,
           11,
           11,
           11,
           11,
           11,
           11,
           11,
           11,
           11,
           11,
           11,
           11,
           11,
           12,
           12,
           12,
           12,
           12,
           12,
           12,
           12,
           12,
           12,
           12,
           12,
           12,
           12,
           12,
           12,
           12,
           12,
           12,
           12,
           12,
           12,
           12,
           12,
           12,
           12,
           12,
           12,
           12,
           12,
           12,
           12,
           12,
           12,
           12,
           12,
           12,
           12,
           12,
           12,
           12,
           12,
           12,
           12,
           12,
           12,
           12,
           12,
           12,
           12,
           12,
           12,
           12,
           12,
           12,
           12,
           12,
           12,
           12,
           12,
           12,
           12,
           12,
           12,
           12,
           12,
           12,
           12,
           12,
           12,
           12,
           12,
           12,
           12,
           12,
           12,
           12,
           12,
           12,
           12,
           12,
           12,
           12,
           12,
           12,
           12,
           12,
           12,
           12,
           12,
           12,
           12,
           12,
           12,
           12,
           12,
           12,
           12,
           12,
           12,
           12,
           12,
           12,
           12,
           12,
           12,
           12,
           12,
           12,
           12,
           12,
           12,
           12,
           12,
           12,
           12,
           12,
           12,
           12,
           12,
           12,
           12,
           12,
           12,
           12,
           12,
           12,
           12,
           12,
           12,
           12,
           12,
           12,
           12,
           12,
           12,
           12,
           12,
           12,
           12,
           12,
           12,
           12,
           12,
           12,
           12,
           12,
           12,
           12,
           12,
           12,
           12,
           13,
           13,
           13,
           13,
           13,
           13,
           13,
           13,
           13,
           13,
           13,
           13,
           13,
           13,
           13,
           13,
           13,
           13,
           13,
           13,
           13,
           13,
           13,
           13,
           13,
           13,
           13,
           13,
           13,
           13,
           13,
           13,
           13,
           13,
           13,
           13,
           13,
           13,
           13,
           13,
           13,
           13,
           13,
           13,
           13,
           13,
           13,
           13,
           13,
           13,
           13,
           13,
           13,
           13,
           13,
           13,
           13,
           13,
           13,
           13,
           13,
           13,
           13,
           13,
           13,
           13,
           13,
           13,
           13,
           13,
           13,
           13,
           13,
           13,
           13,
           13,
           13,
           13,
           13,
           13,
           13,
           13,
           13,
           13,
           13,
           13,
           13,
           13,
           13,
           13,
           14,
           14,
           14,
           14,
           14,
           14,
           14,
           14,
           14,
           14,
           14,
           14,
           14,
           14,
           14,
           14,
           14,
           14,
           14,
           14,
           14,
           14,
           14,
           14,
           14,
           14,
           14,
           14,
           14,
           14,
           14,
           14,
           14,
           14,
           14,
           14,
           14,
           14,
           14,
           14,
           14,
           14,
           14,
           14,
           14,
           14,
           14,
           14,
           14,
           14,
           14,
           14,
           14,
           14,
           14,
           14,
           14,
           14,
           14,
           14,
           14,
           14,
           14,
           14,
           14,
           14,
           14,
           14,
           14,
           14,
           14,
           14,
           14,
           14,
           14,
           14,
           14,
           14,
           14,
           14,
           14,
           14,
           14,
           14,
           14,
           14,
           14,
           14,
           15,
           15,
           15,
           15,
           15,
           15,
           15,
           15,
           15,
           15,
           15,
           15,
           15,
           15,
           15,
           15,
           15,
           15,
           15,
           15,
           15,
           15,
           15,
           15,
           15,
           15,
           15,
           15,
           15,
           15,
           15,
           15,
           15,
           15,
           15,
           15,
           15,
           15,
           15,
           15,
           15,
           15,
           15,
           15,
           15,
           15,
           15,
           15,
           15,
           15,
           15,
           15,
           15,
           15,
           15,
           15,
           15,
           15,
           15,
           15,
           15,
           15,
           15,
           15,
           15,
           15,
           15,
           15,
           15,
           15,
           15,
           15,
           15,
           15,
           15,
           15,
           15,
           16,
           16,
           16,
           16,
           16,
           16,
           16,
           16,
           16,
           16,
           16,
           16,
           16,
           16,
           16,
           16,
           16,
           16,
           16,
           16,
           16,
           16,
           16,
           16,
           16,
           16,
           16,
           16,
           16,
           16,
           16,
           16,
           16,
           16,
           16,
           16,
           16,
           16,
           16,
           16,
           16,
           16,
           16,
           16,
           16
          ],
          "coloraxis": "coloraxis",
          "symbol": "circle"
         },
         "mode": "markers",
         "name": "",
         "showlegend": false,
         "type": "scattergl",
         "x": [
          18,
          20,
          20,
          7,
          7,
          9,
          12,
          12,
          19,
          20,
          20,
          7,
          11,
          12,
          12,
          15,
          15,
          20,
          20,
          20,
          20,
          7,
          7,
          8,
          8,
          11,
          12,
          12,
          21,
          6,
          12,
          12,
          21,
          21,
          21,
          6,
          6,
          11,
          11,
          1,
          22,
          11,
          15,
          18,
          20,
          7,
          7,
          12,
          13,
          12,
          18,
          20,
          20,
          7,
          7,
          11,
          12,
          12,
          19,
          20,
          15,
          10,
          10,
          12,
          12,
          14,
          18,
          20,
          5,
          5,
          6,
          13,
          16,
          17,
          17,
          18,
          20,
          10,
          10,
          13,
          15,
          15,
          18,
          20,
          20,
          0,
          9,
          9,
          12,
          15,
          15,
          15,
          15,
          15,
          20,
          21,
          4,
          14,
          15,
          16,
          19,
          19,
          10,
          10,
          13,
          14,
          14,
          14,
          19,
          19,
          20,
          8,
          8,
          13,
          14,
          19,
          19,
          19,
          21,
          21,
          8,
          8,
          13,
          17,
          19,
          19,
          21,
          21,
          8,
          10,
          10,
          14,
          18,
          20,
          20,
          20,
          5,
          5,
          12,
          16,
          16,
          18,
          18,
          21,
          10,
          13,
          13,
          20,
          20,
          19,
          19,
          19,
          6,
          6,
          9,
          11,
          12,
          12,
          12,
          19,
          19,
          19,
          19,
          19,
          19,
          10,
          18,
          18,
          18,
          18,
          5,
          5,
          12,
          12,
          12,
          13,
          21,
          14,
          20,
          20,
          20,
          8,
          8,
          14,
          20,
          20,
          8,
          13,
          16,
          18,
          8,
          8,
          12,
          12,
          12,
          12,
          20,
          20,
          8,
          14,
          14,
          14,
          14,
          20,
          20,
          8,
          8,
          13,
          13,
          13,
          8,
          8,
          8,
          12,
          12,
          16,
          20,
          20,
          9,
          9,
          15,
          15,
          15,
          20,
          20,
          20,
          11,
          11,
          11,
          11,
          18,
          18,
          18,
          9,
          9,
          9,
          13,
          13,
          13,
          20,
          20,
          8,
          12,
          12,
          12,
          15,
          19,
          19,
          22,
          9,
          9,
          14,
          15,
          19,
          19,
          22,
          9,
          9,
          9,
          10,
          11,
          16,
          17,
          17,
          17,
          22,
          22,
          8,
          8,
          11,
          11,
          18,
          18,
          18,
          18,
          18,
          22,
          10,
          11,
          11,
          11,
          16,
          18,
          18,
          22,
          9,
          9,
          13,
          13,
          13,
          13,
          14,
          18,
          18,
          18,
          19,
          19,
          19,
          22,
          11,
          11,
          11,
          11,
          11,
          11,
          14,
          14,
          14,
          14,
          18,
          18,
          18,
          18,
          22,
          8,
          8,
          13,
          17,
          17,
          18,
          18,
          22,
          8,
          8,
          8,
          9,
          9,
          9,
          9,
          9,
          13,
          13,
          21,
          21,
          9,
          8,
          9,
          11,
          15,
          19,
          23,
          23,
          11,
          16,
          23,
          23,
          23,
          11,
          11,
          14,
          23,
          23,
          23,
          1,
          1,
          5,
          9,
          15,
          22,
          22,
          11,
          13,
          13,
          14,
          18,
          18,
          18,
          20,
          23,
          23,
          23,
          23,
          0,
          2,
          8,
          13,
          13,
          13,
          20,
          0,
          11,
          18,
          23,
          23,
          23,
          13,
          18,
          20,
          20,
          20,
          8,
          8,
          8,
          13,
          11,
          13,
          14,
          18,
          19,
          20,
          10,
          12,
          12,
          12,
          12,
          19,
          19,
          7,
          13,
          13,
          13,
          17,
          17,
          17,
          17,
          17,
          20,
          20,
          22,
          22,
          10,
          10,
          10,
          10,
          10,
          13,
          13,
          16,
          19,
          19,
          19,
          19,
          19,
          20,
          20,
          9,
          13,
          13,
          13,
          18,
          18,
          18,
          18,
          18,
          18,
          18,
          21,
          22,
          22,
          22,
          12,
          12,
          12,
          12,
          12,
          12,
          16,
          16,
          16,
          16,
          20,
          21,
          10,
          13,
          18,
          18,
          18,
          18,
          21,
          21,
          10,
          13,
          13,
          13,
          13,
          13,
          13,
          19,
          19,
          19,
          19,
          19,
          10,
          10,
          10,
          10,
          10,
          10,
          16,
          19,
          19,
          19,
          19,
          19,
          19,
          19,
          19,
          6,
          11,
          11,
          13,
          13,
          16,
          19,
          19,
          19,
          19,
          19,
          20,
          20,
          8,
          14,
          14,
          14,
          17,
          17,
          17,
          17,
          9,
          9,
          12,
          12,
          12,
          12,
          16,
          16,
          16,
          8,
          8,
          8,
          8,
          8,
          14,
          14,
          19,
          19,
          19,
          19,
          19,
          19,
          9,
          9,
          12,
          14,
          14,
          20,
          20,
          20,
          20,
          9,
          9,
          9,
          9,
          9,
          14,
          14,
          15,
          15,
          19,
          19,
          9,
          9,
          10,
          13,
          18,
          18,
          6,
          6,
          6,
          11,
          11,
          11,
          11,
          17,
          9,
          9,
          13,
          13,
          13,
          13,
          17,
          17,
          17,
          8,
          8,
          8,
          8,
          8,
          14,
          19,
          19,
          19,
          9,
          9,
          9,
          11,
          13,
          13,
          13,
          13,
          15,
          16,
          16,
          16,
          19,
          19,
          19,
          8,
          8,
          8,
          8,
          8,
          9,
          11,
          15,
          15,
          15,
          15,
          18,
          21,
          21,
          21,
          8,
          8,
          8,
          11,
          11,
          13,
          13,
          17,
          17,
          19,
          19,
          19,
          7,
          7,
          7,
          12,
          13,
          13,
          14,
          14,
          14,
          14,
          17,
          17,
          20,
          8,
          8,
          8,
          8,
          8,
          8,
          9,
          13,
          14,
          20,
          20,
          20,
          20,
          8,
          8,
          14,
          16,
          19,
          19,
          19,
          8,
          8,
          8,
          9,
          12,
          12,
          17,
          17,
          17,
          19,
          19,
          9,
          9,
          9,
          10,
          10,
          10,
          13,
          13,
          13,
          17,
          17,
          17,
          18,
          19,
          8,
          10,
          10,
          12,
          12,
          12,
          12,
          12,
          12,
          12,
          12,
          13,
          13,
          15,
          15,
          17,
          17,
          17,
          18,
          18,
          19,
          19,
          20,
          4,
          4,
          5,
          5,
          5,
          8,
          8,
          8,
          9,
          9,
          11,
          11,
          11,
          11,
          11,
          13,
          13,
          13,
          16,
          16,
          18,
          18,
          18,
          18,
          18,
          18,
          18,
          19,
          20,
          20,
          8,
          8,
          10,
          10,
          10,
          10,
          12,
          12,
          13,
          15,
          15,
          17,
          18,
          18,
          18,
          18,
          5,
          5,
          6,
          6,
          6,
          8,
          8,
          8,
          10,
          10,
          12,
          13,
          13,
          17,
          17,
          17,
          17,
          17,
          4,
          4,
          5,
          5,
          8,
          8,
          8,
          8,
          10,
          11,
          11,
          11,
          12,
          12,
          12,
          15,
          15,
          17,
          17,
          17,
          17,
          17,
          17,
          17,
          19,
          4,
          4,
          5,
          5,
          8,
          8,
          8,
          8,
          9,
          9,
          11,
          12,
          13,
          13,
          13,
          13,
          13,
          13,
          14,
          14,
          15,
          15,
          18,
          18,
          4,
          4,
          5,
          5,
          8,
          8,
          8,
          8,
          9,
          10,
          10,
          13,
          13,
          13,
          13,
          13,
          13,
          13,
          16,
          16,
          18,
          18,
          19,
          4,
          4,
          5,
          5,
          5,
          8,
          8,
          8,
          8,
          12,
          12,
          12,
          15,
          17,
          7,
          10,
          11,
          11,
          11,
          11,
          19,
          19,
          19,
          23,
          23,
          5,
          12,
          12,
          15,
          16,
          16,
          19,
          19,
          19,
          19,
          6,
          8,
          8,
          13,
          13,
          13,
          17,
          19,
          19,
          19,
          5,
          9,
          11,
          11,
          11,
          19,
          19,
          19,
          19,
          5,
          5,
          9,
          12,
          12,
          12,
          12,
          19,
          19,
          5,
          9,
          9,
          11,
          12,
          12,
          18,
          19,
          19,
          19,
          19,
          19,
          5,
          5,
          12,
          12,
          12,
          12,
          12,
          18,
          18,
          18,
          18,
          6,
          9,
          12,
          12,
          12,
          12,
          12,
          12,
          18,
          18,
          18,
          18,
          18,
          18,
          8,
          8,
          8,
          15,
          15,
          18,
          18,
          18,
          18,
          18,
          6,
          13,
          13,
          17,
          17,
          20,
          20,
          20,
          7,
          19,
          19,
          21,
          5,
          5,
          6,
          6,
          6,
          7,
          8,
          8,
          9,
          9,
          9,
          12,
          12,
          16,
          16,
          18,
          18,
          18,
          18,
          20,
          21,
          22,
          3,
          3,
          4,
          4,
          4,
          9,
          10,
          10,
          10,
          12,
          12,
          12,
          14,
          14,
          14,
          16,
          16,
          16,
          17,
          17,
          20,
          5,
          5,
          8,
          8,
          12,
          13,
          13,
          13,
          13,
          13,
          13,
          14,
          15,
          17,
          19,
          19,
          19,
          19,
          5,
          5,
          5,
          5,
          6,
          6,
          10,
          10,
          12,
          12,
          12,
          12,
          14,
          14,
          15,
          17,
          18,
          19,
          5,
          5,
          7,
          7,
          7,
          7,
          7,
          7,
          8,
          8,
          8,
          10,
          12,
          16,
          17,
          17,
          17,
          17,
          17,
          19,
          19,
          5,
          5,
          5,
          5,
          6,
          6,
          6,
          6,
          8,
          8,
          8,
          10,
          10,
          10,
          12,
          14,
          14,
          16,
          16,
          18,
          19,
          21,
          6,
          6,
          7,
          7,
          7,
          7,
          7,
          7,
          8,
          8,
          8,
          11,
          11,
          11,
          12,
          12,
          12,
          17,
          17,
          19,
          19,
          19,
          20,
          21,
          21,
          22,
          7,
          16,
          18,
          18,
          19,
          19,
          20,
          20,
          0,
          21,
          21,
          21,
          13,
          14,
          14,
          17,
          17,
          17,
          17,
          19,
          20,
          20,
          20,
          20,
          9,
          9,
          12,
          12,
          15,
          15,
          15,
          15,
          15,
          15,
          17,
          19,
          19,
          20,
          10,
          10,
          10,
          13,
          13,
          16,
          16,
          17,
          17,
          17,
          17,
          17,
          17,
          11,
          11,
          11,
          13,
          13,
          17,
          17,
          19,
          19,
          19,
          22,
          9,
          9,
          12,
          13,
          13,
          14,
          14,
          18,
          19,
          19,
          19,
          19,
          21,
          21,
          11,
          11,
          12,
          12,
          14,
          14,
          14,
          18,
          19,
          19,
          19,
          20,
          20,
          20,
          9,
          16,
          16,
          16,
          16,
          19,
          19,
          19,
          19,
          6,
          9,
          11,
          11,
          11,
          13,
          18,
          18,
          18,
          18,
          18,
          19,
          9,
          10,
          12,
          13,
          17,
          19,
          19,
          19,
          6,
          9,
          9,
          9,
          11,
          11,
          15,
          17,
          19,
          19,
          19,
          19,
          19,
          19,
          7,
          7,
          10,
          10,
          14,
          15,
          18,
          18,
          18,
          6,
          9,
          11,
          11,
          11,
          15,
          19,
          19,
          19,
          19,
          6,
          9,
          11,
          11,
          11,
          12,
          17,
          18,
          18,
          18,
          18,
          18,
          6,
          9,
          9,
          9,
          9,
          9,
          12,
          12,
          12,
          12,
          12,
          17,
          17,
          17,
          9,
          10,
          10,
          15,
          17,
          20,
          20,
          20,
          5,
          7,
          7,
          10,
          13,
          13,
          18,
          18,
          1,
          3,
          4,
          4,
          4,
          6,
          5,
          8,
          8,
          8,
          11,
          13,
          13,
          13,
          20,
          20,
          20,
          6,
          6,
          7,
          14,
          18,
          18,
          18,
          20,
          20,
          4,
          4,
          4,
          8,
          8,
          12,
          15,
          15,
          17,
          17,
          17,
          17,
          6,
          8,
          11,
          11,
          8,
          11,
          15,
          15,
          15,
          15,
          15,
          20,
          20,
          22,
          6,
          8,
          8,
          12,
          12,
          12,
          17,
          18,
          18,
          7,
          6,
          6,
          8,
          13,
          13,
          13,
          16,
          16,
          19,
          19,
          8,
          12,
          12,
          12,
          8,
          10,
          10,
          10,
          11,
          11,
          11,
          18,
          18,
          8,
          19,
          19,
          6,
          8,
          8,
          12,
          17,
          20,
          20,
          9,
          10,
          10,
          18,
          18,
          18,
          18,
          18,
          10,
          11,
          11,
          8
         ],
         "xaxis": "x",
         "y": [
          456,
          475,
          13,
          120,
          110,
          280,
          286,
          72,
          440,
          135,
          317,
          308,
          280,
          286,
          72,
          71,
          280,
          212,
          103,
          86,
          17,
          120,
          110,
          280,
          151,
          110,
          212,
          86,
          12,
          158,
          80,
          147,
          83.7,
          285,
          107,
          120,
          110,
          212,
          277,
          307.5,
          776,
          440,
          235,
          314,
          532,
          308,
          139,
          13,
          151,
          71,
          47,
          13,
          308,
          120,
          110,
          71,
          254,
          539,
          640,
          308,
          654,
          180,
          280,
          164,
          84,
          700,
          1360,
          400,
          120,
          110,
          180,
          130,
          130,
          175,
          300,
          241,
          41.1,
          566,
          241,
          72.5,
          360,
          180,
          145,
          302,
          19,
          65,
          120,
          110,
          80,
          79.3,
          677,
          161,
          133.6,
          199,
          79.3,
          350,
          180,
          0,
          140,
          80,
          188,
          241,
          120,
          110,
          140,
          300,
          100,
          108,
          788,
          365,
          273,
          410,
          180,
          242,
          392,
          505,
          237,
          160,
          262,
          273,
          120,
          110,
          130,
          140,
          660,
          180,
          424,
          273,
          654,
          393,
          170,
          130,
          202.5,
          60,
          129,
          852,
          60,
          220,
          511.2,
          268,
          8.2,
          391,
          122,
          268,
          180,
          270,
          201,
          498,
          53,
          535,
          33,
          293,
          60,
          220,
          29,
          50,
          252,
          20,
          13,
          760,
          654.9,
          140,
          182,
          59,
          678,
          560,
          262.9,
          37,
          296,
          146,
          60,
          220,
          18,
          5,
          39,
          98,
          382,
          191,
          355,
          53.3,
          129,
          60,
          220,
          451,
          70,
          80.3,
          654,
          34,
          852,
          68,
          60,
          220,
          852,
          41,
          358,
          362,
          34,
          68,
          358,
          198,
          88,
          41,
          68,
          485,
          2.2,
          60,
          220,
          852,
          41,
          2,
          358,
          68,
          105,
          187,
          41,
          1008,
          94,
          87,
          60,
          220,
          187,
          44,
          2.2,
          468,
          41,
          237,
          143,
          215,
          218,
          206,
          485,
          444,
          85,
          60,
          220,
          105,
          198,
          41,
          348,
          198,
          41,
          654,
          498.7,
          575,
          212,
          24,
          211,
          105,
          60,
          60,
          220,
          456,
          77,
          358,
          362,
          113,
          3.6,
          7.7,
          33,
          396,
          424,
          95,
          67,
          244,
          80.5,
          71,
          40,
          60,
          220,
          180,
          80.5,
          149,
          11,
          30,
          159,
          114,
          71,
          40,
          149,
          11,
          30,
          167,
          87,
          183,
          113,
          60,
          220,
          167,
          211,
          52,
          28,
          60,
          3,
          12,
          33,
          503,
          212,
          7.5,
          83,
          143,
          113,
          420,
          3,
          12,
          33,
          52,
          28,
          141.3,
          24,
          1210,
          60,
          310,
          601,
          60,
          60,
          220,
          350,
          67,
          122,
          143,
          17,
          711,
          3.6,
          12,
          33,
          143,
          11,
          30,
          113,
          420,
          236,
          25,
          280,
          71,
          654,
          45,
          135,
          160,
          626,
          296,
          420,
          652,
          280,
          626,
          606,
          113,
          420,
          202,
          113,
          626,
          606,
          113,
          420,
          202,
          140,
          280,
          160,
          74,
          606,
          700,
          160,
          376,
          54,
          62,
          606,
          113,
          260,
          452,
          310,
          107,
          180,
          452,
          124,
          240,
          280,
          310,
          107,
          180,
          270,
          236,
          160,
          160,
          606,
          700,
          113,
          280,
          130,
          606,
          113,
          840,
          84,
          151,
          107,
          160,
          83,
          83,
          200,
          210,
          1320,
          140,
          280,
          187,
          22,
          165,
          80,
          84,
          700,
          654,
          201,
          15,
          104,
          171,
          116,
          11.4,
          130,
          35,
          200,
          0,
          130,
          190,
          150,
          125,
          55,
          35,
          80,
          130,
          190,
          124,
          74,
          90,
          10.5,
          30,
          0.8,
          200,
          0,
          280,
          315,
          457.5,
          99,
          11,
          7.5,
          12,
          63.8,
          50.2,
          0.8,
          207,
          200,
          130,
          41,
          104,
          150,
          68,
          55,
          35,
          13,
          80,
          323,
          93,
          119,
          0,
          600,
          200,
          280,
          200,
          275.6,
          50.2,
          119,
          0,
          200,
          0,
          280,
          150,
          60,
          55,
          35,
          13,
          80,
          22.1,
          147,
          15,
          105.8,
          35,
          150,
          69,
          55,
          35,
          13,
          80,
          324,
          12,
          86.6,
          5.3,
          237.2,
          24,
          39.1,
          59.5,
          0,
          280,
          130,
          190,
          468,
          174,
          220,
          17,
          127.4,
          7.9,
          12,
          124,
          200,
          0,
          654,
          405,
          133,
          105,
          29,
          80,
          5.7,
          197,
          60,
          220,
          143,
          227,
          1.2,
          60,
          80,
          80,
          324,
          143,
          227,
          1.2,
          60,
          161,
          105,
          555,
          1138,
          132,
          24,
          220,
          148,
          6.1,
          60,
          220,
          378,
          105,
          277,
          473,
          278,
          343,
          30,
          141,
          3.4,
          3,
          20,
          60,
          495,
          114,
          39,
          555,
          442,
          197,
          60,
          220,
          105,
          233.3,
          377,
          80,
          143,
          60,
          227,
          468,
          104,
          78,
          143,
          471,
          60,
          220,
          468,
          105,
          413,
          114,
          103,
          550.7,
          197,
          227,
          143,
          60,
          161,
          1.2,
          826,
          526,
          80,
          37,
          654,
          105,
          3.6,
          91.1,
          330,
          71,
          41,
          135,
          34,
          2.4,
          57,
          0,
          99,
          299,
          77,
          4.8,
          57,
          0,
          60,
          220,
          110,
          34,
          4.8,
          159,
          46,
          9.3,
          323,
          523,
          67.2,
          122,
          4.8,
          57,
          0,
          72.9,
          190,
          40,
          134,
          14,
          188,
          146.7,
          23,
          122,
          4.8,
          57,
          0,
          520,
          60,
          220,
          220,
          4.8,
          57,
          0,
          14,
          188,
          498.7,
          4.8,
          57,
          0,
          90,
          161,
          153,
          110,
          51,
          404,
          468,
          165,
          58,
          122,
          60,
          220,
          151,
          121.4,
          110,
          146.7,
          122,
          4.8,
          57,
          0,
          72.9,
          51.3,
          81,
          14,
          188,
          220,
          146.7,
          122,
          4.8,
          57,
          0,
          60,
          220,
          82.5,
          34,
          23,
          106,
          67.2,
          7,
          188,
          660,
          110,
          654,
          0,
          156,
          186,
          80,
          30,
          37,
          27,
          7.8,
          13,
          9.5,
          82,
          2.4,
          77,
          106.5,
          232.5,
          154,
          21,
          30,
          130,
          161,
          22.5,
          129,
          60,
          220,
          156,
          40.4,
          2.4,
          220,
          65,
          72,
          4.8,
          18,
          450,
          41,
          1145,
          161,
          186,
          42,
          2.4,
          40.4,
          106.5,
          77,
          186,
          80,
          30,
          28,
          7.8,
          18,
          9.5,
          197,
          200,
          197,
          7.2,
          122.4,
          220,
          65,
          72,
          156,
          325.5,
          450,
          0,
          106.5,
          70,
          148,
          234,
          337,
          54,
          168,
          60,
          220,
          156,
          4.8,
          82,
          220,
          65,
          72,
          2.4,
          30.6,
          0,
          723,
          138,
          30,
          279,
          337,
          27,
          84,
          4.8,
          82,
          70,
          94,
          220,
          65,
          72,
          156,
          0,
          30,
          450,
          186,
          2.4,
          40.4,
          84,
          77,
          106.5,
          186,
          80,
          14,
          28,
          7.8,
          27,
          9.5,
          30,
          60,
          220,
          2.4,
          156,
          220,
          65,
          72,
          0,
          277,
          51,
          67,
          186,
          80,
          30,
          28,
          15.6,
          27,
          19,
          2.4,
          40.4,
          77,
          106.5,
          292,
          450,
          4.8,
          82,
          70,
          94,
          220,
          65,
          72,
          78,
          0,
          186,
          60,
          28,
          7.8,
          18,
          19,
          14,
          2.4,
          40.4,
          77,
          106.5,
          186,
          450,
          30,
          60,
          220,
          4.8,
          82,
          156,
          72,
          220,
          65,
          0,
          466,
          365,
          0,
          2.4,
          300,
          654,
          105,
          573,
          737,
          205,
          214,
          712,
          10,
          230,
          0,
          200,
          280,
          854,
          230,
          55,
          200,
          110,
          1080,
          894,
          110,
          280,
          214,
          192,
          110,
          574,
          174,
          110,
          210,
          505,
          326,
          110,
          280,
          95,
          0,
          854,
          312,
          475,
          358,
          239,
          0,
          824,
          0,
          412,
          499,
          0,
          162,
          107,
          824,
          169,
          280,
          105,
          100,
          253,
          270,
          100,
          207,
          513,
          243,
          40,
          269,
          0,
          140,
          122,
          410,
          162,
          40,
          269,
          0,
          463,
          192,
          0,
          226,
          280,
          105,
          513,
          128,
          40,
          220,
          0,
          269,
          513,
          128,
          95,
          110,
          0,
          242,
          1235,
          2245,
          0,
          447.5,
          258,
          355,
          105,
          10,
          128,
          110,
          280,
          335,
          0,
          200,
          333,
          443,
          443,
          0,
          654,
          600,
          179,
          226,
          60,
          220,
          2.4,
          57,
          0,
          143,
          0,
          0,
          2.4,
          0,
          37,
          0,
          471,
          151,
          87,
          102,
          210,
          1.8,
          0,
          26,
          14,
          71,
          0,
          71,
          2.4,
          57,
          0,
          143,
          2.4,
          57,
          0,
          102,
          210,
          0,
          230,
          2.4,
          0,
          2.4,
          0,
          121,
          556,
          44,
          230,
          60,
          220,
          143,
          161,
          70,
          102,
          210,
          2.4,
          57,
          0,
          121,
          0,
          22,
          390,
          466,
          458,
          457,
          179,
          2.4,
          57,
          0,
          121,
          143,
          111,
          2.4,
          0,
          418,
          239,
          161,
          2.9,
          2.9,
          343,
          450,
          103,
          732,
          253.3,
          60,
          220,
          153,
          102,
          102,
          2.4,
          57,
          0,
          2.4,
          37,
          0,
          255,
          576,
          0,
          69,
          36,
          85,
          535,
          44,
          222,
          292,
          2.4,
          57,
          0,
          121,
          107,
          62,
          84,
          264,
          2.4,
          57,
          0,
          2.4,
          57,
          0,
          300,
          0,
          495,
          448,
          292,
          511,
          292,
          362,
          60,
          220,
          143,
          113,
          111,
          2.4,
          57,
          0,
          2.4,
          37,
          0,
          2.4,
          37,
          0,
          349,
          62,
          0,
          535,
          806,
          187,
          205,
          58,
          144,
          1.8,
          0,
          95,
          654,
          284,
          524,
          50,
          54,
          54,
          2.4,
          21,
          115,
          280,
          189,
          409,
          53,
          93,
          140,
          54,
          345,
          176,
          84,
          284,
          212,
          2.9,
          85,
          273,
          336,
          220,
          189,
          409,
          335,
          53,
          101,
          54,
          189,
          409,
          134,
          392,
          11,
          273,
          280,
          189,
          409,
          81,
          105,
          40.5,
          532,
          284,
          205,
          225,
          434,
          10,
          151,
          40.5,
          105,
          189,
          335,
          140,
          153,
          129,
          36,
          447,
          273,
          284,
          280,
          189,
          532,
          100,
          550,
          303,
          189,
          153,
          407,
          129,
          72,
          134,
          273,
          886,
          125,
          26,
          62,
          21,
          287,
          85,
          189,
          155,
          250,
          54,
          22,
          2.4,
          21,
          1181.3,
          654,
          150,
          130,
          114,
          123,
          113,
          122,
          20,
          83,
          280,
          160,
          324,
          265,
          12,
          30,
          300,
          150,
          70,
          100,
          60,
          75,
          100,
          40,
          817,
          15,
          123,
          198,
          123,
          123,
          280,
          150,
          65,
          120,
          500,
          158,
          65,
          94,
          182,
          150,
          150,
          122,
          113,
          100,
          220,
          122,
          120,
          150,
          94,
          160,
          626,
          303,
          150,
          280,
          288,
          626,
          424,
          150,
          160,
          376,
          113,
          122,
          40,
          160,
          140,
          182,
          107,
          296,
          15,
          144,
          150,
          300,
          100,
          60,
          122,
          280,
          150,
          288,
          120,
          236,
          94,
          150,
          236,
          190,
          108,
          140,
          399,
          298,
          123,
          654,
          35,
          160,
          368,
          447,
          398,
          13,
          41.5,
          35,
          35,
          280,
          424,
          80,
          200,
          409,
          104,
          171,
          35,
          70,
          55,
          25,
          70,
          35,
          144,
          424,
          68,
          108,
          533,
          745,
          70,
          740,
          170,
          198,
          35,
          35,
          280,
          171,
          255,
          105,
          35,
          675,
          30,
          55,
          848,
          35,
          140,
          35,
          140,
          540,
          270,
          35,
          270,
          517,
          35,
          35,
          280,
          70,
          55,
          5,
          35,
          126,
          308,
          113,
          55,
          0,
          577,
          146,
          480,
          35,
          35,
          424,
          35,
          104,
          578,
          100,
          320,
          105,
          654,
          736,
          84,
          280,
          517,
          466,
          94,
          154,
          204,
          1008,
          312,
          168,
          657,
          235,
          84,
          280,
          218,
          25,
          23,
          348,
          424,
          148,
          168,
          522,
          168,
          536,
          204,
          280,
          379,
          84,
          355,
          1064,
          714,
          320,
          168,
          105,
          94,
          1808,
          25,
          7,
          146,
          99,
          280,
          452,
          198,
          654
         ],
         "yaxis": "y"
        }
       ],
       "layout": {
        "coloraxis": {
         "colorbar": {
          "title": {
           "text": "subject"
          }
         },
         "colorscale": [
          [
           0,
           "#0d0887"
          ],
          [
           0.1111111111111111,
           "#46039f"
          ],
          [
           0.2222222222222222,
           "#7201a8"
          ],
          [
           0.3333333333333333,
           "#9c179e"
          ],
          [
           0.4444444444444444,
           "#bd3786"
          ],
          [
           0.5555555555555556,
           "#d8576b"
          ],
          [
           0.6666666666666666,
           "#ed7953"
          ],
          [
           0.7777777777777778,
           "#fb9f3a"
          ],
          [
           0.8888888888888888,
           "#fdca26"
          ],
          [
           1,
           "#f0f921"
          ]
         ]
        },
        "legend": {
         "tracegroupgap": 0
        },
        "margin": {
         "t": 60
        },
        "template": {
         "data": {
          "bar": [
           {
            "error_x": {
             "color": "#2a3f5f"
            },
            "error_y": {
             "color": "#2a3f5f"
            },
            "marker": {
             "line": {
              "color": "#E5ECF6",
              "width": 0.5
             },
             "pattern": {
              "fillmode": "overlay",
              "size": 10,
              "solidity": 0.2
             }
            },
            "type": "bar"
           }
          ],
          "barpolar": [
           {
            "marker": {
             "line": {
              "color": "#E5ECF6",
              "width": 0.5
             },
             "pattern": {
              "fillmode": "overlay",
              "size": 10,
              "solidity": 0.2
             }
            },
            "type": "barpolar"
           }
          ],
          "carpet": [
           {
            "aaxis": {
             "endlinecolor": "#2a3f5f",
             "gridcolor": "white",
             "linecolor": "white",
             "minorgridcolor": "white",
             "startlinecolor": "#2a3f5f"
            },
            "baxis": {
             "endlinecolor": "#2a3f5f",
             "gridcolor": "white",
             "linecolor": "white",
             "minorgridcolor": "white",
             "startlinecolor": "#2a3f5f"
            },
            "type": "carpet"
           }
          ],
          "choropleth": [
           {
            "colorbar": {
             "outlinewidth": 0,
             "ticks": ""
            },
            "type": "choropleth"
           }
          ],
          "contour": [
           {
            "colorbar": {
             "outlinewidth": 0,
             "ticks": ""
            },
            "colorscale": [
             [
              0,
              "#0d0887"
             ],
             [
              0.1111111111111111,
              "#46039f"
             ],
             [
              0.2222222222222222,
              "#7201a8"
             ],
             [
              0.3333333333333333,
              "#9c179e"
             ],
             [
              0.4444444444444444,
              "#bd3786"
             ],
             [
              0.5555555555555556,
              "#d8576b"
             ],
             [
              0.6666666666666666,
              "#ed7953"
             ],
             [
              0.7777777777777778,
              "#fb9f3a"
             ],
             [
              0.8888888888888888,
              "#fdca26"
             ],
             [
              1,
              "#f0f921"
             ]
            ],
            "type": "contour"
           }
          ],
          "contourcarpet": [
           {
            "colorbar": {
             "outlinewidth": 0,
             "ticks": ""
            },
            "type": "contourcarpet"
           }
          ],
          "heatmap": [
           {
            "colorbar": {
             "outlinewidth": 0,
             "ticks": ""
            },
            "colorscale": [
             [
              0,
              "#0d0887"
             ],
             [
              0.1111111111111111,
              "#46039f"
             ],
             [
              0.2222222222222222,
              "#7201a8"
             ],
             [
              0.3333333333333333,
              "#9c179e"
             ],
             [
              0.4444444444444444,
              "#bd3786"
             ],
             [
              0.5555555555555556,
              "#d8576b"
             ],
             [
              0.6666666666666666,
              "#ed7953"
             ],
             [
              0.7777777777777778,
              "#fb9f3a"
             ],
             [
              0.8888888888888888,
              "#fdca26"
             ],
             [
              1,
              "#f0f921"
             ]
            ],
            "type": "heatmap"
           }
          ],
          "heatmapgl": [
           {
            "colorbar": {
             "outlinewidth": 0,
             "ticks": ""
            },
            "colorscale": [
             [
              0,
              "#0d0887"
             ],
             [
              0.1111111111111111,
              "#46039f"
             ],
             [
              0.2222222222222222,
              "#7201a8"
             ],
             [
              0.3333333333333333,
              "#9c179e"
             ],
             [
              0.4444444444444444,
              "#bd3786"
             ],
             [
              0.5555555555555556,
              "#d8576b"
             ],
             [
              0.6666666666666666,
              "#ed7953"
             ],
             [
              0.7777777777777778,
              "#fb9f3a"
             ],
             [
              0.8888888888888888,
              "#fdca26"
             ],
             [
              1,
              "#f0f921"
             ]
            ],
            "type": "heatmapgl"
           }
          ],
          "histogram": [
           {
            "marker": {
             "pattern": {
              "fillmode": "overlay",
              "size": 10,
              "solidity": 0.2
             }
            },
            "type": "histogram"
           }
          ],
          "histogram2d": [
           {
            "colorbar": {
             "outlinewidth": 0,
             "ticks": ""
            },
            "colorscale": [
             [
              0,
              "#0d0887"
             ],
             [
              0.1111111111111111,
              "#46039f"
             ],
             [
              0.2222222222222222,
              "#7201a8"
             ],
             [
              0.3333333333333333,
              "#9c179e"
             ],
             [
              0.4444444444444444,
              "#bd3786"
             ],
             [
              0.5555555555555556,
              "#d8576b"
             ],
             [
              0.6666666666666666,
              "#ed7953"
             ],
             [
              0.7777777777777778,
              "#fb9f3a"
             ],
             [
              0.8888888888888888,
              "#fdca26"
             ],
             [
              1,
              "#f0f921"
             ]
            ],
            "type": "histogram2d"
           }
          ],
          "histogram2dcontour": [
           {
            "colorbar": {
             "outlinewidth": 0,
             "ticks": ""
            },
            "colorscale": [
             [
              0,
              "#0d0887"
             ],
             [
              0.1111111111111111,
              "#46039f"
             ],
             [
              0.2222222222222222,
              "#7201a8"
             ],
             [
              0.3333333333333333,
              "#9c179e"
             ],
             [
              0.4444444444444444,
              "#bd3786"
             ],
             [
              0.5555555555555556,
              "#d8576b"
             ],
             [
              0.6666666666666666,
              "#ed7953"
             ],
             [
              0.7777777777777778,
              "#fb9f3a"
             ],
             [
              0.8888888888888888,
              "#fdca26"
             ],
             [
              1,
              "#f0f921"
             ]
            ],
            "type": "histogram2dcontour"
           }
          ],
          "mesh3d": [
           {
            "colorbar": {
             "outlinewidth": 0,
             "ticks": ""
            },
            "type": "mesh3d"
           }
          ],
          "parcoords": [
           {
            "line": {
             "colorbar": {
              "outlinewidth": 0,
              "ticks": ""
             }
            },
            "type": "parcoords"
           }
          ],
          "pie": [
           {
            "automargin": true,
            "type": "pie"
           }
          ],
          "scatter": [
           {
            "fillpattern": {
             "fillmode": "overlay",
             "size": 10,
             "solidity": 0.2
            },
            "type": "scatter"
           }
          ],
          "scatter3d": [
           {
            "line": {
             "colorbar": {
              "outlinewidth": 0,
              "ticks": ""
             }
            },
            "marker": {
             "colorbar": {
              "outlinewidth": 0,
              "ticks": ""
             }
            },
            "type": "scatter3d"
           }
          ],
          "scattercarpet": [
           {
            "marker": {
             "colorbar": {
              "outlinewidth": 0,
              "ticks": ""
             }
            },
            "type": "scattercarpet"
           }
          ],
          "scattergeo": [
           {
            "marker": {
             "colorbar": {
              "outlinewidth": 0,
              "ticks": ""
             }
            },
            "type": "scattergeo"
           }
          ],
          "scattergl": [
           {
            "marker": {
             "colorbar": {
              "outlinewidth": 0,
              "ticks": ""
             }
            },
            "type": "scattergl"
           }
          ],
          "scattermapbox": [
           {
            "marker": {
             "colorbar": {
              "outlinewidth": 0,
              "ticks": ""
             }
            },
            "type": "scattermapbox"
           }
          ],
          "scatterpolar": [
           {
            "marker": {
             "colorbar": {
              "outlinewidth": 0,
              "ticks": ""
             }
            },
            "type": "scatterpolar"
           }
          ],
          "scatterpolargl": [
           {
            "marker": {
             "colorbar": {
              "outlinewidth": 0,
              "ticks": ""
             }
            },
            "type": "scatterpolargl"
           }
          ],
          "scatterternary": [
           {
            "marker": {
             "colorbar": {
              "outlinewidth": 0,
              "ticks": ""
             }
            },
            "type": "scatterternary"
           }
          ],
          "surface": [
           {
            "colorbar": {
             "outlinewidth": 0,
             "ticks": ""
            },
            "colorscale": [
             [
              0,
              "#0d0887"
             ],
             [
              0.1111111111111111,
              "#46039f"
             ],
             [
              0.2222222222222222,
              "#7201a8"
             ],
             [
              0.3333333333333333,
              "#9c179e"
             ],
             [
              0.4444444444444444,
              "#bd3786"
             ],
             [
              0.5555555555555556,
              "#d8576b"
             ],
             [
              0.6666666666666666,
              "#ed7953"
             ],
             [
              0.7777777777777778,
              "#fb9f3a"
             ],
             [
              0.8888888888888888,
              "#fdca26"
             ],
             [
              1,
              "#f0f921"
             ]
            ],
            "type": "surface"
           }
          ],
          "table": [
           {
            "cells": {
             "fill": {
              "color": "#EBF0F8"
             },
             "line": {
              "color": "white"
             }
            },
            "header": {
             "fill": {
              "color": "#C8D4E3"
             },
             "line": {
              "color": "white"
             }
            },
            "type": "table"
           }
          ]
         },
         "layout": {
          "annotationdefaults": {
           "arrowcolor": "#2a3f5f",
           "arrowhead": 0,
           "arrowwidth": 1
          },
          "autotypenumbers": "strict",
          "coloraxis": {
           "colorbar": {
            "outlinewidth": 0,
            "ticks": ""
           }
          },
          "colorscale": {
           "diverging": [
            [
             0,
             "#8e0152"
            ],
            [
             0.1,
             "#c51b7d"
            ],
            [
             0.2,
             "#de77ae"
            ],
            [
             0.3,
             "#f1b6da"
            ],
            [
             0.4,
             "#fde0ef"
            ],
            [
             0.5,
             "#f7f7f7"
            ],
            [
             0.6,
             "#e6f5d0"
            ],
            [
             0.7,
             "#b8e186"
            ],
            [
             0.8,
             "#7fbc41"
            ],
            [
             0.9,
             "#4d9221"
            ],
            [
             1,
             "#276419"
            ]
           ],
           "sequential": [
            [
             0,
             "#0d0887"
            ],
            [
             0.1111111111111111,
             "#46039f"
            ],
            [
             0.2222222222222222,
             "#7201a8"
            ],
            [
             0.3333333333333333,
             "#9c179e"
            ],
            [
             0.4444444444444444,
             "#bd3786"
            ],
            [
             0.5555555555555556,
             "#d8576b"
            ],
            [
             0.6666666666666666,
             "#ed7953"
            ],
            [
             0.7777777777777778,
             "#fb9f3a"
            ],
            [
             0.8888888888888888,
             "#fdca26"
            ],
            [
             1,
             "#f0f921"
            ]
           ],
           "sequentialminus": [
            [
             0,
             "#0d0887"
            ],
            [
             0.1111111111111111,
             "#46039f"
            ],
            [
             0.2222222222222222,
             "#7201a8"
            ],
            [
             0.3333333333333333,
             "#9c179e"
            ],
            [
             0.4444444444444444,
             "#bd3786"
            ],
            [
             0.5555555555555556,
             "#d8576b"
            ],
            [
             0.6666666666666666,
             "#ed7953"
            ],
            [
             0.7777777777777778,
             "#fb9f3a"
            ],
            [
             0.8888888888888888,
             "#fdca26"
            ],
            [
             1,
             "#f0f921"
            ]
           ]
          },
          "colorway": [
           "#636efa",
           "#EF553B",
           "#00cc96",
           "#ab63fa",
           "#FFA15A",
           "#19d3f3",
           "#FF6692",
           "#B6E880",
           "#FF97FF",
           "#FECB52"
          ],
          "font": {
           "color": "#2a3f5f"
          },
          "geo": {
           "bgcolor": "white",
           "lakecolor": "white",
           "landcolor": "#E5ECF6",
           "showlakes": true,
           "showland": true,
           "subunitcolor": "white"
          },
          "hoverlabel": {
           "align": "left"
          },
          "hovermode": "closest",
          "mapbox": {
           "style": "light"
          },
          "paper_bgcolor": "white",
          "plot_bgcolor": "#E5ECF6",
          "polar": {
           "angularaxis": {
            "gridcolor": "white",
            "linecolor": "white",
            "ticks": ""
           },
           "bgcolor": "#E5ECF6",
           "radialaxis": {
            "gridcolor": "white",
            "linecolor": "white",
            "ticks": ""
           }
          },
          "scene": {
           "xaxis": {
            "backgroundcolor": "#E5ECF6",
            "gridcolor": "white",
            "gridwidth": 2,
            "linecolor": "white",
            "showbackground": true,
            "ticks": "",
            "zerolinecolor": "white"
           },
           "yaxis": {
            "backgroundcolor": "#E5ECF6",
            "gridcolor": "white",
            "gridwidth": 2,
            "linecolor": "white",
            "showbackground": true,
            "ticks": "",
            "zerolinecolor": "white"
           },
           "zaxis": {
            "backgroundcolor": "#E5ECF6",
            "gridcolor": "white",
            "gridwidth": 2,
            "linecolor": "white",
            "showbackground": true,
            "ticks": "",
            "zerolinecolor": "white"
           }
          },
          "shapedefaults": {
           "line": {
            "color": "#2a3f5f"
           }
          },
          "ternary": {
           "aaxis": {
            "gridcolor": "white",
            "linecolor": "white",
            "ticks": ""
           },
           "baxis": {
            "gridcolor": "white",
            "linecolor": "white",
            "ticks": ""
           },
           "bgcolor": "#E5ECF6",
           "caxis": {
            "gridcolor": "white",
            "linecolor": "white",
            "ticks": ""
           }
          },
          "title": {
           "x": 0.05
          },
          "xaxis": {
           "automargin": true,
           "gridcolor": "white",
           "linecolor": "white",
           "ticks": "",
           "title": {
            "standoff": 15
           },
           "zerolinecolor": "white",
           "zerolinewidth": 2
          },
          "yaxis": {
           "automargin": true,
           "gridcolor": "white",
           "linecolor": "white",
           "ticks": "",
           "title": {
            "standoff": 15
           },
           "zerolinecolor": "white",
           "zerolinewidth": 2
          }
         }
        },
        "xaxis": {
         "anchor": "y",
         "domain": [
          0,
          1
         ],
         "title": {
          "text": "hour"
         }
        },
        "yaxis": {
         "anchor": "x",
         "domain": [
          0,
          1
         ],
         "title": {
          "text": "calorie"
         }
        }
       }
      }
     },
     "metadata": {},
     "output_type": "display_data"
    }
   ],
   "source": [
    "px.scatter(data_frame=entire_dataset, x='hour', y='calorie', color='subject')"
   ]
  },
  {
   "cell_type": "code",
   "execution_count": 60,
   "metadata": {},
   "outputs": [
    {
     "data": {
      "text/html": [
       "<div>\n",
       "<style scoped>\n",
       "    .dataframe tbody tr th:only-of-type {\n",
       "        vertical-align: middle;\n",
       "    }\n",
       "\n",
       "    .dataframe tbody tr th {\n",
       "        vertical-align: top;\n",
       "    }\n",
       "\n",
       "    .dataframe thead th {\n",
       "        text-align: right;\n",
       "    }\n",
       "</style>\n",
       "<table border=\"1\" class=\"dataframe\">\n",
       "  <thead>\n",
       "    <tr style=\"text-align: right;\">\n",
       "      <th></th>\n",
       "      <th>date</th>\n",
       "      <th>time</th>\n",
       "      <th>logged_food</th>\n",
       "      <th>calorie</th>\n",
       "      <th>subject</th>\n",
       "    </tr>\n",
       "  </thead>\n",
       "  <tbody>\n",
       "    <tr>\n",
       "      <th>0</th>\n",
       "      <td>2020-02-13</td>\n",
       "      <td>2025-02-11 18:00:00</td>\n",
       "      <td>Berry Smoothie</td>\n",
       "      <td>456.0</td>\n",
       "      <td>1.0</td>\n",
       "    </tr>\n",
       "    <tr>\n",
       "      <th>1</th>\n",
       "      <td>2020-02-13</td>\n",
       "      <td>2025-02-11 20:30:00</td>\n",
       "      <td>Chicken Leg</td>\n",
       "      <td>475.0</td>\n",
       "      <td>1.0</td>\n",
       "    </tr>\n",
       "    <tr>\n",
       "      <th>2</th>\n",
       "      <td>2020-02-13</td>\n",
       "      <td>2025-02-11 20:30:00</td>\n",
       "      <td>Asparagus</td>\n",
       "      <td>13.0</td>\n",
       "      <td>1.0</td>\n",
       "    </tr>\n",
       "    <tr>\n",
       "      <th>3</th>\n",
       "      <td>2020-02-14</td>\n",
       "      <td>2025-02-11 07:10:00</td>\n",
       "      <td>Natrel Lactose Free 2 Percent</td>\n",
       "      <td>120.0</td>\n",
       "      <td>1.0</td>\n",
       "    </tr>\n",
       "    <tr>\n",
       "      <th>4</th>\n",
       "      <td>2020-02-14</td>\n",
       "      <td>2025-02-11 07:10:00</td>\n",
       "      <td>Standard Breakfast</td>\n",
       "      <td>110.0</td>\n",
       "      <td>1.0</td>\n",
       "    </tr>\n",
       "  </tbody>\n",
       "</table>\n",
       "</div>"
      ],
      "text/plain": [
       "        date                time                    logged_food  calorie  \\\n",
       "0 2020-02-13 2025-02-11 18:00:00                 Berry Smoothie    456.0   \n",
       "1 2020-02-13 2025-02-11 20:30:00                    Chicken Leg    475.0   \n",
       "2 2020-02-13 2025-02-11 20:30:00                      Asparagus     13.0   \n",
       "3 2020-02-14 2025-02-11 07:10:00  Natrel Lactose Free 2 Percent    120.0   \n",
       "4 2020-02-14 2025-02-11 07:10:00             Standard Breakfast    110.0   \n",
       "\n",
       "   subject  \n",
       "0      1.0  \n",
       "1      1.0  \n",
       "2      1.0  \n",
       "3      1.0  \n",
       "4      1.0  "
      ]
     },
     "metadata": {},
     "output_type": "display_data"
    }
   ],
   "source": [
    "data = entire_dataset[['date', 'time', 'logged_food', 'calorie', 'subject']]\n",
    "display(data.head())"
   ]
  },
  {
   "cell_type": "markdown",
   "metadata": {},
   "source": [
    "## Food Classification:  \n",
    "## 0 = meat, 1 = fruit/veggies, 2 = snack-other, 3 = beverage, 4 = supplement, 5 = full meal, 6 = sides/auxillary food items, 7 = desserts"
   ]
  },
  {
   "cell_type": "code",
   "execution_count": 61,
   "metadata": {},
   "outputs": [
    {
     "data": {
      "text/plain": [
       "{'Berry Smoothie': 3,\n",
       " 'Chicken Leg': 0,\n",
       " 'Asparagus': 1,\n",
       " 'Natrel Lactose Free 2 Percent': 3,\n",
       " 'Standard Breakfast': 5,\n",
       " 'Breakfast Trail Mix': 2,\n",
       " 'Spinach Salad w/ strawberries and cheese': 5,\n",
       " 'Egg': 0,\n",
       " 'Acai Smoothie': 3,\n",
       " \"(Trader Joe's) Mac and Cheese\": 5,\n",
       " 'Coconut Shrimp': 5,\n",
       " 'Spinach Smoothie': 3,\n",
       " 'Spinach Salad w/ blueberries, egg, and cheese': 5,\n",
       " 'Babel Cheese': 2,\n",
       " 'Bourbon Chicken': 0,\n",
       " 'Rice': 6,\n",
       " 'Shrimp': 0,\n",
       " 'Cabbage': 1,\n",
       " 'Hot Chocolate': 3,\n",
       " 'Salty Sweet Popcorn': 2,\n",
       " 'Chai Tea': 3,\n",
       " 'Maple Brown Sugar Oatmeal': 5,\n",
       " 'Salad with Cranberries': 5,\n",
       " 'Chicken Nuggets': 5,\n",
       " 'Kale Salad': 5,\n",
       " 'Pizza': 5,\n",
       " 'Oreo Cookies': 7,\n",
       " 'Muffin': 2,\n",
       " 'Grilled Chicken Wrap': 5,\n",
       " 'Kale and Fruit Smoothie': 3,\n",
       " 'Ranch Wings': 5,\n",
       " 'Lemon Loaf': 7,\n",
       " 'Turkey Slider': 5,\n",
       " 'Chicken and Rice': 5,\n",
       " 'Green Smoothie': 3,\n",
       " 'Bagel': 5,\n",
       " 'Salad': 5,\n",
       " 'Babel bell cheese': 2,\n",
       " 'Tangerine Orange': 1,\n",
       " 'Babybel Cheese': 2,\n",
       " 'Chicken Salad': 5,\n",
       " 'Pita Bread': 6,\n",
       " 'Cheese Pita': 6,\n",
       " 'Boost': 4,\n",
       " 'Mello Yello': 3,\n",
       " '(Jimmy Dean) Chicken Biscuit': 5,\n",
       " 'Beef Jerky': 0,\n",
       " '(Gatorade) Fierce Grape': 3,\n",
       " 'Banquet Chicken Pot Pie': 5,\n",
       " '(Red Baron) Brick Oven Pepperoni Pizza': 5,\n",
       " 'M & M ': 7,\n",
       " 'Corn Flakes': 5,\n",
       " '(Powerade) Grape': 3,\n",
       " 'Stouffers Salisbury Steak Family Size ': 5,\n",
       " 'Mashed Potato': 6,\n",
       " 'Chocolate Milk': 3,\n",
       " 'Frozen Pop': 7,\n",
       " 'Omelet (3 egg, bacon 3 strip, cheese 2 tsp)': 5,\n",
       " \"(Arby's) Classic Roast Beef FF\": 5,\n",
       " 'Chip': 2,\n",
       " 'Salsa': 2,\n",
       " 'Moutain Dew': 3,\n",
       " 'Gatorade': 3,\n",
       " 'Cheeseburger (mayo , mustard, chili)': 5,\n",
       " 'Tater Tots': 6,\n",
       " 'Onion Rings': 6,\n",
       " 'Sweet Tea': 3,\n",
       " 'Fig Newton': 2,\n",
       " 'Water ': 3,\n",
       " 'Small Oranges/Summer Cuties': 1,\n",
       " 'Vienna Sausage': 0,\n",
       " 'Lance Toast Chee': 5,\n",
       " 'Tootsie Roll': 7,\n",
       " 'Steak': 0,\n",
       " 'Fried Potato': 6,\n",
       " 'Ice Cream': 7,\n",
       " 'JD Sausage Biscuit': 6,\n",
       " 'Chex Mix': 2,\n",
       " 'Fig Bar': 2,\n",
       " 'Rib': 0,\n",
       " 'Mash Potato': 6,\n",
       " 'Cake': 7,\n",
       " 'Powerade': 3,\n",
       " 'Rice Krispies': 2,\n",
       " '(Hamburger Helper) Deluxe Cheeseburger Macaroni': 5,\n",
       " 'Chocolate Cake': 2,\n",
       " 'Superfood Salad': 5,\n",
       " 'Dots Gumdrops': 2,\n",
       " 'Power Smoothie': 3,\n",
       " 'French Dressing': 6,\n",
       " 'Spaghetti': 5,\n",
       " 'Milk': 3,\n",
       " 'Cornflakes': 5,\n",
       " 'Tortilla Chips': 2,\n",
       " 'Crab Cakes': 5,\n",
       " 'Brussel Sprouts': 1,\n",
       " 'Greek Yogurt Power Smoothie': 3,\n",
       " 'Clam Chowder': 5,\n",
       " 'Carne Asada Steak': 0,\n",
       " 'Beans': 6,\n",
       " 'Merlot Wine': 3,\n",
       " 'Apples': 2,\n",
       " 'Smartie Candy Roll': 2,\n",
       " 'Grilled Chicken': 0,\n",
       " 'Green Beans': 1,\n",
       " 'Crusted Parmesian Chicken': 5,\n",
       " 'Salad with Ranch Dressing': 5,\n",
       " 'Sweet Potato with Butter and Brown Sugar': 6,\n",
       " 'Chocolate Lava Cake': 7,\n",
       " 'Vanilla Ice Cream': 7,\n",
       " 'Lemon Drop Martini': 3,\n",
       " 'French Toast with Syrup': 5,\n",
       " 'Hibachi Steak': 0,\n",
       " 'Vegetables': 1,\n",
       " 'Fried Rice': 6,\n",
       " 'Broccoli': 1,\n",
       " 'Ham Sandwich': 5,\n",
       " 'BBQ Chicken': 0,\n",
       " 'Lasagna': 5,\n",
       " 'Salad with Fried Chicken and Ranch Dressing': 5,\n",
       " 'Hershey Kiss': 7,\n",
       " 'Reese Cup': 7,\n",
       " 'Boost ': 4,\n",
       " 'Grapes': 1,\n",
       " 'Turkey Wings': 0,\n",
       " 'Peach': 1,\n",
       " 'Frosted Flakes': 5,\n",
       " 'Spinach': 1,\n",
       " 'Coffee': 3,\n",
       " 'Creamers': 3,\n",
       " 'Chicken Breast': 0,\n",
       " 'Chicken Wing': 0,\n",
       " 'Popcorn': 2,\n",
       " 'Tea with Lemon': 3,\n",
       " 'Small Bowl of Spinach': 1,\n",
       " 'Tea': 3,\n",
       " 'Banana': 1,\n",
       " 'Baked Chicken': 0,\n",
       " 'Squash': 1,\n",
       " '(Chipotle) Bowl': 5,\n",
       " 'Peanut Butter': 6,\n",
       " 'Spoon Biscotti': 7,\n",
       " 'Green Bean': 1,\n",
       " 'Salmon': 0,\n",
       " 'Mash Potatoes': 6,\n",
       " 'Eggs': 0,\n",
       " 'Bacon': 0,\n",
       " 'Waffle with Syrup': 5,\n",
       " 'Soda': 3,\n",
       " 'Small Bag of Popcorn': 2,\n",
       " 'Cookies': 7,\n",
       " 'Cheese Stick': 2,\n",
       " 'Biscott Cookie': 7,\n",
       " 'Chicken Breast ': 0,\n",
       " 'Chicken': 0,\n",
       " 'Fries': 6,\n",
       " 'Biscuit': 6,\n",
       " 'Peppermint': 7,\n",
       " 'Cereal': 5,\n",
       " '90% Cocoa Dark Chocolate': 7,\n",
       " '6-inch Turkey Sub': 5,\n",
       " 'Dark Chocolate Toffee': 7,\n",
       " 'Ziti': 5,\n",
       " 'Slice of Banana Bread': 2,\n",
       " 'Cheese': 2,\n",
       " 'Creamer': 3,\n",
       " 'Sugar': 3,\n",
       " 'Chicken Biscuit': 5,\n",
       " 'Apple': 1,\n",
       " 'Ranch Dressing': 6,\n",
       " 'Baked Potato': 6,\n",
       " '(Babybel) Cheese': 2,\n",
       " 'Pepperoni': 0,\n",
       " 'Baked Chicken Thigh': 0,\n",
       " 'Peppers': 1,\n",
       " 'Onions': 1,\n",
       " 'Flour Tortilla': 6,\n",
       " 'Black Beans': 6,\n",
       " 'Chicken Chorizo': 0,\n",
       " 'Pepperjack Cheese': 6,\n",
       " 'Strawberries': 1,\n",
       " '90% Dark Chocolate': 7,\n",
       " 'Taco Salad': 5,\n",
       " 'Sausage': 0,\n",
       " 'Hummus': 6,\n",
       " '(Outback Steakhouse) Chicken Tacos': 5,\n",
       " '(Outback Steakhouse) Asparagus': 1,\n",
       " '(Outback Steakhouse) Bread with Butter': 6,\n",
       " '(Outback Steakhouse) Mixed Drink': 3,\n",
       " 'Pistachios': 2,\n",
       " 'Yogurt': 6,\n",
       " 'Granola Bar': 2,\n",
       " 'Egg Salad': 5,\n",
       " 'Blueberries': 1,\n",
       " 'Multigrain Chips': 2,\n",
       " 'Quest Bar cookie dough': 2,\n",
       " 'Premier protein choc shake': 4,\n",
       " '4 small pizza slices everything': 5,\n",
       " 'Chocolate chip cookies': 7,\n",
       " 'Baked cheetos': 2,\n",
       " 'Oreo shake': 7,\n",
       " 'Std breakfast': 5,\n",
       " 'Fruit smoothie': 3,\n",
       " 'PB protein whey powder': 4,\n",
       " 'Fun size snickers bar': 7,\n",
       " 'Mac and cheese': 5,\n",
       " 'Blue Bunny fudge bar': 7,\n",
       " 'Chex Mix cheddar': 2,\n",
       " 'Fritos single serving bag': 2,\n",
       " 'Veggie omelet': 5,\n",
       " 'Cinnamon raisin bagel': 5,\n",
       " '2 small fruit bars': 2,\n",
       " 'Lean Cuisine mushroom ravioli box meal': 5,\n",
       " 'M&Ms': 7,\n",
       " 'Nutrigrain bar': 2,\n",
       " '1/4 blueberry pancake': 5,\n",
       " 'Grits': 6,\n",
       " '1 snack size baby ruth': 7,\n",
       " 'Ritz PB crackers': 2,\n",
       " 'Totinos pizza': 5,\n",
       " 'Baked chicken ': 0,\n",
       " 'String beans': 1,\n",
       " 'Lemon risotto': 5,\n",
       " 'Cheesecake': 7,\n",
       " '3/4 large blueberry pancake': 5,\n",
       " '(Costco) Seafood Stuffed Salmon': 5,\n",
       " '(Green Giant) Rice Cauliflower - Plain': 6,\n",
       " '(Dayka and Hackett) Navel Orange': 1,\n",
       " 'Salad - Butter Lettuce': 5,\n",
       " 'Chickpeas': 6,\n",
       " 'Red Onion': 1,\n",
       " '(Toast) Red Wine Vinegrette': 6,\n",
       " '(Jolly Time) Select Yellow Pop Corn - Air Popped': 2,\n",
       " \"Virgil's Zero Sugar Black Cherry Soda\": 3,\n",
       " '(Peppridge Farm) Whole Wheat Hamburger Bun': 6,\n",
       " '(Jif) Extra Crunchy Peanut Butter': 6,\n",
       " '(Quaker) Old Fashioned Oats': 5,\n",
       " '(Red Delicious) Apple with Skin': 1,\n",
       " 'Ground Flaxseeds': 6,\n",
       " '(Now) Whole Psyllium Husks': 4,\n",
       " '(Harris Teeter) Fat Free Organic Milk': 3,\n",
       " 'Homemade Chicken Noodle Soup with chicken, onion, celery, (Kirkland) organic chicken stock, and (Amish Kitchens) wide egg noodles': 5,\n",
       " 'Tilapia': 0,\n",
       " '(Harris Teeter) Charleston Crabcake': 5,\n",
       " 'Broccoli - Steamed': 1,\n",
       " 'Lemon Juice': 6,\n",
       " 'Std bfast': 5,\n",
       " '(Firebirds Wood Fired Grill) Steak Sandwich with lettuce and onion': 5,\n",
       " '(Firebirds Wood Fired Grill) Seasoned Steak Fries': 6,\n",
       " \"(Alex's) Lemonade\": 3,\n",
       " 'Butter Lettuce': 1,\n",
       " 'Pecans': 6,\n",
       " 'Smart Balance': 6,\n",
       " 'Navel Orange': 1,\n",
       " 'Cinnamon': 6,\n",
       " 'Chicken breaded with (Progesso) Italian Bread Crumbs': 5,\n",
       " 'Potato': 6,\n",
       " 'Extra Virgin Olive Oil': 6,\n",
       " '(Crosse and Blackwell) Old Fashioned English Fish and Chip  Vinegar': 5,\n",
       " 'Homemade soup with Hot Italian sausage, kale, cannolli beans, onion, garlic, (Kirkland) organic chicken stock, white wine': 5,\n",
       " 'Std Bfast': 5,\n",
       " 'Homemade Beef and Barley Soup with onion, celery, kale, (Simple Truth) fat free organic beef stock, and (Pacific) low sodium organic vegetable broth': 5,\n",
       " \"(NOSH) Owen's Crunchy Chicken Sandwich without dijonnaise\": 5,\n",
       " '(NOSH) Veggie Slaw Side Order': 6,\n",
       " \"Hershey's Milk Chocolate Bar\": 7,\n",
       " 'Salad - Spring Mix': 1,\n",
       " 'Golden Crust Chicken Patil': 5,\n",
       " 'Pineapple and Ginger Juice': 3,\n",
       " 'Steamed Shrimp': 0,\n",
       " 'Mixed Vegetable': 1,\n",
       " 'Moscato': 3,\n",
       " 'Mini Croissants': 2,\n",
       " 'Turkey Bacon': 0,\n",
       " 'Salad - Tomato, Cheese, Lettuce, Tortilla Strips': 5,\n",
       " 'Air Fried Chicken Wings': 5,\n",
       " 'Avocado': 1,\n",
       " 'Medium Banana': 1,\n",
       " 'Granola Oats and Honey': 5,\n",
       " 'Pizza Triangles': 5,\n",
       " 'Brownie': 7,\n",
       " 'Lemon': 1,\n",
       " 'Tomato and Mozzarella Toothpick': 6,\n",
       " 'Corona': 3,\n",
       " 'Blackberries': 1,\n",
       " 'Avocado Sandwich - White bread, with mayo': 5,\n",
       " 'Large Baked Potato': 6,\n",
       " 'Mojito': 3,\n",
       " 'Steamed Broccoli': 1,\n",
       " 'Oatmeal Margarine': 5,\n",
       " 'Splenda/Sugar Blend': 3,\n",
       " 'Salad - Shrimp, Lettuce, Tomato, Cheese, Avocado': 6,\n",
       " 'Low Sugar Apple Juice': 3,\n",
       " 'Handfull of Oats and Honey Granola': 2,\n",
       " 'Air Fried French Fries': 6,\n",
       " '(Wheat Thins) Ranch Crackers': 2,\n",
       " 'Air Fried Chicken Loingettes ': 5,\n",
       " 'Sandwich - White Bread, Lettuce, Chicken, Cheese': 5,\n",
       " 'Vanilla Cookies': 7,\n",
       " 'Burger Salad - Lettuce, Tomato, Cheese, Tortilla Strips, Burger, Thousand Island Dressing': 5,\n",
       " 'Chicken and Cheese Sandwich - White Bread, Mayo': 5,\n",
       " 'Lemon Cookies': 7,\n",
       " 'Baked Sweet Potato': 6,\n",
       " 'Boiled Eggs': 0,\n",
       " 'Chicken Wingettes': 0,\n",
       " 'Medium Baked Potato': 6,\n",
       " 'Mixed Vegetable, Green Beans, Peas, Corn, Carrots': 1,\n",
       " '(Dunkin Coffee) Coffee': 3,\n",
       " '(Blue Diamond) Almonds Lightly Salted': 2,\n",
       " 'Swiss Cheese Thinly Sliced': 2,\n",
       " 'Baked Chicken Breast': 0,\n",
       " 'Broiled Brussel Sprouts': 1,\n",
       " 'Coleslaw with Almond and Cranberry': 6,\n",
       " 'Green Seedless Grape': 1,\n",
       " 'Cream': 3,\n",
       " '(Equal) Sweetner Bag': 3,\n",
       " 'Corn on the Cobb': 1,\n",
       " 'Ham Biscuit': 5,\n",
       " 'Hot Dog': 5,\n",
       " \"(Florida's Natural) Orange Juice\": 3,\n",
       " 'Walnut': 2,\n",
       " 'Strawberry': 1,\n",
       " 'Blueberry': 1,\n",
       " 'Smoothie (spinach, celery, banana, and strawberry)': 3,\n",
       " 'California Roll': 5,\n",
       " 'Townhouse Cracker': 2,\n",
       " '2% Milk': 3,\n",
       " '(Blue Diamond) almonds lightly salted': 2,\n",
       " '(Sunkist) orange': 3,\n",
       " 'Greek Isle Salad': 6,\n",
       " 'Small Spinach Salad': 6,\n",
       " 'Celery Stick': 1,\n",
       " 'peanut butter': 6,\n",
       " 'Cream of Wheat Instant Hot Cereal': 5,\n",
       " 'Baked Potato Salad with Cheese': 6,\n",
       " 'Boiled Chicken with Cherry Tomatoes and Taco Shell Pieces': 5,\n",
       " 'Fried Egg': 0,\n",
       " 'Whole Wheat Toast': 6,\n",
       " 'Green and Red Seedless Grape': 1,\n",
       " 'smoothie (spinach, celery stick, banana)': 3,\n",
       " 'Atlantic Salmon': 0,\n",
       " 'Barbecue Sauce': 6,\n",
       " 'Salad (spinach, broccoli, blueberry, soy, ranch dressing)': 6,\n",
       " 'Salmon Salad': 5,\n",
       " '2% Milk ': 3,\n",
       " 'Egg White': 0,\n",
       " 'Peanut Buttter': 6,\n",
       " 'Salmon with Butter and Asparagus': 5,\n",
       " 'Diet Coke': 3,\n",
       " 'Hard Boiled Egg': 0,\n",
       " 'Boneless Skinless Chicken Thigh': 0,\n",
       " '(Hannah) Tatziki Sauce': 6,\n",
       " 'Tomatoes': 1,\n",
       " 'Beets': 1,\n",
       " 'Carrots': 1,\n",
       " 'Cucumber': 1,\n",
       " 'Lettuce Mix': 1,\n",
       " 'Red Bell Pepper': 1,\n",
       " 'Small Apple': 1,\n",
       " '2% Cottage Cheese': 6,\n",
       " 'Cooked Spinach': 1,\n",
       " 'Kombucha GTS Cosmic Cranberry': 3,\n",
       " '(Blue Diamond) Almond Nut Thins': 2,\n",
       " 'Gin-soaked Raisins': 2,\n",
       " '(Fage) Greek Yogurt, plain nonfat': 6,\n",
       " 'Mixed Berries': 1,\n",
       " '(Kashi) Go Rise Cereal': 5,\n",
       " 'Half and half': 3,\n",
       " 'Homemade potato cauliflower soup with potato, cauliflower, chicken broth, onions': 5,\n",
       " 'Oil': 6,\n",
       " 'Cheddar Cheese': 6,\n",
       " '(Dove) Promises Dark Chocolate': 7,\n",
       " 'Balsamic Vinegar': 6,\n",
       " 'Salad Greens': 1,\n",
       " 'Chardonnay Wine': 3,\n",
       " 'Clementine': 1,\n",
       " 'Faro': 6,\n",
       " 'Cooked Broccoli': 1,\n",
       " 'Lamb Gyro': 0,\n",
       " 'Homemade Potato Chips': 2,\n",
       " 'Eggo Waffle': 5,\n",
       " 'Celery': 1,\n",
       " 'Plain Bagel': 6,\n",
       " 'Cream Cheese': 6,\n",
       " 'Grilled Salmon': 0,\n",
       " 'Chicken Gyro': 5,\n",
       " 'Medium French Fries': 6,\n",
       " 'Diet Pepsi': 3,\n",
       " 'Sausage, Kale, Sweet Potato Soup': 5,\n",
       " 'Cheese Steak': 5,\n",
       " 'Tortilla': 6,\n",
       " 'Refried Beans': 6,\n",
       " 'Mountain Dew': 3,\n",
       " 'Diet Mountain Dew': 3,\n",
       " 'Oreo Cookie': 7,\n",
       " 'Hamburger': 5,\n",
       " 'Chips': 2,\n",
       " 'Candy Bar': 7,\n",
       " 'Breakfast Essential Drink': 3,\n",
       " 'Toast': 6,\n",
       " 'Brunswick Stew': 6,\n",
       " 'Slaw': 6,\n",
       " \"Reese's Peanut Butter Cup\": 7,\n",
       " 'Nutty Bar': 7,\n",
       " 'Potato Salad': 6,\n",
       " 'Baked Beans': 6,\n",
       " 'Sausage Biscuit': 6,\n",
       " 'Scrambled Eggs with Jelly': 6,\n",
       " 'Pecan Twirl': 5,\n",
       " 'Donut': 7,\n",
       " '(Stouffers) Green Pepper Steak': 5,\n",
       " 'Peanut Butter Cracker': 2,\n",
       " 'Chicken Casserole': 5,\n",
       " 'Apple Pie': 7,\n",
       " 'Honey Nut Cheerios': 2,\n",
       " 'Chicken Pot Pie': 5,\n",
       " 'Peach Cobbler': 7,\n",
       " 'Cranberry Sauce': 6,\n",
       " 'Peas': 1,\n",
       " 'Chocolate Pudding': 7,\n",
       " '(Pillsbury) Cinammon Rolls ': 7,\n",
       " 'Cheese and Crackers': 2,\n",
       " 'Coke': 3,\n",
       " 'Porkchop': 0,\n",
       " 'Chili': 6,\n",
       " 'Peanuts': 2,\n",
       " 'Banana Sandwich': 5,\n",
       " 'Black Raspberry Chocolate Ice Cream': 7,\n",
       " '(UTZ) Cheese Puffs': 2,\n",
       " 'Frosted Flake': 5,\n",
       " 'Stevia': 3,\n",
       " 'Ibuprofen ': 4,\n",
       " 'Aspirin': 4,\n",
       " 'Half and Half': 3,\n",
       " '(Jersey Mikes) Salad - Cheese, Steak, Ranch': 5,\n",
       " 'Moon Cheddar Cheese': 6,\n",
       " 'Sargento Cranberries Snack Pack Cheese, Cashews': 2,\n",
       " 'Olives': 1,\n",
       " '(Babybel) Cheese Bite': 2,\n",
       " 'Sausage ': 0,\n",
       " 'Gatorade Zero': 3,\n",
       " 'Peppermint Tea': 3,\n",
       " 'MCT Oil': 4,\n",
       " 'Chicken Thigh': 0,\n",
       " 'Jim Bean Bourbon': 3,\n",
       " 'Fried Cheddar Cheese Bite': 6,\n",
       " 'Mint Chocolate Cookies': 7,\n",
       " 'Dark Chocolate Chip': 7,\n",
       " 'Corn Cheese Puffs': 2,\n",
       " 'MCT': 4,\n",
       " 'Toast - Butter, Cheese, Mayo': 5,\n",
       " 'Pork BBQ': 5,\n",
       " 'Chocolate, Peanut, Almond Bar': 2,\n",
       " 'Peanut Butter Wafers': 2,\n",
       " 'Peanut M & M': 7,\n",
       " 'Grilled Cheese': 5,\n",
       " 'Kashi Go Crunch with Milk': 5,\n",
       " 'Butter': 6,\n",
       " '(Smoke House) Almonds': 2,\n",
       " 'Salad - (chicken, tomato, ranch)': 5,\n",
       " 'Vodka Gray Goose': 3,\n",
       " 'Kale': 1,\n",
       " 'Mozzarella': 6,\n",
       " 'Chicken Burger': 5,\n",
       " 'Whole Wheat Toast with Butter': 6,\n",
       " 'Angle Food Candy from Mother': 7,\n",
       " 'Black Berries': 1,\n",
       " 'Blue Berries': 1,\n",
       " 'Kashi': 5,\n",
       " \"(Wendy's) Southwest Salad\": 5,\n",
       " 'Fried Cheese Curds': 6,\n",
       " 'Biscuit Chicken Strips': 5,\n",
       " 'Angle Food Candy ': 7,\n",
       " 'Grilled Chicken Cheese Sandwich': 5,\n",
       " \"(Garrett's) Caramel Popcorn Cheddar\": 2,\n",
       " 'Sushi': 5,\n",
       " 'Soup': 6,\n",
       " 'Chicken Salad Sandwich': 5,\n",
       " 'Ginger Bread Cookie': 7,\n",
       " 'Cheddar and Caramel Popcorn': 2,\n",
       " 'peppermint bark candy': 7,\n",
       " '(Mich) Ultra Beer': 3,\n",
       " 'Ice Cream Sandwich': 7,\n",
       " 'Lasagna (mostly vegetables)': 5,\n",
       " 'Red Wine': 3,\n",
       " 'Cashew Nut': 2,\n",
       " 'Chocolate': 7,\n",
       " 'Herbal Tea': 3,\n",
       " 'Honey': 6,\n",
       " 'Pretzel Rod': 2,\n",
       " 'Decaf Latte': 3,\n",
       " 'Lactose Free Milk': 3,\n",
       " 'Potato Chip': 2,\n",
       " 'Chicken Noodle Soup': 6,\n",
       " '(CaraCara) fresh orange juice': 3,\n",
       " 'Small Sweet Potato': 6,\n",
       " 'Turkey Leg': 0,\n",
       " 'Stuffing': 6,\n",
       " 'English Peas': 1,\n",
       " 'Pound Cake': 7,\n",
       " 'Small Blueberry Pancake': 7,\n",
       " 'syrup': 6,\n",
       " 'turkey leg': 0,\n",
       " 'potato chip': 2,\n",
       " 'come pear': 1,\n",
       " 'cashew nut': 2,\n",
       " 'toffee': 7,\n",
       " 'vegetable lasagna': 5,\n",
       " 'green beans': 1,\n",
       " 'ice cream': 7,\n",
       " 'low fat cottage cheese': 2,\n",
       " 'banana': 1,\n",
       " 'greek yogurt': 6,\n",
       " 'ice cream sandwich': 7,\n",
       " 'rice': 6,\n",
       " 'bean': 6,\n",
       " 'duck burrito': 5,\n",
       " 'salsa': 6,\n",
       " 'corn chips': 2,\n",
       " 'skim decaf latte': 3,\n",
       " 'beer': 3,\n",
       " 'duck soup with dumpling': 5,\n",
       " 'egg': 0,\n",
       " 'Arkansas black apple': 1,\n",
       " 'ham and turkey sandwich': 5,\n",
       " 'cheese crackers': 2,\n",
       " 'decaf latte': 3,\n",
       " 'Mixed Nuts': 2,\n",
       " 'pasta salad with vegetables': 6,\n",
       " 'salad dressing': 6,\n",
       " 'cookie': 7,\n",
       " 'oatmeal': 5,\n",
       " 'maple syrup': 6,\n",
       " 'tea with milk': 3,\n",
       " 'turkey and brie sandwich': 5,\n",
       " 'soda': 3,\n",
       " 'lamb': 0,\n",
       " 'small sweet potato': 6,\n",
       " 'beet': 1,\n",
       " 'tea': 3,\n",
       " 'Pepsi (Real Sugar)': 3,\n",
       " 'Simply Naked Pita Chips': 2,\n",
       " 'Roasted Red Pepper Hummus': 6,\n",
       " 'Milk Chocolate Petit Beurre Biscuits': 7,\n",
       " 'On Gold Standard 100% Whey Protein': 4,\n",
       " 'Frozen Strawberries': 1,\n",
       " 'Pork Loin Tenderloin (Hornet)': 0,\n",
       " 'Quest Protein Bar Double Chocolate Chunk': 2,\n",
       " 'Chicken Parmesan with Tomato Sauce': 5,\n",
       " 'Mashed Potatoes with Brown Gravy': 6,\n",
       " 'Mixed Vegetables (corn, peas, carrots)': 1,\n",
       " 'Lifesavers Breath Mints': 1,\n",
       " 'Thomas Blueberry English Muffins': 6,\n",
       " 'Jimmy Dean Hot Premium Pork Sausage': 5,\n",
       " 'Large Egg': 0,\n",
       " 'Kerry Gold Butter': 6,\n",
       " 'Lanad o Lakes Cinnamon Sugar': 6,\n",
       " 'Asndes Cremede Menth Thin Mints': 7,\n",
       " 'Quest Protein Bar White Chocolate Raspberry Bar': 2,\n",
       " 'V8 Low Sodium': 3,\n",
       " 'Club Sandwich with turkey, bacon, and cheddar cheese': 5,\n",
       " 'Lifesaver Peppermint Breath Mint': 7,\n",
       " 'Lu Petit Ecolier Milk Chocolate Biscuit Cookie': 7,\n",
       " 'Chicken Breast Air Fried': 0,\n",
       " 'Green Smoothie (with avocado, cotton candy green grapes, pear, broccoli, kale, spinach, banana)': 3,\n",
       " 'Pepsi': 3,\n",
       " 'Lifesaver Gummies (wild berries)': 7,\n",
       " \"Uncle Al's Strawberry Cremes Cookies\": 7,\n",
       " 'Taco Bell Chicken Quesadilla': 5,\n",
       " 'Soft Taco': 5,\n",
       " 'Sathers Caramel Creams': 7,\n",
       " 'Large Eggs Scrambled (nothing added)': 0,\n",
       " 'Thomas English Muffin Blueberry': 6,\n",
       " 'Thomas English Muffin Cinnamon': 6,\n",
       " 'Special K with strawberries': 5,\n",
       " 'Goetzes Caramel Cremes': 7,\n",
       " 'Quest Protein Bar Caramel Chocolate Chunk': 2,\n",
       " 'Pizza Slice of NY Pepperoni': 5,\n",
       " 'Mozarrella Sticks': 6,\n",
       " 'Coca Cola': 3,\n",
       " \"Oreo's Peppermint Bark\": 7,\n",
       " 'Strawberry Scone': 7,\n",
       " 'Kraft Mac and Cheese': 5,\n",
       " 'Quest Protein Bar Birthday Cake': 2,\n",
       " 'Sun Chips Garden Salsa': 2,\n",
       " 'Hard Boiled Eggs': 0,\n",
       " 'Cottage Cheese': 6,\n",
       " 'Apple Pie ': 7,\n",
       " 'Ghiradelli Peppermint Bark Square': 7,\n",
       " 'Land o Lakes Cinnamon Butter': 6,\n",
       " \"M&M's\": 7,\n",
       " 'Milkyway \"Fun Size\" Candy Bar': 7,\n",
       " 'Whoopers Malted Milk Balls': 7,\n",
       " 'Sloppy Joe with 1 Bun': 5,\n",
       " \"Lay's Wavy Potato Chips\": 2,\n",
       " 'Lut Petit Ecolier Milk Chocolate Biscuit Cookie': 7,\n",
       " 'Coffee + skim milk': 3,\n",
       " 'Glucerna snack bar': 2,\n",
       " 'Small pc red velvet cake': 7,\n",
       " 'Ruffles chips': 2,\n",
       " 'Panko breaded baked fish ': 5,\n",
       " 'Onion': 1,\n",
       " 'Standard breakfast': 5,\n",
       " 'Northern Harvest Sweet + Spicy Chunk light Tuna': 0,\n",
       " 'multigrain cakes': 6,\n",
       " 'BLT salad': 5,\n",
       " 'Whole grapefruit': 1,\n",
       " 'Slim Fast': 4,\n",
       " 'Friendly Farm Cottage Cheese 1% milkfat': 6,\n",
       " 'Harris Teeter canned sliced peaches': 6,\n",
       " 'Peach juice': 3,\n",
       " 'Sarah Lee Honey Wheat Bread with Butter': 6,\n",
       " '2 fried eggs': 0,\n",
       " '2 slices bacon': 0,\n",
       " 'chicken cesear salad wrap': 5,\n",
       " 'Salt and vinegar chips': 2,\n",
       " 'Honest Organic Honey Green Tea': 3,\n",
       " 'Taco Bell Nachos Grande': 5,\n",
       " 'Taco Bell Cinnamon Twists': 7,\n",
       " 'Crystal Light Lemonade': 3,\n",
       " 'Slim fast shake': 4,\n",
       " '2/3 bag Orville Redenbacher butter popcorn': 2,\n",
       " 'Chef Salad': 5,\n",
       " 'V8 juice ': 3,\n",
       " \"Slice of Boar's head Swiss cheese\": 6,\n",
       " '2 muffins': 6,\n",
       " '2 pieces honey wheat toast with butter': 5,\n",
       " \"Sugg's coconut greek yogurt\": 6,\n",
       " \"Freddy's Steakbuurger\": 5,\n",
       " 'Small chocolate shake (1/2)': 7,\n",
       " 'Ham and cheese sandwhich': 5,\n",
       " '1/2 cup cottge cheese': 6,\n",
       " 'peach slices': 1,\n",
       " 'Chai tea': 3,\n",
       " 'Old El Priso burrito 2 taco shells': 6,\n",
       " 'Gnd beef': 0,\n",
       " 'cheese': 6,\n",
       " 'rice + beans': 6,\n",
       " 'Diet Soda': 3,\n",
       " 'Outback Cobb salad with salmon': 5,\n",
       " 'Blue cheese dressing': 6,\n",
       " 'Outback cheesecake with chocolate sauce': 7,\n",
       " '1 whole grapefruit': 1,\n",
       " '2 leftover burritos': 5,\n",
       " 'Outback bread loaf (1/2) + butter': 6,\n",
       " 'Salmon cakes': 5,\n",
       " 'Large coffee with heavy cream': 3,\n",
       " 'Brownies': 7,\n",
       " 'Two slices of bread': 6,\n",
       " 'Chipotle burrito bowl chicken and steak, black beans, cheese, lettuce, salsa, sour cream': 5,\n",
       " '2 Yuengling beers': 3,\n",
       " '2 cups coffee w/ heavy cream': 3,\n",
       " \"Elmo's diner breakfast burrito 2 eggs/sausage/black beans/sour cream\": 5,\n",
       " 'Side of home fried potatoes': 6,\n",
       " '1 cup coffee': 3,\n",
       " 'brown rice': 6,\n",
       " 'sardines ': 0,\n",
       " 'kimchi': 1,\n",
       " 'french bread': 6,\n",
       " 'Swiss cheese': 6,\n",
       " 'Salami': 0,\n",
       " 'Chicken soup': 5,\n",
       " 'Crostinis (slice of French bread, swiss, tomato)': 6,\n",
       " 'Chicken enchiladas with black beans, spanish rice, salsa': 5,\n",
       " 'Beer': 3,\n",
       " '1 bagel with cream cheese': 5,\n",
       " '1 coffee with cream': 3,\n",
       " '1 ensure plus': 4,\n",
       " '12\" Italian BMT Subway whole wheat mayo': 5,\n",
       " 'Bojangles chicken thigh': 5,\n",
       " 'Sweat tea ice': 3,\n",
       " 'Plain cheese pizza': 5,\n",
       " 'Anchovies': 0,\n",
       " 'Blue Cheese dressing': 6,\n",
       " 'Lemonade': 3,\n",
       " 'cooked black eyed peas': 6}"
      ]
     },
     "execution_count": 61,
     "metadata": {},
     "output_type": "execute_result"
    }
   ],
   "source": [
    "import json\n",
    "with open('food_classes.json', 'r') as file:\n",
    "    food_classes = json.load(file)\n",
    "\n",
    "food_classes = {k:int(v) for k, v in food_classes.items()}\n",
    "food_classes"
   ]
  },
  {
   "cell_type": "code",
   "execution_count": 62,
   "metadata": {},
   "outputs": [],
   "source": [
    "food_class_dict = {0:'meals', 1: 'fruits/veggies', 2:'snacks', 3:'beverages', 4:'supplements', 5:'meals', 6:'meals', 7:'meals'}"
   ]
  },
  {
   "cell_type": "code",
   "execution_count": 63,
   "metadata": {},
   "outputs": [],
   "source": [
    "def add_classes(df):\n",
    "    df['class'] = food_class_dict[food_classes[df['logged_food']]]\n",
    "    return df\n",
    "entire_dataset = entire_dataset.apply(add_classes, axis=1)"
   ]
  },
  {
   "cell_type": "code",
   "execution_count": 64,
   "metadata": {},
   "outputs": [
    {
     "data": {
      "text/html": [
       "<div>\n",
       "<style scoped>\n",
       "    .dataframe tbody tr th:only-of-type {\n",
       "        vertical-align: middle;\n",
       "    }\n",
       "\n",
       "    .dataframe tbody tr th {\n",
       "        vertical-align: top;\n",
       "    }\n",
       "\n",
       "    .dataframe thead th {\n",
       "        text-align: right;\n",
       "    }\n",
       "</style>\n",
       "<table border=\"1\" class=\"dataframe\">\n",
       "  <thead>\n",
       "    <tr style=\"text-align: right;\">\n",
       "      <th></th>\n",
       "      <th>date</th>\n",
       "      <th>time</th>\n",
       "      <th>time_begin</th>\n",
       "      <th>time_end</th>\n",
       "      <th>logged_food</th>\n",
       "      <th>amount</th>\n",
       "      <th>unit</th>\n",
       "      <th>searched_food</th>\n",
       "      <th>calorie</th>\n",
       "      <th>total_carb</th>\n",
       "      <th>...</th>\n",
       "      <th>protein</th>\n",
       "      <th>total_fat</th>\n",
       "      <th>subject</th>\n",
       "      <th>time_of_day</th>\n",
       "      <th>ID</th>\n",
       "      <th>Gender</th>\n",
       "      <th>HbA1c</th>\n",
       "      <th>datetime</th>\n",
       "      <th>hour</th>\n",
       "      <th>class</th>\n",
       "    </tr>\n",
       "  </thead>\n",
       "  <tbody>\n",
       "    <tr>\n",
       "      <th>0</th>\n",
       "      <td>2020-02-13</td>\n",
       "      <td>2025-02-11 18:00:00</td>\n",
       "      <td>2020-02-13 18:00:00</td>\n",
       "      <td>NaN</td>\n",
       "      <td>Berry Smoothie</td>\n",
       "      <td>20.0</td>\n",
       "      <td>fluid ounce</td>\n",
       "      <td>Strawberry Smoothie</td>\n",
       "      <td>456.0</td>\n",
       "      <td>85.0</td>\n",
       "      <td>...</td>\n",
       "      <td>16.0</td>\n",
       "      <td>3.3</td>\n",
       "      <td>1.0</td>\n",
       "      <td>NaN</td>\n",
       "      <td>1</td>\n",
       "      <td>FEMALE</td>\n",
       "      <td>5.5</td>\n",
       "      <td>2020-02-13 18:00:00</td>\n",
       "      <td>18</td>\n",
       "      <td>beverages</td>\n",
       "    </tr>\n",
       "    <tr>\n",
       "      <th>1</th>\n",
       "      <td>2020-02-13</td>\n",
       "      <td>2025-02-11 20:30:00</td>\n",
       "      <td>2020-02-13 20:30:00</td>\n",
       "      <td>NaN</td>\n",
       "      <td>Chicken Leg</td>\n",
       "      <td>1.0</td>\n",
       "      <td>NaN</td>\n",
       "      <td>chicken leg</td>\n",
       "      <td>475.0</td>\n",
       "      <td>0.0</td>\n",
       "      <td>...</td>\n",
       "      <td>62.0</td>\n",
       "      <td>23.0</td>\n",
       "      <td>1.0</td>\n",
       "      <td>NaN</td>\n",
       "      <td>1</td>\n",
       "      <td>FEMALE</td>\n",
       "      <td>5.5</td>\n",
       "      <td>2020-02-13 20:30:00</td>\n",
       "      <td>20</td>\n",
       "      <td>meals</td>\n",
       "    </tr>\n",
       "    <tr>\n",
       "      <th>2</th>\n",
       "      <td>2020-02-13</td>\n",
       "      <td>2025-02-11 20:30:00</td>\n",
       "      <td>2020-02-13 20:30:00</td>\n",
       "      <td>NaN</td>\n",
       "      <td>Asparagus</td>\n",
       "      <td>4.0</td>\n",
       "      <td>NaN</td>\n",
       "      <td>Asparagus</td>\n",
       "      <td>13.0</td>\n",
       "      <td>2.5</td>\n",
       "      <td>...</td>\n",
       "      <td>1.4</td>\n",
       "      <td>0.1</td>\n",
       "      <td>1.0</td>\n",
       "      <td>NaN</td>\n",
       "      <td>1</td>\n",
       "      <td>FEMALE</td>\n",
       "      <td>5.5</td>\n",
       "      <td>2020-02-13 20:30:00</td>\n",
       "      <td>20</td>\n",
       "      <td>fruits/veggies</td>\n",
       "    </tr>\n",
       "    <tr>\n",
       "      <th>3</th>\n",
       "      <td>2020-02-14</td>\n",
       "      <td>2025-02-11 07:10:00</td>\n",
       "      <td>2020-02-14 07:10:00</td>\n",
       "      <td>NaN</td>\n",
       "      <td>Natrel Lactose Free 2 Percent</td>\n",
       "      <td>8.0</td>\n",
       "      <td>fluid ounce</td>\n",
       "      <td>(Natrel) Lactose Free 2% Partly Skimmed Milk</td>\n",
       "      <td>120.0</td>\n",
       "      <td>9.0</td>\n",
       "      <td>...</td>\n",
       "      <td>12.0</td>\n",
       "      <td>NaN</td>\n",
       "      <td>1.0</td>\n",
       "      <td>NaN</td>\n",
       "      <td>1</td>\n",
       "      <td>FEMALE</td>\n",
       "      <td>5.5</td>\n",
       "      <td>2020-02-14 07:10:00</td>\n",
       "      <td>7</td>\n",
       "      <td>beverages</td>\n",
       "    </tr>\n",
       "    <tr>\n",
       "      <th>4</th>\n",
       "      <td>2020-02-14</td>\n",
       "      <td>2025-02-11 07:10:00</td>\n",
       "      <td>2020-02-14 07:10:00</td>\n",
       "      <td>NaN</td>\n",
       "      <td>Standard Breakfast</td>\n",
       "      <td>0.75</td>\n",
       "      <td>cup</td>\n",
       "      <td>(Kellogg's) Frosted Flakes, Cereal</td>\n",
       "      <td>110.0</td>\n",
       "      <td>26.0</td>\n",
       "      <td>...</td>\n",
       "      <td>1.0</td>\n",
       "      <td>NaN</td>\n",
       "      <td>1.0</td>\n",
       "      <td>NaN</td>\n",
       "      <td>1</td>\n",
       "      <td>FEMALE</td>\n",
       "      <td>5.5</td>\n",
       "      <td>2020-02-14 07:10:00</td>\n",
       "      <td>7</td>\n",
       "      <td>meals</td>\n",
       "    </tr>\n",
       "    <tr>\n",
       "      <th>...</th>\n",
       "      <td>...</td>\n",
       "      <td>...</td>\n",
       "      <td>...</td>\n",
       "      <td>...</td>\n",
       "      <td>...</td>\n",
       "      <td>...</td>\n",
       "      <td>...</td>\n",
       "      <td>...</td>\n",
       "      <td>...</td>\n",
       "      <td>...</td>\n",
       "      <td>...</td>\n",
       "      <td>...</td>\n",
       "      <td>...</td>\n",
       "      <td>...</td>\n",
       "      <td>...</td>\n",
       "      <td>...</td>\n",
       "      <td>...</td>\n",
       "      <td>...</td>\n",
       "      <td>...</td>\n",
       "      <td>...</td>\n",
       "      <td>...</td>\n",
       "    </tr>\n",
       "    <tr>\n",
       "      <th>1417</th>\n",
       "      <td>2020-02-26</td>\n",
       "      <td>2025-02-11 18:30:00</td>\n",
       "      <td>2020-02-26 18:30:00</td>\n",
       "      <td>NaN</td>\n",
       "      <td>Lemonade</td>\n",
       "      <td>32</td>\n",
       "      <td>oz</td>\n",
       "      <td>NaN</td>\n",
       "      <td>99.0</td>\n",
       "      <td>26.0</td>\n",
       "      <td>...</td>\n",
       "      <td>0.2</td>\n",
       "      <td>0.1</td>\n",
       "      <td>16.0</td>\n",
       "      <td>18:30</td>\n",
       "      <td>16</td>\n",
       "      <td>MALE</td>\n",
       "      <td>5.5</td>\n",
       "      <td>2020-02-26 18:30:00</td>\n",
       "      <td>18</td>\n",
       "      <td>beverages</td>\n",
       "    </tr>\n",
       "    <tr>\n",
       "      <th>1418</th>\n",
       "      <td>2020-02-27</td>\n",
       "      <td>2025-02-11 10:30:00</td>\n",
       "      <td>2020-02-27 10:30:00</td>\n",
       "      <td>NaN</td>\n",
       "      <td>Standard breakfast</td>\n",
       "      <td>NaN</td>\n",
       "      <td>NaN</td>\n",
       "      <td>NaN</td>\n",
       "      <td>280.0</td>\n",
       "      <td>56.5</td>\n",
       "      <td>...</td>\n",
       "      <td>8.0</td>\n",
       "      <td>2.5</td>\n",
       "      <td>16.0</td>\n",
       "      <td>10:30</td>\n",
       "      <td>16</td>\n",
       "      <td>MALE</td>\n",
       "      <td>5.5</td>\n",
       "      <td>2020-02-27 10:30:00</td>\n",
       "      <td>10</td>\n",
       "      <td>meals</td>\n",
       "    </tr>\n",
       "    <tr>\n",
       "      <th>1419</th>\n",
       "      <td>2020-02-27</td>\n",
       "      <td>2025-02-11 11:30:00</td>\n",
       "      <td>2020-02-27 11:30:00</td>\n",
       "      <td>NaN</td>\n",
       "      <td>Plain cheese pizza</td>\n",
       "      <td>1</td>\n",
       "      <td>slices</td>\n",
       "      <td>NaN</td>\n",
       "      <td>452.0</td>\n",
       "      <td>57.0</td>\n",
       "      <td>...</td>\n",
       "      <td>19.0</td>\n",
       "      <td>16.0</td>\n",
       "      <td>16.0</td>\n",
       "      <td>11:30</td>\n",
       "      <td>16</td>\n",
       "      <td>MALE</td>\n",
       "      <td>5.5</td>\n",
       "      <td>2020-02-27 11:30:00</td>\n",
       "      <td>11</td>\n",
       "      <td>meals</td>\n",
       "    </tr>\n",
       "    <tr>\n",
       "      <th>1420</th>\n",
       "      <td>2020-02-27</td>\n",
       "      <td>2025-02-11 11:30:00</td>\n",
       "      <td>2020-02-27 11:30:00</td>\n",
       "      <td>NaN</td>\n",
       "      <td>cooked black eyed peas</td>\n",
       "      <td>1</td>\n",
       "      <td>cup</td>\n",
       "      <td>NaN</td>\n",
       "      <td>198.0</td>\n",
       "      <td>35.0</td>\n",
       "      <td>...</td>\n",
       "      <td>13.0</td>\n",
       "      <td>0.9</td>\n",
       "      <td>16.0</td>\n",
       "      <td>11:30</td>\n",
       "      <td>16</td>\n",
       "      <td>MALE</td>\n",
       "      <td>5.5</td>\n",
       "      <td>2020-02-27 11:30:00</td>\n",
       "      <td>11</td>\n",
       "      <td>meals</td>\n",
       "    </tr>\n",
       "    <tr>\n",
       "      <th>1421</th>\n",
       "      <td>2020-02-28</td>\n",
       "      <td>2025-02-11 08:00:00</td>\n",
       "      <td>2020-02-28 08:00:00</td>\n",
       "      <td>NaN</td>\n",
       "      <td>Boost</td>\n",
       "      <td>NaN</td>\n",
       "      <td>NaN</td>\n",
       "      <td>NaN</td>\n",
       "      <td>654.0</td>\n",
       "      <td>82.0</td>\n",
       "      <td>...</td>\n",
       "      <td>26.0</td>\n",
       "      <td>26.0</td>\n",
       "      <td>16.0</td>\n",
       "      <td>8:00</td>\n",
       "      <td>16</td>\n",
       "      <td>MALE</td>\n",
       "      <td>5.5</td>\n",
       "      <td>2020-02-28 08:00:00</td>\n",
       "      <td>8</td>\n",
       "      <td>supplements</td>\n",
       "    </tr>\n",
       "  </tbody>\n",
       "</table>\n",
       "<p>1422 rows × 22 columns</p>\n",
       "</div>"
      ],
      "text/plain": [
       "           date                time           time_begin time_end  \\\n",
       "0    2020-02-13 2025-02-11 18:00:00  2020-02-13 18:00:00      NaN   \n",
       "1    2020-02-13 2025-02-11 20:30:00  2020-02-13 20:30:00      NaN   \n",
       "2    2020-02-13 2025-02-11 20:30:00  2020-02-13 20:30:00      NaN   \n",
       "3    2020-02-14 2025-02-11 07:10:00  2020-02-14 07:10:00      NaN   \n",
       "4    2020-02-14 2025-02-11 07:10:00  2020-02-14 07:10:00      NaN   \n",
       "...         ...                 ...                  ...      ...   \n",
       "1417 2020-02-26 2025-02-11 18:30:00  2020-02-26 18:30:00      NaN   \n",
       "1418 2020-02-27 2025-02-11 10:30:00  2020-02-27 10:30:00      NaN   \n",
       "1419 2020-02-27 2025-02-11 11:30:00  2020-02-27 11:30:00      NaN   \n",
       "1420 2020-02-27 2025-02-11 11:30:00  2020-02-27 11:30:00      NaN   \n",
       "1421 2020-02-28 2025-02-11 08:00:00  2020-02-28 08:00:00      NaN   \n",
       "\n",
       "                        logged_food amount         unit  \\\n",
       "0                    Berry Smoothie   20.0  fluid ounce   \n",
       "1                       Chicken Leg    1.0          NaN   \n",
       "2                         Asparagus    4.0          NaN   \n",
       "3     Natrel Lactose Free 2 Percent    8.0  fluid ounce   \n",
       "4                Standard Breakfast   0.75          cup   \n",
       "...                             ...    ...          ...   \n",
       "1417                       Lemonade     32           oz   \n",
       "1418             Standard breakfast    NaN          NaN   \n",
       "1419             Plain cheese pizza      1       slices   \n",
       "1420         cooked black eyed peas      1          cup   \n",
       "1421                          Boost    NaN          NaN   \n",
       "\n",
       "                                     searched_food  calorie  total_carb  ...  \\\n",
       "0                              Strawberry Smoothie    456.0        85.0  ...   \n",
       "1                                      chicken leg    475.0         0.0  ...   \n",
       "2                                        Asparagus     13.0         2.5  ...   \n",
       "3     (Natrel) Lactose Free 2% Partly Skimmed Milk    120.0         9.0  ...   \n",
       "4               (Kellogg's) Frosted Flakes, Cereal    110.0        26.0  ...   \n",
       "...                                            ...      ...         ...  ...   \n",
       "1417                                           NaN     99.0        26.0  ...   \n",
       "1418                                           NaN    280.0        56.5  ...   \n",
       "1419                                           NaN    452.0        57.0  ...   \n",
       "1420                                           NaN    198.0        35.0  ...   \n",
       "1421                                           NaN    654.0        82.0  ...   \n",
       "\n",
       "      protein  total_fat  subject  time_of_day  ID  Gender  HbA1c  \\\n",
       "0        16.0        3.3      1.0          NaN   1  FEMALE    5.5   \n",
       "1        62.0       23.0      1.0          NaN   1  FEMALE    5.5   \n",
       "2         1.4        0.1      1.0          NaN   1  FEMALE    5.5   \n",
       "3        12.0        NaN      1.0          NaN   1  FEMALE    5.5   \n",
       "4         1.0        NaN      1.0          NaN   1  FEMALE    5.5   \n",
       "...       ...        ...      ...          ...  ..     ...    ...   \n",
       "1417      0.2        0.1     16.0        18:30  16    MALE    5.5   \n",
       "1418      8.0        2.5     16.0        10:30  16    MALE    5.5   \n",
       "1419     19.0       16.0     16.0        11:30  16    MALE    5.5   \n",
       "1420     13.0        0.9     16.0        11:30  16    MALE    5.5   \n",
       "1421     26.0       26.0     16.0         8:00  16    MALE    5.5   \n",
       "\n",
       "                datetime  hour           class  \n",
       "0    2020-02-13 18:00:00    18       beverages  \n",
       "1    2020-02-13 20:30:00    20           meals  \n",
       "2    2020-02-13 20:30:00    20  fruits/veggies  \n",
       "3    2020-02-14 07:10:00     7       beverages  \n",
       "4    2020-02-14 07:10:00     7           meals  \n",
       "...                  ...   ...             ...  \n",
       "1417 2020-02-26 18:30:00    18       beverages  \n",
       "1418 2020-02-27 10:30:00    10           meals  \n",
       "1419 2020-02-27 11:30:00    11           meals  \n",
       "1420 2020-02-27 11:30:00    11           meals  \n",
       "1421 2020-02-28 08:00:00     8     supplements  \n",
       "\n",
       "[1422 rows x 22 columns]"
      ]
     },
     "execution_count": 64,
     "metadata": {},
     "output_type": "execute_result"
    }
   ],
   "source": [
    "entire_dataset"
   ]
  },
  {
   "cell_type": "code",
   "execution_count": 65,
   "metadata": {},
   "outputs": [],
   "source": [
    "graphed = entire_dataset.groupby(['hour','class']).count().reset_index()"
   ]
  },
  {
   "cell_type": "code",
   "execution_count": 66,
   "metadata": {},
   "outputs": [
    {
     "data": {
      "application/vnd.plotly.v1+json": {
       "config": {
        "plotlyServerURL": "https://plot.ly"
       },
       "data": [
        {
         "alignmentgroup": "True",
         "hovertemplate": "class=beverages<br>hour=%{x}<br>calorie=%{y}<extra></extra>",
         "legendgroup": "beverages",
         "marker": {
          "color": "#636efa",
          "pattern": {
           "shape": ""
          }
         },
         "name": "beverages",
         "offsetgroup": "beverages",
         "orientation": "v",
         "showlegend": true,
         "textposition": "auto",
         "type": "bar",
         "x": [
          0,
          1,
          3,
          4,
          5,
          6,
          7,
          8,
          9,
          10,
          11,
          12,
          13,
          14,
          15,
          16,
          17,
          18,
          19,
          20,
          21,
          22,
          23
         ],
         "xaxis": "x",
         "y": [
          1,
          2,
          1,
          13,
          22,
          15,
          16,
          49,
          30,
          25,
          15,
          24,
          24,
          16,
          12,
          10,
          8,
          23,
          27,
          17,
          7,
          2,
          4
         ],
         "yaxis": "y"
        },
        {
         "alignmentgroup": "True",
         "hovertemplate": "class=snacks<br>hour=%{x}<br>calorie=%{y}<extra></extra>",
         "legendgroup": "snacks",
         "marker": {
          "color": "#EF553B",
          "pattern": {
           "shape": ""
          }
         },
         "name": "snacks",
         "offsetgroup": "snacks",
         "orientation": "v",
         "showlegend": true,
         "textposition": "auto",
         "type": "bar",
         "x": [
          0,
          1,
          2,
          3,
          5,
          6,
          7,
          8,
          9,
          10,
          11,
          12,
          13,
          14,
          15,
          16,
          17,
          18,
          19,
          20,
          21,
          22,
          23
         ],
         "xaxis": "x",
         "y": [
          1,
          1,
          1,
          1,
          1,
          2,
          1,
          6,
          8,
          3,
          10,
          2,
          9,
          8,
          10,
          6,
          7,
          9,
          15,
          11,
          9,
          7,
          5
         ],
         "yaxis": "y"
        },
        {
         "alignmentgroup": "True",
         "hovertemplate": "class=supplements<br>hour=%{x}<br>calorie=%{y}<extra></extra>",
         "legendgroup": "supplements",
         "marker": {
          "color": "#00cc96",
          "pattern": {
           "shape": ""
          }
         },
         "name": "supplements",
         "offsetgroup": "supplements",
         "orientation": "v",
         "showlegend": true,
         "textposition": "auto",
         "type": "bar",
         "x": [
          1,
          3,
          5,
          7,
          8,
          9,
          10,
          11,
          12,
          13,
          14,
          15,
          16,
          18,
          19,
          20,
          23
         ],
         "xaxis": "x",
         "y": [
          1,
          1,
          2,
          5,
          8,
          5,
          2,
          4,
          2,
          3,
          1,
          1,
          1,
          2,
          3,
          1,
          3
         ],
         "yaxis": "y"
        },
        {
         "alignmentgroup": "True",
         "hovertemplate": "class=fruits/veggies<br>hour=%{x}<br>calorie=%{y}<extra></extra>",
         "legendgroup": "fruits/veggies",
         "marker": {
          "color": "#ab63fa",
          "pattern": {
           "shape": ""
          }
         },
         "name": "fruits/veggies",
         "offsetgroup": "fruits/veggies",
         "orientation": "v",
         "showlegend": true,
         "textposition": "auto",
         "type": "bar",
         "x": [
          6,
          8,
          9,
          10,
          11,
          12,
          13,
          14,
          15,
          16,
          17,
          18,
          19,
          20,
          21,
          22
         ],
         "xaxis": "x",
         "y": [
          2,
          11,
          7,
          8,
          8,
          18,
          23,
          8,
          10,
          3,
          16,
          19,
          19,
          12,
          1,
          1
         ],
         "yaxis": "y"
        }
       ],
       "layout": {
        "barmode": "relative",
        "legend": {
         "title": {
          "text": "class"
         },
         "tracegroupgap": 0
        },
        "margin": {
         "t": 60
        },
        "template": {
         "data": {
          "bar": [
           {
            "error_x": {
             "color": "#2a3f5f"
            },
            "error_y": {
             "color": "#2a3f5f"
            },
            "marker": {
             "line": {
              "color": "#E5ECF6",
              "width": 0.5
             },
             "pattern": {
              "fillmode": "overlay",
              "size": 10,
              "solidity": 0.2
             }
            },
            "type": "bar"
           }
          ],
          "barpolar": [
           {
            "marker": {
             "line": {
              "color": "#E5ECF6",
              "width": 0.5
             },
             "pattern": {
              "fillmode": "overlay",
              "size": 10,
              "solidity": 0.2
             }
            },
            "type": "barpolar"
           }
          ],
          "carpet": [
           {
            "aaxis": {
             "endlinecolor": "#2a3f5f",
             "gridcolor": "white",
             "linecolor": "white",
             "minorgridcolor": "white",
             "startlinecolor": "#2a3f5f"
            },
            "baxis": {
             "endlinecolor": "#2a3f5f",
             "gridcolor": "white",
             "linecolor": "white",
             "minorgridcolor": "white",
             "startlinecolor": "#2a3f5f"
            },
            "type": "carpet"
           }
          ],
          "choropleth": [
           {
            "colorbar": {
             "outlinewidth": 0,
             "ticks": ""
            },
            "type": "choropleth"
           }
          ],
          "contour": [
           {
            "colorbar": {
             "outlinewidth": 0,
             "ticks": ""
            },
            "colorscale": [
             [
              0,
              "#0d0887"
             ],
             [
              0.1111111111111111,
              "#46039f"
             ],
             [
              0.2222222222222222,
              "#7201a8"
             ],
             [
              0.3333333333333333,
              "#9c179e"
             ],
             [
              0.4444444444444444,
              "#bd3786"
             ],
             [
              0.5555555555555556,
              "#d8576b"
             ],
             [
              0.6666666666666666,
              "#ed7953"
             ],
             [
              0.7777777777777778,
              "#fb9f3a"
             ],
             [
              0.8888888888888888,
              "#fdca26"
             ],
             [
              1,
              "#f0f921"
             ]
            ],
            "type": "contour"
           }
          ],
          "contourcarpet": [
           {
            "colorbar": {
             "outlinewidth": 0,
             "ticks": ""
            },
            "type": "contourcarpet"
           }
          ],
          "heatmap": [
           {
            "colorbar": {
             "outlinewidth": 0,
             "ticks": ""
            },
            "colorscale": [
             [
              0,
              "#0d0887"
             ],
             [
              0.1111111111111111,
              "#46039f"
             ],
             [
              0.2222222222222222,
              "#7201a8"
             ],
             [
              0.3333333333333333,
              "#9c179e"
             ],
             [
              0.4444444444444444,
              "#bd3786"
             ],
             [
              0.5555555555555556,
              "#d8576b"
             ],
             [
              0.6666666666666666,
              "#ed7953"
             ],
             [
              0.7777777777777778,
              "#fb9f3a"
             ],
             [
              0.8888888888888888,
              "#fdca26"
             ],
             [
              1,
              "#f0f921"
             ]
            ],
            "type": "heatmap"
           }
          ],
          "heatmapgl": [
           {
            "colorbar": {
             "outlinewidth": 0,
             "ticks": ""
            },
            "colorscale": [
             [
              0,
              "#0d0887"
             ],
             [
              0.1111111111111111,
              "#46039f"
             ],
             [
              0.2222222222222222,
              "#7201a8"
             ],
             [
              0.3333333333333333,
              "#9c179e"
             ],
             [
              0.4444444444444444,
              "#bd3786"
             ],
             [
              0.5555555555555556,
              "#d8576b"
             ],
             [
              0.6666666666666666,
              "#ed7953"
             ],
             [
              0.7777777777777778,
              "#fb9f3a"
             ],
             [
              0.8888888888888888,
              "#fdca26"
             ],
             [
              1,
              "#f0f921"
             ]
            ],
            "type": "heatmapgl"
           }
          ],
          "histogram": [
           {
            "marker": {
             "pattern": {
              "fillmode": "overlay",
              "size": 10,
              "solidity": 0.2
             }
            },
            "type": "histogram"
           }
          ],
          "histogram2d": [
           {
            "colorbar": {
             "outlinewidth": 0,
             "ticks": ""
            },
            "colorscale": [
             [
              0,
              "#0d0887"
             ],
             [
              0.1111111111111111,
              "#46039f"
             ],
             [
              0.2222222222222222,
              "#7201a8"
             ],
             [
              0.3333333333333333,
              "#9c179e"
             ],
             [
              0.4444444444444444,
              "#bd3786"
             ],
             [
              0.5555555555555556,
              "#d8576b"
             ],
             [
              0.6666666666666666,
              "#ed7953"
             ],
             [
              0.7777777777777778,
              "#fb9f3a"
             ],
             [
              0.8888888888888888,
              "#fdca26"
             ],
             [
              1,
              "#f0f921"
             ]
            ],
            "type": "histogram2d"
           }
          ],
          "histogram2dcontour": [
           {
            "colorbar": {
             "outlinewidth": 0,
             "ticks": ""
            },
            "colorscale": [
             [
              0,
              "#0d0887"
             ],
             [
              0.1111111111111111,
              "#46039f"
             ],
             [
              0.2222222222222222,
              "#7201a8"
             ],
             [
              0.3333333333333333,
              "#9c179e"
             ],
             [
              0.4444444444444444,
              "#bd3786"
             ],
             [
              0.5555555555555556,
              "#d8576b"
             ],
             [
              0.6666666666666666,
              "#ed7953"
             ],
             [
              0.7777777777777778,
              "#fb9f3a"
             ],
             [
              0.8888888888888888,
              "#fdca26"
             ],
             [
              1,
              "#f0f921"
             ]
            ],
            "type": "histogram2dcontour"
           }
          ],
          "mesh3d": [
           {
            "colorbar": {
             "outlinewidth": 0,
             "ticks": ""
            },
            "type": "mesh3d"
           }
          ],
          "parcoords": [
           {
            "line": {
             "colorbar": {
              "outlinewidth": 0,
              "ticks": ""
             }
            },
            "type": "parcoords"
           }
          ],
          "pie": [
           {
            "automargin": true,
            "type": "pie"
           }
          ],
          "scatter": [
           {
            "fillpattern": {
             "fillmode": "overlay",
             "size": 10,
             "solidity": 0.2
            },
            "type": "scatter"
           }
          ],
          "scatter3d": [
           {
            "line": {
             "colorbar": {
              "outlinewidth": 0,
              "ticks": ""
             }
            },
            "marker": {
             "colorbar": {
              "outlinewidth": 0,
              "ticks": ""
             }
            },
            "type": "scatter3d"
           }
          ],
          "scattercarpet": [
           {
            "marker": {
             "colorbar": {
              "outlinewidth": 0,
              "ticks": ""
             }
            },
            "type": "scattercarpet"
           }
          ],
          "scattergeo": [
           {
            "marker": {
             "colorbar": {
              "outlinewidth": 0,
              "ticks": ""
             }
            },
            "type": "scattergeo"
           }
          ],
          "scattergl": [
           {
            "marker": {
             "colorbar": {
              "outlinewidth": 0,
              "ticks": ""
             }
            },
            "type": "scattergl"
           }
          ],
          "scattermapbox": [
           {
            "marker": {
             "colorbar": {
              "outlinewidth": 0,
              "ticks": ""
             }
            },
            "type": "scattermapbox"
           }
          ],
          "scatterpolar": [
           {
            "marker": {
             "colorbar": {
              "outlinewidth": 0,
              "ticks": ""
             }
            },
            "type": "scatterpolar"
           }
          ],
          "scatterpolargl": [
           {
            "marker": {
             "colorbar": {
              "outlinewidth": 0,
              "ticks": ""
             }
            },
            "type": "scatterpolargl"
           }
          ],
          "scatterternary": [
           {
            "marker": {
             "colorbar": {
              "outlinewidth": 0,
              "ticks": ""
             }
            },
            "type": "scatterternary"
           }
          ],
          "surface": [
           {
            "colorbar": {
             "outlinewidth": 0,
             "ticks": ""
            },
            "colorscale": [
             [
              0,
              "#0d0887"
             ],
             [
              0.1111111111111111,
              "#46039f"
             ],
             [
              0.2222222222222222,
              "#7201a8"
             ],
             [
              0.3333333333333333,
              "#9c179e"
             ],
             [
              0.4444444444444444,
              "#bd3786"
             ],
             [
              0.5555555555555556,
              "#d8576b"
             ],
             [
              0.6666666666666666,
              "#ed7953"
             ],
             [
              0.7777777777777778,
              "#fb9f3a"
             ],
             [
              0.8888888888888888,
              "#fdca26"
             ],
             [
              1,
              "#f0f921"
             ]
            ],
            "type": "surface"
           }
          ],
          "table": [
           {
            "cells": {
             "fill": {
              "color": "#EBF0F8"
             },
             "line": {
              "color": "white"
             }
            },
            "header": {
             "fill": {
              "color": "#C8D4E3"
             },
             "line": {
              "color": "white"
             }
            },
            "type": "table"
           }
          ]
         },
         "layout": {
          "annotationdefaults": {
           "arrowcolor": "#2a3f5f",
           "arrowhead": 0,
           "arrowwidth": 1
          },
          "autotypenumbers": "strict",
          "coloraxis": {
           "colorbar": {
            "outlinewidth": 0,
            "ticks": ""
           }
          },
          "colorscale": {
           "diverging": [
            [
             0,
             "#8e0152"
            ],
            [
             0.1,
             "#c51b7d"
            ],
            [
             0.2,
             "#de77ae"
            ],
            [
             0.3,
             "#f1b6da"
            ],
            [
             0.4,
             "#fde0ef"
            ],
            [
             0.5,
             "#f7f7f7"
            ],
            [
             0.6,
             "#e6f5d0"
            ],
            [
             0.7,
             "#b8e186"
            ],
            [
             0.8,
             "#7fbc41"
            ],
            [
             0.9,
             "#4d9221"
            ],
            [
             1,
             "#276419"
            ]
           ],
           "sequential": [
            [
             0,
             "#0d0887"
            ],
            [
             0.1111111111111111,
             "#46039f"
            ],
            [
             0.2222222222222222,
             "#7201a8"
            ],
            [
             0.3333333333333333,
             "#9c179e"
            ],
            [
             0.4444444444444444,
             "#bd3786"
            ],
            [
             0.5555555555555556,
             "#d8576b"
            ],
            [
             0.6666666666666666,
             "#ed7953"
            ],
            [
             0.7777777777777778,
             "#fb9f3a"
            ],
            [
             0.8888888888888888,
             "#fdca26"
            ],
            [
             1,
             "#f0f921"
            ]
           ],
           "sequentialminus": [
            [
             0,
             "#0d0887"
            ],
            [
             0.1111111111111111,
             "#46039f"
            ],
            [
             0.2222222222222222,
             "#7201a8"
            ],
            [
             0.3333333333333333,
             "#9c179e"
            ],
            [
             0.4444444444444444,
             "#bd3786"
            ],
            [
             0.5555555555555556,
             "#d8576b"
            ],
            [
             0.6666666666666666,
             "#ed7953"
            ],
            [
             0.7777777777777778,
             "#fb9f3a"
            ],
            [
             0.8888888888888888,
             "#fdca26"
            ],
            [
             1,
             "#f0f921"
            ]
           ]
          },
          "colorway": [
           "#636efa",
           "#EF553B",
           "#00cc96",
           "#ab63fa",
           "#FFA15A",
           "#19d3f3",
           "#FF6692",
           "#B6E880",
           "#FF97FF",
           "#FECB52"
          ],
          "font": {
           "color": "#2a3f5f"
          },
          "geo": {
           "bgcolor": "white",
           "lakecolor": "white",
           "landcolor": "#E5ECF6",
           "showlakes": true,
           "showland": true,
           "subunitcolor": "white"
          },
          "hoverlabel": {
           "align": "left"
          },
          "hovermode": "closest",
          "mapbox": {
           "style": "light"
          },
          "paper_bgcolor": "white",
          "plot_bgcolor": "#E5ECF6",
          "polar": {
           "angularaxis": {
            "gridcolor": "white",
            "linecolor": "white",
            "ticks": ""
           },
           "bgcolor": "#E5ECF6",
           "radialaxis": {
            "gridcolor": "white",
            "linecolor": "white",
            "ticks": ""
           }
          },
          "scene": {
           "xaxis": {
            "backgroundcolor": "#E5ECF6",
            "gridcolor": "white",
            "gridwidth": 2,
            "linecolor": "white",
            "showbackground": true,
            "ticks": "",
            "zerolinecolor": "white"
           },
           "yaxis": {
            "backgroundcolor": "#E5ECF6",
            "gridcolor": "white",
            "gridwidth": 2,
            "linecolor": "white",
            "showbackground": true,
            "ticks": "",
            "zerolinecolor": "white"
           },
           "zaxis": {
            "backgroundcolor": "#E5ECF6",
            "gridcolor": "white",
            "gridwidth": 2,
            "linecolor": "white",
            "showbackground": true,
            "ticks": "",
            "zerolinecolor": "white"
           }
          },
          "shapedefaults": {
           "line": {
            "color": "#2a3f5f"
           }
          },
          "ternary": {
           "aaxis": {
            "gridcolor": "white",
            "linecolor": "white",
            "ticks": ""
           },
           "baxis": {
            "gridcolor": "white",
            "linecolor": "white",
            "ticks": ""
           },
           "bgcolor": "#E5ECF6",
           "caxis": {
            "gridcolor": "white",
            "linecolor": "white",
            "ticks": ""
           }
          },
          "title": {
           "x": 0.05
          },
          "xaxis": {
           "automargin": true,
           "gridcolor": "white",
           "linecolor": "white",
           "ticks": "",
           "title": {
            "standoff": 15
           },
           "zerolinecolor": "white",
           "zerolinewidth": 2
          },
          "yaxis": {
           "automargin": true,
           "gridcolor": "white",
           "linecolor": "white",
           "ticks": "",
           "title": {
            "standoff": 15
           },
           "zerolinecolor": "white",
           "zerolinewidth": 2
          }
         }
        },
        "xaxis": {
         "anchor": "y",
         "domain": [
          0,
          1
         ],
         "title": {
          "text": "hour"
         }
        },
        "yaxis": {
         "anchor": "x",
         "domain": [
          0,
          1
         ],
         "title": {
          "text": "calorie"
         }
        }
       }
      }
     },
     "metadata": {},
     "output_type": "display_data"
    }
   ],
   "source": [
    "px.bar(data_frame=graphed[graphed['class'] != 'meals'], y='calorie', x='hour', color='class')"
   ]
  },
  {
   "cell_type": "code",
   "execution_count": 67,
   "metadata": {},
   "outputs": [
    {
     "data": {
      "application/vnd.plotly.v1+json": {
       "config": {
        "plotlyServerURL": "https://plot.ly"
       },
       "data": [
        {
         "alignmentgroup": "True",
         "hovertemplate": "class=beverages<br>Time of Day (Hour)=%{x}<br>Count of Foods Logged=%{y}<extra></extra>",
         "legendgroup": "beverages",
         "marker": {
          "color": "#636efa",
          "pattern": {
           "shape": ""
          }
         },
         "name": "beverages",
         "offsetgroup": "beverages",
         "orientation": "v",
         "showlegend": true,
         "textposition": "auto",
         "type": "bar",
         "x": [
          0,
          1,
          3,
          4,
          5,
          6,
          7,
          8,
          9,
          10,
          11,
          12,
          13,
          14,
          15,
          16,
          17,
          18,
          19,
          20,
          21,
          22,
          23
         ],
         "xaxis": "x",
         "y": [
          1,
          2,
          1,
          13,
          22,
          15,
          16,
          49,
          30,
          25,
          15,
          24,
          24,
          16,
          12,
          10,
          8,
          23,
          27,
          17,
          7,
          2,
          4
         ],
         "yaxis": "y"
        },
        {
         "alignmentgroup": "True",
         "hovertemplate": "class=meals<br>Time of Day (Hour)=%{x}<br>Count of Foods Logged=%{y}<extra></extra>",
         "legendgroup": "meals",
         "marker": {
          "color": "#EF553B",
          "pattern": {
           "shape": ""
          }
         },
         "name": "meals",
         "offsetgroup": "meals",
         "orientation": "v",
         "showlegend": true,
         "textposition": "auto",
         "type": "bar",
         "x": [
          0,
          4,
          5,
          6,
          7,
          8,
          9,
          10,
          11,
          12,
          13,
          14,
          15,
          16,
          17,
          18,
          19,
          20,
          21,
          22,
          23
         ],
         "xaxis": "x",
         "y": [
          2,
          7,
          19,
          21,
          13,
          46,
          30,
          28,
          48,
          75,
          55,
          24,
          24,
          26,
          57,
          71,
          89,
          51,
          13,
          11,
          5
         ],
         "yaxis": "y"
        },
        {
         "alignmentgroup": "True",
         "hovertemplate": "class=snacks<br>Time of Day (Hour)=%{x}<br>Count of Foods Logged=%{y}<extra></extra>",
         "legendgroup": "snacks",
         "marker": {
          "color": "#00cc96",
          "pattern": {
           "shape": ""
          }
         },
         "name": "snacks",
         "offsetgroup": "snacks",
         "orientation": "v",
         "showlegend": true,
         "textposition": "auto",
         "type": "bar",
         "x": [
          0,
          1,
          2,
          3,
          5,
          6,
          7,
          8,
          9,
          10,
          11,
          12,
          13,
          14,
          15,
          16,
          17,
          18,
          19,
          20,
          21,
          22,
          23
         ],
         "xaxis": "x",
         "y": [
          1,
          1,
          1,
          1,
          1,
          2,
          1,
          6,
          8,
          3,
          10,
          2,
          9,
          8,
          10,
          6,
          7,
          9,
          15,
          11,
          9,
          7,
          5
         ],
         "yaxis": "y"
        }
       ],
       "layout": {
        "barmode": "relative",
        "legend": {
         "title": {
          "text": "class"
         },
         "tracegroupgap": 0
        },
        "template": {
         "data": {
          "bar": [
           {
            "error_x": {
             "color": "#2a3f5f"
            },
            "error_y": {
             "color": "#2a3f5f"
            },
            "marker": {
             "line": {
              "color": "#E5ECF6",
              "width": 0.5
             },
             "pattern": {
              "fillmode": "overlay",
              "size": 10,
              "solidity": 0.2
             }
            },
            "type": "bar"
           }
          ],
          "barpolar": [
           {
            "marker": {
             "line": {
              "color": "#E5ECF6",
              "width": 0.5
             },
             "pattern": {
              "fillmode": "overlay",
              "size": 10,
              "solidity": 0.2
             }
            },
            "type": "barpolar"
           }
          ],
          "carpet": [
           {
            "aaxis": {
             "endlinecolor": "#2a3f5f",
             "gridcolor": "white",
             "linecolor": "white",
             "minorgridcolor": "white",
             "startlinecolor": "#2a3f5f"
            },
            "baxis": {
             "endlinecolor": "#2a3f5f",
             "gridcolor": "white",
             "linecolor": "white",
             "minorgridcolor": "white",
             "startlinecolor": "#2a3f5f"
            },
            "type": "carpet"
           }
          ],
          "choropleth": [
           {
            "colorbar": {
             "outlinewidth": 0,
             "ticks": ""
            },
            "type": "choropleth"
           }
          ],
          "contour": [
           {
            "colorbar": {
             "outlinewidth": 0,
             "ticks": ""
            },
            "colorscale": [
             [
              0,
              "#0d0887"
             ],
             [
              0.1111111111111111,
              "#46039f"
             ],
             [
              0.2222222222222222,
              "#7201a8"
             ],
             [
              0.3333333333333333,
              "#9c179e"
             ],
             [
              0.4444444444444444,
              "#bd3786"
             ],
             [
              0.5555555555555556,
              "#d8576b"
             ],
             [
              0.6666666666666666,
              "#ed7953"
             ],
             [
              0.7777777777777778,
              "#fb9f3a"
             ],
             [
              0.8888888888888888,
              "#fdca26"
             ],
             [
              1,
              "#f0f921"
             ]
            ],
            "type": "contour"
           }
          ],
          "contourcarpet": [
           {
            "colorbar": {
             "outlinewidth": 0,
             "ticks": ""
            },
            "type": "contourcarpet"
           }
          ],
          "heatmap": [
           {
            "colorbar": {
             "outlinewidth": 0,
             "ticks": ""
            },
            "colorscale": [
             [
              0,
              "#0d0887"
             ],
             [
              0.1111111111111111,
              "#46039f"
             ],
             [
              0.2222222222222222,
              "#7201a8"
             ],
             [
              0.3333333333333333,
              "#9c179e"
             ],
             [
              0.4444444444444444,
              "#bd3786"
             ],
             [
              0.5555555555555556,
              "#d8576b"
             ],
             [
              0.6666666666666666,
              "#ed7953"
             ],
             [
              0.7777777777777778,
              "#fb9f3a"
             ],
             [
              0.8888888888888888,
              "#fdca26"
             ],
             [
              1,
              "#f0f921"
             ]
            ],
            "type": "heatmap"
           }
          ],
          "heatmapgl": [
           {
            "colorbar": {
             "outlinewidth": 0,
             "ticks": ""
            },
            "colorscale": [
             [
              0,
              "#0d0887"
             ],
             [
              0.1111111111111111,
              "#46039f"
             ],
             [
              0.2222222222222222,
              "#7201a8"
             ],
             [
              0.3333333333333333,
              "#9c179e"
             ],
             [
              0.4444444444444444,
              "#bd3786"
             ],
             [
              0.5555555555555556,
              "#d8576b"
             ],
             [
              0.6666666666666666,
              "#ed7953"
             ],
             [
              0.7777777777777778,
              "#fb9f3a"
             ],
             [
              0.8888888888888888,
              "#fdca26"
             ],
             [
              1,
              "#f0f921"
             ]
            ],
            "type": "heatmapgl"
           }
          ],
          "histogram": [
           {
            "marker": {
             "pattern": {
              "fillmode": "overlay",
              "size": 10,
              "solidity": 0.2
             }
            },
            "type": "histogram"
           }
          ],
          "histogram2d": [
           {
            "colorbar": {
             "outlinewidth": 0,
             "ticks": ""
            },
            "colorscale": [
             [
              0,
              "#0d0887"
             ],
             [
              0.1111111111111111,
              "#46039f"
             ],
             [
              0.2222222222222222,
              "#7201a8"
             ],
             [
              0.3333333333333333,
              "#9c179e"
             ],
             [
              0.4444444444444444,
              "#bd3786"
             ],
             [
              0.5555555555555556,
              "#d8576b"
             ],
             [
              0.6666666666666666,
              "#ed7953"
             ],
             [
              0.7777777777777778,
              "#fb9f3a"
             ],
             [
              0.8888888888888888,
              "#fdca26"
             ],
             [
              1,
              "#f0f921"
             ]
            ],
            "type": "histogram2d"
           }
          ],
          "histogram2dcontour": [
           {
            "colorbar": {
             "outlinewidth": 0,
             "ticks": ""
            },
            "colorscale": [
             [
              0,
              "#0d0887"
             ],
             [
              0.1111111111111111,
              "#46039f"
             ],
             [
              0.2222222222222222,
              "#7201a8"
             ],
             [
              0.3333333333333333,
              "#9c179e"
             ],
             [
              0.4444444444444444,
              "#bd3786"
             ],
             [
              0.5555555555555556,
              "#d8576b"
             ],
             [
              0.6666666666666666,
              "#ed7953"
             ],
             [
              0.7777777777777778,
              "#fb9f3a"
             ],
             [
              0.8888888888888888,
              "#fdca26"
             ],
             [
              1,
              "#f0f921"
             ]
            ],
            "type": "histogram2dcontour"
           }
          ],
          "mesh3d": [
           {
            "colorbar": {
             "outlinewidth": 0,
             "ticks": ""
            },
            "type": "mesh3d"
           }
          ],
          "parcoords": [
           {
            "line": {
             "colorbar": {
              "outlinewidth": 0,
              "ticks": ""
             }
            },
            "type": "parcoords"
           }
          ],
          "pie": [
           {
            "automargin": true,
            "type": "pie"
           }
          ],
          "scatter": [
           {
            "fillpattern": {
             "fillmode": "overlay",
             "size": 10,
             "solidity": 0.2
            },
            "type": "scatter"
           }
          ],
          "scatter3d": [
           {
            "line": {
             "colorbar": {
              "outlinewidth": 0,
              "ticks": ""
             }
            },
            "marker": {
             "colorbar": {
              "outlinewidth": 0,
              "ticks": ""
             }
            },
            "type": "scatter3d"
           }
          ],
          "scattercarpet": [
           {
            "marker": {
             "colorbar": {
              "outlinewidth": 0,
              "ticks": ""
             }
            },
            "type": "scattercarpet"
           }
          ],
          "scattergeo": [
           {
            "marker": {
             "colorbar": {
              "outlinewidth": 0,
              "ticks": ""
             }
            },
            "type": "scattergeo"
           }
          ],
          "scattergl": [
           {
            "marker": {
             "colorbar": {
              "outlinewidth": 0,
              "ticks": ""
             }
            },
            "type": "scattergl"
           }
          ],
          "scattermapbox": [
           {
            "marker": {
             "colorbar": {
              "outlinewidth": 0,
              "ticks": ""
             }
            },
            "type": "scattermapbox"
           }
          ],
          "scatterpolar": [
           {
            "marker": {
             "colorbar": {
              "outlinewidth": 0,
              "ticks": ""
             }
            },
            "type": "scatterpolar"
           }
          ],
          "scatterpolargl": [
           {
            "marker": {
             "colorbar": {
              "outlinewidth": 0,
              "ticks": ""
             }
            },
            "type": "scatterpolargl"
           }
          ],
          "scatterternary": [
           {
            "marker": {
             "colorbar": {
              "outlinewidth": 0,
              "ticks": ""
             }
            },
            "type": "scatterternary"
           }
          ],
          "surface": [
           {
            "colorbar": {
             "outlinewidth": 0,
             "ticks": ""
            },
            "colorscale": [
             [
              0,
              "#0d0887"
             ],
             [
              0.1111111111111111,
              "#46039f"
             ],
             [
              0.2222222222222222,
              "#7201a8"
             ],
             [
              0.3333333333333333,
              "#9c179e"
             ],
             [
              0.4444444444444444,
              "#bd3786"
             ],
             [
              0.5555555555555556,
              "#d8576b"
             ],
             [
              0.6666666666666666,
              "#ed7953"
             ],
             [
              0.7777777777777778,
              "#fb9f3a"
             ],
             [
              0.8888888888888888,
              "#fdca26"
             ],
             [
              1,
              "#f0f921"
             ]
            ],
            "type": "surface"
           }
          ],
          "table": [
           {
            "cells": {
             "fill": {
              "color": "#EBF0F8"
             },
             "line": {
              "color": "white"
             }
            },
            "header": {
             "fill": {
              "color": "#C8D4E3"
             },
             "line": {
              "color": "white"
             }
            },
            "type": "table"
           }
          ]
         },
         "layout": {
          "annotationdefaults": {
           "arrowcolor": "#2a3f5f",
           "arrowhead": 0,
           "arrowwidth": 1
          },
          "autotypenumbers": "strict",
          "coloraxis": {
           "colorbar": {
            "outlinewidth": 0,
            "ticks": ""
           }
          },
          "colorscale": {
           "diverging": [
            [
             0,
             "#8e0152"
            ],
            [
             0.1,
             "#c51b7d"
            ],
            [
             0.2,
             "#de77ae"
            ],
            [
             0.3,
             "#f1b6da"
            ],
            [
             0.4,
             "#fde0ef"
            ],
            [
             0.5,
             "#f7f7f7"
            ],
            [
             0.6,
             "#e6f5d0"
            ],
            [
             0.7,
             "#b8e186"
            ],
            [
             0.8,
             "#7fbc41"
            ],
            [
             0.9,
             "#4d9221"
            ],
            [
             1,
             "#276419"
            ]
           ],
           "sequential": [
            [
             0,
             "#0d0887"
            ],
            [
             0.1111111111111111,
             "#46039f"
            ],
            [
             0.2222222222222222,
             "#7201a8"
            ],
            [
             0.3333333333333333,
             "#9c179e"
            ],
            [
             0.4444444444444444,
             "#bd3786"
            ],
            [
             0.5555555555555556,
             "#d8576b"
            ],
            [
             0.6666666666666666,
             "#ed7953"
            ],
            [
             0.7777777777777778,
             "#fb9f3a"
            ],
            [
             0.8888888888888888,
             "#fdca26"
            ],
            [
             1,
             "#f0f921"
            ]
           ],
           "sequentialminus": [
            [
             0,
             "#0d0887"
            ],
            [
             0.1111111111111111,
             "#46039f"
            ],
            [
             0.2222222222222222,
             "#7201a8"
            ],
            [
             0.3333333333333333,
             "#9c179e"
            ],
            [
             0.4444444444444444,
             "#bd3786"
            ],
            [
             0.5555555555555556,
             "#d8576b"
            ],
            [
             0.6666666666666666,
             "#ed7953"
            ],
            [
             0.7777777777777778,
             "#fb9f3a"
            ],
            [
             0.8888888888888888,
             "#fdca26"
            ],
            [
             1,
             "#f0f921"
            ]
           ]
          },
          "colorway": [
           "#636efa",
           "#EF553B",
           "#00cc96",
           "#ab63fa",
           "#FFA15A",
           "#19d3f3",
           "#FF6692",
           "#B6E880",
           "#FF97FF",
           "#FECB52"
          ],
          "font": {
           "color": "#2a3f5f"
          },
          "geo": {
           "bgcolor": "white",
           "lakecolor": "white",
           "landcolor": "#E5ECF6",
           "showlakes": true,
           "showland": true,
           "subunitcolor": "white"
          },
          "hoverlabel": {
           "align": "left"
          },
          "hovermode": "closest",
          "mapbox": {
           "style": "light"
          },
          "paper_bgcolor": "white",
          "plot_bgcolor": "#E5ECF6",
          "polar": {
           "angularaxis": {
            "gridcolor": "white",
            "linecolor": "white",
            "ticks": ""
           },
           "bgcolor": "#E5ECF6",
           "radialaxis": {
            "gridcolor": "white",
            "linecolor": "white",
            "ticks": ""
           }
          },
          "scene": {
           "xaxis": {
            "backgroundcolor": "#E5ECF6",
            "gridcolor": "white",
            "gridwidth": 2,
            "linecolor": "white",
            "showbackground": true,
            "ticks": "",
            "zerolinecolor": "white"
           },
           "yaxis": {
            "backgroundcolor": "#E5ECF6",
            "gridcolor": "white",
            "gridwidth": 2,
            "linecolor": "white",
            "showbackground": true,
            "ticks": "",
            "zerolinecolor": "white"
           },
           "zaxis": {
            "backgroundcolor": "#E5ECF6",
            "gridcolor": "white",
            "gridwidth": 2,
            "linecolor": "white",
            "showbackground": true,
            "ticks": "",
            "zerolinecolor": "white"
           }
          },
          "shapedefaults": {
           "line": {
            "color": "#2a3f5f"
           }
          },
          "ternary": {
           "aaxis": {
            "gridcolor": "white",
            "linecolor": "white",
            "ticks": ""
           },
           "baxis": {
            "gridcolor": "white",
            "linecolor": "white",
            "ticks": ""
           },
           "bgcolor": "#E5ECF6",
           "caxis": {
            "gridcolor": "white",
            "linecolor": "white",
            "ticks": ""
           }
          },
          "title": {
           "x": 0.05
          },
          "xaxis": {
           "automargin": true,
           "gridcolor": "white",
           "linecolor": "white",
           "ticks": "",
           "title": {
            "standoff": 15
           },
           "zerolinecolor": "white",
           "zerolinewidth": 2
          },
          "yaxis": {
           "automargin": true,
           "gridcolor": "white",
           "linecolor": "white",
           "ticks": "",
           "title": {
            "standoff": 15
           },
           "zerolinecolor": "white",
           "zerolinewidth": 2
          }
         }
        },
        "title": {
         "text": "Types of Food Eaten Over a Day"
        },
        "xaxis": {
         "anchor": "y",
         "domain": [
          0,
          1
         ],
         "title": {
          "text": "Time of Day (Hour)"
         }
        },
        "yaxis": {
         "anchor": "x",
         "domain": [
          0,
          1
         ],
         "title": {
          "text": "Count of Foods Logged"
         }
        }
       }
      }
     },
     "metadata": {},
     "output_type": "display_data"
    }
   ],
   "source": [
    "px.bar(data_frame=graphed[(graphed['class']!='supplements') & (graphed['class']!='fruits/veggies')], y='calorie', x='hour', color='class', title=\"Types of Food Eaten Over a Day\", labels={'hour': 'Time of Day (Hour)', 'calorie': 'Count of Foods Logged'})"
   ]
  },
  {
   "cell_type": "code",
   "execution_count": 68,
   "metadata": {},
   "outputs": [],
   "source": [
    "graph_this=graphed[(graphed['class']!='supplements') & (graphed['class']!='fruits/veggies')]"
   ]
  },
  {
   "cell_type": "code",
   "execution_count": 69,
   "metadata": {},
   "outputs": [
    {
     "name": "stdout",
     "output_type": "stream",
     "text": [
      "Most Popular Meals by Hour:\n",
      "     hour                                 logged_food  count\n",
      "0       0                        Blue Bunny fudge bar      1\n",
      "4       4                              Frosted Flakes      3\n",
      "10      5                               Frosted Flake      3\n",
      "26      6                          Standard Breakfast      5\n",
      "37      7                          Standard Breakfast      3\n",
      "41      8           (Fage) Greek Yogurt, plain nonfat      6\n",
      "74      9                              Frosted Flakes      6\n",
      "92     10                 (Quaker) Old Fashioned Oats      2\n",
      "119    11                                       Bacon      2\n",
      "173    12             Boneless Skinless Chicken Thigh      3\n",
      "236    13                                       Bacon      2\n",
      "289    14                      Granola Oats and Honey      2\n",
      "301    15                           2% Cottage Cheese      4\n",
      "323    16                           2% Cottage Cheese      2\n",
      "353    17             Boneless Skinless Chicken Thigh      3\n",
      "450    18                                       Salad      3\n",
      "465    19                 (Toast) Red Wine Vinegrette      3\n",
      "575    20                                       Salad      3\n",
      "592    21                                   Ice Cream      2\n",
      "599    22  (Peppridge Farm) Whole Wheat Hamburger Bun      2\n",
      "608    23                                       Bacon      1\n",
      "\n",
      "Most Popular Beverages by Hour:\n",
      "     hour                            logged_food  count\n",
      "0       0                       (Powerade) Grape      1\n",
      "1       1                         Fruit smoothie      1\n",
      "3       3                     Coffee + skim milk      1\n",
      "5       4                                 Coffee      3\n",
      "17      5                                   Milk      6\n",
      "23      6                     Coffee + skim milk      4\n",
      "32      7                                 Coffee      4\n",
      "43      8                                 Coffee     13\n",
      "67      9                                   Milk      8\n",
      "77     10                                 Coffee      4\n",
      "93     11                                 Coffee      2\n",
      "108    12                                 Coffee      3\n",
      "127    13                                 Coffee      4\n",
      "144    14                                 Coffee      2\n",
      "154    15                                 Coffee      2\n",
      "166    16                                 Coffee      2\n",
      "174    17                     Coffee + skim milk      2\n",
      "187    18                      Diet Mountain Dew      2\n",
      "203    19                                2% Milk      5\n",
      "232    20  Virgil's Zero Sugar Black Cherry Soda      3\n",
      "234    21                                2% Milk      1\n",
      "241    22                      (Mich) Ultra Beer      1\n",
      "244    23                         Fruit smoothie      3\n"
     ]
    }
   ],
   "source": [
    "# Find the most popular item for a given class (e.g., 'meals' or 'beverages')\n",
    "def most_popular_item_by_hour(df, food_class):\n",
    "    # Filter data by class (e.g., meals or beverages)\n",
    "    filtered_df = df[df['class'] == food_class]\n",
    "    \n",
    "    # Count occurrences of each food item per hour\n",
    "    grouped = filtered_df.groupby(['hour', 'logged_food']).size().reset_index(name='count')\n",
    "    \n",
    "    # Find the most popular item per hour\n",
    "    most_popular = grouped.loc[grouped.groupby('hour')['count'].idxmax()]\n",
    "    \n",
    "    return most_popular\n",
    "\n",
    "# Get most popular meals and beverages by hour\n",
    "most_popular_meals = most_popular_item_by_hour(entire_dataset, 'meals')\n",
    "most_popular_beverages = most_popular_item_by_hour(entire_dataset, 'beverages')\n",
    "\n",
    "print(\"Most Popular Meals by Hour:\")\n",
    "print(most_popular_meals)\n",
    "\n",
    "print(\"\\nMost Popular Beverages by Hour:\")\n",
    "print(most_popular_beverages)\n"
   ]
  },
  {
   "cell_type": "code",
   "execution_count": 70,
   "metadata": {},
   "outputs": [
    {
     "data": {
      "application/vnd.plotly.v1+json": {
       "config": {
        "plotlyServerURL": "https://plot.ly"
       },
       "data": [
        {
         "alignmentgroup": "True",
         "hovertemplate": "class=snacks<br>Time of Day (Hour)=%{x}<br>Count of Foods Logged=%{y}<extra></extra>",
         "legendgroup": "snacks",
         "marker": {
          "color": "rgb(102,194,165)",
          "pattern": {
           "shape": ""
          }
         },
         "name": "snacks",
         "offsetgroup": "snacks",
         "orientation": "v",
         "showlegend": true,
         "textposition": "auto",
         "type": "bar",
         "x": [
          0,
          1,
          2,
          3,
          5,
          6,
          7,
          8,
          9,
          10,
          11,
          12,
          13,
          14,
          15,
          16,
          17,
          18,
          19,
          20,
          21,
          22,
          23
         ],
         "xaxis": "x",
         "y": [
          1,
          1,
          1,
          1,
          1,
          2,
          1,
          6,
          8,
          3,
          10,
          2,
          9,
          8,
          10,
          6,
          7,
          9,
          15,
          11,
          9,
          7,
          5
         ],
         "yaxis": "y"
        },
        {
         "alignmentgroup": "True",
         "hovertemplate": "class=beverages<br>Time of Day (Hour)=%{x}<br>Count of Foods Logged=%{y}<extra></extra>",
         "legendgroup": "beverages",
         "marker": {
          "color": "rgb(252,141,98)",
          "pattern": {
           "shape": ""
          }
         },
         "name": "beverages",
         "offsetgroup": "beverages",
         "orientation": "v",
         "showlegend": true,
         "textposition": "auto",
         "type": "bar",
         "x": [
          0,
          1,
          3,
          4,
          5,
          6,
          7,
          8,
          9,
          10,
          11,
          12,
          13,
          14,
          15,
          16,
          17,
          18,
          19,
          20,
          21,
          22,
          23
         ],
         "xaxis": "x",
         "y": [
          1,
          2,
          1,
          13,
          22,
          15,
          16,
          49,
          30,
          25,
          15,
          24,
          24,
          16,
          12,
          10,
          8,
          23,
          27,
          17,
          7,
          2,
          4
         ],
         "yaxis": "y"
        },
        {
         "alignmentgroup": "True",
         "hovertemplate": "class=meals<br>Time of Day (Hour)=%{x}<br>Count of Foods Logged=%{y}<extra></extra>",
         "legendgroup": "meals",
         "marker": {
          "color": "rgb(141,160,203)",
          "pattern": {
           "shape": ""
          }
         },
         "name": "meals",
         "offsetgroup": "meals",
         "orientation": "v",
         "showlegend": true,
         "textposition": "auto",
         "type": "bar",
         "x": [
          0,
          4,
          5,
          6,
          7,
          8,
          9,
          10,
          11,
          12,
          13,
          14,
          15,
          16,
          17,
          18,
          19,
          20,
          21,
          22,
          23
         ],
         "xaxis": "x",
         "y": [
          2,
          7,
          19,
          21,
          13,
          46,
          30,
          28,
          48,
          75,
          55,
          24,
          24,
          26,
          57,
          71,
          89,
          51,
          13,
          11,
          5
         ],
         "yaxis": "y"
        }
       ],
       "layout": {
        "barmode": "relative",
        "legend": {
         "title": {
          "text": "class"
         },
         "tracegroupgap": 0
        },
        "template": {
         "data": {
          "bar": [
           {
            "error_x": {
             "color": "#2a3f5f"
            },
            "error_y": {
             "color": "#2a3f5f"
            },
            "marker": {
             "line": {
              "color": "#E5ECF6",
              "width": 0.5
             },
             "pattern": {
              "fillmode": "overlay",
              "size": 10,
              "solidity": 0.2
             }
            },
            "type": "bar"
           }
          ],
          "barpolar": [
           {
            "marker": {
             "line": {
              "color": "#E5ECF6",
              "width": 0.5
             },
             "pattern": {
              "fillmode": "overlay",
              "size": 10,
              "solidity": 0.2
             }
            },
            "type": "barpolar"
           }
          ],
          "carpet": [
           {
            "aaxis": {
             "endlinecolor": "#2a3f5f",
             "gridcolor": "white",
             "linecolor": "white",
             "minorgridcolor": "white",
             "startlinecolor": "#2a3f5f"
            },
            "baxis": {
             "endlinecolor": "#2a3f5f",
             "gridcolor": "white",
             "linecolor": "white",
             "minorgridcolor": "white",
             "startlinecolor": "#2a3f5f"
            },
            "type": "carpet"
           }
          ],
          "choropleth": [
           {
            "colorbar": {
             "outlinewidth": 0,
             "ticks": ""
            },
            "type": "choropleth"
           }
          ],
          "contour": [
           {
            "colorbar": {
             "outlinewidth": 0,
             "ticks": ""
            },
            "colorscale": [
             [
              0,
              "#0d0887"
             ],
             [
              0.1111111111111111,
              "#46039f"
             ],
             [
              0.2222222222222222,
              "#7201a8"
             ],
             [
              0.3333333333333333,
              "#9c179e"
             ],
             [
              0.4444444444444444,
              "#bd3786"
             ],
             [
              0.5555555555555556,
              "#d8576b"
             ],
             [
              0.6666666666666666,
              "#ed7953"
             ],
             [
              0.7777777777777778,
              "#fb9f3a"
             ],
             [
              0.8888888888888888,
              "#fdca26"
             ],
             [
              1,
              "#f0f921"
             ]
            ],
            "type": "contour"
           }
          ],
          "contourcarpet": [
           {
            "colorbar": {
             "outlinewidth": 0,
             "ticks": ""
            },
            "type": "contourcarpet"
           }
          ],
          "heatmap": [
           {
            "colorbar": {
             "outlinewidth": 0,
             "ticks": ""
            },
            "colorscale": [
             [
              0,
              "#0d0887"
             ],
             [
              0.1111111111111111,
              "#46039f"
             ],
             [
              0.2222222222222222,
              "#7201a8"
             ],
             [
              0.3333333333333333,
              "#9c179e"
             ],
             [
              0.4444444444444444,
              "#bd3786"
             ],
             [
              0.5555555555555556,
              "#d8576b"
             ],
             [
              0.6666666666666666,
              "#ed7953"
             ],
             [
              0.7777777777777778,
              "#fb9f3a"
             ],
             [
              0.8888888888888888,
              "#fdca26"
             ],
             [
              1,
              "#f0f921"
             ]
            ],
            "type": "heatmap"
           }
          ],
          "heatmapgl": [
           {
            "colorbar": {
             "outlinewidth": 0,
             "ticks": ""
            },
            "colorscale": [
             [
              0,
              "#0d0887"
             ],
             [
              0.1111111111111111,
              "#46039f"
             ],
             [
              0.2222222222222222,
              "#7201a8"
             ],
             [
              0.3333333333333333,
              "#9c179e"
             ],
             [
              0.4444444444444444,
              "#bd3786"
             ],
             [
              0.5555555555555556,
              "#d8576b"
             ],
             [
              0.6666666666666666,
              "#ed7953"
             ],
             [
              0.7777777777777778,
              "#fb9f3a"
             ],
             [
              0.8888888888888888,
              "#fdca26"
             ],
             [
              1,
              "#f0f921"
             ]
            ],
            "type": "heatmapgl"
           }
          ],
          "histogram": [
           {
            "marker": {
             "pattern": {
              "fillmode": "overlay",
              "size": 10,
              "solidity": 0.2
             }
            },
            "type": "histogram"
           }
          ],
          "histogram2d": [
           {
            "colorbar": {
             "outlinewidth": 0,
             "ticks": ""
            },
            "colorscale": [
             [
              0,
              "#0d0887"
             ],
             [
              0.1111111111111111,
              "#46039f"
             ],
             [
              0.2222222222222222,
              "#7201a8"
             ],
             [
              0.3333333333333333,
              "#9c179e"
             ],
             [
              0.4444444444444444,
              "#bd3786"
             ],
             [
              0.5555555555555556,
              "#d8576b"
             ],
             [
              0.6666666666666666,
              "#ed7953"
             ],
             [
              0.7777777777777778,
              "#fb9f3a"
             ],
             [
              0.8888888888888888,
              "#fdca26"
             ],
             [
              1,
              "#f0f921"
             ]
            ],
            "type": "histogram2d"
           }
          ],
          "histogram2dcontour": [
           {
            "colorbar": {
             "outlinewidth": 0,
             "ticks": ""
            },
            "colorscale": [
             [
              0,
              "#0d0887"
             ],
             [
              0.1111111111111111,
              "#46039f"
             ],
             [
              0.2222222222222222,
              "#7201a8"
             ],
             [
              0.3333333333333333,
              "#9c179e"
             ],
             [
              0.4444444444444444,
              "#bd3786"
             ],
             [
              0.5555555555555556,
              "#d8576b"
             ],
             [
              0.6666666666666666,
              "#ed7953"
             ],
             [
              0.7777777777777778,
              "#fb9f3a"
             ],
             [
              0.8888888888888888,
              "#fdca26"
             ],
             [
              1,
              "#f0f921"
             ]
            ],
            "type": "histogram2dcontour"
           }
          ],
          "mesh3d": [
           {
            "colorbar": {
             "outlinewidth": 0,
             "ticks": ""
            },
            "type": "mesh3d"
           }
          ],
          "parcoords": [
           {
            "line": {
             "colorbar": {
              "outlinewidth": 0,
              "ticks": ""
             }
            },
            "type": "parcoords"
           }
          ],
          "pie": [
           {
            "automargin": true,
            "type": "pie"
           }
          ],
          "scatter": [
           {
            "fillpattern": {
             "fillmode": "overlay",
             "size": 10,
             "solidity": 0.2
            },
            "type": "scatter"
           }
          ],
          "scatter3d": [
           {
            "line": {
             "colorbar": {
              "outlinewidth": 0,
              "ticks": ""
             }
            },
            "marker": {
             "colorbar": {
              "outlinewidth": 0,
              "ticks": ""
             }
            },
            "type": "scatter3d"
           }
          ],
          "scattercarpet": [
           {
            "marker": {
             "colorbar": {
              "outlinewidth": 0,
              "ticks": ""
             }
            },
            "type": "scattercarpet"
           }
          ],
          "scattergeo": [
           {
            "marker": {
             "colorbar": {
              "outlinewidth": 0,
              "ticks": ""
             }
            },
            "type": "scattergeo"
           }
          ],
          "scattergl": [
           {
            "marker": {
             "colorbar": {
              "outlinewidth": 0,
              "ticks": ""
             }
            },
            "type": "scattergl"
           }
          ],
          "scattermapbox": [
           {
            "marker": {
             "colorbar": {
              "outlinewidth": 0,
              "ticks": ""
             }
            },
            "type": "scattermapbox"
           }
          ],
          "scatterpolar": [
           {
            "marker": {
             "colorbar": {
              "outlinewidth": 0,
              "ticks": ""
             }
            },
            "type": "scatterpolar"
           }
          ],
          "scatterpolargl": [
           {
            "marker": {
             "colorbar": {
              "outlinewidth": 0,
              "ticks": ""
             }
            },
            "type": "scatterpolargl"
           }
          ],
          "scatterternary": [
           {
            "marker": {
             "colorbar": {
              "outlinewidth": 0,
              "ticks": ""
             }
            },
            "type": "scatterternary"
           }
          ],
          "surface": [
           {
            "colorbar": {
             "outlinewidth": 0,
             "ticks": ""
            },
            "colorscale": [
             [
              0,
              "#0d0887"
             ],
             [
              0.1111111111111111,
              "#46039f"
             ],
             [
              0.2222222222222222,
              "#7201a8"
             ],
             [
              0.3333333333333333,
              "#9c179e"
             ],
             [
              0.4444444444444444,
              "#bd3786"
             ],
             [
              0.5555555555555556,
              "#d8576b"
             ],
             [
              0.6666666666666666,
              "#ed7953"
             ],
             [
              0.7777777777777778,
              "#fb9f3a"
             ],
             [
              0.8888888888888888,
              "#fdca26"
             ],
             [
              1,
              "#f0f921"
             ]
            ],
            "type": "surface"
           }
          ],
          "table": [
           {
            "cells": {
             "fill": {
              "color": "#EBF0F8"
             },
             "line": {
              "color": "white"
             }
            },
            "header": {
             "fill": {
              "color": "#C8D4E3"
             },
             "line": {
              "color": "white"
             }
            },
            "type": "table"
           }
          ]
         },
         "layout": {
          "annotationdefaults": {
           "arrowcolor": "#2a3f5f",
           "arrowhead": 0,
           "arrowwidth": 1
          },
          "autotypenumbers": "strict",
          "coloraxis": {
           "colorbar": {
            "outlinewidth": 0,
            "ticks": ""
           }
          },
          "colorscale": {
           "diverging": [
            [
             0,
             "#8e0152"
            ],
            [
             0.1,
             "#c51b7d"
            ],
            [
             0.2,
             "#de77ae"
            ],
            [
             0.3,
             "#f1b6da"
            ],
            [
             0.4,
             "#fde0ef"
            ],
            [
             0.5,
             "#f7f7f7"
            ],
            [
             0.6,
             "#e6f5d0"
            ],
            [
             0.7,
             "#b8e186"
            ],
            [
             0.8,
             "#7fbc41"
            ],
            [
             0.9,
             "#4d9221"
            ],
            [
             1,
             "#276419"
            ]
           ],
           "sequential": [
            [
             0,
             "#0d0887"
            ],
            [
             0.1111111111111111,
             "#46039f"
            ],
            [
             0.2222222222222222,
             "#7201a8"
            ],
            [
             0.3333333333333333,
             "#9c179e"
            ],
            [
             0.4444444444444444,
             "#bd3786"
            ],
            [
             0.5555555555555556,
             "#d8576b"
            ],
            [
             0.6666666666666666,
             "#ed7953"
            ],
            [
             0.7777777777777778,
             "#fb9f3a"
            ],
            [
             0.8888888888888888,
             "#fdca26"
            ],
            [
             1,
             "#f0f921"
            ]
           ],
           "sequentialminus": [
            [
             0,
             "#0d0887"
            ],
            [
             0.1111111111111111,
             "#46039f"
            ],
            [
             0.2222222222222222,
             "#7201a8"
            ],
            [
             0.3333333333333333,
             "#9c179e"
            ],
            [
             0.4444444444444444,
             "#bd3786"
            ],
            [
             0.5555555555555556,
             "#d8576b"
            ],
            [
             0.6666666666666666,
             "#ed7953"
            ],
            [
             0.7777777777777778,
             "#fb9f3a"
            ],
            [
             0.8888888888888888,
             "#fdca26"
            ],
            [
             1,
             "#f0f921"
            ]
           ]
          },
          "colorway": [
           "#636efa",
           "#EF553B",
           "#00cc96",
           "#ab63fa",
           "#FFA15A",
           "#19d3f3",
           "#FF6692",
           "#B6E880",
           "#FF97FF",
           "#FECB52"
          ],
          "font": {
           "color": "#2a3f5f"
          },
          "geo": {
           "bgcolor": "white",
           "lakecolor": "white",
           "landcolor": "#E5ECF6",
           "showlakes": true,
           "showland": true,
           "subunitcolor": "white"
          },
          "hoverlabel": {
           "align": "left"
          },
          "hovermode": "closest",
          "mapbox": {
           "style": "light"
          },
          "paper_bgcolor": "white",
          "plot_bgcolor": "#E5ECF6",
          "polar": {
           "angularaxis": {
            "gridcolor": "white",
            "linecolor": "white",
            "ticks": ""
           },
           "bgcolor": "#E5ECF6",
           "radialaxis": {
            "gridcolor": "white",
            "linecolor": "white",
            "ticks": ""
           }
          },
          "scene": {
           "xaxis": {
            "backgroundcolor": "#E5ECF6",
            "gridcolor": "white",
            "gridwidth": 2,
            "linecolor": "white",
            "showbackground": true,
            "ticks": "",
            "zerolinecolor": "white"
           },
           "yaxis": {
            "backgroundcolor": "#E5ECF6",
            "gridcolor": "white",
            "gridwidth": 2,
            "linecolor": "white",
            "showbackground": true,
            "ticks": "",
            "zerolinecolor": "white"
           },
           "zaxis": {
            "backgroundcolor": "#E5ECF6",
            "gridcolor": "white",
            "gridwidth": 2,
            "linecolor": "white",
            "showbackground": true,
            "ticks": "",
            "zerolinecolor": "white"
           }
          },
          "shapedefaults": {
           "line": {
            "color": "#2a3f5f"
           }
          },
          "ternary": {
           "aaxis": {
            "gridcolor": "white",
            "linecolor": "white",
            "ticks": ""
           },
           "baxis": {
            "gridcolor": "white",
            "linecolor": "white",
            "ticks": ""
           },
           "bgcolor": "#E5ECF6",
           "caxis": {
            "gridcolor": "white",
            "linecolor": "white",
            "ticks": ""
           }
          },
          "title": {
           "x": 0.05
          },
          "xaxis": {
           "automargin": true,
           "gridcolor": "white",
           "linecolor": "white",
           "ticks": "",
           "title": {
            "standoff": 15
           },
           "zerolinecolor": "white",
           "zerolinewidth": 2
          },
          "yaxis": {
           "automargin": true,
           "gridcolor": "white",
           "linecolor": "white",
           "ticks": "",
           "title": {
            "standoff": 15
           },
           "zerolinecolor": "white",
           "zerolinewidth": 2
          }
         }
        },
        "title": {
         "text": "Types of Food Eaten Over a Day"
        },
        "xaxis": {
         "anchor": "y",
         "domain": [
          0,
          1
         ],
         "title": {
          "text": "Time of Day (Hour)"
         }
        },
        "yaxis": {
         "anchor": "x",
         "domain": [
          0,
          1
         ],
         "title": {
          "text": "Count of Foods Logged"
         }
        }
       }
      }
     },
     "metadata": {},
     "output_type": "display_data"
    }
   ],
   "source": [
    "import plotly.express as px\n",
    "import pandas as pd\n",
    "\n",
    "# Aggregate by hour and class, summing calorie values\n",
    "sorted_data = graph_this.groupby(['hour', 'class'], as_index=False)['calorie'].sum()\n",
    "\n",
    "# Sort by total calories across all hours to determine order\n",
    "class_order = sorted_data.groupby('class')['calorie'].sum().sort_values(ascending=True).index\n",
    "\n",
    "# Plot the bar chart with sorted class categories\n",
    "fig = px.bar(\n",
    "    data_frame=sorted_data, \n",
    "    x='hour', \n",
    "    y='calorie', \n",
    "    color='class', \n",
    "    title=\"Types of Food Eaten Over a Day\", \n",
    "    labels={'hour': 'Time of Day (Hour)', 'calorie': 'Count of Foods Logged'},\n",
    "    category_orders={\"class\": class_order},\n",
    "    color_discrete_sequence=px.colors.qualitative.Set2\n",
    ")\n",
    "\n",
    "fig.show()\n"
   ]
  },
  {
   "cell_type": "code",
   "execution_count": 71,
   "metadata": {},
   "outputs": [
    {
     "data": {
      "application/vnd.plotly.v1+json": {
       "config": {
        "plotlyServerURL": "https://plot.ly"
       },
       "data": [
        {
         "alignmentgroup": "True",
         "hovertemplate": "Gender=%{x}<br>Average Daily Calories=%{y}<extra></extra>",
         "legendgroup": "",
         "marker": {
          "color": "#636efa",
          "pattern": {
           "shape": ""
          }
         },
         "name": "",
         "offsetgroup": "",
         "orientation": "v",
         "showlegend": false,
         "textposition": "auto",
         "type": "bar",
         "x": [
          "FEMALE",
          "MALE"
         ],
         "xaxis": "x",
         "y": [
          2719.007692307692,
          2374.869090909091
         ],
         "yaxis": "y"
        }
       ],
       "layout": {
        "barmode": "relative",
        "legend": {
         "tracegroupgap": 0
        },
        "template": {
         "data": {
          "bar": [
           {
            "error_x": {
             "color": "#2a3f5f"
            },
            "error_y": {
             "color": "#2a3f5f"
            },
            "marker": {
             "line": {
              "color": "#E5ECF6",
              "width": 0.5
             },
             "pattern": {
              "fillmode": "overlay",
              "size": 10,
              "solidity": 0.2
             }
            },
            "type": "bar"
           }
          ],
          "barpolar": [
           {
            "marker": {
             "line": {
              "color": "#E5ECF6",
              "width": 0.5
             },
             "pattern": {
              "fillmode": "overlay",
              "size": 10,
              "solidity": 0.2
             }
            },
            "type": "barpolar"
           }
          ],
          "carpet": [
           {
            "aaxis": {
             "endlinecolor": "#2a3f5f",
             "gridcolor": "white",
             "linecolor": "white",
             "minorgridcolor": "white",
             "startlinecolor": "#2a3f5f"
            },
            "baxis": {
             "endlinecolor": "#2a3f5f",
             "gridcolor": "white",
             "linecolor": "white",
             "minorgridcolor": "white",
             "startlinecolor": "#2a3f5f"
            },
            "type": "carpet"
           }
          ],
          "choropleth": [
           {
            "colorbar": {
             "outlinewidth": 0,
             "ticks": ""
            },
            "type": "choropleth"
           }
          ],
          "contour": [
           {
            "colorbar": {
             "outlinewidth": 0,
             "ticks": ""
            },
            "colorscale": [
             [
              0,
              "#0d0887"
             ],
             [
              0.1111111111111111,
              "#46039f"
             ],
             [
              0.2222222222222222,
              "#7201a8"
             ],
             [
              0.3333333333333333,
              "#9c179e"
             ],
             [
              0.4444444444444444,
              "#bd3786"
             ],
             [
              0.5555555555555556,
              "#d8576b"
             ],
             [
              0.6666666666666666,
              "#ed7953"
             ],
             [
              0.7777777777777778,
              "#fb9f3a"
             ],
             [
              0.8888888888888888,
              "#fdca26"
             ],
             [
              1,
              "#f0f921"
             ]
            ],
            "type": "contour"
           }
          ],
          "contourcarpet": [
           {
            "colorbar": {
             "outlinewidth": 0,
             "ticks": ""
            },
            "type": "contourcarpet"
           }
          ],
          "heatmap": [
           {
            "colorbar": {
             "outlinewidth": 0,
             "ticks": ""
            },
            "colorscale": [
             [
              0,
              "#0d0887"
             ],
             [
              0.1111111111111111,
              "#46039f"
             ],
             [
              0.2222222222222222,
              "#7201a8"
             ],
             [
              0.3333333333333333,
              "#9c179e"
             ],
             [
              0.4444444444444444,
              "#bd3786"
             ],
             [
              0.5555555555555556,
              "#d8576b"
             ],
             [
              0.6666666666666666,
              "#ed7953"
             ],
             [
              0.7777777777777778,
              "#fb9f3a"
             ],
             [
              0.8888888888888888,
              "#fdca26"
             ],
             [
              1,
              "#f0f921"
             ]
            ],
            "type": "heatmap"
           }
          ],
          "heatmapgl": [
           {
            "colorbar": {
             "outlinewidth": 0,
             "ticks": ""
            },
            "colorscale": [
             [
              0,
              "#0d0887"
             ],
             [
              0.1111111111111111,
              "#46039f"
             ],
             [
              0.2222222222222222,
              "#7201a8"
             ],
             [
              0.3333333333333333,
              "#9c179e"
             ],
             [
              0.4444444444444444,
              "#bd3786"
             ],
             [
              0.5555555555555556,
              "#d8576b"
             ],
             [
              0.6666666666666666,
              "#ed7953"
             ],
             [
              0.7777777777777778,
              "#fb9f3a"
             ],
             [
              0.8888888888888888,
              "#fdca26"
             ],
             [
              1,
              "#f0f921"
             ]
            ],
            "type": "heatmapgl"
           }
          ],
          "histogram": [
           {
            "marker": {
             "pattern": {
              "fillmode": "overlay",
              "size": 10,
              "solidity": 0.2
             }
            },
            "type": "histogram"
           }
          ],
          "histogram2d": [
           {
            "colorbar": {
             "outlinewidth": 0,
             "ticks": ""
            },
            "colorscale": [
             [
              0,
              "#0d0887"
             ],
             [
              0.1111111111111111,
              "#46039f"
             ],
             [
              0.2222222222222222,
              "#7201a8"
             ],
             [
              0.3333333333333333,
              "#9c179e"
             ],
             [
              0.4444444444444444,
              "#bd3786"
             ],
             [
              0.5555555555555556,
              "#d8576b"
             ],
             [
              0.6666666666666666,
              "#ed7953"
             ],
             [
              0.7777777777777778,
              "#fb9f3a"
             ],
             [
              0.8888888888888888,
              "#fdca26"
             ],
             [
              1,
              "#f0f921"
             ]
            ],
            "type": "histogram2d"
           }
          ],
          "histogram2dcontour": [
           {
            "colorbar": {
             "outlinewidth": 0,
             "ticks": ""
            },
            "colorscale": [
             [
              0,
              "#0d0887"
             ],
             [
              0.1111111111111111,
              "#46039f"
             ],
             [
              0.2222222222222222,
              "#7201a8"
             ],
             [
              0.3333333333333333,
              "#9c179e"
             ],
             [
              0.4444444444444444,
              "#bd3786"
             ],
             [
              0.5555555555555556,
              "#d8576b"
             ],
             [
              0.6666666666666666,
              "#ed7953"
             ],
             [
              0.7777777777777778,
              "#fb9f3a"
             ],
             [
              0.8888888888888888,
              "#fdca26"
             ],
             [
              1,
              "#f0f921"
             ]
            ],
            "type": "histogram2dcontour"
           }
          ],
          "mesh3d": [
           {
            "colorbar": {
             "outlinewidth": 0,
             "ticks": ""
            },
            "type": "mesh3d"
           }
          ],
          "parcoords": [
           {
            "line": {
             "colorbar": {
              "outlinewidth": 0,
              "ticks": ""
             }
            },
            "type": "parcoords"
           }
          ],
          "pie": [
           {
            "automargin": true,
            "type": "pie"
           }
          ],
          "scatter": [
           {
            "fillpattern": {
             "fillmode": "overlay",
             "size": 10,
             "solidity": 0.2
            },
            "type": "scatter"
           }
          ],
          "scatter3d": [
           {
            "line": {
             "colorbar": {
              "outlinewidth": 0,
              "ticks": ""
             }
            },
            "marker": {
             "colorbar": {
              "outlinewidth": 0,
              "ticks": ""
             }
            },
            "type": "scatter3d"
           }
          ],
          "scattercarpet": [
           {
            "marker": {
             "colorbar": {
              "outlinewidth": 0,
              "ticks": ""
             }
            },
            "type": "scattercarpet"
           }
          ],
          "scattergeo": [
           {
            "marker": {
             "colorbar": {
              "outlinewidth": 0,
              "ticks": ""
             }
            },
            "type": "scattergeo"
           }
          ],
          "scattergl": [
           {
            "marker": {
             "colorbar": {
              "outlinewidth": 0,
              "ticks": ""
             }
            },
            "type": "scattergl"
           }
          ],
          "scattermapbox": [
           {
            "marker": {
             "colorbar": {
              "outlinewidth": 0,
              "ticks": ""
             }
            },
            "type": "scattermapbox"
           }
          ],
          "scatterpolar": [
           {
            "marker": {
             "colorbar": {
              "outlinewidth": 0,
              "ticks": ""
             }
            },
            "type": "scatterpolar"
           }
          ],
          "scatterpolargl": [
           {
            "marker": {
             "colorbar": {
              "outlinewidth": 0,
              "ticks": ""
             }
            },
            "type": "scatterpolargl"
           }
          ],
          "scatterternary": [
           {
            "marker": {
             "colorbar": {
              "outlinewidth": 0,
              "ticks": ""
             }
            },
            "type": "scatterternary"
           }
          ],
          "surface": [
           {
            "colorbar": {
             "outlinewidth": 0,
             "ticks": ""
            },
            "colorscale": [
             [
              0,
              "#0d0887"
             ],
             [
              0.1111111111111111,
              "#46039f"
             ],
             [
              0.2222222222222222,
              "#7201a8"
             ],
             [
              0.3333333333333333,
              "#9c179e"
             ],
             [
              0.4444444444444444,
              "#bd3786"
             ],
             [
              0.5555555555555556,
              "#d8576b"
             ],
             [
              0.6666666666666666,
              "#ed7953"
             ],
             [
              0.7777777777777778,
              "#fb9f3a"
             ],
             [
              0.8888888888888888,
              "#fdca26"
             ],
             [
              1,
              "#f0f921"
             ]
            ],
            "type": "surface"
           }
          ],
          "table": [
           {
            "cells": {
             "fill": {
              "color": "#EBF0F8"
             },
             "line": {
              "color": "white"
             }
            },
            "header": {
             "fill": {
              "color": "#C8D4E3"
             },
             "line": {
              "color": "white"
             }
            },
            "type": "table"
           }
          ]
         },
         "layout": {
          "annotationdefaults": {
           "arrowcolor": "#2a3f5f",
           "arrowhead": 0,
           "arrowwidth": 1
          },
          "autotypenumbers": "strict",
          "coloraxis": {
           "colorbar": {
            "outlinewidth": 0,
            "ticks": ""
           }
          },
          "colorscale": {
           "diverging": [
            [
             0,
             "#8e0152"
            ],
            [
             0.1,
             "#c51b7d"
            ],
            [
             0.2,
             "#de77ae"
            ],
            [
             0.3,
             "#f1b6da"
            ],
            [
             0.4,
             "#fde0ef"
            ],
            [
             0.5,
             "#f7f7f7"
            ],
            [
             0.6,
             "#e6f5d0"
            ],
            [
             0.7,
             "#b8e186"
            ],
            [
             0.8,
             "#7fbc41"
            ],
            [
             0.9,
             "#4d9221"
            ],
            [
             1,
             "#276419"
            ]
           ],
           "sequential": [
            [
             0,
             "#0d0887"
            ],
            [
             0.1111111111111111,
             "#46039f"
            ],
            [
             0.2222222222222222,
             "#7201a8"
            ],
            [
             0.3333333333333333,
             "#9c179e"
            ],
            [
             0.4444444444444444,
             "#bd3786"
            ],
            [
             0.5555555555555556,
             "#d8576b"
            ],
            [
             0.6666666666666666,
             "#ed7953"
            ],
            [
             0.7777777777777778,
             "#fb9f3a"
            ],
            [
             0.8888888888888888,
             "#fdca26"
            ],
            [
             1,
             "#f0f921"
            ]
           ],
           "sequentialminus": [
            [
             0,
             "#0d0887"
            ],
            [
             0.1111111111111111,
             "#46039f"
            ],
            [
             0.2222222222222222,
             "#7201a8"
            ],
            [
             0.3333333333333333,
             "#9c179e"
            ],
            [
             0.4444444444444444,
             "#bd3786"
            ],
            [
             0.5555555555555556,
             "#d8576b"
            ],
            [
             0.6666666666666666,
             "#ed7953"
            ],
            [
             0.7777777777777778,
             "#fb9f3a"
            ],
            [
             0.8888888888888888,
             "#fdca26"
            ],
            [
             1,
             "#f0f921"
            ]
           ]
          },
          "colorway": [
           "#636efa",
           "#EF553B",
           "#00cc96",
           "#ab63fa",
           "#FFA15A",
           "#19d3f3",
           "#FF6692",
           "#B6E880",
           "#FF97FF",
           "#FECB52"
          ],
          "font": {
           "color": "#2a3f5f"
          },
          "geo": {
           "bgcolor": "white",
           "lakecolor": "white",
           "landcolor": "#E5ECF6",
           "showlakes": true,
           "showland": true,
           "subunitcolor": "white"
          },
          "hoverlabel": {
           "align": "left"
          },
          "hovermode": "closest",
          "mapbox": {
           "style": "light"
          },
          "paper_bgcolor": "white",
          "plot_bgcolor": "#E5ECF6",
          "polar": {
           "angularaxis": {
            "gridcolor": "white",
            "linecolor": "white",
            "ticks": ""
           },
           "bgcolor": "#E5ECF6",
           "radialaxis": {
            "gridcolor": "white",
            "linecolor": "white",
            "ticks": ""
           }
          },
          "scene": {
           "xaxis": {
            "backgroundcolor": "#E5ECF6",
            "gridcolor": "white",
            "gridwidth": 2,
            "linecolor": "white",
            "showbackground": true,
            "ticks": "",
            "zerolinecolor": "white"
           },
           "yaxis": {
            "backgroundcolor": "#E5ECF6",
            "gridcolor": "white",
            "gridwidth": 2,
            "linecolor": "white",
            "showbackground": true,
            "ticks": "",
            "zerolinecolor": "white"
           },
           "zaxis": {
            "backgroundcolor": "#E5ECF6",
            "gridcolor": "white",
            "gridwidth": 2,
            "linecolor": "white",
            "showbackground": true,
            "ticks": "",
            "zerolinecolor": "white"
           }
          },
          "shapedefaults": {
           "line": {
            "color": "#2a3f5f"
           }
          },
          "ternary": {
           "aaxis": {
            "gridcolor": "white",
            "linecolor": "white",
            "ticks": ""
           },
           "baxis": {
            "gridcolor": "white",
            "linecolor": "white",
            "ticks": ""
           },
           "bgcolor": "#E5ECF6",
           "caxis": {
            "gridcolor": "white",
            "linecolor": "white",
            "ticks": ""
           }
          },
          "title": {
           "x": 0.05
          },
          "xaxis": {
           "automargin": true,
           "gridcolor": "white",
           "linecolor": "white",
           "ticks": "",
           "title": {
            "standoff": 15
           },
           "zerolinecolor": "white",
           "zerolinewidth": 2
          },
          "yaxis": {
           "automargin": true,
           "gridcolor": "white",
           "linecolor": "white",
           "ticks": "",
           "title": {
            "standoff": 15
           },
           "zerolinecolor": "white",
           "zerolinewidth": 2
          }
         }
        },
        "title": {
         "text": "Average Daily Calorie Intake by Gender"
        },
        "xaxis": {
         "anchor": "y",
         "domain": [
          0,
          1
         ],
         "title": {
          "text": "Gender"
         }
        },
        "yaxis": {
         "anchor": "x",
         "domain": [
          0,
          1
         ],
         "title": {
          "text": "Average Daily Calories"
         }
        }
       }
      }
     },
     "metadata": {},
     "output_type": "display_data"
    }
   ],
   "source": [
    "# Step 1: Sum total intake per day per gender\n",
    "daily_intake = entire_dataset.groupby(['Gender', 'date']).sum().reset_index()\n",
    "\n",
    "# Step 2: Compute the average daily intake per gender\n",
    "avg_daily_intake = daily_intake.groupby('Gender').mean().reset_index()\n",
    "\n",
    "# Step 3: Plot the results\n",
    "px.bar(avg_daily_intake, x='Gender', y='calorie', title='Average Daily Calorie Intake by Gender',\n",
    "       labels={'calorie': 'Average Daily Calories'})\n"
   ]
  },
  {
   "cell_type": "code",
   "execution_count": 72,
   "metadata": {},
   "outputs": [
    {
     "data": {
      "application/vnd.plotly.v1+json": {
       "config": {
        "plotlyServerURL": "https://plot.ly"
       },
       "data": [
        {
         "alignmentgroup": "True",
         "hovertemplate": "Nutrient=protein<br>Gender=%{x}<br>Average Intake=%{y}<extra></extra>",
         "legendgroup": "protein",
         "marker": {
          "color": "#636efa",
          "pattern": {
           "shape": ""
          }
         },
         "name": "protein",
         "offsetgroup": "protein",
         "orientation": "v",
         "showlegend": true,
         "textposition": "auto",
         "type": "bar",
         "x": [
          "FEMALE",
          "MALE"
         ],
         "xaxis": "x",
         "y": [
          116.20192307692308,
          92.5890909090909
         ],
         "yaxis": "y"
        },
        {
         "alignmentgroup": "True",
         "hovertemplate": "Nutrient=dietary_fiber<br>Gender=%{x}<br>Average Intake=%{y}<extra></extra>",
         "legendgroup": "dietary_fiber",
         "marker": {
          "color": "#EF553B",
          "pattern": {
           "shape": ""
          }
         },
         "name": "dietary_fiber",
         "offsetgroup": "dietary_fiber",
         "orientation": "v",
         "showlegend": true,
         "textposition": "auto",
         "type": "bar",
         "x": [
          "FEMALE",
          "MALE"
         ],
         "xaxis": "x",
         "y": [
          33.00961538461539,
          15.692727272727273
         ],
         "yaxis": "y"
        },
        {
         "alignmentgroup": "True",
         "hovertemplate": "Nutrient=sugar<br>Gender=%{x}<br>Average Intake=%{y}<extra></extra>",
         "legendgroup": "sugar",
         "marker": {
          "color": "#00cc96",
          "pattern": {
           "shape": ""
          }
         },
         "name": "sugar",
         "offsetgroup": "sugar",
         "orientation": "v",
         "showlegend": true,
         "textposition": "auto",
         "type": "bar",
         "x": [
          "FEMALE",
          "MALE"
         ],
         "xaxis": "x",
         "y": [
          119.91346153846153,
          121.42363636363636
         ],
         "yaxis": "y"
        }
       ],
       "layout": {
        "barmode": "group",
        "legend": {
         "title": {
          "text": "Nutrient"
         },
         "tracegroupgap": 0
        },
        "template": {
         "data": {
          "bar": [
           {
            "error_x": {
             "color": "#2a3f5f"
            },
            "error_y": {
             "color": "#2a3f5f"
            },
            "marker": {
             "line": {
              "color": "#E5ECF6",
              "width": 0.5
             },
             "pattern": {
              "fillmode": "overlay",
              "size": 10,
              "solidity": 0.2
             }
            },
            "type": "bar"
           }
          ],
          "barpolar": [
           {
            "marker": {
             "line": {
              "color": "#E5ECF6",
              "width": 0.5
             },
             "pattern": {
              "fillmode": "overlay",
              "size": 10,
              "solidity": 0.2
             }
            },
            "type": "barpolar"
           }
          ],
          "carpet": [
           {
            "aaxis": {
             "endlinecolor": "#2a3f5f",
             "gridcolor": "white",
             "linecolor": "white",
             "minorgridcolor": "white",
             "startlinecolor": "#2a3f5f"
            },
            "baxis": {
             "endlinecolor": "#2a3f5f",
             "gridcolor": "white",
             "linecolor": "white",
             "minorgridcolor": "white",
             "startlinecolor": "#2a3f5f"
            },
            "type": "carpet"
           }
          ],
          "choropleth": [
           {
            "colorbar": {
             "outlinewidth": 0,
             "ticks": ""
            },
            "type": "choropleth"
           }
          ],
          "contour": [
           {
            "colorbar": {
             "outlinewidth": 0,
             "ticks": ""
            },
            "colorscale": [
             [
              0,
              "#0d0887"
             ],
             [
              0.1111111111111111,
              "#46039f"
             ],
             [
              0.2222222222222222,
              "#7201a8"
             ],
             [
              0.3333333333333333,
              "#9c179e"
             ],
             [
              0.4444444444444444,
              "#bd3786"
             ],
             [
              0.5555555555555556,
              "#d8576b"
             ],
             [
              0.6666666666666666,
              "#ed7953"
             ],
             [
              0.7777777777777778,
              "#fb9f3a"
             ],
             [
              0.8888888888888888,
              "#fdca26"
             ],
             [
              1,
              "#f0f921"
             ]
            ],
            "type": "contour"
           }
          ],
          "contourcarpet": [
           {
            "colorbar": {
             "outlinewidth": 0,
             "ticks": ""
            },
            "type": "contourcarpet"
           }
          ],
          "heatmap": [
           {
            "colorbar": {
             "outlinewidth": 0,
             "ticks": ""
            },
            "colorscale": [
             [
              0,
              "#0d0887"
             ],
             [
              0.1111111111111111,
              "#46039f"
             ],
             [
              0.2222222222222222,
              "#7201a8"
             ],
             [
              0.3333333333333333,
              "#9c179e"
             ],
             [
              0.4444444444444444,
              "#bd3786"
             ],
             [
              0.5555555555555556,
              "#d8576b"
             ],
             [
              0.6666666666666666,
              "#ed7953"
             ],
             [
              0.7777777777777778,
              "#fb9f3a"
             ],
             [
              0.8888888888888888,
              "#fdca26"
             ],
             [
              1,
              "#f0f921"
             ]
            ],
            "type": "heatmap"
           }
          ],
          "heatmapgl": [
           {
            "colorbar": {
             "outlinewidth": 0,
             "ticks": ""
            },
            "colorscale": [
             [
              0,
              "#0d0887"
             ],
             [
              0.1111111111111111,
              "#46039f"
             ],
             [
              0.2222222222222222,
              "#7201a8"
             ],
             [
              0.3333333333333333,
              "#9c179e"
             ],
             [
              0.4444444444444444,
              "#bd3786"
             ],
             [
              0.5555555555555556,
              "#d8576b"
             ],
             [
              0.6666666666666666,
              "#ed7953"
             ],
             [
              0.7777777777777778,
              "#fb9f3a"
             ],
             [
              0.8888888888888888,
              "#fdca26"
             ],
             [
              1,
              "#f0f921"
             ]
            ],
            "type": "heatmapgl"
           }
          ],
          "histogram": [
           {
            "marker": {
             "pattern": {
              "fillmode": "overlay",
              "size": 10,
              "solidity": 0.2
             }
            },
            "type": "histogram"
           }
          ],
          "histogram2d": [
           {
            "colorbar": {
             "outlinewidth": 0,
             "ticks": ""
            },
            "colorscale": [
             [
              0,
              "#0d0887"
             ],
             [
              0.1111111111111111,
              "#46039f"
             ],
             [
              0.2222222222222222,
              "#7201a8"
             ],
             [
              0.3333333333333333,
              "#9c179e"
             ],
             [
              0.4444444444444444,
              "#bd3786"
             ],
             [
              0.5555555555555556,
              "#d8576b"
             ],
             [
              0.6666666666666666,
              "#ed7953"
             ],
             [
              0.7777777777777778,
              "#fb9f3a"
             ],
             [
              0.8888888888888888,
              "#fdca26"
             ],
             [
              1,
              "#f0f921"
             ]
            ],
            "type": "histogram2d"
           }
          ],
          "histogram2dcontour": [
           {
            "colorbar": {
             "outlinewidth": 0,
             "ticks": ""
            },
            "colorscale": [
             [
              0,
              "#0d0887"
             ],
             [
              0.1111111111111111,
              "#46039f"
             ],
             [
              0.2222222222222222,
              "#7201a8"
             ],
             [
              0.3333333333333333,
              "#9c179e"
             ],
             [
              0.4444444444444444,
              "#bd3786"
             ],
             [
              0.5555555555555556,
              "#d8576b"
             ],
             [
              0.6666666666666666,
              "#ed7953"
             ],
             [
              0.7777777777777778,
              "#fb9f3a"
             ],
             [
              0.8888888888888888,
              "#fdca26"
             ],
             [
              1,
              "#f0f921"
             ]
            ],
            "type": "histogram2dcontour"
           }
          ],
          "mesh3d": [
           {
            "colorbar": {
             "outlinewidth": 0,
             "ticks": ""
            },
            "type": "mesh3d"
           }
          ],
          "parcoords": [
           {
            "line": {
             "colorbar": {
              "outlinewidth": 0,
              "ticks": ""
             }
            },
            "type": "parcoords"
           }
          ],
          "pie": [
           {
            "automargin": true,
            "type": "pie"
           }
          ],
          "scatter": [
           {
            "fillpattern": {
             "fillmode": "overlay",
             "size": 10,
             "solidity": 0.2
            },
            "type": "scatter"
           }
          ],
          "scatter3d": [
           {
            "line": {
             "colorbar": {
              "outlinewidth": 0,
              "ticks": ""
             }
            },
            "marker": {
             "colorbar": {
              "outlinewidth": 0,
              "ticks": ""
             }
            },
            "type": "scatter3d"
           }
          ],
          "scattercarpet": [
           {
            "marker": {
             "colorbar": {
              "outlinewidth": 0,
              "ticks": ""
             }
            },
            "type": "scattercarpet"
           }
          ],
          "scattergeo": [
           {
            "marker": {
             "colorbar": {
              "outlinewidth": 0,
              "ticks": ""
             }
            },
            "type": "scattergeo"
           }
          ],
          "scattergl": [
           {
            "marker": {
             "colorbar": {
              "outlinewidth": 0,
              "ticks": ""
             }
            },
            "type": "scattergl"
           }
          ],
          "scattermapbox": [
           {
            "marker": {
             "colorbar": {
              "outlinewidth": 0,
              "ticks": ""
             }
            },
            "type": "scattermapbox"
           }
          ],
          "scatterpolar": [
           {
            "marker": {
             "colorbar": {
              "outlinewidth": 0,
              "ticks": ""
             }
            },
            "type": "scatterpolar"
           }
          ],
          "scatterpolargl": [
           {
            "marker": {
             "colorbar": {
              "outlinewidth": 0,
              "ticks": ""
             }
            },
            "type": "scatterpolargl"
           }
          ],
          "scatterternary": [
           {
            "marker": {
             "colorbar": {
              "outlinewidth": 0,
              "ticks": ""
             }
            },
            "type": "scatterternary"
           }
          ],
          "surface": [
           {
            "colorbar": {
             "outlinewidth": 0,
             "ticks": ""
            },
            "colorscale": [
             [
              0,
              "#0d0887"
             ],
             [
              0.1111111111111111,
              "#46039f"
             ],
             [
              0.2222222222222222,
              "#7201a8"
             ],
             [
              0.3333333333333333,
              "#9c179e"
             ],
             [
              0.4444444444444444,
              "#bd3786"
             ],
             [
              0.5555555555555556,
              "#d8576b"
             ],
             [
              0.6666666666666666,
              "#ed7953"
             ],
             [
              0.7777777777777778,
              "#fb9f3a"
             ],
             [
              0.8888888888888888,
              "#fdca26"
             ],
             [
              1,
              "#f0f921"
             ]
            ],
            "type": "surface"
           }
          ],
          "table": [
           {
            "cells": {
             "fill": {
              "color": "#EBF0F8"
             },
             "line": {
              "color": "white"
             }
            },
            "header": {
             "fill": {
              "color": "#C8D4E3"
             },
             "line": {
              "color": "white"
             }
            },
            "type": "table"
           }
          ]
         },
         "layout": {
          "annotationdefaults": {
           "arrowcolor": "#2a3f5f",
           "arrowhead": 0,
           "arrowwidth": 1
          },
          "autotypenumbers": "strict",
          "coloraxis": {
           "colorbar": {
            "outlinewidth": 0,
            "ticks": ""
           }
          },
          "colorscale": {
           "diverging": [
            [
             0,
             "#8e0152"
            ],
            [
             0.1,
             "#c51b7d"
            ],
            [
             0.2,
             "#de77ae"
            ],
            [
             0.3,
             "#f1b6da"
            ],
            [
             0.4,
             "#fde0ef"
            ],
            [
             0.5,
             "#f7f7f7"
            ],
            [
             0.6,
             "#e6f5d0"
            ],
            [
             0.7,
             "#b8e186"
            ],
            [
             0.8,
             "#7fbc41"
            ],
            [
             0.9,
             "#4d9221"
            ],
            [
             1,
             "#276419"
            ]
           ],
           "sequential": [
            [
             0,
             "#0d0887"
            ],
            [
             0.1111111111111111,
             "#46039f"
            ],
            [
             0.2222222222222222,
             "#7201a8"
            ],
            [
             0.3333333333333333,
             "#9c179e"
            ],
            [
             0.4444444444444444,
             "#bd3786"
            ],
            [
             0.5555555555555556,
             "#d8576b"
            ],
            [
             0.6666666666666666,
             "#ed7953"
            ],
            [
             0.7777777777777778,
             "#fb9f3a"
            ],
            [
             0.8888888888888888,
             "#fdca26"
            ],
            [
             1,
             "#f0f921"
            ]
           ],
           "sequentialminus": [
            [
             0,
             "#0d0887"
            ],
            [
             0.1111111111111111,
             "#46039f"
            ],
            [
             0.2222222222222222,
             "#7201a8"
            ],
            [
             0.3333333333333333,
             "#9c179e"
            ],
            [
             0.4444444444444444,
             "#bd3786"
            ],
            [
             0.5555555555555556,
             "#d8576b"
            ],
            [
             0.6666666666666666,
             "#ed7953"
            ],
            [
             0.7777777777777778,
             "#fb9f3a"
            ],
            [
             0.8888888888888888,
             "#fdca26"
            ],
            [
             1,
             "#f0f921"
            ]
           ]
          },
          "colorway": [
           "#636efa",
           "#EF553B",
           "#00cc96",
           "#ab63fa",
           "#FFA15A",
           "#19d3f3",
           "#FF6692",
           "#B6E880",
           "#FF97FF",
           "#FECB52"
          ],
          "font": {
           "color": "#2a3f5f"
          },
          "geo": {
           "bgcolor": "white",
           "lakecolor": "white",
           "landcolor": "#E5ECF6",
           "showlakes": true,
           "showland": true,
           "subunitcolor": "white"
          },
          "hoverlabel": {
           "align": "left"
          },
          "hovermode": "closest",
          "mapbox": {
           "style": "light"
          },
          "paper_bgcolor": "white",
          "plot_bgcolor": "#E5ECF6",
          "polar": {
           "angularaxis": {
            "gridcolor": "white",
            "linecolor": "white",
            "ticks": ""
           },
           "bgcolor": "#E5ECF6",
           "radialaxis": {
            "gridcolor": "white",
            "linecolor": "white",
            "ticks": ""
           }
          },
          "scene": {
           "xaxis": {
            "backgroundcolor": "#E5ECF6",
            "gridcolor": "white",
            "gridwidth": 2,
            "linecolor": "white",
            "showbackground": true,
            "ticks": "",
            "zerolinecolor": "white"
           },
           "yaxis": {
            "backgroundcolor": "#E5ECF6",
            "gridcolor": "white",
            "gridwidth": 2,
            "linecolor": "white",
            "showbackground": true,
            "ticks": "",
            "zerolinecolor": "white"
           },
           "zaxis": {
            "backgroundcolor": "#E5ECF6",
            "gridcolor": "white",
            "gridwidth": 2,
            "linecolor": "white",
            "showbackground": true,
            "ticks": "",
            "zerolinecolor": "white"
           }
          },
          "shapedefaults": {
           "line": {
            "color": "#2a3f5f"
           }
          },
          "ternary": {
           "aaxis": {
            "gridcolor": "white",
            "linecolor": "white",
            "ticks": ""
           },
           "baxis": {
            "gridcolor": "white",
            "linecolor": "white",
            "ticks": ""
           },
           "bgcolor": "#E5ECF6",
           "caxis": {
            "gridcolor": "white",
            "linecolor": "white",
            "ticks": ""
           }
          },
          "title": {
           "x": 0.05
          },
          "xaxis": {
           "automargin": true,
           "gridcolor": "white",
           "linecolor": "white",
           "ticks": "",
           "title": {
            "standoff": 15
           },
           "zerolinecolor": "white",
           "zerolinewidth": 2
          },
          "yaxis": {
           "automargin": true,
           "gridcolor": "white",
           "linecolor": "white",
           "ticks": "",
           "title": {
            "standoff": 15
           },
           "zerolinecolor": "white",
           "zerolinewidth": 2
          }
         }
        },
        "title": {
         "text": "Average Daily Nutrient Intake by Gender"
        },
        "xaxis": {
         "anchor": "y",
         "domain": [
          0,
          1
         ],
         "title": {
          "text": "Gender"
         }
        },
        "yaxis": {
         "anchor": "x",
         "domain": [
          0,
          1
         ],
         "title": {
          "text": "Average Intake"
         }
        }
       }
      }
     },
     "metadata": {},
     "output_type": "display_data"
    }
   ],
   "source": [
    "# Reshape data: Convert columns into long format for grouped bar plot\n",
    "melted_data = avg_daily_intake.melt(id_vars=['Gender'], \n",
    "                                    value_vars=['protein', 'dietary_fiber', 'sugar'], \n",
    "                                    var_name='Nutrient', \n",
    "                                    value_name='Average Intake')\n",
    "\n",
    "# Create grouped bar chart\n",
    "fig = px.bar(melted_data, x='Gender', y='Average Intake', color='Nutrient',\n",
    "             barmode='group', title='Average Daily Nutrient Intake by Gender')\n",
    "\n",
    "fig.show()\n"
   ]
  },
  {
   "cell_type": "code",
   "execution_count": 73,
   "metadata": {},
   "outputs": [
    {
     "data": {
      "application/vnd.plotly.v1+json": {
       "config": {
        "plotlyServerURL": "https://plot.ly"
       },
       "data": [
        {
         "alignmentgroup": "True",
         "hovertemplate": "Nutrient=protein<br>Gender=%{x}<br>Average Intake=%{y}<extra></extra>",
         "legendgroup": "protein",
         "marker": {
          "color": "#636efa",
          "pattern": {
           "shape": ""
          }
         },
         "name": "protein",
         "offsetgroup": "protein",
         "orientation": "v",
         "showlegend": true,
         "textposition": "auto",
         "type": "bar",
         "x": [
          "FEMALE",
          "MALE"
         ],
         "xaxis": "x",
         "y": [
          116.20192307692308,
          92.5890909090909
         ],
         "yaxis": "y"
        },
        {
         "alignmentgroup": "True",
         "hovertemplate": "Nutrient=dietary_fiber<br>Gender=%{x}<br>Average Intake=%{y}<extra></extra>",
         "legendgroup": "dietary_fiber",
         "marker": {
          "color": "#EF553B",
          "pattern": {
           "shape": ""
          }
         },
         "name": "dietary_fiber",
         "offsetgroup": "dietary_fiber",
         "orientation": "v",
         "showlegend": true,
         "textposition": "auto",
         "type": "bar",
         "x": [
          "FEMALE",
          "MALE"
         ],
         "xaxis": "x",
         "y": [
          33.00961538461539,
          15.692727272727273
         ],
         "yaxis": "y"
        },
        {
         "alignmentgroup": "True",
         "hovertemplate": "Nutrient=sugar<br>Gender=%{x}<br>Average Intake=%{y}<extra></extra>",
         "legendgroup": "sugar",
         "marker": {
          "color": "#00cc96",
          "pattern": {
           "shape": ""
          }
         },
         "name": "sugar",
         "offsetgroup": "sugar",
         "orientation": "v",
         "showlegend": true,
         "textposition": "auto",
         "type": "bar",
         "x": [
          "FEMALE",
          "MALE"
         ],
         "xaxis": "x",
         "y": [
          119.91346153846153,
          121.42363636363636
         ],
         "yaxis": "y"
        }
       ],
       "layout": {
        "barmode": "stack",
        "legend": {
         "title": {
          "text": "Nutrient"
         },
         "tracegroupgap": 0
        },
        "template": {
         "data": {
          "bar": [
           {
            "error_x": {
             "color": "#2a3f5f"
            },
            "error_y": {
             "color": "#2a3f5f"
            },
            "marker": {
             "line": {
              "color": "#E5ECF6",
              "width": 0.5
             },
             "pattern": {
              "fillmode": "overlay",
              "size": 10,
              "solidity": 0.2
             }
            },
            "type": "bar"
           }
          ],
          "barpolar": [
           {
            "marker": {
             "line": {
              "color": "#E5ECF6",
              "width": 0.5
             },
             "pattern": {
              "fillmode": "overlay",
              "size": 10,
              "solidity": 0.2
             }
            },
            "type": "barpolar"
           }
          ],
          "carpet": [
           {
            "aaxis": {
             "endlinecolor": "#2a3f5f",
             "gridcolor": "white",
             "linecolor": "white",
             "minorgridcolor": "white",
             "startlinecolor": "#2a3f5f"
            },
            "baxis": {
             "endlinecolor": "#2a3f5f",
             "gridcolor": "white",
             "linecolor": "white",
             "minorgridcolor": "white",
             "startlinecolor": "#2a3f5f"
            },
            "type": "carpet"
           }
          ],
          "choropleth": [
           {
            "colorbar": {
             "outlinewidth": 0,
             "ticks": ""
            },
            "type": "choropleth"
           }
          ],
          "contour": [
           {
            "colorbar": {
             "outlinewidth": 0,
             "ticks": ""
            },
            "colorscale": [
             [
              0,
              "#0d0887"
             ],
             [
              0.1111111111111111,
              "#46039f"
             ],
             [
              0.2222222222222222,
              "#7201a8"
             ],
             [
              0.3333333333333333,
              "#9c179e"
             ],
             [
              0.4444444444444444,
              "#bd3786"
             ],
             [
              0.5555555555555556,
              "#d8576b"
             ],
             [
              0.6666666666666666,
              "#ed7953"
             ],
             [
              0.7777777777777778,
              "#fb9f3a"
             ],
             [
              0.8888888888888888,
              "#fdca26"
             ],
             [
              1,
              "#f0f921"
             ]
            ],
            "type": "contour"
           }
          ],
          "contourcarpet": [
           {
            "colorbar": {
             "outlinewidth": 0,
             "ticks": ""
            },
            "type": "contourcarpet"
           }
          ],
          "heatmap": [
           {
            "colorbar": {
             "outlinewidth": 0,
             "ticks": ""
            },
            "colorscale": [
             [
              0,
              "#0d0887"
             ],
             [
              0.1111111111111111,
              "#46039f"
             ],
             [
              0.2222222222222222,
              "#7201a8"
             ],
             [
              0.3333333333333333,
              "#9c179e"
             ],
             [
              0.4444444444444444,
              "#bd3786"
             ],
             [
              0.5555555555555556,
              "#d8576b"
             ],
             [
              0.6666666666666666,
              "#ed7953"
             ],
             [
              0.7777777777777778,
              "#fb9f3a"
             ],
             [
              0.8888888888888888,
              "#fdca26"
             ],
             [
              1,
              "#f0f921"
             ]
            ],
            "type": "heatmap"
           }
          ],
          "heatmapgl": [
           {
            "colorbar": {
             "outlinewidth": 0,
             "ticks": ""
            },
            "colorscale": [
             [
              0,
              "#0d0887"
             ],
             [
              0.1111111111111111,
              "#46039f"
             ],
             [
              0.2222222222222222,
              "#7201a8"
             ],
             [
              0.3333333333333333,
              "#9c179e"
             ],
             [
              0.4444444444444444,
              "#bd3786"
             ],
             [
              0.5555555555555556,
              "#d8576b"
             ],
             [
              0.6666666666666666,
              "#ed7953"
             ],
             [
              0.7777777777777778,
              "#fb9f3a"
             ],
             [
              0.8888888888888888,
              "#fdca26"
             ],
             [
              1,
              "#f0f921"
             ]
            ],
            "type": "heatmapgl"
           }
          ],
          "histogram": [
           {
            "marker": {
             "pattern": {
              "fillmode": "overlay",
              "size": 10,
              "solidity": 0.2
             }
            },
            "type": "histogram"
           }
          ],
          "histogram2d": [
           {
            "colorbar": {
             "outlinewidth": 0,
             "ticks": ""
            },
            "colorscale": [
             [
              0,
              "#0d0887"
             ],
             [
              0.1111111111111111,
              "#46039f"
             ],
             [
              0.2222222222222222,
              "#7201a8"
             ],
             [
              0.3333333333333333,
              "#9c179e"
             ],
             [
              0.4444444444444444,
              "#bd3786"
             ],
             [
              0.5555555555555556,
              "#d8576b"
             ],
             [
              0.6666666666666666,
              "#ed7953"
             ],
             [
              0.7777777777777778,
              "#fb9f3a"
             ],
             [
              0.8888888888888888,
              "#fdca26"
             ],
             [
              1,
              "#f0f921"
             ]
            ],
            "type": "histogram2d"
           }
          ],
          "histogram2dcontour": [
           {
            "colorbar": {
             "outlinewidth": 0,
             "ticks": ""
            },
            "colorscale": [
             [
              0,
              "#0d0887"
             ],
             [
              0.1111111111111111,
              "#46039f"
             ],
             [
              0.2222222222222222,
              "#7201a8"
             ],
             [
              0.3333333333333333,
              "#9c179e"
             ],
             [
              0.4444444444444444,
              "#bd3786"
             ],
             [
              0.5555555555555556,
              "#d8576b"
             ],
             [
              0.6666666666666666,
              "#ed7953"
             ],
             [
              0.7777777777777778,
              "#fb9f3a"
             ],
             [
              0.8888888888888888,
              "#fdca26"
             ],
             [
              1,
              "#f0f921"
             ]
            ],
            "type": "histogram2dcontour"
           }
          ],
          "mesh3d": [
           {
            "colorbar": {
             "outlinewidth": 0,
             "ticks": ""
            },
            "type": "mesh3d"
           }
          ],
          "parcoords": [
           {
            "line": {
             "colorbar": {
              "outlinewidth": 0,
              "ticks": ""
             }
            },
            "type": "parcoords"
           }
          ],
          "pie": [
           {
            "automargin": true,
            "type": "pie"
           }
          ],
          "scatter": [
           {
            "fillpattern": {
             "fillmode": "overlay",
             "size": 10,
             "solidity": 0.2
            },
            "type": "scatter"
           }
          ],
          "scatter3d": [
           {
            "line": {
             "colorbar": {
              "outlinewidth": 0,
              "ticks": ""
             }
            },
            "marker": {
             "colorbar": {
              "outlinewidth": 0,
              "ticks": ""
             }
            },
            "type": "scatter3d"
           }
          ],
          "scattercarpet": [
           {
            "marker": {
             "colorbar": {
              "outlinewidth": 0,
              "ticks": ""
             }
            },
            "type": "scattercarpet"
           }
          ],
          "scattergeo": [
           {
            "marker": {
             "colorbar": {
              "outlinewidth": 0,
              "ticks": ""
             }
            },
            "type": "scattergeo"
           }
          ],
          "scattergl": [
           {
            "marker": {
             "colorbar": {
              "outlinewidth": 0,
              "ticks": ""
             }
            },
            "type": "scattergl"
           }
          ],
          "scattermapbox": [
           {
            "marker": {
             "colorbar": {
              "outlinewidth": 0,
              "ticks": ""
             }
            },
            "type": "scattermapbox"
           }
          ],
          "scatterpolar": [
           {
            "marker": {
             "colorbar": {
              "outlinewidth": 0,
              "ticks": ""
             }
            },
            "type": "scatterpolar"
           }
          ],
          "scatterpolargl": [
           {
            "marker": {
             "colorbar": {
              "outlinewidth": 0,
              "ticks": ""
             }
            },
            "type": "scatterpolargl"
           }
          ],
          "scatterternary": [
           {
            "marker": {
             "colorbar": {
              "outlinewidth": 0,
              "ticks": ""
             }
            },
            "type": "scatterternary"
           }
          ],
          "surface": [
           {
            "colorbar": {
             "outlinewidth": 0,
             "ticks": ""
            },
            "colorscale": [
             [
              0,
              "#0d0887"
             ],
             [
              0.1111111111111111,
              "#46039f"
             ],
             [
              0.2222222222222222,
              "#7201a8"
             ],
             [
              0.3333333333333333,
              "#9c179e"
             ],
             [
              0.4444444444444444,
              "#bd3786"
             ],
             [
              0.5555555555555556,
              "#d8576b"
             ],
             [
              0.6666666666666666,
              "#ed7953"
             ],
             [
              0.7777777777777778,
              "#fb9f3a"
             ],
             [
              0.8888888888888888,
              "#fdca26"
             ],
             [
              1,
              "#f0f921"
             ]
            ],
            "type": "surface"
           }
          ],
          "table": [
           {
            "cells": {
             "fill": {
              "color": "#EBF0F8"
             },
             "line": {
              "color": "white"
             }
            },
            "header": {
             "fill": {
              "color": "#C8D4E3"
             },
             "line": {
              "color": "white"
             }
            },
            "type": "table"
           }
          ]
         },
         "layout": {
          "annotationdefaults": {
           "arrowcolor": "#2a3f5f",
           "arrowhead": 0,
           "arrowwidth": 1
          },
          "autotypenumbers": "strict",
          "coloraxis": {
           "colorbar": {
            "outlinewidth": 0,
            "ticks": ""
           }
          },
          "colorscale": {
           "diverging": [
            [
             0,
             "#8e0152"
            ],
            [
             0.1,
             "#c51b7d"
            ],
            [
             0.2,
             "#de77ae"
            ],
            [
             0.3,
             "#f1b6da"
            ],
            [
             0.4,
             "#fde0ef"
            ],
            [
             0.5,
             "#f7f7f7"
            ],
            [
             0.6,
             "#e6f5d0"
            ],
            [
             0.7,
             "#b8e186"
            ],
            [
             0.8,
             "#7fbc41"
            ],
            [
             0.9,
             "#4d9221"
            ],
            [
             1,
             "#276419"
            ]
           ],
           "sequential": [
            [
             0,
             "#0d0887"
            ],
            [
             0.1111111111111111,
             "#46039f"
            ],
            [
             0.2222222222222222,
             "#7201a8"
            ],
            [
             0.3333333333333333,
             "#9c179e"
            ],
            [
             0.4444444444444444,
             "#bd3786"
            ],
            [
             0.5555555555555556,
             "#d8576b"
            ],
            [
             0.6666666666666666,
             "#ed7953"
            ],
            [
             0.7777777777777778,
             "#fb9f3a"
            ],
            [
             0.8888888888888888,
             "#fdca26"
            ],
            [
             1,
             "#f0f921"
            ]
           ],
           "sequentialminus": [
            [
             0,
             "#0d0887"
            ],
            [
             0.1111111111111111,
             "#46039f"
            ],
            [
             0.2222222222222222,
             "#7201a8"
            ],
            [
             0.3333333333333333,
             "#9c179e"
            ],
            [
             0.4444444444444444,
             "#bd3786"
            ],
            [
             0.5555555555555556,
             "#d8576b"
            ],
            [
             0.6666666666666666,
             "#ed7953"
            ],
            [
             0.7777777777777778,
             "#fb9f3a"
            ],
            [
             0.8888888888888888,
             "#fdca26"
            ],
            [
             1,
             "#f0f921"
            ]
           ]
          },
          "colorway": [
           "#636efa",
           "#EF553B",
           "#00cc96",
           "#ab63fa",
           "#FFA15A",
           "#19d3f3",
           "#FF6692",
           "#B6E880",
           "#FF97FF",
           "#FECB52"
          ],
          "font": {
           "color": "#2a3f5f"
          },
          "geo": {
           "bgcolor": "white",
           "lakecolor": "white",
           "landcolor": "#E5ECF6",
           "showlakes": true,
           "showland": true,
           "subunitcolor": "white"
          },
          "hoverlabel": {
           "align": "left"
          },
          "hovermode": "closest",
          "mapbox": {
           "style": "light"
          },
          "paper_bgcolor": "white",
          "plot_bgcolor": "#E5ECF6",
          "polar": {
           "angularaxis": {
            "gridcolor": "white",
            "linecolor": "white",
            "ticks": ""
           },
           "bgcolor": "#E5ECF6",
           "radialaxis": {
            "gridcolor": "white",
            "linecolor": "white",
            "ticks": ""
           }
          },
          "scene": {
           "xaxis": {
            "backgroundcolor": "#E5ECF6",
            "gridcolor": "white",
            "gridwidth": 2,
            "linecolor": "white",
            "showbackground": true,
            "ticks": "",
            "zerolinecolor": "white"
           },
           "yaxis": {
            "backgroundcolor": "#E5ECF6",
            "gridcolor": "white",
            "gridwidth": 2,
            "linecolor": "white",
            "showbackground": true,
            "ticks": "",
            "zerolinecolor": "white"
           },
           "zaxis": {
            "backgroundcolor": "#E5ECF6",
            "gridcolor": "white",
            "gridwidth": 2,
            "linecolor": "white",
            "showbackground": true,
            "ticks": "",
            "zerolinecolor": "white"
           }
          },
          "shapedefaults": {
           "line": {
            "color": "#2a3f5f"
           }
          },
          "ternary": {
           "aaxis": {
            "gridcolor": "white",
            "linecolor": "white",
            "ticks": ""
           },
           "baxis": {
            "gridcolor": "white",
            "linecolor": "white",
            "ticks": ""
           },
           "bgcolor": "#E5ECF6",
           "caxis": {
            "gridcolor": "white",
            "linecolor": "white",
            "ticks": ""
           }
          },
          "title": {
           "x": 0.05
          },
          "xaxis": {
           "automargin": true,
           "gridcolor": "white",
           "linecolor": "white",
           "ticks": "",
           "title": {
            "standoff": 15
           },
           "zerolinecolor": "white",
           "zerolinewidth": 2
          },
          "yaxis": {
           "automargin": true,
           "gridcolor": "white",
           "linecolor": "white",
           "ticks": "",
           "title": {
            "standoff": 15
           },
           "zerolinecolor": "white",
           "zerolinewidth": 2
          }
         }
        },
        "title": {
         "text": "Average Daily Nutrient Intake by Gender"
        },
        "xaxis": {
         "anchor": "y",
         "domain": [
          0,
          1
         ],
         "title": {
          "text": "Gender"
         }
        },
        "yaxis": {
         "anchor": "x",
         "domain": [
          0,
          1
         ],
         "title": {
          "text": "Average Intake"
         }
        }
       }
      }
     },
     "metadata": {},
     "output_type": "display_data"
    }
   ],
   "source": [
    "fig = px.bar(melted_data, x='Gender', y='Average Intake', color='Nutrient',\n",
    "             barmode='stack', title='Average Daily Nutrient Intake by Gender')\n",
    "\n",
    "fig.show()\n"
   ]
  },
  {
   "cell_type": "code",
   "execution_count": 74,
   "metadata": {},
   "outputs": [],
   "source": [
    "entire_dataset.to_csv('data.csv')"
   ]
  },
  {
   "cell_type": "code",
   "execution_count": 75,
   "metadata": {},
   "outputs": [
    {
     "data": {
      "text/html": [
       "<div>\n",
       "<style scoped>\n",
       "    .dataframe tbody tr th:only-of-type {\n",
       "        vertical-align: middle;\n",
       "    }\n",
       "\n",
       "    .dataframe tbody tr th {\n",
       "        vertical-align: top;\n",
       "    }\n",
       "\n",
       "    .dataframe thead th {\n",
       "        text-align: right;\n",
       "    }\n",
       "</style>\n",
       "<table border=\"1\" class=\"dataframe\">\n",
       "  <thead>\n",
       "    <tr style=\"text-align: right;\">\n",
       "      <th></th>\n",
       "      <th>date</th>\n",
       "      <th>time</th>\n",
       "      <th>time_begin</th>\n",
       "      <th>time_end</th>\n",
       "      <th>logged_food</th>\n",
       "      <th>amount</th>\n",
       "      <th>unit</th>\n",
       "      <th>searched_food</th>\n",
       "      <th>calorie</th>\n",
       "      <th>total_carb</th>\n",
       "      <th>...</th>\n",
       "      <th>protein</th>\n",
       "      <th>total_fat</th>\n",
       "      <th>subject</th>\n",
       "      <th>time_of_day</th>\n",
       "      <th>ID</th>\n",
       "      <th>Gender</th>\n",
       "      <th>HbA1c</th>\n",
       "      <th>datetime</th>\n",
       "      <th>hour</th>\n",
       "      <th>class</th>\n",
       "    </tr>\n",
       "  </thead>\n",
       "  <tbody>\n",
       "    <tr>\n",
       "      <th>0</th>\n",
       "      <td>2020-02-13</td>\n",
       "      <td>2025-02-11 18:00:00</td>\n",
       "      <td>2020-02-13 18:00:00</td>\n",
       "      <td>NaN</td>\n",
       "      <td>Berry Smoothie</td>\n",
       "      <td>20.0</td>\n",
       "      <td>fluid ounce</td>\n",
       "      <td>Strawberry Smoothie</td>\n",
       "      <td>456.0</td>\n",
       "      <td>85.0</td>\n",
       "      <td>...</td>\n",
       "      <td>16.0</td>\n",
       "      <td>3.3</td>\n",
       "      <td>1.0</td>\n",
       "      <td>NaN</td>\n",
       "      <td>1</td>\n",
       "      <td>FEMALE</td>\n",
       "      <td>5.5</td>\n",
       "      <td>2020-02-13 18:00:00</td>\n",
       "      <td>18</td>\n",
       "      <td>beverages</td>\n",
       "    </tr>\n",
       "    <tr>\n",
       "      <th>1</th>\n",
       "      <td>2020-02-13</td>\n",
       "      <td>2025-02-11 20:30:00</td>\n",
       "      <td>2020-02-13 20:30:00</td>\n",
       "      <td>NaN</td>\n",
       "      <td>Chicken Leg</td>\n",
       "      <td>1.0</td>\n",
       "      <td>NaN</td>\n",
       "      <td>chicken leg</td>\n",
       "      <td>475.0</td>\n",
       "      <td>0.0</td>\n",
       "      <td>...</td>\n",
       "      <td>62.0</td>\n",
       "      <td>23.0</td>\n",
       "      <td>1.0</td>\n",
       "      <td>NaN</td>\n",
       "      <td>1</td>\n",
       "      <td>FEMALE</td>\n",
       "      <td>5.5</td>\n",
       "      <td>2020-02-13 20:30:00</td>\n",
       "      <td>20</td>\n",
       "      <td>meals</td>\n",
       "    </tr>\n",
       "    <tr>\n",
       "      <th>3</th>\n",
       "      <td>2020-02-14</td>\n",
       "      <td>2025-02-11 07:10:00</td>\n",
       "      <td>2020-02-14 07:10:00</td>\n",
       "      <td>NaN</td>\n",
       "      <td>Natrel Lactose Free 2 Percent</td>\n",
       "      <td>8.0</td>\n",
       "      <td>fluid ounce</td>\n",
       "      <td>(Natrel) Lactose Free 2% Partly Skimmed Milk</td>\n",
       "      <td>120.0</td>\n",
       "      <td>9.0</td>\n",
       "      <td>...</td>\n",
       "      <td>12.0</td>\n",
       "      <td>NaN</td>\n",
       "      <td>1.0</td>\n",
       "      <td>NaN</td>\n",
       "      <td>1</td>\n",
       "      <td>FEMALE</td>\n",
       "      <td>5.5</td>\n",
       "      <td>2020-02-14 07:10:00</td>\n",
       "      <td>7</td>\n",
       "      <td>beverages</td>\n",
       "    </tr>\n",
       "    <tr>\n",
       "      <th>4</th>\n",
       "      <td>2020-02-14</td>\n",
       "      <td>2025-02-11 07:10:00</td>\n",
       "      <td>2020-02-14 07:10:00</td>\n",
       "      <td>NaN</td>\n",
       "      <td>Standard Breakfast</td>\n",
       "      <td>0.75</td>\n",
       "      <td>cup</td>\n",
       "      <td>(Kellogg's) Frosted Flakes, Cereal</td>\n",
       "      <td>110.0</td>\n",
       "      <td>26.0</td>\n",
       "      <td>...</td>\n",
       "      <td>1.0</td>\n",
       "      <td>NaN</td>\n",
       "      <td>1.0</td>\n",
       "      <td>NaN</td>\n",
       "      <td>1</td>\n",
       "      <td>FEMALE</td>\n",
       "      <td>5.5</td>\n",
       "      <td>2020-02-14 07:10:00</td>\n",
       "      <td>7</td>\n",
       "      <td>meals</td>\n",
       "    </tr>\n",
       "    <tr>\n",
       "      <th>5</th>\n",
       "      <td>2020-02-14</td>\n",
       "      <td>2025-02-11 09:38:00</td>\n",
       "      <td>2020-02-14 09:38:00</td>\n",
       "      <td>NaN</td>\n",
       "      <td>Breakfast Trail Mix</td>\n",
       "      <td>0.5</td>\n",
       "      <td>cup</td>\n",
       "      <td>(Giant) Breakfast Blend, Trail Mix</td>\n",
       "      <td>280.0</td>\n",
       "      <td>30.0</td>\n",
       "      <td>...</td>\n",
       "      <td>4.0</td>\n",
       "      <td>NaN</td>\n",
       "      <td>1.0</td>\n",
       "      <td>NaN</td>\n",
       "      <td>1</td>\n",
       "      <td>FEMALE</td>\n",
       "      <td>5.5</td>\n",
       "      <td>2020-02-14 09:38:00</td>\n",
       "      <td>9</td>\n",
       "      <td>snacks</td>\n",
       "    </tr>\n",
       "    <tr>\n",
       "      <th>...</th>\n",
       "      <td>...</td>\n",
       "      <td>...</td>\n",
       "      <td>...</td>\n",
       "      <td>...</td>\n",
       "      <td>...</td>\n",
       "      <td>...</td>\n",
       "      <td>...</td>\n",
       "      <td>...</td>\n",
       "      <td>...</td>\n",
       "      <td>...</td>\n",
       "      <td>...</td>\n",
       "      <td>...</td>\n",
       "      <td>...</td>\n",
       "      <td>...</td>\n",
       "      <td>...</td>\n",
       "      <td>...</td>\n",
       "      <td>...</td>\n",
       "      <td>...</td>\n",
       "      <td>...</td>\n",
       "      <td>...</td>\n",
       "      <td>...</td>\n",
       "    </tr>\n",
       "    <tr>\n",
       "      <th>1416</th>\n",
       "      <td>2020-02-26</td>\n",
       "      <td>2025-02-11 18:30:00</td>\n",
       "      <td>2020-02-26 18:30:00</td>\n",
       "      <td>NaN</td>\n",
       "      <td>Blue Cheese dressing</td>\n",
       "      <td>2</td>\n",
       "      <td>Tbsp</td>\n",
       "      <td>NaN</td>\n",
       "      <td>146.0</td>\n",
       "      <td>1.4</td>\n",
       "      <td>...</td>\n",
       "      <td>0.4</td>\n",
       "      <td>15.4</td>\n",
       "      <td>16.0</td>\n",
       "      <td>18:30</td>\n",
       "      <td>16</td>\n",
       "      <td>MALE</td>\n",
       "      <td>5.5</td>\n",
       "      <td>2020-02-26 18:30:00</td>\n",
       "      <td>18</td>\n",
       "      <td>meals</td>\n",
       "    </tr>\n",
       "    <tr>\n",
       "      <th>1417</th>\n",
       "      <td>2020-02-26</td>\n",
       "      <td>2025-02-11 18:30:00</td>\n",
       "      <td>2020-02-26 18:30:00</td>\n",
       "      <td>NaN</td>\n",
       "      <td>Lemonade</td>\n",
       "      <td>32</td>\n",
       "      <td>oz</td>\n",
       "      <td>NaN</td>\n",
       "      <td>99.0</td>\n",
       "      <td>26.0</td>\n",
       "      <td>...</td>\n",
       "      <td>0.2</td>\n",
       "      <td>0.1</td>\n",
       "      <td>16.0</td>\n",
       "      <td>18:30</td>\n",
       "      <td>16</td>\n",
       "      <td>MALE</td>\n",
       "      <td>5.5</td>\n",
       "      <td>2020-02-26 18:30:00</td>\n",
       "      <td>18</td>\n",
       "      <td>beverages</td>\n",
       "    </tr>\n",
       "    <tr>\n",
       "      <th>1418</th>\n",
       "      <td>2020-02-27</td>\n",
       "      <td>2025-02-11 10:30:00</td>\n",
       "      <td>2020-02-27 10:30:00</td>\n",
       "      <td>NaN</td>\n",
       "      <td>Standard breakfast</td>\n",
       "      <td>NaN</td>\n",
       "      <td>NaN</td>\n",
       "      <td>NaN</td>\n",
       "      <td>280.0</td>\n",
       "      <td>56.5</td>\n",
       "      <td>...</td>\n",
       "      <td>8.0</td>\n",
       "      <td>2.5</td>\n",
       "      <td>16.0</td>\n",
       "      <td>10:30</td>\n",
       "      <td>16</td>\n",
       "      <td>MALE</td>\n",
       "      <td>5.5</td>\n",
       "      <td>2020-02-27 10:30:00</td>\n",
       "      <td>10</td>\n",
       "      <td>meals</td>\n",
       "    </tr>\n",
       "    <tr>\n",
       "      <th>1419</th>\n",
       "      <td>2020-02-27</td>\n",
       "      <td>2025-02-11 11:30:00</td>\n",
       "      <td>2020-02-27 11:30:00</td>\n",
       "      <td>NaN</td>\n",
       "      <td>Plain cheese pizza</td>\n",
       "      <td>1</td>\n",
       "      <td>slices</td>\n",
       "      <td>NaN</td>\n",
       "      <td>452.0</td>\n",
       "      <td>57.0</td>\n",
       "      <td>...</td>\n",
       "      <td>19.0</td>\n",
       "      <td>16.0</td>\n",
       "      <td>16.0</td>\n",
       "      <td>11:30</td>\n",
       "      <td>16</td>\n",
       "      <td>MALE</td>\n",
       "      <td>5.5</td>\n",
       "      <td>2020-02-27 11:30:00</td>\n",
       "      <td>11</td>\n",
       "      <td>meals</td>\n",
       "    </tr>\n",
       "    <tr>\n",
       "      <th>1420</th>\n",
       "      <td>2020-02-27</td>\n",
       "      <td>2025-02-11 11:30:00</td>\n",
       "      <td>2020-02-27 11:30:00</td>\n",
       "      <td>NaN</td>\n",
       "      <td>cooked black eyed peas</td>\n",
       "      <td>1</td>\n",
       "      <td>cup</td>\n",
       "      <td>NaN</td>\n",
       "      <td>198.0</td>\n",
       "      <td>35.0</td>\n",
       "      <td>...</td>\n",
       "      <td>13.0</td>\n",
       "      <td>0.9</td>\n",
       "      <td>16.0</td>\n",
       "      <td>11:30</td>\n",
       "      <td>16</td>\n",
       "      <td>MALE</td>\n",
       "      <td>5.5</td>\n",
       "      <td>2020-02-27 11:30:00</td>\n",
       "      <td>11</td>\n",
       "      <td>meals</td>\n",
       "    </tr>\n",
       "  </tbody>\n",
       "</table>\n",
       "<p>1211 rows × 22 columns</p>\n",
       "</div>"
      ],
      "text/plain": [
       "           date                time           time_begin time_end  \\\n",
       "0    2020-02-13 2025-02-11 18:00:00  2020-02-13 18:00:00      NaN   \n",
       "1    2020-02-13 2025-02-11 20:30:00  2020-02-13 20:30:00      NaN   \n",
       "3    2020-02-14 2025-02-11 07:10:00  2020-02-14 07:10:00      NaN   \n",
       "4    2020-02-14 2025-02-11 07:10:00  2020-02-14 07:10:00      NaN   \n",
       "5    2020-02-14 2025-02-11 09:38:00  2020-02-14 09:38:00      NaN   \n",
       "...         ...                 ...                  ...      ...   \n",
       "1416 2020-02-26 2025-02-11 18:30:00  2020-02-26 18:30:00      NaN   \n",
       "1417 2020-02-26 2025-02-11 18:30:00  2020-02-26 18:30:00      NaN   \n",
       "1418 2020-02-27 2025-02-11 10:30:00  2020-02-27 10:30:00      NaN   \n",
       "1419 2020-02-27 2025-02-11 11:30:00  2020-02-27 11:30:00      NaN   \n",
       "1420 2020-02-27 2025-02-11 11:30:00  2020-02-27 11:30:00      NaN   \n",
       "\n",
       "                        logged_food amount         unit  \\\n",
       "0                    Berry Smoothie   20.0  fluid ounce   \n",
       "1                       Chicken Leg    1.0          NaN   \n",
       "3     Natrel Lactose Free 2 Percent    8.0  fluid ounce   \n",
       "4                Standard Breakfast   0.75          cup   \n",
       "5               Breakfast Trail Mix    0.5          cup   \n",
       "...                             ...    ...          ...   \n",
       "1416           Blue Cheese dressing      2         Tbsp   \n",
       "1417                       Lemonade     32           oz   \n",
       "1418             Standard breakfast    NaN          NaN   \n",
       "1419             Plain cheese pizza      1       slices   \n",
       "1420         cooked black eyed peas      1          cup   \n",
       "\n",
       "                                     searched_food  calorie  total_carb  ...  \\\n",
       "0                              Strawberry Smoothie    456.0        85.0  ...   \n",
       "1                                      chicken leg    475.0         0.0  ...   \n",
       "3     (Natrel) Lactose Free 2% Partly Skimmed Milk    120.0         9.0  ...   \n",
       "4               (Kellogg's) Frosted Flakes, Cereal    110.0        26.0  ...   \n",
       "5               (Giant) Breakfast Blend, Trail Mix    280.0        30.0  ...   \n",
       "...                                            ...      ...         ...  ...   \n",
       "1416                                           NaN    146.0         1.4  ...   \n",
       "1417                                           NaN     99.0        26.0  ...   \n",
       "1418                                           NaN    280.0        56.5  ...   \n",
       "1419                                           NaN    452.0        57.0  ...   \n",
       "1420                                           NaN    198.0        35.0  ...   \n",
       "\n",
       "      protein  total_fat  subject  time_of_day  ID  Gender  HbA1c  \\\n",
       "0        16.0        3.3      1.0          NaN   1  FEMALE    5.5   \n",
       "1        62.0       23.0      1.0          NaN   1  FEMALE    5.5   \n",
       "3        12.0        NaN      1.0          NaN   1  FEMALE    5.5   \n",
       "4         1.0        NaN      1.0          NaN   1  FEMALE    5.5   \n",
       "5         4.0        NaN      1.0          NaN   1  FEMALE    5.5   \n",
       "...       ...        ...      ...          ...  ..     ...    ...   \n",
       "1416      0.4       15.4     16.0        18:30  16    MALE    5.5   \n",
       "1417      0.2        0.1     16.0        18:30  16    MALE    5.5   \n",
       "1418      8.0        2.5     16.0        10:30  16    MALE    5.5   \n",
       "1419     19.0       16.0     16.0        11:30  16    MALE    5.5   \n",
       "1420     13.0        0.9     16.0        11:30  16    MALE    5.5   \n",
       "\n",
       "                datetime  hour      class  \n",
       "0    2020-02-13 18:00:00    18  beverages  \n",
       "1    2020-02-13 20:30:00    20      meals  \n",
       "3    2020-02-14 07:10:00     7  beverages  \n",
       "4    2020-02-14 07:10:00     7      meals  \n",
       "5    2020-02-14 09:38:00     9     snacks  \n",
       "...                  ...   ...        ...  \n",
       "1416 2020-02-26 18:30:00    18      meals  \n",
       "1417 2020-02-26 18:30:00    18  beverages  \n",
       "1418 2020-02-27 10:30:00    10      meals  \n",
       "1419 2020-02-27 11:30:00    11      meals  \n",
       "1420 2020-02-27 11:30:00    11      meals  \n",
       "\n",
       "[1211 rows x 22 columns]"
      ]
     },
     "execution_count": 75,
     "metadata": {},
     "output_type": "execute_result"
    }
   ],
   "source": [
    "filtered = entire_dataset[(entire_dataset['class']=='beverages')|(entire_dataset['class']=='meals')|(entire_dataset['class']=='snacks')]\n",
    "filtered"
   ]
  },
  {
   "cell_type": "code",
   "execution_count": 76,
   "metadata": {},
   "outputs": [
    {
     "data": {
      "text/plain": [
       "array(['Berry Smoothie', 'Chicken Leg', 'Natrel Lactose Free 2 Percent',\n",
       "       'Standard Breakfast', 'Breakfast Trail Mix',\n",
       "       'Spinach Salad w/ strawberries and cheese', 'Egg', 'Acai Smoothie',\n",
       "       \"(Trader Joe's) Mac and Cheese\", 'Coconut Shrimp',\n",
       "       'Spinach Smoothie',\n",
       "       'Spinach Salad w/ blueberries, egg, and cheese', 'Babel Cheese',\n",
       "       'Bourbon Chicken', 'Rice', 'Shrimp', 'Hot Chocolate',\n",
       "       'Salty Sweet Popcorn', 'Chai Tea', 'Maple Brown Sugar Oatmeal',\n",
       "       'Salad with Cranberries', 'Chicken Nuggets', 'Kale Salad', 'Pizza',\n",
       "       'Oreo Cookies', 'Muffin', 'Grilled Chicken Wrap',\n",
       "       'Kale and Fruit Smoothie', 'Ranch Wings', 'Lemon Loaf',\n",
       "       'Turkey Slider', 'Chicken and Rice', 'Green Smoothie', 'Bagel',\n",
       "       'Salad', 'Babel bell cheese', 'Babybel Cheese', 'Chicken Salad',\n",
       "       'Pita Bread', 'Cheese Pita', 'Mello Yello',\n",
       "       '(Jimmy Dean) Chicken Biscuit', 'Beef Jerky',\n",
       "       '(Gatorade) Fierce Grape', 'Banquet Chicken Pot Pie',\n",
       "       '(Red Baron) Brick Oven Pepperoni Pizza', 'M & M ', 'Corn Flakes',\n",
       "       '(Powerade) Grape', 'Stouffers Salisbury Steak Family Size ',\n",
       "       'Mashed Potato', 'Chocolate Milk', 'Frozen Pop',\n",
       "       'Omelet (3 egg, bacon 3 strip, cheese 2 tsp)',\n",
       "       \"(Arby's) Classic Roast Beef FF\", 'Chip', 'Salsa', 'Moutain Dew',\n",
       "       'Gatorade', 'Cheeseburger (mayo , mustard, chili)', 'Tater Tots',\n",
       "       'Onion Rings', 'Sweet Tea', 'Fig Newton', 'Water ',\n",
       "       'Vienna Sausage', 'Lance Toast Chee', 'Tootsie Roll', 'Steak',\n",
       "       'Fried Potato', 'Ice Cream', 'JD Sausage Biscuit', 'Chex Mix',\n",
       "       'Fig Bar', 'Rib', 'Mash Potato', 'Cake', 'Powerade',\n",
       "       'Rice Krispies', '(Hamburger Helper) Deluxe Cheeseburger Macaroni',\n",
       "       'Chocolate Cake', 'Superfood Salad', 'Dots Gumdrops',\n",
       "       'Power Smoothie', 'French Dressing', 'Spaghetti', 'Milk',\n",
       "       'Cornflakes', 'Tortilla Chips', 'Crab Cakes',\n",
       "       'Greek Yogurt Power Smoothie', 'Clam Chowder', 'Carne Asada Steak',\n",
       "       'Beans', 'Merlot Wine', 'Apples', 'Smartie Candy Roll',\n",
       "       'Grilled Chicken', 'Crusted Parmesian Chicken',\n",
       "       'Salad with Ranch Dressing',\n",
       "       'Sweet Potato with Butter and Brown Sugar', 'Chocolate Lava Cake',\n",
       "       'Vanilla Ice Cream', 'Lemon Drop Martini',\n",
       "       'French Toast with Syrup', 'Hibachi Steak', 'Fried Rice',\n",
       "       'Ham Sandwich', 'BBQ Chicken', 'Lasagna',\n",
       "       'Salad with Fried Chicken and Ranch Dressing', 'Hershey Kiss',\n",
       "       'Reese Cup', 'Turkey Wings', 'Frosted Flakes', 'Coffee',\n",
       "       'Creamers', 'Chicken Breast', 'Chicken Wing', 'Popcorn',\n",
       "       'Tea with Lemon', 'Tea', 'Baked Chicken', '(Chipotle) Bowl',\n",
       "       'Peanut Butter', 'Spoon Biscotti', 'Salmon', 'Mash Potatoes',\n",
       "       'Eggs', 'Bacon', 'Waffle with Syrup', 'Soda',\n",
       "       'Small Bag of Popcorn', 'Cookies', 'Cheese Stick',\n",
       "       'Biscott Cookie', 'Chicken Breast ', 'Chicken', 'Fries', 'Biscuit',\n",
       "       'Peppermint', 'Cereal', '90% Cocoa Dark Chocolate',\n",
       "       '6-inch Turkey Sub', 'Dark Chocolate Toffee', 'Ziti',\n",
       "       'Slice of Banana Bread', 'Cheese', 'Creamer', 'Sugar',\n",
       "       'Chicken Biscuit', 'Ranch Dressing', 'Baked Potato',\n",
       "       '(Babybel) Cheese', 'Pepperoni', 'Baked Chicken Thigh',\n",
       "       'Flour Tortilla', 'Black Beans', 'Chicken Chorizo',\n",
       "       'Pepperjack Cheese', '90% Dark Chocolate', 'Taco Salad', 'Sausage',\n",
       "       'Hummus', '(Outback Steakhouse) Chicken Tacos',\n",
       "       '(Outback Steakhouse) Bread with Butter',\n",
       "       '(Outback Steakhouse) Mixed Drink', 'Pistachios', 'Yogurt',\n",
       "       'Granola Bar', 'Egg Salad', 'Multigrain Chips',\n",
       "       'Quest Bar cookie dough', '4 small pizza slices everything',\n",
       "       'Chocolate chip cookies', 'Baked cheetos', 'Oreo shake',\n",
       "       'Std breakfast', 'Fruit smoothie', 'Fun size snickers bar',\n",
       "       'Mac and cheese', 'Blue Bunny fudge bar', 'Chex Mix cheddar',\n",
       "       'Fritos single serving bag', 'Veggie omelet',\n",
       "       'Cinnamon raisin bagel', '2 small fruit bars',\n",
       "       'Lean Cuisine mushroom ravioli box meal', 'M&Ms', 'Nutrigrain bar',\n",
       "       '1/4 blueberry pancake', 'Grits', '1 snack size baby ruth',\n",
       "       'Ritz PB crackers', 'Totinos pizza', 'Baked chicken ',\n",
       "       'Lemon risotto', 'Cheesecake', '3/4 large blueberry pancake',\n",
       "       '(Costco) Seafood Stuffed Salmon',\n",
       "       '(Green Giant) Rice Cauliflower - Plain', 'Salad - Butter Lettuce',\n",
       "       'Chickpeas', '(Toast) Red Wine Vinegrette',\n",
       "       '(Jolly Time) Select Yellow Pop Corn - Air Popped',\n",
       "       \"Virgil's Zero Sugar Black Cherry Soda\",\n",
       "       '(Peppridge Farm) Whole Wheat Hamburger Bun',\n",
       "       '(Jif) Extra Crunchy Peanut Butter', '(Quaker) Old Fashioned Oats',\n",
       "       'Ground Flaxseeds', '(Harris Teeter) Fat Free Organic Milk',\n",
       "       'Homemade Chicken Noodle Soup with chicken, onion, celery, (Kirkland) organic chicken stock, and (Amish Kitchens) wide egg noodles',\n",
       "       'Tilapia', '(Harris Teeter) Charleston Crabcake', 'Lemon Juice',\n",
       "       'Std bfast',\n",
       "       '(Firebirds Wood Fired Grill) Steak Sandwich with lettuce and onion',\n",
       "       '(Firebirds Wood Fired Grill) Seasoned Steak Fries',\n",
       "       \"(Alex's) Lemonade\", 'Pecans', 'Smart Balance', 'Cinnamon',\n",
       "       'Chicken breaded with (Progesso) Italian Bread Crumbs', 'Potato',\n",
       "       'Extra Virgin Olive Oil',\n",
       "       '(Crosse and Blackwell) Old Fashioned English Fish and Chip  Vinegar',\n",
       "       'Homemade soup with Hot Italian sausage, kale, cannolli beans, onion, garlic, (Kirkland) organic chicken stock, white wine',\n",
       "       'Std Bfast',\n",
       "       'Homemade Beef and Barley Soup with onion, celery, kale, (Simple Truth) fat free organic beef stock, and (Pacific) low sodium organic vegetable broth',\n",
       "       \"(NOSH) Owen's Crunchy Chicken Sandwich without dijonnaise\",\n",
       "       '(NOSH) Veggie Slaw Side Order', \"Hershey's Milk Chocolate Bar\",\n",
       "       'Golden Crust Chicken Patil', 'Pineapple and Ginger Juice',\n",
       "       'Steamed Shrimp', 'Moscato', 'Mini Croissants', 'Turkey Bacon',\n",
       "       'Salad - Tomato, Cheese, Lettuce, Tortilla Strips',\n",
       "       'Air Fried Chicken Wings', 'Granola Oats and Honey',\n",
       "       'Pizza Triangles', 'Brownie', 'Tomato and Mozzarella Toothpick',\n",
       "       'Corona', 'Avocado Sandwich - White bread, with mayo',\n",
       "       'Large Baked Potato', 'Mojito', 'Oatmeal Margarine',\n",
       "       'Splenda/Sugar Blend',\n",
       "       'Salad - Shrimp, Lettuce, Tomato, Cheese, Avocado',\n",
       "       'Low Sugar Apple Juice', 'Handfull of Oats and Honey Granola',\n",
       "       'Air Fried French Fries', '(Wheat Thins) Ranch Crackers',\n",
       "       'Air Fried Chicken Loingettes ',\n",
       "       'Sandwich - White Bread, Lettuce, Chicken, Cheese',\n",
       "       'Vanilla Cookies',\n",
       "       'Burger Salad - Lettuce, Tomato, Cheese, Tortilla Strips, Burger, Thousand Island Dressing',\n",
       "       'Chicken and Cheese Sandwich - White Bread, Mayo', 'Lemon Cookies',\n",
       "       'Baked Sweet Potato', 'Boiled Eggs', 'Chicken Wingettes',\n",
       "       'Medium Baked Potato', '(Dunkin Coffee) Coffee',\n",
       "       '(Blue Diamond) Almonds Lightly Salted',\n",
       "       'Swiss Cheese Thinly Sliced', 'Baked Chicken Breast',\n",
       "       'Coleslaw with Almond and Cranberry', 'Cream',\n",
       "       '(Equal) Sweetner Bag', 'Ham Biscuit', 'Hot Dog',\n",
       "       \"(Florida's Natural) Orange Juice\", 'Walnut',\n",
       "       'Smoothie (spinach, celery, banana, and strawberry)',\n",
       "       'California Roll', 'Townhouse Cracker', '2% Milk',\n",
       "       '(Blue Diamond) almonds lightly salted', '(Sunkist) orange',\n",
       "       'Greek Isle Salad', 'Small Spinach Salad', 'peanut butter',\n",
       "       'Cream of Wheat Instant Hot Cereal',\n",
       "       'Baked Potato Salad with Cheese',\n",
       "       'Boiled Chicken with Cherry Tomatoes and Taco Shell Pieces',\n",
       "       'Fried Egg', 'Whole Wheat Toast',\n",
       "       'smoothie (spinach, celery stick, banana)', 'Atlantic Salmon',\n",
       "       'Barbecue Sauce',\n",
       "       'Salad (spinach, broccoli, blueberry, soy, ranch dressing)',\n",
       "       'Salmon Salad', '2% Milk ', 'Egg White', 'Peanut Buttter',\n",
       "       'Salmon with Butter and Asparagus', 'Diet Coke', 'Hard Boiled Egg',\n",
       "       'Boneless Skinless Chicken Thigh', '(Hannah) Tatziki Sauce',\n",
       "       '2% Cottage Cheese', 'Kombucha GTS Cosmic Cranberry',\n",
       "       '(Blue Diamond) Almond Nut Thins', 'Gin-soaked Raisins',\n",
       "       '(Fage) Greek Yogurt, plain nonfat', '(Kashi) Go Rise Cereal',\n",
       "       'Half and half',\n",
       "       'Homemade potato cauliflower soup with potato, cauliflower, chicken broth, onions',\n",
       "       'Oil', 'Cheddar Cheese', '(Dove) Promises Dark Chocolate',\n",
       "       'Balsamic Vinegar', 'Chardonnay Wine', 'Faro', 'Lamb Gyro',\n",
       "       'Homemade Potato Chips', 'Eggo Waffle', 'Plain Bagel',\n",
       "       'Cream Cheese', 'Grilled Salmon', 'Chicken Gyro',\n",
       "       'Medium French Fries', 'Diet Pepsi',\n",
       "       'Sausage, Kale, Sweet Potato Soup', 'Cheese Steak', 'Tortilla',\n",
       "       'Refried Beans', 'Mountain Dew', 'Diet Mountain Dew',\n",
       "       'Oreo Cookie', 'Hamburger', 'Chips', 'Candy Bar',\n",
       "       'Breakfast Essential Drink', 'Toast', 'Brunswick Stew', 'Slaw',\n",
       "       \"Reese's Peanut Butter Cup\", 'Nutty Bar', 'Potato Salad',\n",
       "       'Baked Beans', 'Sausage Biscuit', 'Scrambled Eggs with Jelly',\n",
       "       'Pecan Twirl', 'Donut', '(Stouffers) Green Pepper Steak',\n",
       "       'Peanut Butter Cracker', 'Chicken Casserole', 'Apple Pie',\n",
       "       'Honey Nut Cheerios', 'Chicken Pot Pie', 'Peach Cobbler',\n",
       "       'Cranberry Sauce', 'Chocolate Pudding',\n",
       "       '(Pillsbury) Cinammon Rolls ', 'Cheese and Crackers', 'Coke',\n",
       "       'Porkchop', 'Chili', 'Peanuts', 'Banana Sandwich',\n",
       "       'Black Raspberry Chocolate Ice Cream', '(UTZ) Cheese Puffs',\n",
       "       'Frosted Flake', 'Stevia', 'Half and Half',\n",
       "       '(Jersey Mikes) Salad - Cheese, Steak, Ranch',\n",
       "       'Moon Cheddar Cheese',\n",
       "       'Sargento Cranberries Snack Pack Cheese, Cashews',\n",
       "       '(Babybel) Cheese Bite', 'Sausage ', 'Gatorade Zero',\n",
       "       'Peppermint Tea', 'Chicken Thigh', 'Jim Bean Bourbon',\n",
       "       'Fried Cheddar Cheese Bite', 'Mint Chocolate Cookies',\n",
       "       'Dark Chocolate Chip', 'Corn Cheese Puffs',\n",
       "       'Toast - Butter, Cheese, Mayo', 'Pork BBQ',\n",
       "       'Chocolate, Peanut, Almond Bar', 'Peanut Butter Wafers',\n",
       "       'Peanut M & M', 'Grilled Cheese', 'Kashi Go Crunch with Milk',\n",
       "       'Butter', '(Smoke House) Almonds',\n",
       "       'Salad - (chicken, tomato, ranch)', 'Vodka Gray Goose',\n",
       "       'Mozzarella', 'Chicken Burger', 'Whole Wheat Toast with Butter',\n",
       "       'Angle Food Candy from Mother', 'Kashi',\n",
       "       \"(Wendy's) Southwest Salad\", 'Fried Cheese Curds',\n",
       "       'Biscuit Chicken Strips', 'Angle Food Candy ',\n",
       "       'Grilled Chicken Cheese Sandwich',\n",
       "       \"(Garrett's) Caramel Popcorn Cheddar\", 'Sushi', 'Soup',\n",
       "       'Chicken Salad Sandwich', 'Ginger Bread Cookie',\n",
       "       'Cheddar and Caramel Popcorn', 'peppermint bark candy',\n",
       "       '(Mich) Ultra Beer', 'Ice Cream Sandwich',\n",
       "       'Lasagna (mostly vegetables)', 'Red Wine', 'Cashew Nut',\n",
       "       'Chocolate', 'Herbal Tea', 'Honey', 'Pretzel Rod', 'Decaf Latte',\n",
       "       'Lactose Free Milk', 'Potato Chip', 'Chicken Noodle Soup',\n",
       "       '(CaraCara) fresh orange juice', 'Small Sweet Potato',\n",
       "       'Turkey Leg', 'Stuffing', 'Pound Cake', 'Small Blueberry Pancake',\n",
       "       'syrup', 'turkey leg', 'potato chip', 'cashew nut', 'toffee',\n",
       "       'vegetable lasagna', 'ice cream', 'low fat cottage cheese',\n",
       "       'greek yogurt', 'ice cream sandwich', 'rice', 'bean',\n",
       "       'duck burrito', 'salsa', 'corn chips', 'skim decaf latte', 'beer',\n",
       "       'duck soup with dumpling', 'egg', 'ham and turkey sandwich',\n",
       "       'cheese crackers', 'decaf latte', 'Mixed Nuts',\n",
       "       'pasta salad with vegetables', 'salad dressing', 'cookie',\n",
       "       'oatmeal', 'maple syrup', 'tea with milk',\n",
       "       'turkey and brie sandwich', 'soda', 'lamb', 'small sweet potato',\n",
       "       'tea', 'Pepsi (Real Sugar)', 'Simply Naked Pita Chips',\n",
       "       'Roasted Red Pepper Hummus',\n",
       "       'Milk Chocolate Petit Beurre Biscuits',\n",
       "       'Pork Loin Tenderloin (Hornet)',\n",
       "       'Quest Protein Bar Double Chocolate Chunk',\n",
       "       'Chicken Parmesan with Tomato Sauce',\n",
       "       'Mashed Potatoes with Brown Gravy',\n",
       "       'Thomas Blueberry English Muffins',\n",
       "       'Jimmy Dean Hot Premium Pork Sausage', 'Large Egg',\n",
       "       'Kerry Gold Butter', 'Lanad o Lakes Cinnamon Sugar',\n",
       "       'Asndes Cremede Menth Thin Mints',\n",
       "       'Quest Protein Bar White Chocolate Raspberry Bar', 'V8 Low Sodium',\n",
       "       'Club Sandwich with turkey, bacon, and cheddar cheese',\n",
       "       'Lifesaver Peppermint Breath Mint',\n",
       "       'Lu Petit Ecolier Milk Chocolate Biscuit Cookie',\n",
       "       'Chicken Breast Air Fried',\n",
       "       'Green Smoothie (with avocado, cotton candy green grapes, pear, broccoli, kale, spinach, banana)',\n",
       "       'Pepsi', 'Lifesaver Gummies (wild berries)',\n",
       "       \"Uncle Al's Strawberry Cremes Cookies\",\n",
       "       'Taco Bell Chicken Quesadilla', 'Soft Taco',\n",
       "       'Sathers Caramel Creams', 'Large Eggs Scrambled (nothing added)',\n",
       "       'Thomas English Muffin Blueberry',\n",
       "       'Thomas English Muffin Cinnamon', 'Special K with strawberries',\n",
       "       'Goetzes Caramel Cremes',\n",
       "       'Quest Protein Bar Caramel Chocolate Chunk',\n",
       "       'Pizza Slice of NY Pepperoni', 'Mozarrella Sticks', 'Coca Cola',\n",
       "       \"Oreo's Peppermint Bark\", 'Strawberry Scone',\n",
       "       'Kraft Mac and Cheese', 'Quest Protein Bar Birthday Cake',\n",
       "       'Sun Chips Garden Salsa', 'Hard Boiled Eggs', 'Cottage Cheese',\n",
       "       'Apple Pie ', 'Ghiradelli Peppermint Bark Square',\n",
       "       'Land o Lakes Cinnamon Butter', \"M&M's\",\n",
       "       'Milkyway \"Fun Size\" Candy Bar', 'Whoopers Malted Milk Balls',\n",
       "       'Sloppy Joe with 1 Bun', \"Lay's Wavy Potato Chips\",\n",
       "       'Lut Petit Ecolier Milk Chocolate Biscuit Cookie',\n",
       "       'Coffee + skim milk', 'Glucerna snack bar',\n",
       "       'Small pc red velvet cake', 'Ruffles chips',\n",
       "       'Panko breaded baked fish ', 'Standard breakfast',\n",
       "       'Northern Harvest Sweet + Spicy Chunk light Tuna',\n",
       "       'multigrain cakes', 'BLT salad',\n",
       "       'Friendly Farm Cottage Cheese 1% milkfat',\n",
       "       'Harris Teeter canned sliced peaches', 'Peach juice',\n",
       "       'Sarah Lee Honey Wheat Bread with Butter', '2 fried eggs',\n",
       "       '2 slices bacon', 'chicken cesear salad wrap',\n",
       "       'Salt and vinegar chips', 'Honest Organic Honey Green Tea',\n",
       "       'Taco Bell Nachos Grande', 'Taco Bell Cinnamon Twists',\n",
       "       'Crystal Light Lemonade',\n",
       "       '2/3 bag Orville Redenbacher butter popcorn', 'Chef Salad',\n",
       "       'V8 juice ', \"Slice of Boar's head Swiss cheese\", '2 muffins',\n",
       "       '2 pieces honey wheat toast with butter',\n",
       "       \"Sugg's coconut greek yogurt\", \"Freddy's Steakbuurger\",\n",
       "       'Small chocolate shake (1/2)', 'Ham and cheese sandwhich',\n",
       "       '1/2 cup cottge cheese', 'Chai tea',\n",
       "       'Old El Priso burrito 2 taco shells', 'Gnd beef', 'cheese',\n",
       "       'rice + beans', 'Diet Soda', 'Outback Cobb salad with salmon',\n",
       "       'Blue cheese dressing', 'Outback cheesecake with chocolate sauce',\n",
       "       '2 leftover burritos', 'Outback bread loaf (1/2) + butter',\n",
       "       'Salmon cakes', 'Large coffee with heavy cream', 'Brownies',\n",
       "       'Two slices of bread',\n",
       "       'Chipotle burrito bowl chicken and steak, black beans, cheese, lettuce, salsa, sour cream',\n",
       "       '2 Yuengling beers', '2 cups coffee w/ heavy cream',\n",
       "       \"Elmo's diner breakfast burrito 2 eggs/sausage/black beans/sour cream\",\n",
       "       'Side of home fried potatoes', '1 cup coffee', 'brown rice',\n",
       "       'sardines ', 'french bread', 'Swiss cheese', 'Salami',\n",
       "       'Chicken soup', 'Crostinis (slice of French bread, swiss, tomato)',\n",
       "       'Chicken enchiladas with black beans, spanish rice, salsa', 'Beer',\n",
       "       '1 bagel with cream cheese', '1 coffee with cream',\n",
       "       '12\" Italian BMT Subway whole wheat mayo',\n",
       "       'Bojangles chicken thigh', 'Sweat tea ice', 'Plain cheese pizza',\n",
       "       'Anchovies', 'Blue Cheese dressing', 'Lemonade',\n",
       "       'cooked black eyed peas'], dtype=object)"
      ]
     },
     "execution_count": 76,
     "metadata": {},
     "output_type": "execute_result"
    }
   ],
   "source": [
    "filtered['logged_food'].unique()"
   ]
  },
  {
   "cell_type": "code",
   "execution_count": 97,
   "metadata": {},
   "outputs": [
    {
     "name": "stderr",
     "output_type": "stream",
     "text": [
      "C:\\Users\\chris\\AppData\\Local\\Temp\\ipykernel_14576\\2217422245.py:29: SettingWithCopyWarning:\n",
      "\n",
      "\n",
      "A value is trying to be set on a copy of a slice from a DataFrame.\n",
      "Try using .loc[row_indexer,col_indexer] = value instead\n",
      "\n",
      "See the caveats in the documentation: https://pandas.pydata.org/pandas-docs/stable/user_guide/indexing.html#returning-a-view-versus-a-copy\n",
      "\n"
     ]
    }
   ],
   "source": [
    "def generalize_food(row):\n",
    "    food = row['logged_food'].lower()  # Ensure case-insensitivity\n",
    "    if 'smoothie' in food or 'essential' in food:\n",
    "        return 'smoothie'\n",
    "    elif 'kashi' in food or 'flake' in food:\n",
    "        return 'cereal'\n",
    "    elif 'salad' in food:\n",
    "        return 'salad'\n",
    "    elif any(coffee in food for coffee in ['coffee','latte','cream','sweetener','sugar','sweetner','stevia','half and half']):\n",
    "        return 'coffee'\n",
    "    elif 'tea' in food:\n",
    "        return 'tea'\n",
    "    elif 'biscuit' in food or 'sub' in food or 'sandw' in food:\n",
    "        return 'sandwich'\n",
    "    elif 'juice' in food or 'v8' in food or 'kombucha' in food:\n",
    "        return 'juice'\n",
    "    elif any(alcohol in food for alcohol in ['beer', 'corona', 'wine', 'bourbon', 'vodka', 'martini', 'moscato', 'mojito']):\n",
    "        return 'alcohol'\n",
    "    elif 'milk' in food or 'percent' in food:\n",
    "        return 'milk'\n",
    "    elif any(soda in food for soda in ['coca cola', 'coke', 'pepsi', 'sunkist', 'mello yello', 'soda', 'lemonade','mountain dew','moutain dew']):\n",
    "        return 'soda'\n",
    "    elif any(sports in food for sports in ['gatorade', 'powerade']):\n",
    "        return 'sports drink'\n",
    "    else:\n",
    "        return food  # Preserve original if no match\n",
    "\n",
    "# Apply function to each row\n",
    "filtered['simplified_food'] = filtered.apply(generalize_food, axis=1)"
   ]
  },
  {
   "cell_type": "code",
   "execution_count": 98,
   "metadata": {},
   "outputs": [
    {
     "data": {
      "text/html": [
       "<div>\n",
       "<style scoped>\n",
       "    .dataframe tbody tr th:only-of-type {\n",
       "        vertical-align: middle;\n",
       "    }\n",
       "\n",
       "    .dataframe tbody tr th {\n",
       "        vertical-align: top;\n",
       "    }\n",
       "\n",
       "    .dataframe thead th {\n",
       "        text-align: right;\n",
       "    }\n",
       "</style>\n",
       "<table border=\"1\" class=\"dataframe\">\n",
       "  <thead>\n",
       "    <tr style=\"text-align: right;\">\n",
       "      <th></th>\n",
       "      <th>date</th>\n",
       "      <th>time</th>\n",
       "      <th>time_begin</th>\n",
       "      <th>time_end</th>\n",
       "      <th>logged_food</th>\n",
       "      <th>amount</th>\n",
       "      <th>unit</th>\n",
       "      <th>searched_food</th>\n",
       "      <th>calorie</th>\n",
       "      <th>total_carb</th>\n",
       "      <th>...</th>\n",
       "      <th>total_fat</th>\n",
       "      <th>subject</th>\n",
       "      <th>time_of_day</th>\n",
       "      <th>ID</th>\n",
       "      <th>Gender</th>\n",
       "      <th>HbA1c</th>\n",
       "      <th>datetime</th>\n",
       "      <th>hour</th>\n",
       "      <th>class</th>\n",
       "      <th>simplified_food</th>\n",
       "    </tr>\n",
       "  </thead>\n",
       "  <tbody>\n",
       "    <tr>\n",
       "      <th>0</th>\n",
       "      <td>2020-02-13</td>\n",
       "      <td>2025-02-11 18:00:00</td>\n",
       "      <td>2020-02-13 18:00:00</td>\n",
       "      <td>NaN</td>\n",
       "      <td>Berry Smoothie</td>\n",
       "      <td>20.0</td>\n",
       "      <td>fluid ounce</td>\n",
       "      <td>Strawberry Smoothie</td>\n",
       "      <td>456.0</td>\n",
       "      <td>85.0</td>\n",
       "      <td>...</td>\n",
       "      <td>3.3</td>\n",
       "      <td>1.0</td>\n",
       "      <td>NaN</td>\n",
       "      <td>1</td>\n",
       "      <td>FEMALE</td>\n",
       "      <td>5.5</td>\n",
       "      <td>2020-02-13 18:00:00</td>\n",
       "      <td>18</td>\n",
       "      <td>beverages</td>\n",
       "      <td>smoothie</td>\n",
       "    </tr>\n",
       "    <tr>\n",
       "      <th>1</th>\n",
       "      <td>2020-02-13</td>\n",
       "      <td>2025-02-11 20:30:00</td>\n",
       "      <td>2020-02-13 20:30:00</td>\n",
       "      <td>NaN</td>\n",
       "      <td>Chicken Leg</td>\n",
       "      <td>1.0</td>\n",
       "      <td>NaN</td>\n",
       "      <td>chicken leg</td>\n",
       "      <td>475.0</td>\n",
       "      <td>0.0</td>\n",
       "      <td>...</td>\n",
       "      <td>23.0</td>\n",
       "      <td>1.0</td>\n",
       "      <td>NaN</td>\n",
       "      <td>1</td>\n",
       "      <td>FEMALE</td>\n",
       "      <td>5.5</td>\n",
       "      <td>2020-02-13 20:30:00</td>\n",
       "      <td>20</td>\n",
       "      <td>meals</td>\n",
       "      <td>chicken leg</td>\n",
       "    </tr>\n",
       "    <tr>\n",
       "      <th>3</th>\n",
       "      <td>2020-02-14</td>\n",
       "      <td>2025-02-11 07:10:00</td>\n",
       "      <td>2020-02-14 07:10:00</td>\n",
       "      <td>NaN</td>\n",
       "      <td>Natrel Lactose Free 2 Percent</td>\n",
       "      <td>8.0</td>\n",
       "      <td>fluid ounce</td>\n",
       "      <td>(Natrel) Lactose Free 2% Partly Skimmed Milk</td>\n",
       "      <td>120.0</td>\n",
       "      <td>9.0</td>\n",
       "      <td>...</td>\n",
       "      <td>NaN</td>\n",
       "      <td>1.0</td>\n",
       "      <td>NaN</td>\n",
       "      <td>1</td>\n",
       "      <td>FEMALE</td>\n",
       "      <td>5.5</td>\n",
       "      <td>2020-02-14 07:10:00</td>\n",
       "      <td>7</td>\n",
       "      <td>beverages</td>\n",
       "      <td>milk</td>\n",
       "    </tr>\n",
       "    <tr>\n",
       "      <th>4</th>\n",
       "      <td>2020-02-14</td>\n",
       "      <td>2025-02-11 07:10:00</td>\n",
       "      <td>2020-02-14 07:10:00</td>\n",
       "      <td>NaN</td>\n",
       "      <td>Standard Breakfast</td>\n",
       "      <td>0.75</td>\n",
       "      <td>cup</td>\n",
       "      <td>(Kellogg's) Frosted Flakes, Cereal</td>\n",
       "      <td>110.0</td>\n",
       "      <td>26.0</td>\n",
       "      <td>...</td>\n",
       "      <td>NaN</td>\n",
       "      <td>1.0</td>\n",
       "      <td>NaN</td>\n",
       "      <td>1</td>\n",
       "      <td>FEMALE</td>\n",
       "      <td>5.5</td>\n",
       "      <td>2020-02-14 07:10:00</td>\n",
       "      <td>7</td>\n",
       "      <td>meals</td>\n",
       "      <td>standard breakfast</td>\n",
       "    </tr>\n",
       "    <tr>\n",
       "      <th>5</th>\n",
       "      <td>2020-02-14</td>\n",
       "      <td>2025-02-11 09:38:00</td>\n",
       "      <td>2020-02-14 09:38:00</td>\n",
       "      <td>NaN</td>\n",
       "      <td>Breakfast Trail Mix</td>\n",
       "      <td>0.5</td>\n",
       "      <td>cup</td>\n",
       "      <td>(Giant) Breakfast Blend, Trail Mix</td>\n",
       "      <td>280.0</td>\n",
       "      <td>30.0</td>\n",
       "      <td>...</td>\n",
       "      <td>NaN</td>\n",
       "      <td>1.0</td>\n",
       "      <td>NaN</td>\n",
       "      <td>1</td>\n",
       "      <td>FEMALE</td>\n",
       "      <td>5.5</td>\n",
       "      <td>2020-02-14 09:38:00</td>\n",
       "      <td>9</td>\n",
       "      <td>snacks</td>\n",
       "      <td>breakfast trail mix</td>\n",
       "    </tr>\n",
       "    <tr>\n",
       "      <th>...</th>\n",
       "      <td>...</td>\n",
       "      <td>...</td>\n",
       "      <td>...</td>\n",
       "      <td>...</td>\n",
       "      <td>...</td>\n",
       "      <td>...</td>\n",
       "      <td>...</td>\n",
       "      <td>...</td>\n",
       "      <td>...</td>\n",
       "      <td>...</td>\n",
       "      <td>...</td>\n",
       "      <td>...</td>\n",
       "      <td>...</td>\n",
       "      <td>...</td>\n",
       "      <td>...</td>\n",
       "      <td>...</td>\n",
       "      <td>...</td>\n",
       "      <td>...</td>\n",
       "      <td>...</td>\n",
       "      <td>...</td>\n",
       "      <td>...</td>\n",
       "    </tr>\n",
       "    <tr>\n",
       "      <th>1416</th>\n",
       "      <td>2020-02-26</td>\n",
       "      <td>2025-02-11 18:30:00</td>\n",
       "      <td>2020-02-26 18:30:00</td>\n",
       "      <td>NaN</td>\n",
       "      <td>Blue Cheese dressing</td>\n",
       "      <td>2</td>\n",
       "      <td>Tbsp</td>\n",
       "      <td>NaN</td>\n",
       "      <td>146.0</td>\n",
       "      <td>1.4</td>\n",
       "      <td>...</td>\n",
       "      <td>15.4</td>\n",
       "      <td>16.0</td>\n",
       "      <td>18:30</td>\n",
       "      <td>16</td>\n",
       "      <td>MALE</td>\n",
       "      <td>5.5</td>\n",
       "      <td>2020-02-26 18:30:00</td>\n",
       "      <td>18</td>\n",
       "      <td>meals</td>\n",
       "      <td>blue cheese dressing</td>\n",
       "    </tr>\n",
       "    <tr>\n",
       "      <th>1417</th>\n",
       "      <td>2020-02-26</td>\n",
       "      <td>2025-02-11 18:30:00</td>\n",
       "      <td>2020-02-26 18:30:00</td>\n",
       "      <td>NaN</td>\n",
       "      <td>Lemonade</td>\n",
       "      <td>32</td>\n",
       "      <td>oz</td>\n",
       "      <td>NaN</td>\n",
       "      <td>99.0</td>\n",
       "      <td>26.0</td>\n",
       "      <td>...</td>\n",
       "      <td>0.1</td>\n",
       "      <td>16.0</td>\n",
       "      <td>18:30</td>\n",
       "      <td>16</td>\n",
       "      <td>MALE</td>\n",
       "      <td>5.5</td>\n",
       "      <td>2020-02-26 18:30:00</td>\n",
       "      <td>18</td>\n",
       "      <td>beverages</td>\n",
       "      <td>soda</td>\n",
       "    </tr>\n",
       "    <tr>\n",
       "      <th>1418</th>\n",
       "      <td>2020-02-27</td>\n",
       "      <td>2025-02-11 10:30:00</td>\n",
       "      <td>2020-02-27 10:30:00</td>\n",
       "      <td>NaN</td>\n",
       "      <td>Standard breakfast</td>\n",
       "      <td>NaN</td>\n",
       "      <td>NaN</td>\n",
       "      <td>NaN</td>\n",
       "      <td>280.0</td>\n",
       "      <td>56.5</td>\n",
       "      <td>...</td>\n",
       "      <td>2.5</td>\n",
       "      <td>16.0</td>\n",
       "      <td>10:30</td>\n",
       "      <td>16</td>\n",
       "      <td>MALE</td>\n",
       "      <td>5.5</td>\n",
       "      <td>2020-02-27 10:30:00</td>\n",
       "      <td>10</td>\n",
       "      <td>meals</td>\n",
       "      <td>standard breakfast</td>\n",
       "    </tr>\n",
       "    <tr>\n",
       "      <th>1419</th>\n",
       "      <td>2020-02-27</td>\n",
       "      <td>2025-02-11 11:30:00</td>\n",
       "      <td>2020-02-27 11:30:00</td>\n",
       "      <td>NaN</td>\n",
       "      <td>Plain cheese pizza</td>\n",
       "      <td>1</td>\n",
       "      <td>slices</td>\n",
       "      <td>NaN</td>\n",
       "      <td>452.0</td>\n",
       "      <td>57.0</td>\n",
       "      <td>...</td>\n",
       "      <td>16.0</td>\n",
       "      <td>16.0</td>\n",
       "      <td>11:30</td>\n",
       "      <td>16</td>\n",
       "      <td>MALE</td>\n",
       "      <td>5.5</td>\n",
       "      <td>2020-02-27 11:30:00</td>\n",
       "      <td>11</td>\n",
       "      <td>meals</td>\n",
       "      <td>plain cheese pizza</td>\n",
       "    </tr>\n",
       "    <tr>\n",
       "      <th>1420</th>\n",
       "      <td>2020-02-27</td>\n",
       "      <td>2025-02-11 11:30:00</td>\n",
       "      <td>2020-02-27 11:30:00</td>\n",
       "      <td>NaN</td>\n",
       "      <td>cooked black eyed peas</td>\n",
       "      <td>1</td>\n",
       "      <td>cup</td>\n",
       "      <td>NaN</td>\n",
       "      <td>198.0</td>\n",
       "      <td>35.0</td>\n",
       "      <td>...</td>\n",
       "      <td>0.9</td>\n",
       "      <td>16.0</td>\n",
       "      <td>11:30</td>\n",
       "      <td>16</td>\n",
       "      <td>MALE</td>\n",
       "      <td>5.5</td>\n",
       "      <td>2020-02-27 11:30:00</td>\n",
       "      <td>11</td>\n",
       "      <td>meals</td>\n",
       "      <td>cooked black eyed peas</td>\n",
       "    </tr>\n",
       "  </tbody>\n",
       "</table>\n",
       "<p>1211 rows × 23 columns</p>\n",
       "</div>"
      ],
      "text/plain": [
       "           date                time           time_begin time_end  \\\n",
       "0    2020-02-13 2025-02-11 18:00:00  2020-02-13 18:00:00      NaN   \n",
       "1    2020-02-13 2025-02-11 20:30:00  2020-02-13 20:30:00      NaN   \n",
       "3    2020-02-14 2025-02-11 07:10:00  2020-02-14 07:10:00      NaN   \n",
       "4    2020-02-14 2025-02-11 07:10:00  2020-02-14 07:10:00      NaN   \n",
       "5    2020-02-14 2025-02-11 09:38:00  2020-02-14 09:38:00      NaN   \n",
       "...         ...                 ...                  ...      ...   \n",
       "1416 2020-02-26 2025-02-11 18:30:00  2020-02-26 18:30:00      NaN   \n",
       "1417 2020-02-26 2025-02-11 18:30:00  2020-02-26 18:30:00      NaN   \n",
       "1418 2020-02-27 2025-02-11 10:30:00  2020-02-27 10:30:00      NaN   \n",
       "1419 2020-02-27 2025-02-11 11:30:00  2020-02-27 11:30:00      NaN   \n",
       "1420 2020-02-27 2025-02-11 11:30:00  2020-02-27 11:30:00      NaN   \n",
       "\n",
       "                        logged_food amount         unit  \\\n",
       "0                    Berry Smoothie   20.0  fluid ounce   \n",
       "1                       Chicken Leg    1.0          NaN   \n",
       "3     Natrel Lactose Free 2 Percent    8.0  fluid ounce   \n",
       "4                Standard Breakfast   0.75          cup   \n",
       "5               Breakfast Trail Mix    0.5          cup   \n",
       "...                             ...    ...          ...   \n",
       "1416           Blue Cheese dressing      2         Tbsp   \n",
       "1417                       Lemonade     32           oz   \n",
       "1418             Standard breakfast    NaN          NaN   \n",
       "1419             Plain cheese pizza      1       slices   \n",
       "1420         cooked black eyed peas      1          cup   \n",
       "\n",
       "                                     searched_food  calorie  total_carb  ...  \\\n",
       "0                              Strawberry Smoothie    456.0        85.0  ...   \n",
       "1                                      chicken leg    475.0         0.0  ...   \n",
       "3     (Natrel) Lactose Free 2% Partly Skimmed Milk    120.0         9.0  ...   \n",
       "4               (Kellogg's) Frosted Flakes, Cereal    110.0        26.0  ...   \n",
       "5               (Giant) Breakfast Blend, Trail Mix    280.0        30.0  ...   \n",
       "...                                            ...      ...         ...  ...   \n",
       "1416                                           NaN    146.0         1.4  ...   \n",
       "1417                                           NaN     99.0        26.0  ...   \n",
       "1418                                           NaN    280.0        56.5  ...   \n",
       "1419                                           NaN    452.0        57.0  ...   \n",
       "1420                                           NaN    198.0        35.0  ...   \n",
       "\n",
       "      total_fat  subject  time_of_day  ID  Gender HbA1c            datetime  \\\n",
       "0           3.3      1.0          NaN   1  FEMALE   5.5 2020-02-13 18:00:00   \n",
       "1          23.0      1.0          NaN   1  FEMALE   5.5 2020-02-13 20:30:00   \n",
       "3           NaN      1.0          NaN   1  FEMALE   5.5 2020-02-14 07:10:00   \n",
       "4           NaN      1.0          NaN   1  FEMALE   5.5 2020-02-14 07:10:00   \n",
       "5           NaN      1.0          NaN   1  FEMALE   5.5 2020-02-14 09:38:00   \n",
       "...         ...      ...          ...  ..     ...   ...                 ...   \n",
       "1416       15.4     16.0        18:30  16    MALE   5.5 2020-02-26 18:30:00   \n",
       "1417        0.1     16.0        18:30  16    MALE   5.5 2020-02-26 18:30:00   \n",
       "1418        2.5     16.0        10:30  16    MALE   5.5 2020-02-27 10:30:00   \n",
       "1419       16.0     16.0        11:30  16    MALE   5.5 2020-02-27 11:30:00   \n",
       "1420        0.9     16.0        11:30  16    MALE   5.5 2020-02-27 11:30:00   \n",
       "\n",
       "     hour      class         simplified_food  \n",
       "0      18  beverages                smoothie  \n",
       "1      20      meals             chicken leg  \n",
       "3       7  beverages                    milk  \n",
       "4       7      meals      standard breakfast  \n",
       "5       9     snacks     breakfast trail mix  \n",
       "...   ...        ...                     ...  \n",
       "1416   18      meals    blue cheese dressing  \n",
       "1417   18  beverages                    soda  \n",
       "1418   10      meals      standard breakfast  \n",
       "1419   11      meals      plain cheese pizza  \n",
       "1420   11      meals  cooked black eyed peas  \n",
       "\n",
       "[1211 rows x 23 columns]"
      ]
     },
     "execution_count": 98,
     "metadata": {},
     "output_type": "execute_result"
    }
   ],
   "source": [
    "filtered"
   ]
  },
  {
   "cell_type": "code",
   "execution_count": 103,
   "metadata": {},
   "outputs": [
    {
     "data": {
      "text/plain": [
       "array(['smoothie', 'chicken leg', 'milk', 'standard breakfast',\n",
       "       'breakfast trail mix', 'salad', 'egg',\n",
       "       \"(trader joe's) mac and cheese\", 'coconut shrimp', 'babel cheese',\n",
       "       'alcohol', 'rice', 'shrimp', 'hot chocolate',\n",
       "       'salty sweet popcorn', 'tea', 'coffee', 'chicken nuggets', 'pizza',\n",
       "       'oreo cookies', 'muffin', 'grilled chicken wrap', 'ranch wings',\n",
       "       'lemon loaf', 'turkey slider', 'chicken and rice', 'bagel',\n",
       "       'babel bell cheese', 'babybel cheese', 'pita bread', 'cheese pita',\n",
       "       'soda', 'sandwich', 'beef jerky', 'sports drink',\n",
       "       'banquet chicken pot pie',\n",
       "       '(red baron) brick oven pepperoni pizza', 'm & m ', 'cereal',\n",
       "       'mashed potato', 'frozen pop',\n",
       "       'omelet (3 egg, bacon 3 strip, cheese 2 tsp)',\n",
       "       \"(arby's) classic roast beef ff\", 'chip', 'salsa',\n",
       "       'cheeseburger (mayo , mustard, chili)', 'tater tots',\n",
       "       'onion rings', 'fig newton', 'water ', 'vienna sausage',\n",
       "       'lance toast chee', 'tootsie roll', 'fried potato', 'chex mix',\n",
       "       'fig bar', 'rib', 'mash potato', 'cake', 'rice krispies',\n",
       "       '(hamburger helper) deluxe cheeseburger macaroni',\n",
       "       'chocolate cake', 'dots gumdrops', 'french dressing', 'spaghetti',\n",
       "       'tortilla chips', 'crab cakes', 'clam chowder', 'beans', 'apples',\n",
       "       'smartie candy roll', 'grilled chicken',\n",
       "       'crusted parmesian chicken', 'chocolate lava cake',\n",
       "       'french toast with syrup', 'fried rice', 'bbq chicken', 'lasagna',\n",
       "       'hershey kiss', 'reese cup', 'turkey wings', 'chicken breast',\n",
       "       'chicken wing', 'popcorn', 'baked chicken', '(chipotle) bowl',\n",
       "       'peanut butter', 'spoon biscotti', 'salmon', 'mash potatoes',\n",
       "       'eggs', 'bacon', 'waffle with syrup', 'small bag of popcorn',\n",
       "       'cookies', 'cheese stick', 'biscott cookie', 'chicken breast ',\n",
       "       'chicken', 'fries', 'peppermint', '90% cocoa dark chocolate',\n",
       "       'dark chocolate toffee', 'ziti', 'slice of banana bread', 'cheese',\n",
       "       'ranch dressing', 'baked potato', '(babybel) cheese', 'pepperoni',\n",
       "       'baked chicken thigh', 'flour tortilla', 'black beans',\n",
       "       'chicken chorizo', 'pepperjack cheese', '90% dark chocolate',\n",
       "       'sausage', 'hummus', 'pistachios', 'yogurt', 'granola bar',\n",
       "       'multigrain chips', 'quest bar cookie dough',\n",
       "       '4 small pizza slices everything', 'chocolate chip cookies',\n",
       "       'baked cheetos', 'oreo shake', 'std breakfast',\n",
       "       'fun size snickers bar', 'mac and cheese', 'blue bunny fudge bar',\n",
       "       'chex mix cheddar', 'fritos single serving bag', 'veggie omelet',\n",
       "       'cinnamon raisin bagel', '2 small fruit bars',\n",
       "       'lean cuisine mushroom ravioli box meal', 'm&ms', 'nutrigrain bar',\n",
       "       '1/4 blueberry pancake', 'grits', '1 snack size baby ruth',\n",
       "       'ritz pb crackers', 'totinos pizza', 'baked chicken ',\n",
       "       'lemon risotto', 'cheesecake', '3/4 large blueberry pancake',\n",
       "       '(costco) seafood stuffed salmon',\n",
       "       '(green giant) rice cauliflower - plain', 'chickpeas',\n",
       "       '(jolly time) select yellow pop corn - air popped',\n",
       "       '(peppridge farm) whole wheat hamburger bun',\n",
       "       '(jif) extra crunchy peanut butter', '(quaker) old fashioned oats',\n",
       "       'ground flaxseeds',\n",
       "       'homemade chicken noodle soup with chicken, onion, celery, (kirkland) organic chicken stock, and (amish kitchens) wide egg noodles',\n",
       "       'tilapia', '(harris teeter) charleston crabcake', 'juice',\n",
       "       'std bfast', 'pecans', 'smart balance', 'cinnamon',\n",
       "       'chicken breaded with (progesso) italian bread crumbs', 'potato',\n",
       "       'extra virgin olive oil',\n",
       "       '(crosse and blackwell) old fashioned english fish and chip  vinegar',\n",
       "       'homemade beef and barley soup with onion, celery, kale, (simple truth) fat free organic beef stock, and (pacific) low sodium organic vegetable broth',\n",
       "       '(nosh) veggie slaw side order', 'golden crust chicken patil',\n",
       "       'mini croissants', 'turkey bacon', 'air fried chicken wings',\n",
       "       'granola oats and honey', 'pizza triangles', 'brownie',\n",
       "       'tomato and mozzarella toothpick', 'large baked potato',\n",
       "       'oatmeal margarine', 'handfull of oats and honey granola',\n",
       "       'air fried french fries', '(wheat thins) ranch crackers',\n",
       "       'air fried chicken loingettes ', 'vanilla cookies',\n",
       "       'lemon cookies', 'baked sweet potato', 'boiled eggs',\n",
       "       'chicken wingettes', 'medium baked potato',\n",
       "       '(blue diamond) almonds lightly salted',\n",
       "       'swiss cheese thinly sliced', 'baked chicken breast',\n",
       "       'coleslaw with almond and cranberry', 'hot dog', 'walnut',\n",
       "       'california roll', 'townhouse cracker',\n",
       "       'boiled chicken with cherry tomatoes and taco shell pieces',\n",
       "       'fried egg', 'whole wheat toast', 'atlantic salmon',\n",
       "       'barbecue sauce', 'egg white', 'peanut buttter',\n",
       "       'salmon with butter and asparagus', 'hard boiled egg',\n",
       "       'boneless skinless chicken thigh', '(hannah) tatziki sauce',\n",
       "       '2% cottage cheese', '(blue diamond) almond nut thins',\n",
       "       'gin-soaked raisins', '(fage) greek yogurt, plain nonfat',\n",
       "       'homemade potato cauliflower soup with potato, cauliflower, chicken broth, onions',\n",
       "       'oil', 'cheddar cheese', '(dove) promises dark chocolate',\n",
       "       'balsamic vinegar', 'faro', 'lamb gyro', 'homemade potato chips',\n",
       "       'eggo waffle', 'plain bagel', 'grilled salmon', 'chicken gyro',\n",
       "       'medium french fries', 'sausage, kale, sweet potato soup',\n",
       "       'tortilla', 'refried beans', 'oreo cookie', 'hamburger', 'chips',\n",
       "       'candy bar', 'toast', 'brunswick stew', 'slaw',\n",
       "       \"reese's peanut butter cup\", 'nutty bar', 'baked beans',\n",
       "       'scrambled eggs with jelly', 'pecan twirl', 'donut',\n",
       "       'peanut butter cracker', 'chicken casserole', 'apple pie',\n",
       "       'honey nut cheerios', 'chicken pot pie', 'peach cobbler',\n",
       "       'cranberry sauce', 'chocolate pudding',\n",
       "       '(pillsbury) cinammon rolls ', 'cheese and crackers', 'porkchop',\n",
       "       'chili', 'peanuts', '(utz) cheese puffs', 'moon cheddar cheese',\n",
       "       'sargento cranberries snack pack cheese, cashews',\n",
       "       '(babybel) cheese bite', 'sausage ', 'chicken thigh',\n",
       "       'fried cheddar cheese bite', 'mint chocolate cookies',\n",
       "       'dark chocolate chip', 'corn cheese puffs',\n",
       "       'toast - butter, cheese, mayo', 'pork bbq',\n",
       "       'chocolate, peanut, almond bar', 'peanut butter wafers',\n",
       "       'peanut m & m', 'grilled cheese', 'butter',\n",
       "       '(smoke house) almonds', 'mozzarella', 'chicken burger',\n",
       "       'whole wheat toast with butter', 'angle food candy from mother',\n",
       "       'fried cheese curds', 'angle food candy ',\n",
       "       \"(garrett's) caramel popcorn cheddar\", 'sushi', 'soup',\n",
       "       'ginger bread cookie', 'cheddar and caramel popcorn',\n",
       "       'peppermint bark candy', 'lasagna (mostly vegetables)',\n",
       "       'cashew nut', 'chocolate', 'honey', 'pretzel rod', 'potato chip',\n",
       "       'chicken noodle soup', 'small sweet potato', 'turkey leg',\n",
       "       'stuffing', 'pound cake', 'small blueberry pancake', 'syrup',\n",
       "       'toffee', 'vegetable lasagna', 'low fat cottage cheese',\n",
       "       'greek yogurt', 'bean', 'duck burrito', 'corn chips',\n",
       "       'duck soup with dumpling', 'cheese crackers', 'mixed nuts',\n",
       "       'cookie', 'oatmeal', 'maple syrup', 'lamb',\n",
       "       'simply naked pita chips', 'roasted red pepper hummus',\n",
       "       'pork loin tenderloin (hornet)',\n",
       "       'quest protein bar double chocolate chunk',\n",
       "       'chicken parmesan with tomato sauce',\n",
       "       'mashed potatoes with brown gravy',\n",
       "       'thomas blueberry english muffins',\n",
       "       'jimmy dean hot premium pork sausage', 'large egg',\n",
       "       'kerry gold butter', 'asndes cremede menth thin mints',\n",
       "       'quest protein bar white chocolate raspberry bar',\n",
       "       'lifesaver peppermint breath mint', 'chicken breast air fried',\n",
       "       'lifesaver gummies (wild berries)',\n",
       "       \"uncle al's strawberry cremes cookies\",\n",
       "       'taco bell chicken quesadilla', 'soft taco',\n",
       "       'large eggs scrambled (nothing added)',\n",
       "       'thomas english muffin blueberry',\n",
       "       'thomas english muffin cinnamon', 'special k with strawberries',\n",
       "       'goetzes caramel cremes',\n",
       "       'quest protein bar caramel chocolate chunk',\n",
       "       'pizza slice of ny pepperoni', 'mozarrella sticks',\n",
       "       \"oreo's peppermint bark\", 'strawberry scone',\n",
       "       'kraft mac and cheese', 'quest protein bar birthday cake',\n",
       "       'sun chips garden salsa', 'hard boiled eggs', 'cottage cheese',\n",
       "       'apple pie ', 'ghiradelli peppermint bark square',\n",
       "       'land o lakes cinnamon butter', \"m&m's\", 'sloppy joe with 1 bun',\n",
       "       \"lay's wavy potato chips\", 'glucerna snack bar',\n",
       "       'small pc red velvet cake', 'ruffles chips',\n",
       "       'panko breaded baked fish ',\n",
       "       'northern harvest sweet + spicy chunk light tuna',\n",
       "       'multigrain cakes', 'harris teeter canned sliced peaches',\n",
       "       'sarah lee honey wheat bread with butter', '2 fried eggs',\n",
       "       '2 slices bacon', 'salt and vinegar chips',\n",
       "       'taco bell nachos grande', 'taco bell cinnamon twists',\n",
       "       '2/3 bag orville redenbacher butter popcorn',\n",
       "       \"slice of boar's head swiss cheese\", '2 muffins',\n",
       "       '2 pieces honey wheat toast with butter',\n",
       "       \"sugg's coconut greek yogurt\", 'small chocolate shake (1/2)',\n",
       "       '1/2 cup cottge cheese', 'old el priso burrito 2 taco shells',\n",
       "       'gnd beef', 'rice + beans', 'blue cheese dressing',\n",
       "       'outback cheesecake with chocolate sauce', '2 leftover burritos',\n",
       "       'outback bread loaf (1/2) + butter', 'salmon cakes', 'brownies',\n",
       "       'two slices of bread', 'side of home fried potatoes', 'brown rice',\n",
       "       'sardines ', 'french bread', 'swiss cheese', 'salami',\n",
       "       'chicken soup', 'crostinis (slice of french bread, swiss, tomato)',\n",
       "       'chicken enchiladas with black beans, spanish rice, salsa',\n",
       "       'bojangles chicken thigh', 'plain cheese pizza', 'anchovies',\n",
       "       'cooked black eyed peas'], dtype=object)"
      ]
     },
     "execution_count": 103,
     "metadata": {},
     "output_type": "execute_result"
    }
   ],
   "source": [
    "filtered['simplified_food'].unique()"
   ]
  },
  {
   "cell_type": "code",
   "execution_count": 99,
   "metadata": {},
   "outputs": [
    {
     "data": {
      "text/html": [
       "<div>\n",
       "<style scoped>\n",
       "    .dataframe tbody tr th:only-of-type {\n",
       "        vertical-align: middle;\n",
       "    }\n",
       "\n",
       "    .dataframe tbody tr th {\n",
       "        vertical-align: top;\n",
       "    }\n",
       "\n",
       "    .dataframe thead th {\n",
       "        text-align: right;\n",
       "    }\n",
       "</style>\n",
       "<table border=\"1\" class=\"dataframe\">\n",
       "  <thead>\n",
       "    <tr style=\"text-align: right;\">\n",
       "      <th></th>\n",
       "      <th>date</th>\n",
       "      <th>time</th>\n",
       "      <th>time_begin</th>\n",
       "      <th>time_end</th>\n",
       "      <th>logged_food</th>\n",
       "      <th>amount</th>\n",
       "      <th>unit</th>\n",
       "      <th>searched_food</th>\n",
       "      <th>calorie</th>\n",
       "      <th>total_carb</th>\n",
       "      <th>...</th>\n",
       "      <th>total_fat</th>\n",
       "      <th>subject</th>\n",
       "      <th>time_of_day</th>\n",
       "      <th>ID</th>\n",
       "      <th>Gender</th>\n",
       "      <th>HbA1c</th>\n",
       "      <th>datetime</th>\n",
       "      <th>hour</th>\n",
       "      <th>class</th>\n",
       "      <th>simplified_food</th>\n",
       "    </tr>\n",
       "  </thead>\n",
       "  <tbody>\n",
       "    <tr>\n",
       "      <th>0</th>\n",
       "      <td>2020-02-13</td>\n",
       "      <td>2025-02-11 18:00:00</td>\n",
       "      <td>2020-02-13 18:00:00</td>\n",
       "      <td>NaN</td>\n",
       "      <td>Berry Smoothie</td>\n",
       "      <td>20.0</td>\n",
       "      <td>fluid ounce</td>\n",
       "      <td>Strawberry Smoothie</td>\n",
       "      <td>456.0</td>\n",
       "      <td>85.0</td>\n",
       "      <td>...</td>\n",
       "      <td>3.3</td>\n",
       "      <td>1.0</td>\n",
       "      <td>NaN</td>\n",
       "      <td>1</td>\n",
       "      <td>FEMALE</td>\n",
       "      <td>5.5</td>\n",
       "      <td>2020-02-13 18:00:00</td>\n",
       "      <td>18</td>\n",
       "      <td>beverages</td>\n",
       "      <td>smoothie</td>\n",
       "    </tr>\n",
       "    <tr>\n",
       "      <th>3</th>\n",
       "      <td>2020-02-14</td>\n",
       "      <td>2025-02-11 07:10:00</td>\n",
       "      <td>2020-02-14 07:10:00</td>\n",
       "      <td>NaN</td>\n",
       "      <td>Natrel Lactose Free 2 Percent</td>\n",
       "      <td>8.0</td>\n",
       "      <td>fluid ounce</td>\n",
       "      <td>(Natrel) Lactose Free 2% Partly Skimmed Milk</td>\n",
       "      <td>120.0</td>\n",
       "      <td>9.0</td>\n",
       "      <td>...</td>\n",
       "      <td>NaN</td>\n",
       "      <td>1.0</td>\n",
       "      <td>NaN</td>\n",
       "      <td>1</td>\n",
       "      <td>FEMALE</td>\n",
       "      <td>5.5</td>\n",
       "      <td>2020-02-14 07:10:00</td>\n",
       "      <td>7</td>\n",
       "      <td>beverages</td>\n",
       "      <td>milk</td>\n",
       "    </tr>\n",
       "    <tr>\n",
       "      <th>8</th>\n",
       "      <td>2020-02-14</td>\n",
       "      <td>2025-02-11 19:30:00</td>\n",
       "      <td>2020-02-14 19:30:00</td>\n",
       "      <td>NaN</td>\n",
       "      <td>Acai Smoothie</td>\n",
       "      <td>20.0</td>\n",
       "      <td>fluid ounce</td>\n",
       "      <td>(Smoothie King) Acai Adventure Smoothie</td>\n",
       "      <td>440.0</td>\n",
       "      <td>92.0</td>\n",
       "      <td>...</td>\n",
       "      <td>NaN</td>\n",
       "      <td>1.0</td>\n",
       "      <td>NaN</td>\n",
       "      <td>1</td>\n",
       "      <td>FEMALE</td>\n",
       "      <td>5.5</td>\n",
       "      <td>2020-02-14 19:30:00</td>\n",
       "      <td>19</td>\n",
       "      <td>beverages</td>\n",
       "      <td>smoothie</td>\n",
       "    </tr>\n",
       "    <tr>\n",
       "      <th>11</th>\n",
       "      <td>2020-02-15</td>\n",
       "      <td>2025-02-11 07:30:00</td>\n",
       "      <td>2020-02-15 07:30:00</td>\n",
       "      <td>NaN</td>\n",
       "      <td>Spinach Smoothie</td>\n",
       "      <td>20.0</td>\n",
       "      <td>fluid ounce</td>\n",
       "      <td>Spinach Smoothie</td>\n",
       "      <td>308.0</td>\n",
       "      <td>69.0</td>\n",
       "      <td>...</td>\n",
       "      <td>NaN</td>\n",
       "      <td>1.0</td>\n",
       "      <td>NaN</td>\n",
       "      <td>1</td>\n",
       "      <td>FEMALE</td>\n",
       "      <td>5.5</td>\n",
       "      <td>2020-02-15 07:30:00</td>\n",
       "      <td>7</td>\n",
       "      <td>beverages</td>\n",
       "      <td>smoothie</td>\n",
       "    </tr>\n",
       "    <tr>\n",
       "      <th>21</th>\n",
       "      <td>2020-02-16</td>\n",
       "      <td>2025-02-11 07:00:00</td>\n",
       "      <td>2020-02-16 07:00:00</td>\n",
       "      <td>NaN</td>\n",
       "      <td>Natrel Lactose Free 2 Percent</td>\n",
       "      <td>8.0</td>\n",
       "      <td>fluid ounce</td>\n",
       "      <td>(Natrel) Lactose Free 2% Partly Skimmed Milk</td>\n",
       "      <td>120.0</td>\n",
       "      <td>9.0</td>\n",
       "      <td>...</td>\n",
       "      <td>NaN</td>\n",
       "      <td>1.0</td>\n",
       "      <td>NaN</td>\n",
       "      <td>1</td>\n",
       "      <td>FEMALE</td>\n",
       "      <td>5.5</td>\n",
       "      <td>2020-02-16 07:00:00</td>\n",
       "      <td>7</td>\n",
       "      <td>beverages</td>\n",
       "      <td>milk</td>\n",
       "    </tr>\n",
       "    <tr>\n",
       "      <th>...</th>\n",
       "      <td>...</td>\n",
       "      <td>...</td>\n",
       "      <td>...</td>\n",
       "      <td>...</td>\n",
       "      <td>...</td>\n",
       "      <td>...</td>\n",
       "      <td>...</td>\n",
       "      <td>...</td>\n",
       "      <td>...</td>\n",
       "      <td>...</td>\n",
       "      <td>...</td>\n",
       "      <td>...</td>\n",
       "      <td>...</td>\n",
       "      <td>...</td>\n",
       "      <td>...</td>\n",
       "      <td>...</td>\n",
       "      <td>...</td>\n",
       "      <td>...</td>\n",
       "      <td>...</td>\n",
       "      <td>...</td>\n",
       "      <td>...</td>\n",
       "    </tr>\n",
       "    <tr>\n",
       "      <th>1390</th>\n",
       "      <td>2020-02-22</td>\n",
       "      <td>2025-02-11 12:45:00</td>\n",
       "      <td>2020-02-22 12:45:00</td>\n",
       "      <td>NaN</td>\n",
       "      <td>1 cup coffee</td>\n",
       "      <td>NaN</td>\n",
       "      <td>NaN</td>\n",
       "      <td>NaN</td>\n",
       "      <td>84.0</td>\n",
       "      <td>2.6</td>\n",
       "      <td>...</td>\n",
       "      <td>7.0</td>\n",
       "      <td>16.0</td>\n",
       "      <td>12:45</td>\n",
       "      <td>16</td>\n",
       "      <td>MALE</td>\n",
       "      <td>5.5</td>\n",
       "      <td>2020-02-22 12:45:00</td>\n",
       "      <td>12</td>\n",
       "      <td>beverages</td>\n",
       "      <td>coffee</td>\n",
       "    </tr>\n",
       "    <tr>\n",
       "      <th>1402</th>\n",
       "      <td>2020-02-24</td>\n",
       "      <td>2025-02-11 19:30:00</td>\n",
       "      <td>2020-02-24 19:30:00</td>\n",
       "      <td>NaN</td>\n",
       "      <td>Beer</td>\n",
       "      <td>1</td>\n",
       "      <td>pint</td>\n",
       "      <td>NaN</td>\n",
       "      <td>204.0</td>\n",
       "      <td>17.0</td>\n",
       "      <td>...</td>\n",
       "      <td>0.0</td>\n",
       "      <td>16.0</td>\n",
       "      <td>19:30</td>\n",
       "      <td>16</td>\n",
       "      <td>MALE</td>\n",
       "      <td>5.5</td>\n",
       "      <td>2020-02-24 19:30:00</td>\n",
       "      <td>19</td>\n",
       "      <td>beverages</td>\n",
       "      <td>alcohol</td>\n",
       "    </tr>\n",
       "    <tr>\n",
       "      <th>1405</th>\n",
       "      <td>2020-02-25</td>\n",
       "      <td>2025-02-11 08:00:00</td>\n",
       "      <td>2020-02-25 08:00:00</td>\n",
       "      <td>NaN</td>\n",
       "      <td>1 coffee with cream</td>\n",
       "      <td>NaN</td>\n",
       "      <td>NaN</td>\n",
       "      <td>NaN</td>\n",
       "      <td>84.0</td>\n",
       "      <td>2.6</td>\n",
       "      <td>...</td>\n",
       "      <td>7.0</td>\n",
       "      <td>16.0</td>\n",
       "      <td>8:00</td>\n",
       "      <td>16</td>\n",
       "      <td>MALE</td>\n",
       "      <td>5.5</td>\n",
       "      <td>2020-02-25 08:00:00</td>\n",
       "      <td>8</td>\n",
       "      <td>beverages</td>\n",
       "      <td>coffee</td>\n",
       "    </tr>\n",
       "    <tr>\n",
       "      <th>1409</th>\n",
       "      <td>2020-02-25</td>\n",
       "      <td>2025-02-11 20:00:00</td>\n",
       "      <td>2020-02-25 20:00:00</td>\n",
       "      <td>NaN</td>\n",
       "      <td>Sweat tea ice</td>\n",
       "      <td>32</td>\n",
       "      <td>fluid oz</td>\n",
       "      <td>NaN</td>\n",
       "      <td>320.0</td>\n",
       "      <td>84.0</td>\n",
       "      <td>...</td>\n",
       "      <td>0.0</td>\n",
       "      <td>16.0</td>\n",
       "      <td>20:00</td>\n",
       "      <td>16</td>\n",
       "      <td>MALE</td>\n",
       "      <td>5.5</td>\n",
       "      <td>2020-02-25 20:00:00</td>\n",
       "      <td>20</td>\n",
       "      <td>beverages</td>\n",
       "      <td>tea</td>\n",
       "    </tr>\n",
       "    <tr>\n",
       "      <th>1417</th>\n",
       "      <td>2020-02-26</td>\n",
       "      <td>2025-02-11 18:30:00</td>\n",
       "      <td>2020-02-26 18:30:00</td>\n",
       "      <td>NaN</td>\n",
       "      <td>Lemonade</td>\n",
       "      <td>32</td>\n",
       "      <td>oz</td>\n",
       "      <td>NaN</td>\n",
       "      <td>99.0</td>\n",
       "      <td>26.0</td>\n",
       "      <td>...</td>\n",
       "      <td>0.1</td>\n",
       "      <td>16.0</td>\n",
       "      <td>18:30</td>\n",
       "      <td>16</td>\n",
       "      <td>MALE</td>\n",
       "      <td>5.5</td>\n",
       "      <td>2020-02-26 18:30:00</td>\n",
       "      <td>18</td>\n",
       "      <td>beverages</td>\n",
       "      <td>soda</td>\n",
       "    </tr>\n",
       "  </tbody>\n",
       "</table>\n",
       "<p>363 rows × 23 columns</p>\n",
       "</div>"
      ],
      "text/plain": [
       "           date                time           time_begin time_end  \\\n",
       "0    2020-02-13 2025-02-11 18:00:00  2020-02-13 18:00:00      NaN   \n",
       "3    2020-02-14 2025-02-11 07:10:00  2020-02-14 07:10:00      NaN   \n",
       "8    2020-02-14 2025-02-11 19:30:00  2020-02-14 19:30:00      NaN   \n",
       "11   2020-02-15 2025-02-11 07:30:00  2020-02-15 07:30:00      NaN   \n",
       "21   2020-02-16 2025-02-11 07:00:00  2020-02-16 07:00:00      NaN   \n",
       "...         ...                 ...                  ...      ...   \n",
       "1390 2020-02-22 2025-02-11 12:45:00  2020-02-22 12:45:00      NaN   \n",
       "1402 2020-02-24 2025-02-11 19:30:00  2020-02-24 19:30:00      NaN   \n",
       "1405 2020-02-25 2025-02-11 08:00:00  2020-02-25 08:00:00      NaN   \n",
       "1409 2020-02-25 2025-02-11 20:00:00  2020-02-25 20:00:00      NaN   \n",
       "1417 2020-02-26 2025-02-11 18:30:00  2020-02-26 18:30:00      NaN   \n",
       "\n",
       "                        logged_food amount         unit  \\\n",
       "0                    Berry Smoothie   20.0  fluid ounce   \n",
       "3     Natrel Lactose Free 2 Percent    8.0  fluid ounce   \n",
       "8                     Acai Smoothie   20.0  fluid ounce   \n",
       "11                 Spinach Smoothie   20.0  fluid ounce   \n",
       "21    Natrel Lactose Free 2 Percent    8.0  fluid ounce   \n",
       "...                             ...    ...          ...   \n",
       "1390                   1 cup coffee    NaN          NaN   \n",
       "1402                           Beer      1         pint   \n",
       "1405            1 coffee with cream    NaN          NaN   \n",
       "1409                  Sweat tea ice     32     fluid oz   \n",
       "1417                       Lemonade     32           oz   \n",
       "\n",
       "                                     searched_food  calorie  total_carb  ...  \\\n",
       "0                              Strawberry Smoothie    456.0        85.0  ...   \n",
       "3     (Natrel) Lactose Free 2% Partly Skimmed Milk    120.0         9.0  ...   \n",
       "8          (Smoothie King) Acai Adventure Smoothie    440.0        92.0  ...   \n",
       "11                                Spinach Smoothie    308.0        69.0  ...   \n",
       "21    (Natrel) Lactose Free 2% Partly Skimmed Milk    120.0         9.0  ...   \n",
       "...                                            ...      ...         ...  ...   \n",
       "1390                                           NaN     84.0         2.6  ...   \n",
       "1402                                           NaN    204.0        17.0  ...   \n",
       "1405                                           NaN     84.0         2.6  ...   \n",
       "1409                                           NaN    320.0        84.0  ...   \n",
       "1417                                           NaN     99.0        26.0  ...   \n",
       "\n",
       "      total_fat  subject  time_of_day  ID  Gender HbA1c            datetime  \\\n",
       "0           3.3      1.0          NaN   1  FEMALE   5.5 2020-02-13 18:00:00   \n",
       "3           NaN      1.0          NaN   1  FEMALE   5.5 2020-02-14 07:10:00   \n",
       "8           NaN      1.0          NaN   1  FEMALE   5.5 2020-02-14 19:30:00   \n",
       "11          NaN      1.0          NaN   1  FEMALE   5.5 2020-02-15 07:30:00   \n",
       "21          NaN      1.0          NaN   1  FEMALE   5.5 2020-02-16 07:00:00   \n",
       "...         ...      ...          ...  ..     ...   ...                 ...   \n",
       "1390        7.0     16.0        12:45  16    MALE   5.5 2020-02-22 12:45:00   \n",
       "1402        0.0     16.0        19:30  16    MALE   5.5 2020-02-24 19:30:00   \n",
       "1405        7.0     16.0         8:00  16    MALE   5.5 2020-02-25 08:00:00   \n",
       "1409        0.0     16.0        20:00  16    MALE   5.5 2020-02-25 20:00:00   \n",
       "1417        0.1     16.0        18:30  16    MALE   5.5 2020-02-26 18:30:00   \n",
       "\n",
       "     hour      class simplified_food  \n",
       "0      18  beverages        smoothie  \n",
       "3       7  beverages            milk  \n",
       "8      19  beverages        smoothie  \n",
       "11      7  beverages        smoothie  \n",
       "21      7  beverages            milk  \n",
       "...   ...        ...             ...  \n",
       "1390   12  beverages          coffee  \n",
       "1402   19  beverages         alcohol  \n",
       "1405    8  beverages          coffee  \n",
       "1409   20  beverages             tea  \n",
       "1417   18  beverages            soda  \n",
       "\n",
       "[363 rows x 23 columns]"
      ]
     },
     "execution_count": 99,
     "metadata": {},
     "output_type": "execute_result"
    }
   ],
   "source": [
    "bevs = filtered[filtered['class'] == 'beverages']\n",
    "bevs"
   ]
  },
  {
   "cell_type": "code",
   "execution_count": 100,
   "metadata": {},
   "outputs": [
    {
     "data": {
      "text/plain": [
       "array(['smoothie', 'milk', 'hot chocolate', 'tea', 'soda', 'sports drink',\n",
       "       'water ', 'alcohol', 'coffee', 'juice'], dtype=object)"
      ]
     },
     "execution_count": 100,
     "metadata": {},
     "output_type": "execute_result"
    }
   ],
   "source": [
    "bevs['simplified_food'].unique()"
   ]
  },
  {
   "cell_type": "code",
   "execution_count": 101,
   "metadata": {},
   "outputs": [
    {
     "data": {
      "application/vnd.plotly.v1+json": {
       "config": {
        "plotlyServerURL": "https://plot.ly"
       },
       "data": [
        {
         "alignmentgroup": "True",
         "hovertemplate": "simplified_food=sports drink<br>hour=%{x}<br>class=%{y}<extra></extra>",
         "legendgroup": "sports drink",
         "marker": {
          "color": "#636efa",
          "pattern": {
           "shape": ""
          }
         },
         "name": "sports drink",
         "offsetgroup": "sports drink",
         "orientation": "v",
         "showlegend": true,
         "textposition": "auto",
         "type": "bar",
         "x": [
          0,
          12,
          13,
          15,
          16,
          20
         ],
         "xaxis": "x",
         "y": [
          1,
          2,
          3,
          2,
          2,
          1
         ],
         "yaxis": "y"
        },
        {
         "alignmentgroup": "True",
         "hovertemplate": "simplified_food=smoothie<br>hour=%{x}<br>class=%{y}<extra></extra>",
         "legendgroup": "smoothie",
         "marker": {
          "color": "#EF553B",
          "pattern": {
           "shape": ""
          }
         },
         "name": "smoothie",
         "offsetgroup": "smoothie",
         "orientation": "v",
         "showlegend": true,
         "textposition": "auto",
         "type": "bar",
         "x": [
          1,
          6,
          7,
          10,
          11,
          14,
          18,
          19,
          20,
          22,
          23
         ],
         "xaxis": "x",
         "y": [
          2,
          1,
          2,
          1,
          2,
          1,
          4,
          2,
          3,
          1,
          3
         ],
         "yaxis": "y"
        },
        {
         "alignmentgroup": "True",
         "hovertemplate": "simplified_food=coffee<br>hour=%{x}<br>class=%{y}<extra></extra>",
         "legendgroup": "coffee",
         "marker": {
          "color": "#00cc96",
          "pattern": {
           "shape": ""
          }
         },
         "name": "coffee",
         "offsetgroup": "coffee",
         "orientation": "v",
         "showlegend": true,
         "textposition": "auto",
         "type": "bar",
         "x": [
          3,
          4,
          5,
          6,
          7,
          8,
          9,
          10,
          11,
          12,
          13,
          14,
          15,
          16,
          17,
          18,
          20,
          21
         ],
         "xaxis": "x",
         "y": [
          1,
          6,
          11,
          9,
          10,
          33,
          16,
          11,
          9,
          7,
          7,
          8,
          3,
          6,
          2,
          5,
          3,
          3
         ],
         "yaxis": "y"
        },
        {
         "alignmentgroup": "True",
         "hovertemplate": "simplified_food=juice<br>hour=%{x}<br>class=%{y}<extra></extra>",
         "legendgroup": "juice",
         "marker": {
          "color": "#ab63fa",
          "pattern": {
           "shape": ""
          }
         },
         "name": "juice",
         "offsetgroup": "juice",
         "orientation": "v",
         "showlegend": true,
         "textposition": "auto",
         "type": "bar",
         "x": [
          4,
          9,
          10,
          13,
          14,
          17,
          18,
          19,
          20
         ],
         "xaxis": "x",
         "y": [
          1,
          2,
          2,
          1,
          2,
          1,
          1,
          4,
          1
         ],
         "yaxis": "y"
        },
        {
         "alignmentgroup": "True",
         "hovertemplate": "simplified_food=milk<br>hour=%{x}<br>class=%{y}<extra></extra>",
         "legendgroup": "milk",
         "marker": {
          "color": "#FFA15A",
          "pattern": {
           "shape": ""
          }
         },
         "name": "milk",
         "offsetgroup": "milk",
         "orientation": "v",
         "showlegend": true,
         "textposition": "auto",
         "type": "bar",
         "x": [
          4,
          5,
          6,
          7,
          8,
          9,
          10,
          12,
          13,
          14,
          15,
          18,
          19,
          20,
          21
         ],
         "xaxis": "x",
         "y": [
          5,
          10,
          4,
          4,
          9,
          9,
          7,
          3,
          5,
          1,
          1,
          2,
          7,
          1,
          2
         ],
         "yaxis": "y"
        },
        {
         "alignmentgroup": "True",
         "hovertemplate": "simplified_food=soda<br>hour=%{x}<br>class=%{y}<extra></extra>",
         "legendgroup": "soda",
         "marker": {
          "color": "#19d3f3",
          "pattern": {
           "shape": ""
          }
         },
         "name": "soda",
         "offsetgroup": "soda",
         "orientation": "v",
         "showlegend": true,
         "textposition": "auto",
         "type": "bar",
         "x": [
          4,
          5,
          6,
          8,
          9,
          10,
          11,
          12,
          13,
          14,
          15,
          16,
          18,
          19,
          20,
          23
         ],
         "xaxis": "x",
         "y": [
          1,
          1,
          1,
          5,
          3,
          4,
          4,
          10,
          5,
          2,
          4,
          2,
          7,
          6,
          2,
          1
         ],
         "yaxis": "y"
        },
        {
         "alignmentgroup": "True",
         "hovertemplate": "simplified_food=hot chocolate<br>hour=%{x}<br>class=%{y}<extra></extra>",
         "legendgroup": "hot chocolate",
         "marker": {
          "color": "#FF6692",
          "pattern": {
           "shape": ""
          }
         },
         "name": "hot chocolate",
         "offsetgroup": "hot chocolate",
         "orientation": "v",
         "showlegend": true,
         "textposition": "auto",
         "type": "bar",
         "x": [
          8,
          13
         ],
         "xaxis": "x",
         "y": [
          1,
          1
         ],
         "yaxis": "y"
        },
        {
         "alignmentgroup": "True",
         "hovertemplate": "simplified_food=tea<br>hour=%{x}<br>class=%{y}<extra></extra>",
         "legendgroup": "tea",
         "marker": {
          "color": "#B6E880",
          "pattern": {
           "shape": ""
          }
         },
         "name": "tea",
         "offsetgroup": "tea",
         "orientation": "v",
         "showlegend": true,
         "textposition": "auto",
         "type": "bar",
         "x": [
          8,
          12,
          13,
          14,
          15,
          18,
          19,
          20,
          21
         ],
         "xaxis": "x",
         "y": [
          1,
          1,
          2,
          1,
          2,
          2,
          1,
          4,
          2
         ],
         "yaxis": "y"
        },
        {
         "alignmentgroup": "True",
         "hovertemplate": "simplified_food=alcohol<br>hour=%{x}<br>class=%{y}<extra></extra>",
         "legendgroup": "alcohol",
         "marker": {
          "color": "#FF97FF",
          "pattern": {
           "shape": ""
          }
         },
         "name": "alcohol",
         "offsetgroup": "alcohol",
         "orientation": "v",
         "showlegend": true,
         "textposition": "auto",
         "type": "bar",
         "x": [
          12,
          17,
          18,
          19,
          20,
          22
         ],
         "xaxis": "x",
         "y": [
          1,
          5,
          2,
          7,
          2,
          1
         ],
         "yaxis": "y"
        },
        {
         "alignmentgroup": "True",
         "hovertemplate": "simplified_food=water <br>hour=%{x}<br>class=%{y}<extra></extra>",
         "legendgroup": "water ",
         "marker": {
          "color": "#FECB52",
          "pattern": {
           "shape": ""
          }
         },
         "name": "water ",
         "offsetgroup": "water ",
         "orientation": "v",
         "showlegend": true,
         "textposition": "auto",
         "type": "bar",
         "x": [
          14
         ],
         "xaxis": "x",
         "y": [
          1
         ],
         "yaxis": "y"
        }
       ],
       "layout": {
        "barmode": "relative",
        "legend": {
         "title": {
          "text": "simplified_food"
         },
         "tracegroupgap": 0
        },
        "margin": {
         "t": 60
        },
        "template": {
         "data": {
          "bar": [
           {
            "error_x": {
             "color": "#2a3f5f"
            },
            "error_y": {
             "color": "#2a3f5f"
            },
            "marker": {
             "line": {
              "color": "#E5ECF6",
              "width": 0.5
             },
             "pattern": {
              "fillmode": "overlay",
              "size": 10,
              "solidity": 0.2
             }
            },
            "type": "bar"
           }
          ],
          "barpolar": [
           {
            "marker": {
             "line": {
              "color": "#E5ECF6",
              "width": 0.5
             },
             "pattern": {
              "fillmode": "overlay",
              "size": 10,
              "solidity": 0.2
             }
            },
            "type": "barpolar"
           }
          ],
          "carpet": [
           {
            "aaxis": {
             "endlinecolor": "#2a3f5f",
             "gridcolor": "white",
             "linecolor": "white",
             "minorgridcolor": "white",
             "startlinecolor": "#2a3f5f"
            },
            "baxis": {
             "endlinecolor": "#2a3f5f",
             "gridcolor": "white",
             "linecolor": "white",
             "minorgridcolor": "white",
             "startlinecolor": "#2a3f5f"
            },
            "type": "carpet"
           }
          ],
          "choropleth": [
           {
            "colorbar": {
             "outlinewidth": 0,
             "ticks": ""
            },
            "type": "choropleth"
           }
          ],
          "contour": [
           {
            "colorbar": {
             "outlinewidth": 0,
             "ticks": ""
            },
            "colorscale": [
             [
              0,
              "#0d0887"
             ],
             [
              0.1111111111111111,
              "#46039f"
             ],
             [
              0.2222222222222222,
              "#7201a8"
             ],
             [
              0.3333333333333333,
              "#9c179e"
             ],
             [
              0.4444444444444444,
              "#bd3786"
             ],
             [
              0.5555555555555556,
              "#d8576b"
             ],
             [
              0.6666666666666666,
              "#ed7953"
             ],
             [
              0.7777777777777778,
              "#fb9f3a"
             ],
             [
              0.8888888888888888,
              "#fdca26"
             ],
             [
              1,
              "#f0f921"
             ]
            ],
            "type": "contour"
           }
          ],
          "contourcarpet": [
           {
            "colorbar": {
             "outlinewidth": 0,
             "ticks": ""
            },
            "type": "contourcarpet"
           }
          ],
          "heatmap": [
           {
            "colorbar": {
             "outlinewidth": 0,
             "ticks": ""
            },
            "colorscale": [
             [
              0,
              "#0d0887"
             ],
             [
              0.1111111111111111,
              "#46039f"
             ],
             [
              0.2222222222222222,
              "#7201a8"
             ],
             [
              0.3333333333333333,
              "#9c179e"
             ],
             [
              0.4444444444444444,
              "#bd3786"
             ],
             [
              0.5555555555555556,
              "#d8576b"
             ],
             [
              0.6666666666666666,
              "#ed7953"
             ],
             [
              0.7777777777777778,
              "#fb9f3a"
             ],
             [
              0.8888888888888888,
              "#fdca26"
             ],
             [
              1,
              "#f0f921"
             ]
            ],
            "type": "heatmap"
           }
          ],
          "heatmapgl": [
           {
            "colorbar": {
             "outlinewidth": 0,
             "ticks": ""
            },
            "colorscale": [
             [
              0,
              "#0d0887"
             ],
             [
              0.1111111111111111,
              "#46039f"
             ],
             [
              0.2222222222222222,
              "#7201a8"
             ],
             [
              0.3333333333333333,
              "#9c179e"
             ],
             [
              0.4444444444444444,
              "#bd3786"
             ],
             [
              0.5555555555555556,
              "#d8576b"
             ],
             [
              0.6666666666666666,
              "#ed7953"
             ],
             [
              0.7777777777777778,
              "#fb9f3a"
             ],
             [
              0.8888888888888888,
              "#fdca26"
             ],
             [
              1,
              "#f0f921"
             ]
            ],
            "type": "heatmapgl"
           }
          ],
          "histogram": [
           {
            "marker": {
             "pattern": {
              "fillmode": "overlay",
              "size": 10,
              "solidity": 0.2
             }
            },
            "type": "histogram"
           }
          ],
          "histogram2d": [
           {
            "colorbar": {
             "outlinewidth": 0,
             "ticks": ""
            },
            "colorscale": [
             [
              0,
              "#0d0887"
             ],
             [
              0.1111111111111111,
              "#46039f"
             ],
             [
              0.2222222222222222,
              "#7201a8"
             ],
             [
              0.3333333333333333,
              "#9c179e"
             ],
             [
              0.4444444444444444,
              "#bd3786"
             ],
             [
              0.5555555555555556,
              "#d8576b"
             ],
             [
              0.6666666666666666,
              "#ed7953"
             ],
             [
              0.7777777777777778,
              "#fb9f3a"
             ],
             [
              0.8888888888888888,
              "#fdca26"
             ],
             [
              1,
              "#f0f921"
             ]
            ],
            "type": "histogram2d"
           }
          ],
          "histogram2dcontour": [
           {
            "colorbar": {
             "outlinewidth": 0,
             "ticks": ""
            },
            "colorscale": [
             [
              0,
              "#0d0887"
             ],
             [
              0.1111111111111111,
              "#46039f"
             ],
             [
              0.2222222222222222,
              "#7201a8"
             ],
             [
              0.3333333333333333,
              "#9c179e"
             ],
             [
              0.4444444444444444,
              "#bd3786"
             ],
             [
              0.5555555555555556,
              "#d8576b"
             ],
             [
              0.6666666666666666,
              "#ed7953"
             ],
             [
              0.7777777777777778,
              "#fb9f3a"
             ],
             [
              0.8888888888888888,
              "#fdca26"
             ],
             [
              1,
              "#f0f921"
             ]
            ],
            "type": "histogram2dcontour"
           }
          ],
          "mesh3d": [
           {
            "colorbar": {
             "outlinewidth": 0,
             "ticks": ""
            },
            "type": "mesh3d"
           }
          ],
          "parcoords": [
           {
            "line": {
             "colorbar": {
              "outlinewidth": 0,
              "ticks": ""
             }
            },
            "type": "parcoords"
           }
          ],
          "pie": [
           {
            "automargin": true,
            "type": "pie"
           }
          ],
          "scatter": [
           {
            "fillpattern": {
             "fillmode": "overlay",
             "size": 10,
             "solidity": 0.2
            },
            "type": "scatter"
           }
          ],
          "scatter3d": [
           {
            "line": {
             "colorbar": {
              "outlinewidth": 0,
              "ticks": ""
             }
            },
            "marker": {
             "colorbar": {
              "outlinewidth": 0,
              "ticks": ""
             }
            },
            "type": "scatter3d"
           }
          ],
          "scattercarpet": [
           {
            "marker": {
             "colorbar": {
              "outlinewidth": 0,
              "ticks": ""
             }
            },
            "type": "scattercarpet"
           }
          ],
          "scattergeo": [
           {
            "marker": {
             "colorbar": {
              "outlinewidth": 0,
              "ticks": ""
             }
            },
            "type": "scattergeo"
           }
          ],
          "scattergl": [
           {
            "marker": {
             "colorbar": {
              "outlinewidth": 0,
              "ticks": ""
             }
            },
            "type": "scattergl"
           }
          ],
          "scattermapbox": [
           {
            "marker": {
             "colorbar": {
              "outlinewidth": 0,
              "ticks": ""
             }
            },
            "type": "scattermapbox"
           }
          ],
          "scatterpolar": [
           {
            "marker": {
             "colorbar": {
              "outlinewidth": 0,
              "ticks": ""
             }
            },
            "type": "scatterpolar"
           }
          ],
          "scatterpolargl": [
           {
            "marker": {
             "colorbar": {
              "outlinewidth": 0,
              "ticks": ""
             }
            },
            "type": "scatterpolargl"
           }
          ],
          "scatterternary": [
           {
            "marker": {
             "colorbar": {
              "outlinewidth": 0,
              "ticks": ""
             }
            },
            "type": "scatterternary"
           }
          ],
          "surface": [
           {
            "colorbar": {
             "outlinewidth": 0,
             "ticks": ""
            },
            "colorscale": [
             [
              0,
              "#0d0887"
             ],
             [
              0.1111111111111111,
              "#46039f"
             ],
             [
              0.2222222222222222,
              "#7201a8"
             ],
             [
              0.3333333333333333,
              "#9c179e"
             ],
             [
              0.4444444444444444,
              "#bd3786"
             ],
             [
              0.5555555555555556,
              "#d8576b"
             ],
             [
              0.6666666666666666,
              "#ed7953"
             ],
             [
              0.7777777777777778,
              "#fb9f3a"
             ],
             [
              0.8888888888888888,
              "#fdca26"
             ],
             [
              1,
              "#f0f921"
             ]
            ],
            "type": "surface"
           }
          ],
          "table": [
           {
            "cells": {
             "fill": {
              "color": "#EBF0F8"
             },
             "line": {
              "color": "white"
             }
            },
            "header": {
             "fill": {
              "color": "#C8D4E3"
             },
             "line": {
              "color": "white"
             }
            },
            "type": "table"
           }
          ]
         },
         "layout": {
          "annotationdefaults": {
           "arrowcolor": "#2a3f5f",
           "arrowhead": 0,
           "arrowwidth": 1
          },
          "autotypenumbers": "strict",
          "coloraxis": {
           "colorbar": {
            "outlinewidth": 0,
            "ticks": ""
           }
          },
          "colorscale": {
           "diverging": [
            [
             0,
             "#8e0152"
            ],
            [
             0.1,
             "#c51b7d"
            ],
            [
             0.2,
             "#de77ae"
            ],
            [
             0.3,
             "#f1b6da"
            ],
            [
             0.4,
             "#fde0ef"
            ],
            [
             0.5,
             "#f7f7f7"
            ],
            [
             0.6,
             "#e6f5d0"
            ],
            [
             0.7,
             "#b8e186"
            ],
            [
             0.8,
             "#7fbc41"
            ],
            [
             0.9,
             "#4d9221"
            ],
            [
             1,
             "#276419"
            ]
           ],
           "sequential": [
            [
             0,
             "#0d0887"
            ],
            [
             0.1111111111111111,
             "#46039f"
            ],
            [
             0.2222222222222222,
             "#7201a8"
            ],
            [
             0.3333333333333333,
             "#9c179e"
            ],
            [
             0.4444444444444444,
             "#bd3786"
            ],
            [
             0.5555555555555556,
             "#d8576b"
            ],
            [
             0.6666666666666666,
             "#ed7953"
            ],
            [
             0.7777777777777778,
             "#fb9f3a"
            ],
            [
             0.8888888888888888,
             "#fdca26"
            ],
            [
             1,
             "#f0f921"
            ]
           ],
           "sequentialminus": [
            [
             0,
             "#0d0887"
            ],
            [
             0.1111111111111111,
             "#46039f"
            ],
            [
             0.2222222222222222,
             "#7201a8"
            ],
            [
             0.3333333333333333,
             "#9c179e"
            ],
            [
             0.4444444444444444,
             "#bd3786"
            ],
            [
             0.5555555555555556,
             "#d8576b"
            ],
            [
             0.6666666666666666,
             "#ed7953"
            ],
            [
             0.7777777777777778,
             "#fb9f3a"
            ],
            [
             0.8888888888888888,
             "#fdca26"
            ],
            [
             1,
             "#f0f921"
            ]
           ]
          },
          "colorway": [
           "#636efa",
           "#EF553B",
           "#00cc96",
           "#ab63fa",
           "#FFA15A",
           "#19d3f3",
           "#FF6692",
           "#B6E880",
           "#FF97FF",
           "#FECB52"
          ],
          "font": {
           "color": "#2a3f5f"
          },
          "geo": {
           "bgcolor": "white",
           "lakecolor": "white",
           "landcolor": "#E5ECF6",
           "showlakes": true,
           "showland": true,
           "subunitcolor": "white"
          },
          "hoverlabel": {
           "align": "left"
          },
          "hovermode": "closest",
          "mapbox": {
           "style": "light"
          },
          "paper_bgcolor": "white",
          "plot_bgcolor": "#E5ECF6",
          "polar": {
           "angularaxis": {
            "gridcolor": "white",
            "linecolor": "white",
            "ticks": ""
           },
           "bgcolor": "#E5ECF6",
           "radialaxis": {
            "gridcolor": "white",
            "linecolor": "white",
            "ticks": ""
           }
          },
          "scene": {
           "xaxis": {
            "backgroundcolor": "#E5ECF6",
            "gridcolor": "white",
            "gridwidth": 2,
            "linecolor": "white",
            "showbackground": true,
            "ticks": "",
            "zerolinecolor": "white"
           },
           "yaxis": {
            "backgroundcolor": "#E5ECF6",
            "gridcolor": "white",
            "gridwidth": 2,
            "linecolor": "white",
            "showbackground": true,
            "ticks": "",
            "zerolinecolor": "white"
           },
           "zaxis": {
            "backgroundcolor": "#E5ECF6",
            "gridcolor": "white",
            "gridwidth": 2,
            "linecolor": "white",
            "showbackground": true,
            "ticks": "",
            "zerolinecolor": "white"
           }
          },
          "shapedefaults": {
           "line": {
            "color": "#2a3f5f"
           }
          },
          "ternary": {
           "aaxis": {
            "gridcolor": "white",
            "linecolor": "white",
            "ticks": ""
           },
           "baxis": {
            "gridcolor": "white",
            "linecolor": "white",
            "ticks": ""
           },
           "bgcolor": "#E5ECF6",
           "caxis": {
            "gridcolor": "white",
            "linecolor": "white",
            "ticks": ""
           }
          },
          "title": {
           "x": 0.05
          },
          "xaxis": {
           "automargin": true,
           "gridcolor": "white",
           "linecolor": "white",
           "ticks": "",
           "title": {
            "standoff": 15
           },
           "zerolinecolor": "white",
           "zerolinewidth": 2
          },
          "yaxis": {
           "automargin": true,
           "gridcolor": "white",
           "linecolor": "white",
           "ticks": "",
           "title": {
            "standoff": 15
           },
           "zerolinecolor": "white",
           "zerolinewidth": 2
          }
         }
        },
        "xaxis": {
         "anchor": "y",
         "domain": [
          0,
          1
         ],
         "title": {
          "text": "hour"
         }
        },
        "yaxis": {
         "anchor": "x",
         "domain": [
          0,
          1
         ],
         "title": {
          "text": "class"
         }
        }
       }
      }
     },
     "metadata": {},
     "output_type": "display_data"
    }
   ],
   "source": [
    "grouped_bevs = bevs.groupby(['hour','simplified_food']).agg({'class':'count','calorie':'mean','sugar':'mean'}).reset_index()\n",
    "px.bar(grouped_bevs, x='hour', y='class', color='simplified_food')"
   ]
  },
  {
   "cell_type": "code",
   "execution_count": 36,
   "metadata": {},
   "outputs": [
    {
     "data": {
      "text/plain": [
       "array(['Berry Smoothie', 'Natrel Lactose Free 2 Percent', 'Acai Smoothie',\n",
       "       'Spinach Smoothie', 'Hot Chocolate', 'Chai Tea',\n",
       "       'Kale and Fruit Smoothie', 'Green Smoothie', 'Mello Yello',\n",
       "       '(Gatorade) Fierce Grape', '(Powerade) Grape', 'Chocolate Milk',\n",
       "       'Moutain Dew', 'Gatorade', 'Sweet Tea', 'Water ', 'Powerade',\n",
       "       'Power Smoothie', 'Milk', 'Greek Yogurt Power Smoothie',\n",
       "       'Merlot Wine', 'Lemon Drop Martini', 'Coffee', 'Creamers',\n",
       "       'Tea with Lemon', 'Tea', 'Soda', 'Creamer', 'Sugar',\n",
       "       '(Outback Steakhouse) Mixed Drink', 'Fruit smoothie',\n",
       "       \"Virgil's Zero Sugar Black Cherry Soda\",\n",
       "       '(Harris Teeter) Fat Free Organic Milk', \"(Alex's) Lemonade\",\n",
       "       'Pineapple and Ginger Juice', 'Moscato', 'Corona', 'Mojito',\n",
       "       'Splenda/Sugar Blend', 'Low Sugar Apple Juice',\n",
       "       '(Dunkin Coffee) Coffee', 'Cream', '(Equal) Sweetner Bag',\n",
       "       \"(Florida's Natural) Orange Juice\",\n",
       "       'Smoothie (spinach, celery, banana, and strawberry)', '2% Milk',\n",
       "       '(Sunkist) orange', 'smoothie (spinach, celery stick, banana)',\n",
       "       '2% Milk ', 'Diet Coke', 'Kombucha GTS Cosmic Cranberry',\n",
       "       'Half and half', 'Chardonnay Wine', 'Diet Pepsi', 'Mountain Dew',\n",
       "       'Diet Mountain Dew', 'Breakfast Essential Drink', 'Coke', 'Stevia',\n",
       "       'Half and Half', 'Gatorade Zero', 'Peppermint Tea',\n",
       "       'Jim Bean Bourbon', 'Vodka Gray Goose', '(Mich) Ultra Beer',\n",
       "       'Red Wine', 'Herbal Tea', 'Decaf Latte', 'Lactose Free Milk',\n",
       "       '(CaraCara) fresh orange juice', 'skim decaf latte', 'beer',\n",
       "       'decaf latte', 'tea with milk', 'soda', 'tea',\n",
       "       'Pepsi (Real Sugar)', 'On Gold Standard 100% Whey Protein',\n",
       "       'V8 Low Sodium',\n",
       "       'Green Smoothie (with avocado, cotton candy green grapes, pear, broccoli, kale, spinach, banana)',\n",
       "       'Pepsi', 'Coca Cola', 'Coffee + skim milk', 'Peach juice',\n",
       "       'Honest Organic Honey Green Tea', 'Crystal Light Lemonade',\n",
       "       'V8 juice ', 'Chai tea', 'Diet Soda',\n",
       "       'Large coffee with heavy cream', '2 Yuengling beers',\n",
       "       '2 cups coffee w/ heavy cream', '1 cup coffee', 'Beer',\n",
       "       '1 coffee with cream', 'Sweat tea ice', 'Lemonade'], dtype=object)"
      ]
     },
     "execution_count": 36,
     "metadata": {},
     "output_type": "execute_result"
    }
   ],
   "source": [
    "filtered[filtered['class']=='beverages']['logged_food'].unique()"
   ]
  },
  {
   "cell_type": "code",
   "execution_count": null,
   "metadata": {},
   "outputs": [],
   "source": []
  }
 ],
 "metadata": {
  "kernelspec": {
   "display_name": "dsc80",
   "language": "python",
   "name": "python3"
  },
  "language_info": {
   "codemirror_mode": {
    "name": "ipython",
    "version": 3
   },
   "file_extension": ".py",
   "mimetype": "text/x-python",
   "name": "python",
   "nbconvert_exporter": "python",
   "pygments_lexer": "ipython3",
   "version": "3.8.19"
  }
 },
 "nbformat": 4,
 "nbformat_minor": 4
}
