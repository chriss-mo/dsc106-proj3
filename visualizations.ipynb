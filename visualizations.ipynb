{
 "cells": [
  {
   "cell_type": "code",
   "execution_count": 2,
   "metadata": {},
   "outputs": [],
   "source": [
    "import pandas as pd\n",
    "import glob, os\n",
    "import numpy as np\n",
    "import re\n",
    "import seaborn as sns\n",
    "import matplotlib.pyplot as plt\n",
    "import plotly.express as px\n",
    "import plotly.graph_objects as go"
   ]
  },
  {
   "cell_type": "code",
   "execution_count": 3,
   "metadata": {},
   "outputs": [
    {
     "data": {
      "application/vnd.microsoft.datawrangler.viewer.v0+json": {
       "columns": [
        {
         "name": "index",
         "rawType": "int64",
         "type": "integer"
        },
        {
         "name": "subject",
         "rawType": "float64",
         "type": "float"
        },
        {
         "name": "date",
         "rawType": "object",
         "type": "string"
        },
        {
         "name": "day",
         "rawType": "int64",
         "type": "integer"
        },
        {
         "name": "time",
         "rawType": "object",
         "type": "string"
        },
        {
         "name": "logged_food",
         "rawType": "object",
         "type": "string"
        },
        {
         "name": "amount",
         "rawType": "object",
         "type": "string"
        },
        {
         "name": "unit",
         "rawType": "object",
         "type": "string"
        },
        {
         "name": "calorie",
         "rawType": "float64",
         "type": "float"
        },
        {
         "name": "total_carb",
         "rawType": "float64",
         "type": "float"
        },
        {
         "name": "sugar",
         "rawType": "float64",
         "type": "float"
        },
        {
         "name": "protein",
         "rawType": "float64",
         "type": "float"
        },
        {
         "name": "time_of_day",
         "rawType": "object",
         "type": "string"
        },
        {
         "name": "gender",
         "rawType": "object",
         "type": "string"
        },
        {
         "name": "datetime",
         "rawType": "object",
         "type": "string"
        },
        {
         "name": "hour",
         "rawType": "int64",
         "type": "integer"
        },
        {
         "name": "class",
         "rawType": "object",
         "type": "string"
        },
        {
         "name": "simplified_food",
         "rawType": "object",
         "type": "string"
        }
       ],
       "conversionMethod": "pd.DataFrame",
       "ref": "45740163-a5ad-4998-862b-6d074d809a9a",
       "rows": [
        [
         "0",
         "1.0",
         "2020-02-13",
         "1",
         "18:00",
         "Berry Smoothie",
         "20.0",
         "fluid ounce",
         "456.0",
         "85.0",
         "83.0",
         "16.0",
         "Night",
         "Female",
         "2020-02-13 18:00:00",
         "18",
         "Beverage",
         "smoothie"
        ],
        [
         "1",
         "1.0",
         "2020-02-14",
         "2",
         "07:10",
         "Natrel Lactose Free 2 Percent",
         "8.0",
         "fluid ounce",
         "120.0",
         "9.0",
         "8.0",
         "12.0",
         "Early Morning",
         "Female",
         "2020-02-14 07:10:00",
         "7",
         "Beverage",
         "milk"
        ],
        [
         "2",
         "1.0",
         "2020-02-14",
         "2",
         "07:10",
         "Standard Breakfast",
         "0.75",
         "cup",
         "110.0",
         "26.0",
         "10.0",
         "1.0",
         "Early Morning",
         "Female",
         "2020-02-14 07:10:00",
         "7",
         "Meal",
         "standard breakfast"
        ],
        [
         "3",
         "1.0",
         "2020-02-14",
         "2",
         "09:38",
         "Breakfast Trail Mix",
         "0.5",
         "cup",
         "280.0",
         "30.0",
         "22.0",
         "4.0",
         "Morning",
         "Female",
         "2020-02-14 09:38:00",
         "9",
         "Snack",
         "standard breakfast"
        ],
        [
         "4",
         "1.0",
         "2020-02-14",
         "2",
         "12:38",
         "Spinach Salad W/ Strawberries And Cheese",
         "200.0",
         "grams",
         "286.0",
         "14.0",
         "8.5",
         "7.6",
         "Noon",
         "Female",
         "2020-02-14 12:38:00",
         "12",
         "Meal",
         "salad"
        ]
       ],
       "shape": {
        "columns": 17,
        "rows": 5
       }
      },
      "text/html": [
       "<div>\n",
       "<style scoped>\n",
       "    .dataframe tbody tr th:only-of-type {\n",
       "        vertical-align: middle;\n",
       "    }\n",
       "\n",
       "    .dataframe tbody tr th {\n",
       "        vertical-align: top;\n",
       "    }\n",
       "\n",
       "    .dataframe thead th {\n",
       "        text-align: right;\n",
       "    }\n",
       "</style>\n",
       "<table border=\"1\" class=\"dataframe\">\n",
       "  <thead>\n",
       "    <tr style=\"text-align: right;\">\n",
       "      <th></th>\n",
       "      <th>subject</th>\n",
       "      <th>date</th>\n",
       "      <th>day</th>\n",
       "      <th>time</th>\n",
       "      <th>logged_food</th>\n",
       "      <th>amount</th>\n",
       "      <th>unit</th>\n",
       "      <th>calorie</th>\n",
       "      <th>total_carb</th>\n",
       "      <th>sugar</th>\n",
       "      <th>protein</th>\n",
       "      <th>time_of_day</th>\n",
       "      <th>gender</th>\n",
       "      <th>datetime</th>\n",
       "      <th>hour</th>\n",
       "      <th>class</th>\n",
       "      <th>simplified_food</th>\n",
       "    </tr>\n",
       "  </thead>\n",
       "  <tbody>\n",
       "    <tr>\n",
       "      <th>0</th>\n",
       "      <td>1.0</td>\n",
       "      <td>2020-02-13</td>\n",
       "      <td>1</td>\n",
       "      <td>18:00</td>\n",
       "      <td>Berry Smoothie</td>\n",
       "      <td>20.0</td>\n",
       "      <td>fluid ounce</td>\n",
       "      <td>456.0</td>\n",
       "      <td>85.0</td>\n",
       "      <td>83.0</td>\n",
       "      <td>16.0</td>\n",
       "      <td>Night</td>\n",
       "      <td>Female</td>\n",
       "      <td>2020-02-13 18:00:00</td>\n",
       "      <td>18</td>\n",
       "      <td>Beverage</td>\n",
       "      <td>smoothie</td>\n",
       "    </tr>\n",
       "    <tr>\n",
       "      <th>1</th>\n",
       "      <td>1.0</td>\n",
       "      <td>2020-02-14</td>\n",
       "      <td>2</td>\n",
       "      <td>07:10</td>\n",
       "      <td>Natrel Lactose Free 2 Percent</td>\n",
       "      <td>8.0</td>\n",
       "      <td>fluid ounce</td>\n",
       "      <td>120.0</td>\n",
       "      <td>9.0</td>\n",
       "      <td>8.0</td>\n",
       "      <td>12.0</td>\n",
       "      <td>Early Morning</td>\n",
       "      <td>Female</td>\n",
       "      <td>2020-02-14 07:10:00</td>\n",
       "      <td>7</td>\n",
       "      <td>Beverage</td>\n",
       "      <td>milk</td>\n",
       "    </tr>\n",
       "    <tr>\n",
       "      <th>2</th>\n",
       "      <td>1.0</td>\n",
       "      <td>2020-02-14</td>\n",
       "      <td>2</td>\n",
       "      <td>07:10</td>\n",
       "      <td>Standard Breakfast</td>\n",
       "      <td>0.75</td>\n",
       "      <td>cup</td>\n",
       "      <td>110.0</td>\n",
       "      <td>26.0</td>\n",
       "      <td>10.0</td>\n",
       "      <td>1.0</td>\n",
       "      <td>Early Morning</td>\n",
       "      <td>Female</td>\n",
       "      <td>2020-02-14 07:10:00</td>\n",
       "      <td>7</td>\n",
       "      <td>Meal</td>\n",
       "      <td>standard breakfast</td>\n",
       "    </tr>\n",
       "    <tr>\n",
       "      <th>3</th>\n",
       "      <td>1.0</td>\n",
       "      <td>2020-02-14</td>\n",
       "      <td>2</td>\n",
       "      <td>09:38</td>\n",
       "      <td>Breakfast Trail Mix</td>\n",
       "      <td>0.5</td>\n",
       "      <td>cup</td>\n",
       "      <td>280.0</td>\n",
       "      <td>30.0</td>\n",
       "      <td>22.0</td>\n",
       "      <td>4.0</td>\n",
       "      <td>Morning</td>\n",
       "      <td>Female</td>\n",
       "      <td>2020-02-14 09:38:00</td>\n",
       "      <td>9</td>\n",
       "      <td>Snack</td>\n",
       "      <td>standard breakfast</td>\n",
       "    </tr>\n",
       "    <tr>\n",
       "      <th>4</th>\n",
       "      <td>1.0</td>\n",
       "      <td>2020-02-14</td>\n",
       "      <td>2</td>\n",
       "      <td>12:38</td>\n",
       "      <td>Spinach Salad W/ Strawberries And Cheese</td>\n",
       "      <td>200.0</td>\n",
       "      <td>grams</td>\n",
       "      <td>286.0</td>\n",
       "      <td>14.0</td>\n",
       "      <td>8.5</td>\n",
       "      <td>7.6</td>\n",
       "      <td>Noon</td>\n",
       "      <td>Female</td>\n",
       "      <td>2020-02-14 12:38:00</td>\n",
       "      <td>12</td>\n",
       "      <td>Meal</td>\n",
       "      <td>salad</td>\n",
       "    </tr>\n",
       "  </tbody>\n",
       "</table>\n",
       "</div>"
      ],
      "text/plain": [
       "   subject        date  day   time                               logged_food  \\\n",
       "0      1.0  2020-02-13    1  18:00                            Berry Smoothie   \n",
       "1      1.0  2020-02-14    2  07:10             Natrel Lactose Free 2 Percent   \n",
       "2      1.0  2020-02-14    2  07:10                        Standard Breakfast   \n",
       "3      1.0  2020-02-14    2  09:38                       Breakfast Trail Mix   \n",
       "4      1.0  2020-02-14    2  12:38  Spinach Salad W/ Strawberries And Cheese   \n",
       "\n",
       "  amount         unit  calorie  total_carb  sugar  protein    time_of_day  \\\n",
       "0   20.0  fluid ounce    456.0        85.0   83.0     16.0          Night   \n",
       "1    8.0  fluid ounce    120.0         9.0    8.0     12.0  Early Morning   \n",
       "2   0.75          cup    110.0        26.0   10.0      1.0  Early Morning   \n",
       "3    0.5          cup    280.0        30.0   22.0      4.0        Morning   \n",
       "4  200.0        grams    286.0        14.0    8.5      7.6           Noon   \n",
       "\n",
       "   gender             datetime  hour     class     simplified_food  \n",
       "0  Female  2020-02-13 18:00:00    18  Beverage            smoothie  \n",
       "1  Female  2020-02-14 07:10:00     7  Beverage                milk  \n",
       "2  Female  2020-02-14 07:10:00     7      Meal  standard breakfast  \n",
       "3  Female  2020-02-14 09:38:00     9     Snack  standard breakfast  \n",
       "4  Female  2020-02-14 12:38:00    12      Meal               salad  "
      ]
     },
     "execution_count": 3,
     "metadata": {},
     "output_type": "execute_result"
    }
   ],
   "source": [
    "data = pd.read_csv('./src/data/data1.csv')\n",
    "data.head()"
   ]
  },
  {
   "cell_type": "code",
   "execution_count": 4,
   "metadata": {},
   "outputs": [
    {
     "data": {
      "image/png": "[encoded data removed]",
      "text/plain": [
       "<Figure size 1200x800 with 2 Axes>"
      ]
     },
     "metadata": {},
     "output_type": "display_data"
    }
   ],
   "source": [
    "pivot_table = data.pivot_table(index='day', columns='hour', values='logged_food', aggfunc='count', fill_value=0)\n",
    "\n",
    "plt.figure(figsize=(12, 8))\n",
    "sns.heatmap(pivot_table, cmap='YlGnBu', annot=True, fmt='d')\n",
    "plt.title('Heatmap of Eating Times for All Subjects')\n",
    "plt.xlabel('Hour of the Day')\n",
    "plt.ylabel('Day')\n",
    "plt.show()"
   ]
  },
  {
   "cell_type": "code",
   "execution_count": 7,
   "metadata": {},
   "outputs": [
    {
     "name": "stdout",
     "output_type": "stream",
     "text": [
      "    hour     class  count\n",
      "1      0      Meal      2\n",
      "3      1  Beverage      2\n",
      "5      2     Snack      1\n",
      "6      3  Beverage      1\n",
      "8      4  Beverage     13\n",
      "10     5  Beverage     22\n",
      "14     6      Meal     17\n",
      "16     7  Beverage     16\n",
      "19     8  Beverage     49\n",
      "22     9  Beverage     30\n",
      "25    10  Beverage     25\n",
      "29    11      Meal     36\n",
      "32    12      Meal     57\n",
      "35    13      Meal     43\n",
      "38    14      Meal     20\n",
      "41    15      Meal     21\n",
      "44    16      Meal     25\n",
      "47    17      Meal     50\n",
      "50    18      Meal     60\n",
      "53    19      Meal     75\n",
      "56    20      Meal     43\n",
      "59    21      Meal     12\n",
      "62    22      Meal     10\n",
      "66    23     Snack      5\n"
     ]
    }
   ],
   "source": [
    "food_counts = data.groupby(['hour', 'class']).size().reset_index(name='count')\n",
    "most_popular_food = food_counts.loc[food_counts.groupby('hour')['count'].idxmax()]\n",
    "\n",
    "print(most_popular_food) # I think people are addicted to coffee and sugar lol"
   ]
  },
  {
   "cell_type": "code",
   "execution_count": 6,
   "metadata": {},
   "outputs": [
    {
     "name": "stdout",
     "output_type": "stream",
     "text": [
      "      time_of_day     class  count\n",
      "1       Afternoon      Meal    116\n",
      "3   Early Morning  Beverage    102\n",
      "6      Late Night  Beverage     23\n",
      "10        Morning      Meal     85\n",
      "13          Night      Meal    190\n",
      "16           Noon      Meal    100\n"
     ]
    }
   ],
   "source": [
    "food_counts = data.groupby(['time_of_day', 'class']).size().reset_index(name='count')\n",
    "most_popular_food = food_counts.loc[food_counts.groupby('time_of_day')['count'].idxmax()]\n",
    "\n",
    "print(most_popular_food) # cheese and coffee interesting"
   ]
  },
  {
   "cell_type": "code",
   "execution_count": null,
   "metadata": {},
   "outputs": [],
   "source": []
  }
 ],
 "metadata": {
  "kernelspec": {
   "display_name": "dsc80",
   "language": "python",
   "name": "python3"
  },
  "language_info": {
   "codemirror_mode": {
    "name": "ipython",
    "version": 3
   },
   "file_extension": ".py",
   "mimetype": "text/x-python",
   "name": "python",
   "nbconvert_exporter": "python",
   "pygments_lexer": "ipython3",
   "version": "3.8.19"
  }
 },
 "nbformat": 4,
 "nbformat_minor": 2
}
