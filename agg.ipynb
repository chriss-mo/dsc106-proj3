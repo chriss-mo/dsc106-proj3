{
 "cells": [
  {
   "cell_type": "code",
   "execution_count": 1,
   "metadata": {},
   "outputs": [],
   "source": [
    "import pandas as pd\n",
    "import numpy as np"
   ]
  },
  {
   "cell_type": "code",
   "execution_count": 2,
   "metadata": {},
   "outputs": [
    {
     "data": {
      "application/vnd.microsoft.datawrangler.viewer.v0+json": {
       "columns": [
        {
         "name": "index",
         "rawType": "int64",
         "type": "integer"
        },
        {
         "name": "subject",
         "rawType": "float64",
         "type": "float"
        },
        {
         "name": "date",
         "rawType": "object",
         "type": "string"
        },
        {
         "name": "day",
         "rawType": "int64",
         "type": "integer"
        },
        {
         "name": "time",
         "rawType": "object",
         "type": "string"
        },
        {
         "name": "logged_food",
         "rawType": "object",
         "type": "string"
        },
        {
         "name": "amount",
         "rawType": "object",
         "type": "string"
        },
        {
         "name": "unit",
         "rawType": "object",
         "type": "string"
        },
        {
         "name": "calorie",
         "rawType": "float64",
         "type": "float"
        },
        {
         "name": "total_carb",
         "rawType": "float64",
         "type": "float"
        },
        {
         "name": "sugar",
         "rawType": "float64",
         "type": "float"
        },
        {
         "name": "protein",
         "rawType": "float64",
         "type": "float"
        },
        {
         "name": "time_of_day",
         "rawType": "object",
         "type": "string"
        },
        {
         "name": "gender",
         "rawType": "object",
         "type": "string"
        },
        {
         "name": "datetime",
         "rawType": "object",
         "type": "string"
        },
        {
         "name": "hour",
         "rawType": "int64",
         "type": "integer"
        },
        {
         "name": "class",
         "rawType": "object",
         "type": "string"
        },
        {
         "name": "simplified_food",
         "rawType": "object",
         "type": "string"
        }
       ],
       "conversionMethod": "pd.DataFrame",
       "ref": "df1a1f33-8eac-4286-95a3-422bc5cea7b4",
       "rows": [
        [
         "0",
         "1.0",
         "2020-02-13",
         "1",
         "18:00",
         "Berry Smoothie",
         "20.0",
         "fluid ounce",
         "456.0",
         "85.0",
         "83.0",
         "16.0",
         "Night",
         "Female",
         "2020-02-13 18:00:00",
         "18",
         "Beverage",
         "smoothie"
        ],
        [
         "1",
         "1.0",
         "2020-02-14",
         "2",
         "07:10",
         "Natrel Lactose Free 2 Percent",
         "8.0",
         "fluid ounce",
         "120.0",
         "9.0",
         "8.0",
         "12.0",
         "Early Morning",
         "Female",
         "2020-02-14 07:10:00",
         "7",
         "Beverage",
         "milk"
        ],
        [
         "2",
         "1.0",
         "2020-02-14",
         "2",
         "07:10",
         "Standard Breakfast",
         "0.75",
         "cup",
         "110.0",
         "26.0",
         "10.0",
         "1.0",
         "Early Morning",
         "Female",
         "2020-02-14 07:10:00",
         "7",
         "Meal",
         "standard breakfast"
        ],
        [
         "3",
         "1.0",
         "2020-02-14",
         "2",
         "09:38",
         "Breakfast Trail Mix",
         "0.5",
         "cup",
         "280.0",
         "30.0",
         "22.0",
         "4.0",
         "Morning",
         "Female",
         "2020-02-14 09:38:00",
         "9",
         "Snack",
         "standard breakfast"
        ],
        [
         "4",
         "1.0",
         "2020-02-14",
         "2",
         "12:38",
         "Spinach Salad W/ Strawberries And Cheese",
         "200.0",
         "grams",
         "286.0",
         "14.0",
         "8.5",
         "7.6",
         "Noon",
         "Female",
         "2020-02-14 12:38:00",
         "12",
         "Meal",
         "salad"
        ]
       ],
       "shape": {
        "columns": 17,
        "rows": 5
       }
      },
      "text/html": [
       "<div>\n",
       "<style scoped>\n",
       "    .dataframe tbody tr th:only-of-type {\n",
       "        vertical-align: middle;\n",
       "    }\n",
       "\n",
       "    .dataframe tbody tr th {\n",
       "        vertical-align: top;\n",
       "    }\n",
       "\n",
       "    .dataframe thead th {\n",
       "        text-align: right;\n",
       "    }\n",
       "</style>\n",
       "<table border=\"1\" class=\"dataframe\">\n",
       "  <thead>\n",
       "    <tr style=\"text-align: right;\">\n",
       "      <th></th>\n",
       "      <th>subject</th>\n",
       "      <th>date</th>\n",
       "      <th>day</th>\n",
       "      <th>time</th>\n",
       "      <th>logged_food</th>\n",
       "      <th>amount</th>\n",
       "      <th>unit</th>\n",
       "      <th>calorie</th>\n",
       "      <th>total_carb</th>\n",
       "      <th>sugar</th>\n",
       "      <th>protein</th>\n",
       "      <th>time_of_day</th>\n",
       "      <th>gender</th>\n",
       "      <th>datetime</th>\n",
       "      <th>hour</th>\n",
       "      <th>class</th>\n",
       "      <th>simplified_food</th>\n",
       "    </tr>\n",
       "  </thead>\n",
       "  <tbody>\n",
       "    <tr>\n",
       "      <th>0</th>\n",
       "      <td>1.0</td>\n",
       "      <td>2020-02-13</td>\n",
       "      <td>1</td>\n",
       "      <td>18:00</td>\n",
       "      <td>Berry Smoothie</td>\n",
       "      <td>20.0</td>\n",
       "      <td>fluid ounce</td>\n",
       "      <td>456.0</td>\n",
       "      <td>85.0</td>\n",
       "      <td>83.0</td>\n",
       "      <td>16.0</td>\n",
       "      <td>Night</td>\n",
       "      <td>Female</td>\n",
       "      <td>2020-02-13 18:00:00</td>\n",
       "      <td>18</td>\n",
       "      <td>Beverage</td>\n",
       "      <td>smoothie</td>\n",
       "    </tr>\n",
       "    <tr>\n",
       "      <th>1</th>\n",
       "      <td>1.0</td>\n",
       "      <td>2020-02-14</td>\n",
       "      <td>2</td>\n",
       "      <td>07:10</td>\n",
       "      <td>Natrel Lactose Free 2 Percent</td>\n",
       "      <td>8.0</td>\n",
       "      <td>fluid ounce</td>\n",
       "      <td>120.0</td>\n",
       "      <td>9.0</td>\n",
       "      <td>8.0</td>\n",
       "      <td>12.0</td>\n",
       "      <td>Early Morning</td>\n",
       "      <td>Female</td>\n",
       "      <td>2020-02-14 07:10:00</td>\n",
       "      <td>7</td>\n",
       "      <td>Beverage</td>\n",
       "      <td>milk</td>\n",
       "    </tr>\n",
       "    <tr>\n",
       "      <th>2</th>\n",
       "      <td>1.0</td>\n",
       "      <td>2020-02-14</td>\n",
       "      <td>2</td>\n",
       "      <td>07:10</td>\n",
       "      <td>Standard Breakfast</td>\n",
       "      <td>0.75</td>\n",
       "      <td>cup</td>\n",
       "      <td>110.0</td>\n",
       "      <td>26.0</td>\n",
       "      <td>10.0</td>\n",
       "      <td>1.0</td>\n",
       "      <td>Early Morning</td>\n",
       "      <td>Female</td>\n",
       "      <td>2020-02-14 07:10:00</td>\n",
       "      <td>7</td>\n",
       "      <td>Meal</td>\n",
       "      <td>standard breakfast</td>\n",
       "    </tr>\n",
       "    <tr>\n",
       "      <th>3</th>\n",
       "      <td>1.0</td>\n",
       "      <td>2020-02-14</td>\n",
       "      <td>2</td>\n",
       "      <td>09:38</td>\n",
       "      <td>Breakfast Trail Mix</td>\n",
       "      <td>0.5</td>\n",
       "      <td>cup</td>\n",
       "      <td>280.0</td>\n",
       "      <td>30.0</td>\n",
       "      <td>22.0</td>\n",
       "      <td>4.0</td>\n",
       "      <td>Morning</td>\n",
       "      <td>Female</td>\n",
       "      <td>2020-02-14 09:38:00</td>\n",
       "      <td>9</td>\n",
       "      <td>Snack</td>\n",
       "      <td>standard breakfast</td>\n",
       "    </tr>\n",
       "    <tr>\n",
       "      <th>4</th>\n",
       "      <td>1.0</td>\n",
       "      <td>2020-02-14</td>\n",
       "      <td>2</td>\n",
       "      <td>12:38</td>\n",
       "      <td>Spinach Salad W/ Strawberries And Cheese</td>\n",
       "      <td>200.0</td>\n",
       "      <td>grams</td>\n",
       "      <td>286.0</td>\n",
       "      <td>14.0</td>\n",
       "      <td>8.5</td>\n",
       "      <td>7.6</td>\n",
       "      <td>Noon</td>\n",
       "      <td>Female</td>\n",
       "      <td>2020-02-14 12:38:00</td>\n",
       "      <td>12</td>\n",
       "      <td>Meal</td>\n",
       "      <td>salad</td>\n",
       "    </tr>\n",
       "  </tbody>\n",
       "</table>\n",
       "</div>"
      ],
      "text/plain": [
       "   subject        date  day   time                               logged_food  \\\n",
       "0      1.0  2020-02-13    1  18:00                            Berry Smoothie   \n",
       "1      1.0  2020-02-14    2  07:10             Natrel Lactose Free 2 Percent   \n",
       "2      1.0  2020-02-14    2  07:10                        Standard Breakfast   \n",
       "3      1.0  2020-02-14    2  09:38                       Breakfast Trail Mix   \n",
       "4      1.0  2020-02-14    2  12:38  Spinach Salad W/ Strawberries And Cheese   \n",
       "\n",
       "  amount         unit  calorie  total_carb  sugar  protein    time_of_day  \\\n",
       "0   20.0  fluid ounce    456.0        85.0   83.0     16.0          Night   \n",
       "1    8.0  fluid ounce    120.0         9.0    8.0     12.0  Early Morning   \n",
       "2   0.75          cup    110.0        26.0   10.0      1.0  Early Morning   \n",
       "3    0.5          cup    280.0        30.0   22.0      4.0        Morning   \n",
       "4  200.0        grams    286.0        14.0    8.5      7.6           Noon   \n",
       "\n",
       "   gender             datetime  hour     class     simplified_food  \n",
       "0  Female  2020-02-13 18:00:00    18  Beverage            smoothie  \n",
       "1  Female  2020-02-14 07:10:00     7  Beverage                milk  \n",
       "2  Female  2020-02-14 07:10:00     7      Meal  standard breakfast  \n",
       "3  Female  2020-02-14 09:38:00     9     Snack  standard breakfast  \n",
       "4  Female  2020-02-14 12:38:00    12      Meal               salad  "
      ]
     },
     "execution_count": 2,
     "metadata": {},
     "output_type": "execute_result"
    }
   ],
   "source": [
    "data = pd.read_csv('dataNEW.csv')\n",
    "data.head()"
   ]
  },
  {
   "cell_type": "code",
   "execution_count": 4,
   "metadata": {},
   "outputs": [
    {
     "data": {
      "text/plain": [
       "subject            False\n",
       "date               False\n",
       "day                False\n",
       "time               False\n",
       "logged_food        False\n",
       "amount              True\n",
       "unit                True\n",
       "calorie            False\n",
       "total_carb         False\n",
       "sugar              False\n",
       "protein             True\n",
       "time_of_day        False\n",
       "gender             False\n",
       "datetime           False\n",
       "hour               False\n",
       "class              False\n",
       "simplified_food    False\n",
       "dtype: bool"
      ]
     },
     "execution_count": 4,
     "metadata": {},
     "output_type": "execute_result"
    }
   ],
   "source": [
    "data.isna().any()"
   ]
  },
  {
   "cell_type": "code",
   "execution_count": 30,
   "metadata": {},
   "outputs": [
    {
     "data": {
      "application/vnd.microsoft.datawrangler.viewer.v0+json": {
       "columns": [
        {
         "name": "index",
         "rawType": "int64",
         "type": "integer"
        },
        {
         "name": "day",
         "rawType": "int64",
         "type": "integer"
        },
        {
         "name": "hour",
         "rawType": "int64",
         "type": "integer"
        },
        {
         "name": "class",
         "rawType": "object",
         "type": "string"
        },
        {
         "name": "simplified_food",
         "rawType": "object",
         "type": "string"
        }
       ],
       "conversionMethod": "pd.DataFrame",
       "ref": "e4be6576-5d13-48cd-8c72-06e43a3ee419",
       "rows": [
        [
         "0",
         "1",
         "6",
         "Beverage",
         "coffee"
        ],
        [
         "1",
         "1",
         "6",
         "Meal",
         "seafood"
        ],
        [
         "2",
         "1",
         "8",
         "Beverage",
         "milk"
        ],
        [
         "3",
         "1",
         "8",
         "Meal",
         "cereal"
        ],
        [
         "4",
         "1",
         "8",
         "Snack",
         "snack bar"
        ]
       ],
       "shape": {
        "columns": 4,
        "rows": 5
       }
      },
      "text/html": [
       "<div>\n",
       "<style scoped>\n",
       "    .dataframe tbody tr th:only-of-type {\n",
       "        vertical-align: middle;\n",
       "    }\n",
       "\n",
       "    .dataframe tbody tr th {\n",
       "        vertical-align: top;\n",
       "    }\n",
       "\n",
       "    .dataframe thead th {\n",
       "        text-align: right;\n",
       "    }\n",
       "</style>\n",
       "<table border=\"1\" class=\"dataframe\">\n",
       "  <thead>\n",
       "    <tr style=\"text-align: right;\">\n",
       "      <th></th>\n",
       "      <th>day</th>\n",
       "      <th>hour</th>\n",
       "      <th>class</th>\n",
       "      <th>simplified_food</th>\n",
       "    </tr>\n",
       "  </thead>\n",
       "  <tbody>\n",
       "    <tr>\n",
       "      <th>0</th>\n",
       "      <td>1</td>\n",
       "      <td>6</td>\n",
       "      <td>Beverage</td>\n",
       "      <td>coffee</td>\n",
       "    </tr>\n",
       "    <tr>\n",
       "      <th>1</th>\n",
       "      <td>1</td>\n",
       "      <td>6</td>\n",
       "      <td>Meal</td>\n",
       "      <td>seafood</td>\n",
       "    </tr>\n",
       "    <tr>\n",
       "      <th>2</th>\n",
       "      <td>1</td>\n",
       "      <td>8</td>\n",
       "      <td>Beverage</td>\n",
       "      <td>milk</td>\n",
       "    </tr>\n",
       "    <tr>\n",
       "      <th>3</th>\n",
       "      <td>1</td>\n",
       "      <td>8</td>\n",
       "      <td>Meal</td>\n",
       "      <td>cereal</td>\n",
       "    </tr>\n",
       "    <tr>\n",
       "      <th>4</th>\n",
       "      <td>1</td>\n",
       "      <td>8</td>\n",
       "      <td>Snack</td>\n",
       "      <td>snack bar</td>\n",
       "    </tr>\n",
       "  </tbody>\n",
       "</table>\n",
       "</div>"
      ],
      "text/plain": [
       "   day  hour     class simplified_food\n",
       "0    1     6  Beverage          coffee\n",
       "1    1     6      Meal         seafood\n",
       "2    1     8  Beverage            milk\n",
       "3    1     8      Meal          cereal\n",
       "4    1     8     Snack       snack bar"
      ]
     },
     "execution_count": 30,
     "metadata": {},
     "output_type": "execute_result"
    }
   ],
   "source": [
    "from collections import Counter\n",
    "\n",
    "def mode(x):\n",
    "    counts = Counter(x)\n",
    "    most_common = counts.most_common(1)  # Get the most common element(s)\n",
    "    if most_common:\n",
    "        return most_common[0][0]  # Return the most common element\n",
    "    else:\n",
    "        return None  # Handle the case where the list is empty\n",
    "\n",
    "pop_foods = data.groupby(['day','hour', 'class']).agg({\n",
    "    'simplified_food': mode  # Get the most popular logged food item\n",
    "}).reset_index()\n",
    "pop_foods.head()"
   ]
  },
  {
   "cell_type": "code",
   "execution_count": 31,
   "metadata": {},
   "outputs": [],
   "source": [
    "nutrition_stats = (\n",
    "    data.groupby('simplified_food')[['total_carb', 'sugar', 'calorie']]\n",
    "    .mean()\n",
    "    .reset_index()\n",
    "    .rename(columns={'total_carb': 'avg carb', 'sugar': 'avg sugar', 'calorie': 'avg calorie'})\n",
    ")"
   ]
  },
  {
   "cell_type": "code",
   "execution_count": 34,
   "metadata": {},
   "outputs": [
    {
     "data": {
      "application/vnd.microsoft.datawrangler.viewer.v0+json": {
       "columns": [
        {
         "name": "index",
         "rawType": "int64",
         "type": "integer"
        },
        {
         "name": "day",
         "rawType": "int64",
         "type": "integer"
        },
        {
         "name": "hour",
         "rawType": "int64",
         "type": "integer"
        },
        {
         "name": "class",
         "rawType": "object",
         "type": "string"
        },
        {
         "name": "simplified_food",
         "rawType": "object",
         "type": "string"
        },
        {
         "name": "avg carb",
         "rawType": "float64",
         "type": "float"
        },
        {
         "name": "avg sugar",
         "rawType": "float64",
         "type": "float"
        },
        {
         "name": "avg calorie",
         "rawType": "float64",
         "type": "float"
        }
       ],
       "conversionMethod": "pd.DataFrame",
       "ref": "eb42c5fe-526c-48dd-98a6-22c7fb1dd2a1",
       "rows": [
        [
         "0",
         "1",
         "6",
         "Beverage",
         "coffee",
         "5.415267175572519",
         "2.2572519083969467",
         "42.80610687022901"
        ],
        [
         "1",
         "1",
         "9",
         "Beverage",
         "coffee",
         "5.415267175572519",
         "2.2572519083969467",
         "42.80610687022901"
        ],
        [
         "2",
         "1",
         "12",
         "Beverage",
         "coffee",
         "5.415267175572519",
         "2.2572519083969467",
         "42.80610687022901"
        ],
        [
         "3",
         "1",
         "16",
         "Beverage",
         "coffee",
         "5.415267175572519",
         "2.2572519083969467",
         "42.80610687022901"
        ],
        [
         "4",
         "2",
         "6",
         "Beverage",
         "coffee",
         "5.415267175572519",
         "2.2572519083969467",
         "42.80610687022901"
        ],
        [
         "5",
         "2",
         "8",
         "Beverage",
         "coffee",
         "5.415267175572519",
         "2.2572519083969467",
         "42.80610687022901"
        ],
        [
         "6",
         "2",
         "9",
         "Beverage",
         "coffee",
         "5.415267175572519",
         "2.2572519083969467",
         "42.80610687022901"
        ],
        [
         "7",
         "2",
         "12",
         "Beverage",
         "coffee",
         "5.415267175572519",
         "2.2572519083969467",
         "42.80610687022901"
        ],
        [
         "8",
         "2",
         "15",
         "Beverage",
         "coffee",
         "5.415267175572519",
         "2.2572519083969467",
         "42.80610687022901"
        ],
        [
         "9",
         "3",
         "4",
         "Beverage",
         "coffee",
         "5.415267175572519",
         "2.2572519083969467",
         "42.80610687022901"
        ],
        [
         "10",
         "3",
         "8",
         "Beverage",
         "coffee",
         "5.415267175572519",
         "2.2572519083969467",
         "42.80610687022901"
        ],
        [
         "11",
         "3",
         "9",
         "Beverage",
         "coffee",
         "5.415267175572519",
         "2.2572519083969467",
         "42.80610687022901"
        ],
        [
         "12",
         "3",
         "10",
         "Beverage",
         "coffee",
         "5.415267175572519",
         "2.2572519083969467",
         "42.80610687022901"
        ],
        [
         "13",
         "3",
         "16",
         "Beverage",
         "coffee",
         "5.415267175572519",
         "2.2572519083969467",
         "42.80610687022901"
        ],
        [
         "14",
         "4",
         "7",
         "Beverage",
         "coffee",
         "5.415267175572519",
         "2.2572519083969467",
         "42.80610687022901"
        ],
        [
         "15",
         "4",
         "10",
         "Beverage",
         "coffee",
         "5.415267175572519",
         "2.2572519083969467",
         "42.80610687022901"
        ],
        [
         "16",
         "4",
         "13",
         "Beverage",
         "coffee",
         "5.415267175572519",
         "2.2572519083969467",
         "42.80610687022901"
        ],
        [
         "17",
         "4",
         "14",
         "Beverage",
         "coffee",
         "5.415267175572519",
         "2.2572519083969467",
         "42.80610687022901"
        ],
        [
         "18",
         "5",
         "5",
         "Beverage",
         "coffee",
         "5.415267175572519",
         "2.2572519083969467",
         "42.80610687022901"
        ],
        [
         "19",
         "5",
         "6",
         "Meal",
         "coffee",
         "5.415267175572519",
         "2.2572519083969467",
         "42.80610687022901"
        ],
        [
         "20",
         "5",
         "8",
         "Beverage",
         "coffee",
         "5.415267175572519",
         "2.2572519083969467",
         "42.80610687022901"
        ],
        [
         "21",
         "5",
         "9",
         "Beverage",
         "coffee",
         "5.415267175572519",
         "2.2572519083969467",
         "42.80610687022901"
        ],
        [
         "22",
         "5",
         "11",
         "Beverage",
         "coffee",
         "5.415267175572519",
         "2.2572519083969467",
         "42.80610687022901"
        ],
        [
         "23",
         "5",
         "12",
         "Beverage",
         "coffee",
         "5.415267175572519",
         "2.2572519083969467",
         "42.80610687022901"
        ],
        [
         "24",
         "6",
         "7",
         "Beverage",
         "coffee",
         "5.415267175572519",
         "2.2572519083969467",
         "42.80610687022901"
        ],
        [
         "25",
         "6",
         "8",
         "Beverage",
         "coffee",
         "5.415267175572519",
         "2.2572519083969467",
         "42.80610687022901"
        ],
        [
         "26",
         "6",
         "14",
         "Beverage",
         "coffee",
         "5.415267175572519",
         "2.2572519083969467",
         "42.80610687022901"
        ],
        [
         "27",
         "6",
         "18",
         "Beverage",
         "coffee",
         "5.415267175572519",
         "2.2572519083969467",
         "42.80610687022901"
        ],
        [
         "28",
         "7",
         "4",
         "Beverage",
         "coffee",
         "5.415267175572519",
         "2.2572519083969467",
         "42.80610687022901"
        ],
        [
         "29",
         "7",
         "5",
         "Beverage",
         "coffee",
         "5.415267175572519",
         "2.2572519083969467",
         "42.80610687022901"
        ],
        [
         "30",
         "7",
         "8",
         "Beverage",
         "coffee",
         "5.415267175572519",
         "2.2572519083969467",
         "42.80610687022901"
        ],
        [
         "31",
         "7",
         "10",
         "Beverage",
         "coffee",
         "5.415267175572519",
         "2.2572519083969467",
         "42.80610687022901"
        ],
        [
         "32",
         "7",
         "11",
         "Beverage",
         "coffee",
         "5.415267175572519",
         "2.2572519083969467",
         "42.80610687022901"
        ],
        [
         "33",
         "7",
         "13",
         "Beverage",
         "coffee",
         "5.415267175572519",
         "2.2572519083969467",
         "42.80610687022901"
        ],
        [
         "34",
         "8",
         "5",
         "Beverage",
         "coffee",
         "5.415267175572519",
         "2.2572519083969467",
         "42.80610687022901"
        ],
        [
         "35",
         "8",
         "7",
         "Beverage",
         "coffee",
         "5.415267175572519",
         "2.2572519083969467",
         "42.80610687022901"
        ],
        [
         "36",
         "8",
         "9",
         "Beverage",
         "coffee",
         "5.415267175572519",
         "2.2572519083969467",
         "42.80610687022901"
        ],
        [
         "37",
         "8",
         "11",
         "Beverage",
         "coffee",
         "5.415267175572519",
         "2.2572519083969467",
         "42.80610687022901"
        ],
        [
         "38",
         "8",
         "15",
         "Beverage",
         "coffee",
         "5.415267175572519",
         "2.2572519083969467",
         "42.80610687022901"
        ],
        [
         "39",
         "9",
         "8",
         "Beverage",
         "coffee",
         "5.415267175572519",
         "2.2572519083969467",
         "42.80610687022901"
        ],
        [
         "40",
         "1",
         "6",
         "Meal",
         "seafood",
         "11.554545454545455",
         "2.7636363636363637",
         "258.47272727272724"
        ],
        [
         "41",
         "1",
         "13",
         "Meal",
         "seafood",
         "11.554545454545455",
         "2.7636363636363637",
         "258.47272727272724"
        ],
        [
         "42",
         "2",
         "18",
         "Meal",
         "seafood",
         "11.554545454545455",
         "2.7636363636363637",
         "258.47272727272724"
        ],
        [
         "43",
         "1",
         "8",
         "Beverage",
         "milk",
         "8.387777777777778",
         "7.595555555555555",
         "95.26666666666667"
        ],
        [
         "44",
         "1",
         "13",
         "Beverage",
         "milk",
         "8.387777777777778",
         "7.595555555555555",
         "95.26666666666667"
        ],
        [
         "45",
         "2",
         "4",
         "Beverage",
         "milk",
         "8.387777777777778",
         "7.595555555555555",
         "95.26666666666667"
        ],
        [
         "46",
         "2",
         "5",
         "Beverage",
         "milk",
         "8.387777777777778",
         "7.595555555555555",
         "95.26666666666667"
        ],
        [
         "47",
         "2",
         "7",
         "Beverage",
         "milk",
         "8.387777777777778",
         "7.595555555555555",
         "95.26666666666667"
        ],
        [
         "48",
         "2",
         "10",
         "Beverage",
         "milk",
         "8.387777777777778",
         "7.595555555555555",
         "95.26666666666667"
        ],
        [
         "49",
         "2",
         "18",
         "Beverage",
         "milk",
         "8.387777777777778",
         "7.595555555555555",
         "95.26666666666667"
        ]
       ],
       "shape": {
        "columns": 7,
        "rows": 388
       }
      },
      "text/html": [
       "<div>\n",
       "<style scoped>\n",
       "    .dataframe tbody tr th:only-of-type {\n",
       "        vertical-align: middle;\n",
       "    }\n",
       "\n",
       "    .dataframe tbody tr th {\n",
       "        vertical-align: top;\n",
       "    }\n",
       "\n",
       "    .dataframe thead th {\n",
       "        text-align: right;\n",
       "    }\n",
       "</style>\n",
       "<table border=\"1\" class=\"dataframe\">\n",
       "  <thead>\n",
       "    <tr style=\"text-align: right;\">\n",
       "      <th></th>\n",
       "      <th>day</th>\n",
       "      <th>hour</th>\n",
       "      <th>class</th>\n",
       "      <th>simplified_food</th>\n",
       "      <th>avg carb</th>\n",
       "      <th>avg sugar</th>\n",
       "      <th>avg calorie</th>\n",
       "    </tr>\n",
       "  </thead>\n",
       "  <tbody>\n",
       "    <tr>\n",
       "      <th>0</th>\n",
       "      <td>1</td>\n",
       "      <td>6</td>\n",
       "      <td>Beverage</td>\n",
       "      <td>coffee</td>\n",
       "      <td>5.415267</td>\n",
       "      <td>2.257252</td>\n",
       "      <td>42.806107</td>\n",
       "    </tr>\n",
       "    <tr>\n",
       "      <th>1</th>\n",
       "      <td>1</td>\n",
       "      <td>9</td>\n",
       "      <td>Beverage</td>\n",
       "      <td>coffee</td>\n",
       "      <td>5.415267</td>\n",
       "      <td>2.257252</td>\n",
       "      <td>42.806107</td>\n",
       "    </tr>\n",
       "    <tr>\n",
       "      <th>2</th>\n",
       "      <td>1</td>\n",
       "      <td>12</td>\n",
       "      <td>Beverage</td>\n",
       "      <td>coffee</td>\n",
       "      <td>5.415267</td>\n",
       "      <td>2.257252</td>\n",
       "      <td>42.806107</td>\n",
       "    </tr>\n",
       "    <tr>\n",
       "      <th>3</th>\n",
       "      <td>1</td>\n",
       "      <td>16</td>\n",
       "      <td>Beverage</td>\n",
       "      <td>coffee</td>\n",
       "      <td>5.415267</td>\n",
       "      <td>2.257252</td>\n",
       "      <td>42.806107</td>\n",
       "    </tr>\n",
       "    <tr>\n",
       "      <th>4</th>\n",
       "      <td>2</td>\n",
       "      <td>6</td>\n",
       "      <td>Beverage</td>\n",
       "      <td>coffee</td>\n",
       "      <td>5.415267</td>\n",
       "      <td>2.257252</td>\n",
       "      <td>42.806107</td>\n",
       "    </tr>\n",
       "    <tr>\n",
       "      <th>...</th>\n",
       "      <td>...</td>\n",
       "      <td>...</td>\n",
       "      <td>...</td>\n",
       "      <td>...</td>\n",
       "      <td>...</td>\n",
       "      <td>...</td>\n",
       "      <td>...</td>\n",
       "    </tr>\n",
       "    <tr>\n",
       "      <th>383</th>\n",
       "      <td>7</td>\n",
       "      <td>6</td>\n",
       "      <td>Meal</td>\n",
       "      <td>yogurt</td>\n",
       "      <td>14.166667</td>\n",
       "      <td>13.666667</td>\n",
       "      <td>249.500000</td>\n",
       "    </tr>\n",
       "    <tr>\n",
       "      <th>384</th>\n",
       "      <td>8</td>\n",
       "      <td>18</td>\n",
       "      <td>Meal</td>\n",
       "      <td>yogurt</td>\n",
       "      <td>14.166667</td>\n",
       "      <td>13.666667</td>\n",
       "      <td>249.500000</td>\n",
       "    </tr>\n",
       "    <tr>\n",
       "      <th>385</th>\n",
       "      <td>7</td>\n",
       "      <td>14</td>\n",
       "      <td>Meal</td>\n",
       "      <td>hummus</td>\n",
       "      <td>4.050000</td>\n",
       "      <td>0.000000</td>\n",
       "      <td>47.500000</td>\n",
       "    </tr>\n",
       "    <tr>\n",
       "      <th>386</th>\n",
       "      <td>9</td>\n",
       "      <td>21</td>\n",
       "      <td>Meal</td>\n",
       "      <td>hummus</td>\n",
       "      <td>4.050000</td>\n",
       "      <td>0.000000</td>\n",
       "      <td>47.500000</td>\n",
       "    </tr>\n",
       "    <tr>\n",
       "      <th>387</th>\n",
       "      <td>10</td>\n",
       "      <td>13</td>\n",
       "      <td>Meal</td>\n",
       "      <td>chili</td>\n",
       "      <td>17.000000</td>\n",
       "      <td>3.100000</td>\n",
       "      <td>335.000000</td>\n",
       "    </tr>\n",
       "  </tbody>\n",
       "</table>\n",
       "<p>388 rows × 7 columns</p>\n",
       "</div>"
      ],
      "text/plain": [
       "     day  hour     class simplified_food   avg carb  avg sugar  avg calorie\n",
       "0      1     6  Beverage          coffee   5.415267   2.257252    42.806107\n",
       "1      1     9  Beverage          coffee   5.415267   2.257252    42.806107\n",
       "2      1    12  Beverage          coffee   5.415267   2.257252    42.806107\n",
       "3      1    16  Beverage          coffee   5.415267   2.257252    42.806107\n",
       "4      2     6  Beverage          coffee   5.415267   2.257252    42.806107\n",
       "..   ...   ...       ...             ...        ...        ...          ...\n",
       "383    7     6      Meal          yogurt  14.166667  13.666667   249.500000\n",
       "384    8    18      Meal          yogurt  14.166667  13.666667   249.500000\n",
       "385    7    14      Meal          hummus   4.050000   0.000000    47.500000\n",
       "386    9    21      Meal          hummus   4.050000   0.000000    47.500000\n",
       "387   10    13      Meal           chili  17.000000   3.100000   335.000000\n",
       "\n",
       "[388 rows x 7 columns]"
      ]
     },
     "execution_count": 34,
     "metadata": {},
     "output_type": "execute_result"
    }
   ],
   "source": [
    "avg_foods = pop_foods.merge(nutrition_stats, how='inner', on='simplified_food')\n",
    "avg_foods"
   ]
  },
  {
   "cell_type": "code",
   "execution_count": 35,
   "metadata": {},
   "outputs": [],
   "source": [
    "avg_foods.to_csv('avg_foods.csv')"
   ]
  },
  {
   "cell_type": "code",
   "execution_count": null,
   "metadata": {},
   "outputs": [],
   "source": []
  }
 ],
 "metadata": {
  "kernelspec": {
   "display_name": "dsc80",
   "language": "python",
   "name": "python3"
  },
  "language_info": {
   "codemirror_mode": {
    "name": "ipython",
    "version": 3
   },
   "file_extension": ".py",
   "mimetype": "text/x-python",
   "name": "python",
   "nbconvert_exporter": "python",
   "pygments_lexer": "ipython3",
   "version": "3.8.19"
  }
 },
 "nbformat": 4,
 "nbformat_minor": 2
}
