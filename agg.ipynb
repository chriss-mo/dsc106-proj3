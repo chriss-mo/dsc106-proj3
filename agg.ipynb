{
 "cells": [
  {
   "cell_type": "code",
   "execution_count": 36,
   "metadata": {},
   "outputs": [],
   "source": [
    "import pandas as pd\n",
    "import numpy as np"
   ]
  },
  {
   "cell_type": "code",
   "execution_count": 37,
   "metadata": {},
   "outputs": [
    {
     "data": {
      "application/vnd.microsoft.datawrangler.viewer.v0+json": {
       "columns": [
        {
         "name": "index",
         "rawType": "int64",
         "type": "integer"
        },
        {
         "name": "subject",
         "rawType": "float64",
         "type": "float"
        },
        {
         "name": "date",
         "rawType": "object",
         "type": "string"
        },
        {
         "name": "day",
         "rawType": "int64",
         "type": "integer"
        },
        {
         "name": "time",
         "rawType": "object",
         "type": "string"
        },
        {
         "name": "logged_food",
         "rawType": "object",
         "type": "string"
        },
        {
         "name": "amount",
         "rawType": "object",
         "type": "string"
        },
        {
         "name": "unit",
         "rawType": "object",
         "type": "string"
        },
        {
         "name": "calorie",
         "rawType": "float64",
         "type": "float"
        },
        {
         "name": "total_carb",
         "rawType": "float64",
         "type": "float"
        },
        {
         "name": "sugar",
         "rawType": "float64",
         "type": "float"
        },
        {
         "name": "protein",
         "rawType": "float64",
         "type": "float"
        },
        {
         "name": "time_of_day",
         "rawType": "object",
         "type": "string"
        },
        {
         "name": "gender",
         "rawType": "object",
         "type": "string"
        },
        {
         "name": "datetime",
         "rawType": "object",
         "type": "string"
        },
        {
         "name": "hour",
         "rawType": "int64",
         "type": "integer"
        },
        {
         "name": "class",
         "rawType": "object",
         "type": "string"
        },
        {
         "name": "simplified_food",
         "rawType": "object",
         "type": "string"
        }
       ],
       "conversionMethod": "pd.DataFrame",
       "ref": "abb999bd-17bd-459a-8449-e148f94e68ee",
       "rows": [
        [
         "0",
         "1.0",
         "2020-02-13",
         "1",
         "18:00",
         "Berry Smoothie",
         "20.0",
         "fluid ounce",
         "456.0",
         "85.0",
         "83.0",
         "16.0",
         "Night",
         "Female",
         "2020-02-13 18:00:00",
         "18",
         "Beverage",
         "smoothie"
        ],
        [
         "1",
         "1.0",
         "2020-02-14",
         "2",
         "07:10",
         "Natrel Lactose Free 2 Percent",
         "8.0",
         "fluid ounce",
         "120.0",
         "9.0",
         "8.0",
         "12.0",
         "Early Morning",
         "Female",
         "2020-02-14 07:10:00",
         "7",
         "Beverage",
         "milk"
        ],
        [
         "2",
         "1.0",
         "2020-02-14",
         "2",
         "07:10",
         "Standard Breakfast",
         "0.75",
         "cup",
         "110.0",
         "26.0",
         "10.0",
         "1.0",
         "Early Morning",
         "Female",
         "2020-02-14 07:10:00",
         "7",
         "Meal",
         "standard breakfast"
        ],
        [
         "3",
         "1.0",
         "2020-02-14",
         "2",
         "09:38",
         "Breakfast Trail Mix",
         "0.5",
         "cup",
         "280.0",
         "30.0",
         "22.0",
         "4.0",
         "Morning",
         "Female",
         "2020-02-14 09:38:00",
         "9",
         "Snack",
         "standard breakfast"
        ],
        [
         "4",
         "1.0",
         "2020-02-14",
         "2",
         "12:38",
         "Spinach Salad W/ Strawberries And Cheese",
         "200.0",
         "grams",
         "286.0",
         "14.0",
         "8.5",
         "7.6",
         "Noon",
         "Female",
         "2020-02-14 12:38:00",
         "12",
         "Meal",
         "salad"
        ]
       ],
       "shape": {
        "columns": 17,
        "rows": 5
       }
      },
      "text/html": [
       "<div>\n",
       "<style scoped>\n",
       "    .dataframe tbody tr th:only-of-type {\n",
       "        vertical-align: middle;\n",
       "    }\n",
       "\n",
       "    .dataframe tbody tr th {\n",
       "        vertical-align: top;\n",
       "    }\n",
       "\n",
       "    .dataframe thead th {\n",
       "        text-align: right;\n",
       "    }\n",
       "</style>\n",
       "<table border=\"1\" class=\"dataframe\">\n",
       "  <thead>\n",
       "    <tr style=\"text-align: right;\">\n",
       "      <th></th>\n",
       "      <th>subject</th>\n",
       "      <th>date</th>\n",
       "      <th>day</th>\n",
       "      <th>time</th>\n",
       "      <th>logged_food</th>\n",
       "      <th>amount</th>\n",
       "      <th>unit</th>\n",
       "      <th>calorie</th>\n",
       "      <th>total_carb</th>\n",
       "      <th>sugar</th>\n",
       "      <th>protein</th>\n",
       "      <th>time_of_day</th>\n",
       "      <th>gender</th>\n",
       "      <th>datetime</th>\n",
       "      <th>hour</th>\n",
       "      <th>class</th>\n",
       "      <th>simplified_food</th>\n",
       "    </tr>\n",
       "  </thead>\n",
       "  <tbody>\n",
       "    <tr>\n",
       "      <th>0</th>\n",
       "      <td>1.0</td>\n",
       "      <td>2020-02-13</td>\n",
       "      <td>1</td>\n",
       "      <td>18:00</td>\n",
       "      <td>Berry Smoothie</td>\n",
       "      <td>20.0</td>\n",
       "      <td>fluid ounce</td>\n",
       "      <td>456.0</td>\n",
       "      <td>85.0</td>\n",
       "      <td>83.0</td>\n",
       "      <td>16.0</td>\n",
       "      <td>Night</td>\n",
       "      <td>Female</td>\n",
       "      <td>2020-02-13 18:00:00</td>\n",
       "      <td>18</td>\n",
       "      <td>Beverage</td>\n",
       "      <td>smoothie</td>\n",
       "    </tr>\n",
       "    <tr>\n",
       "      <th>1</th>\n",
       "      <td>1.0</td>\n",
       "      <td>2020-02-14</td>\n",
       "      <td>2</td>\n",
       "      <td>07:10</td>\n",
       "      <td>Natrel Lactose Free 2 Percent</td>\n",
       "      <td>8.0</td>\n",
       "      <td>fluid ounce</td>\n",
       "      <td>120.0</td>\n",
       "      <td>9.0</td>\n",
       "      <td>8.0</td>\n",
       "      <td>12.0</td>\n",
       "      <td>Early Morning</td>\n",
       "      <td>Female</td>\n",
       "      <td>2020-02-14 07:10:00</td>\n",
       "      <td>7</td>\n",
       "      <td>Beverage</td>\n",
       "      <td>milk</td>\n",
       "    </tr>\n",
       "    <tr>\n",
       "      <th>2</th>\n",
       "      <td>1.0</td>\n",
       "      <td>2020-02-14</td>\n",
       "      <td>2</td>\n",
       "      <td>07:10</td>\n",
       "      <td>Standard Breakfast</td>\n",
       "      <td>0.75</td>\n",
       "      <td>cup</td>\n",
       "      <td>110.0</td>\n",
       "      <td>26.0</td>\n",
       "      <td>10.0</td>\n",
       "      <td>1.0</td>\n",
       "      <td>Early Morning</td>\n",
       "      <td>Female</td>\n",
       "      <td>2020-02-14 07:10:00</td>\n",
       "      <td>7</td>\n",
       "      <td>Meal</td>\n",
       "      <td>standard breakfast</td>\n",
       "    </tr>\n",
       "    <tr>\n",
       "      <th>3</th>\n",
       "      <td>1.0</td>\n",
       "      <td>2020-02-14</td>\n",
       "      <td>2</td>\n",
       "      <td>09:38</td>\n",
       "      <td>Breakfast Trail Mix</td>\n",
       "      <td>0.5</td>\n",
       "      <td>cup</td>\n",
       "      <td>280.0</td>\n",
       "      <td>30.0</td>\n",
       "      <td>22.0</td>\n",
       "      <td>4.0</td>\n",
       "      <td>Morning</td>\n",
       "      <td>Female</td>\n",
       "      <td>2020-02-14 09:38:00</td>\n",
       "      <td>9</td>\n",
       "      <td>Snack</td>\n",
       "      <td>standard breakfast</td>\n",
       "    </tr>\n",
       "    <tr>\n",
       "      <th>4</th>\n",
       "      <td>1.0</td>\n",
       "      <td>2020-02-14</td>\n",
       "      <td>2</td>\n",
       "      <td>12:38</td>\n",
       "      <td>Spinach Salad W/ Strawberries And Cheese</td>\n",
       "      <td>200.0</td>\n",
       "      <td>grams</td>\n",
       "      <td>286.0</td>\n",
       "      <td>14.0</td>\n",
       "      <td>8.5</td>\n",
       "      <td>7.6</td>\n",
       "      <td>Noon</td>\n",
       "      <td>Female</td>\n",
       "      <td>2020-02-14 12:38:00</td>\n",
       "      <td>12</td>\n",
       "      <td>Meal</td>\n",
       "      <td>salad</td>\n",
       "    </tr>\n",
       "  </tbody>\n",
       "</table>\n",
       "</div>"
      ],
      "text/plain": [
       "   subject        date  day   time                               logged_food  \\\n",
       "0      1.0  2020-02-13    1  18:00                            Berry Smoothie   \n",
       "1      1.0  2020-02-14    2  07:10             Natrel Lactose Free 2 Percent   \n",
       "2      1.0  2020-02-14    2  07:10                        Standard Breakfast   \n",
       "3      1.0  2020-02-14    2  09:38                       Breakfast Trail Mix   \n",
       "4      1.0  2020-02-14    2  12:38  Spinach Salad W/ Strawberries And Cheese   \n",
       "\n",
       "  amount         unit  calorie  total_carb  sugar  protein    time_of_day  \\\n",
       "0   20.0  fluid ounce    456.0        85.0   83.0     16.0          Night   \n",
       "1    8.0  fluid ounce    120.0         9.0    8.0     12.0  Early Morning   \n",
       "2   0.75          cup    110.0        26.0   10.0      1.0  Early Morning   \n",
       "3    0.5          cup    280.0        30.0   22.0      4.0        Morning   \n",
       "4  200.0        grams    286.0        14.0    8.5      7.6           Noon   \n",
       "\n",
       "   gender             datetime  hour     class     simplified_food  \n",
       "0  Female  2020-02-13 18:00:00    18  Beverage            smoothie  \n",
       "1  Female  2020-02-14 07:10:00     7  Beverage                milk  \n",
       "2  Female  2020-02-14 07:10:00     7      Meal  standard breakfast  \n",
       "3  Female  2020-02-14 09:38:00     9     Snack  standard breakfast  \n",
       "4  Female  2020-02-14 12:38:00    12      Meal               salad  "
      ]
     },
     "execution_count": 37,
     "metadata": {},
     "output_type": "execute_result"
    }
   ],
   "source": [
    "data = pd.read_csv('dataNEW.csv')\n",
    "data.head()"
   ]
  },
  {
   "cell_type": "code",
   "execution_count": 38,
   "metadata": {},
   "outputs": [
    {
     "data": {
      "text/plain": [
       "subject            False\n",
       "date               False\n",
       "day                False\n",
       "time               False\n",
       "logged_food        False\n",
       "amount              True\n",
       "unit                True\n",
       "calorie            False\n",
       "total_carb         False\n",
       "sugar              False\n",
       "protein             True\n",
       "time_of_day        False\n",
       "gender             False\n",
       "datetime           False\n",
       "hour               False\n",
       "class              False\n",
       "simplified_food    False\n",
       "dtype: bool"
      ]
     },
     "execution_count": 38,
     "metadata": {},
     "output_type": "execute_result"
    }
   ],
   "source": [
    "data.isna().any()"
   ]
  },
  {
   "cell_type": "code",
   "execution_count": 39,
   "metadata": {},
   "outputs": [
    {
     "data": {
      "application/vnd.microsoft.datawrangler.viewer.v0+json": {
       "columns": [
        {
         "name": "index",
         "rawType": "int64",
         "type": "integer"
        },
        {
         "name": "day",
         "rawType": "int64",
         "type": "integer"
        },
        {
         "name": "hour",
         "rawType": "int64",
         "type": "integer"
        },
        {
         "name": "class",
         "rawType": "object",
         "type": "string"
        },
        {
         "name": "simplified_food",
         "rawType": "object",
         "type": "string"
        }
       ],
       "conversionMethod": "pd.DataFrame",
       "ref": "da9977bc-0bd5-457e-ab3f-c8bda7de5ef9",
       "rows": [
        [
         "0",
         "1",
         "6",
         "Beverage",
         "coffee"
        ],
        [
         "1",
         "1",
         "6",
         "Meal",
         "seafood"
        ],
        [
         "2",
         "1",
         "8",
         "Beverage",
         "milk"
        ],
        [
         "3",
         "1",
         "8",
         "Meal",
         "cereal"
        ],
        [
         "4",
         "1",
         "8",
         "Snack",
         "snack bar"
        ]
       ],
       "shape": {
        "columns": 4,
        "rows": 5
       }
      },
      "text/html": [
       "<div>\n",
       "<style scoped>\n",
       "    .dataframe tbody tr th:only-of-type {\n",
       "        vertical-align: middle;\n",
       "    }\n",
       "\n",
       "    .dataframe tbody tr th {\n",
       "        vertical-align: top;\n",
       "    }\n",
       "\n",
       "    .dataframe thead th {\n",
       "        text-align: right;\n",
       "    }\n",
       "</style>\n",
       "<table border=\"1\" class=\"dataframe\">\n",
       "  <thead>\n",
       "    <tr style=\"text-align: right;\">\n",
       "      <th></th>\n",
       "      <th>day</th>\n",
       "      <th>hour</th>\n",
       "      <th>class</th>\n",
       "      <th>simplified_food</th>\n",
       "    </tr>\n",
       "  </thead>\n",
       "  <tbody>\n",
       "    <tr>\n",
       "      <th>0</th>\n",
       "      <td>1</td>\n",
       "      <td>6</td>\n",
       "      <td>Beverage</td>\n",
       "      <td>coffee</td>\n",
       "    </tr>\n",
       "    <tr>\n",
       "      <th>1</th>\n",
       "      <td>1</td>\n",
       "      <td>6</td>\n",
       "      <td>Meal</td>\n",
       "      <td>seafood</td>\n",
       "    </tr>\n",
       "    <tr>\n",
       "      <th>2</th>\n",
       "      <td>1</td>\n",
       "      <td>8</td>\n",
       "      <td>Beverage</td>\n",
       "      <td>milk</td>\n",
       "    </tr>\n",
       "    <tr>\n",
       "      <th>3</th>\n",
       "      <td>1</td>\n",
       "      <td>8</td>\n",
       "      <td>Meal</td>\n",
       "      <td>cereal</td>\n",
       "    </tr>\n",
       "    <tr>\n",
       "      <th>4</th>\n",
       "      <td>1</td>\n",
       "      <td>8</td>\n",
       "      <td>Snack</td>\n",
       "      <td>snack bar</td>\n",
       "    </tr>\n",
       "  </tbody>\n",
       "</table>\n",
       "</div>"
      ],
      "text/plain": [
       "   day  hour     class simplified_food\n",
       "0    1     6  Beverage          coffee\n",
       "1    1     6      Meal         seafood\n",
       "2    1     8  Beverage            milk\n",
       "3    1     8      Meal          cereal\n",
       "4    1     8     Snack       snack bar"
      ]
     },
     "execution_count": 39,
     "metadata": {},
     "output_type": "execute_result"
    }
   ],
   "source": [
    "from collections import Counter\n",
    "\n",
    "def mode(x):\n",
    "    counts = Counter(x)\n",
    "    most_common = counts.most_common(1)  # Get the most common element(s)\n",
    "    if most_common:\n",
    "        return most_common[0][0]  # Return the most common element\n",
    "    else:\n",
    "        return None  # Handle the case where the list is empty\n",
    "\n",
    "pop_foods = data.groupby(['day','hour', 'class']).agg({\n",
    "    'simplified_food': mode  # Get the most popular logged food item\n",
    "}).reset_index()\n",
    "pop_foods.head()"
   ]
  },
  {
   "cell_type": "code",
   "execution_count": 40,
   "metadata": {},
   "outputs": [],
   "source": [
    "nutrition_stats = (\n",
    "    data.groupby('simplified_food')[['total_carb', 'sugar', 'calorie']]\n",
    "    .mean()\n",
    "    .reset_index()\n",
    "    .rename(columns={'total_carb': 'avg carb', 'sugar': 'avg sugar', 'calorie': 'avg calorie'})\n",
    ")"
   ]
  },
  {
   "cell_type": "code",
   "execution_count": 43,
   "metadata": {},
   "outputs": [
    {
     "data": {
      "application/vnd.microsoft.datawrangler.viewer.v0+json": {
       "columns": [
        {
         "name": "index",
         "rawType": "int64",
         "type": "integer"
        },
        {
         "name": "day",
         "rawType": "int64",
         "type": "integer"
        },
        {
         "name": "hour",
         "rawType": "int64",
         "type": "integer"
        },
        {
         "name": "class",
         "rawType": "object",
         "type": "string"
        },
        {
         "name": "simplified_food",
         "rawType": "object",
         "type": "string"
        },
        {
         "name": "avg carb",
         "rawType": "float64",
         "type": "float"
        },
        {
         "name": "avg sugar",
         "rawType": "float64",
         "type": "float"
        },
        {
         "name": "avg calorie",
         "rawType": "float64",
         "type": "float"
        }
       ],
       "conversionMethod": "pd.DataFrame",
       "ref": "9a1b3be5-7820-402a-adae-cfa464d2018b",
       "rows": [
        [
         "0",
         "1",
         "6",
         "Beverage",
         "coffee",
         "5.415267175572519",
         "2.2572519083969467",
         "42.80610687022901"
        ],
        [
         "1",
         "1",
         "6",
         "Meal",
         "seafood",
         "11.554545454545455",
         "2.7636363636363637",
         "258.47272727272724"
        ],
        [
         "2",
         "1",
         "8",
         "Beverage",
         "milk",
         "8.387777777777778",
         "7.595555555555555",
         "95.26666666666667"
        ],
        [
         "3",
         "1",
         "8",
         "Meal",
         "cereal",
         "44.131914893617015",
         "14.597872340425532",
         "192.17659574468084"
        ],
        [
         "4",
         "1",
         "8",
         "Snack",
         "snack bar",
         "37.41428571428571",
         "18.349999999999998",
         "230.07142857142858"
        ],
        [
         "5",
         "1",
         "9",
         "Beverage",
         "coffee",
         "5.415267175572519",
         "2.2572519083969467",
         "42.80610687022901"
        ],
        [
         "6",
         "1",
         "9",
         "Snack",
         "snack bar",
         "37.41428571428571",
         "18.349999999999998",
         "230.07142857142858"
        ],
        [
         "7",
         "1",
         "10",
         "Beverage",
         "soda",
         "20.493650793650794",
         "20.23015873015873",
         "76.30952380952381"
        ],
        [
         "8",
         "1",
         "10",
         "Meal",
         "sandwich",
         "37.52121212121212",
         "7.318181818181818",
         "436.6363636363636"
        ],
        [
         "9",
         "1",
         "10",
         "Snack",
         "snack bar",
         "37.41428571428571",
         "18.349999999999998",
         "230.07142857142858"
        ],
        [
         "10",
         "1",
         "11",
         "Meal",
         "tea",
         "22.604347826086954",
         "11.491304347826087",
         "177.68260869565216"
        ],
        [
         "11",
         "1",
         "11",
         "Snack",
         "nuts",
         "6.27741935483871",
         "1.467741935483871",
         "147.94516129032257"
        ],
        [
         "12",
         "1",
         "12",
         "Beverage",
         "coffee",
         "5.415267175572519",
         "2.2572519083969467",
         "42.80610687022901"
        ],
        [
         "13",
         "1",
         "12",
         "Meal",
         "potato",
         "28.11176470588235",
         "1.5",
         "183.86176470588236"
        ],
        [
         "14",
         "1",
         "13",
         "Beverage",
         "milk",
         "8.387777777777778",
         "7.595555555555555",
         "95.26666666666667"
        ],
        [
         "15",
         "1",
         "13",
         "Meal",
         "seafood",
         "11.554545454545455",
         "2.7636363636363637",
         "258.47272727272724"
        ],
        [
         "16",
         "1",
         "13",
         "Snack",
         "cheese",
         "8.303225806451614",
         "2.0693548387096774",
         "191.15322580645162"
        ],
        [
         "17",
         "1",
         "14",
         "Beverage",
         "juice",
         "17.975",
         "13.395",
         "71.78"
        ],
        [
         "18",
         "1",
         "14",
         "Meal",
         "poultry",
         "25.886363636363637",
         "6.736363636363637",
         "443.49090909090904"
        ],
        [
         "19",
         "1",
         "14",
         "Snack",
         "candy",
         "24.577192982456143",
         "17.601754385964913",
         "172.49649122807017"
        ],
        [
         "20",
         "1",
         "15",
         "Meal",
         "candy",
         "24.577192982456143",
         "17.601754385964913",
         "172.49649122807017"
        ],
        [
         "21",
         "1",
         "16",
         "Beverage",
         "coffee",
         "5.415267175572519",
         "2.2572519083969467",
         "42.80610687022901"
        ],
        [
         "22",
         "1",
         "16",
         "Meal",
         "sandwich",
         "37.52121212121212",
         "7.318181818181818",
         "436.6363636363636"
        ],
        [
         "23",
         "1",
         "16",
         "Snack",
         "chips",
         "56.095238095238095",
         "2.2095238095238097",
         "430.7142857142857"
        ],
        [
         "24",
         "1",
         "17",
         "Beverage",
         "alcohol",
         "11.80909090909091",
         "2.5363636363636366",
         "170.0909090909091"
        ],
        [
         "25",
         "1",
         "17",
         "Meal",
         "potato",
         "28.11176470588235",
         "1.5",
         "183.86176470588236"
        ],
        [
         "26",
         "1",
         "17",
         "Snack",
         "chips",
         "56.095238095238095",
         "2.2095238095238097",
         "430.7142857142857"
        ],
        [
         "27",
         "1",
         "18",
         "Beverage",
         "smoothie",
         "77.188",
         "55.284",
         "382.16"
        ],
        [
         "28",
         "1",
         "18",
         "Meal",
         "pizza",
         "100.64285714285714",
         "11.464285714285714",
         "850.9285714285714"
        ],
        [
         "29",
         "1",
         "18",
         "Snack",
         "nuts",
         "6.27741935483871",
         "1.467741935483871",
         "147.94516129032257"
        ],
        [
         "30",
         "1",
         "19",
         "Beverage",
         "juice",
         "17.975",
         "13.395",
         "71.78"
        ],
        [
         "31",
         "1",
         "19",
         "Meal",
         "candy",
         "24.577192982456143",
         "17.601754385964913",
         "172.49649122807017"
        ],
        [
         "32",
         "1",
         "19",
         "Snack",
         "cheese",
         "8.303225806451614",
         "2.0693548387096774",
         "191.15322580645162"
        ],
        [
         "33",
         "1",
         "20",
         "Beverage",
         "soda",
         "20.493650793650794",
         "20.23015873015873",
         "76.30952380952381"
        ],
        [
         "34",
         "1",
         "20",
         "Meal",
         "candy",
         "24.577192982456143",
         "17.601754385964913",
         "172.49649122807017"
        ],
        [
         "35",
         "1",
         "20",
         "Snack",
         "popcorn",
         "42.6",
         "0.85",
         "284.0"
        ],
        [
         "36",
         "1",
         "21",
         "Snack",
         "cheese",
         "8.303225806451614",
         "2.0693548387096774",
         "191.15322580645162"
        ],
        [
         "37",
         "1",
         "22",
         "Meal",
         "candy",
         "24.577192982456143",
         "17.601754385964913",
         "172.49649122807017"
        ],
        [
         "38",
         "1",
         "23",
         "Beverage",
         "soda",
         "20.493650793650794",
         "20.23015873015873",
         "76.30952380952381"
        ],
        [
         "39",
         "1",
         "23",
         "Meal",
         "smoothie",
         "77.188",
         "55.284",
         "382.16"
        ],
        [
         "40",
         "1",
         "23",
         "Snack",
         "chips",
         "56.095238095238095",
         "2.2095238095238097",
         "430.7142857142857"
        ],
        [
         "41",
         "2",
         "0",
         "Snack",
         "crackers",
         "24.2",
         "7.142857142857143",
         "191.3857142857143"
        ],
        [
         "42",
         "2",
         "4",
         "Beverage",
         "milk",
         "8.387777777777778",
         "7.595555555555555",
         "95.26666666666667"
        ],
        [
         "43",
         "2",
         "4",
         "Meal",
         "cereal",
         "44.131914893617015",
         "14.597872340425532",
         "192.17659574468084"
        ],
        [
         "44",
         "2",
         "5",
         "Beverage",
         "milk",
         "8.387777777777778",
         "7.595555555555555",
         "95.26666666666667"
        ],
        [
         "45",
         "2",
         "5",
         "Meal",
         "cereal",
         "44.131914893617015",
         "14.597872340425532",
         "192.17659574468084"
        ],
        [
         "46",
         "2",
         "6",
         "Beverage",
         "coffee",
         "5.415267175572519",
         "2.2572519083969467",
         "42.80610687022901"
        ],
        [
         "47",
         "2",
         "6",
         "Meal",
         "standard breakfast",
         "49.59090909090909",
         "22.060606060606062",
         "259.3939393939394"
        ],
        [
         "48",
         "2",
         "7",
         "Beverage",
         "milk",
         "8.387777777777778",
         "7.595555555555555",
         "95.26666666666667"
        ],
        [
         "49",
         "2",
         "7",
         "Meal",
         "standard breakfast",
         "49.59090909090909",
         "22.060606060606062",
         "259.3939393939394"
        ]
       ],
       "shape": {
        "columns": 7,
        "rows": 388
       }
      },
      "text/html": [
       "<div>\n",
       "<style scoped>\n",
       "    .dataframe tbody tr th:only-of-type {\n",
       "        vertical-align: middle;\n",
       "    }\n",
       "\n",
       "    .dataframe tbody tr th {\n",
       "        vertical-align: top;\n",
       "    }\n",
       "\n",
       "    .dataframe thead th {\n",
       "        text-align: right;\n",
       "    }\n",
       "</style>\n",
       "<table border=\"1\" class=\"dataframe\">\n",
       "  <thead>\n",
       "    <tr style=\"text-align: right;\">\n",
       "      <th></th>\n",
       "      <th>day</th>\n",
       "      <th>hour</th>\n",
       "      <th>class</th>\n",
       "      <th>simplified_food</th>\n",
       "      <th>avg carb</th>\n",
       "      <th>avg sugar</th>\n",
       "      <th>avg calorie</th>\n",
       "    </tr>\n",
       "  </thead>\n",
       "  <tbody>\n",
       "    <tr>\n",
       "      <th>0</th>\n",
       "      <td>1</td>\n",
       "      <td>6</td>\n",
       "      <td>Beverage</td>\n",
       "      <td>coffee</td>\n",
       "      <td>5.415267</td>\n",
       "      <td>2.257252</td>\n",
       "      <td>42.806107</td>\n",
       "    </tr>\n",
       "    <tr>\n",
       "      <th>1</th>\n",
       "      <td>1</td>\n",
       "      <td>6</td>\n",
       "      <td>Meal</td>\n",
       "      <td>seafood</td>\n",
       "      <td>11.554545</td>\n",
       "      <td>2.763636</td>\n",
       "      <td>258.472727</td>\n",
       "    </tr>\n",
       "    <tr>\n",
       "      <th>2</th>\n",
       "      <td>1</td>\n",
       "      <td>8</td>\n",
       "      <td>Beverage</td>\n",
       "      <td>milk</td>\n",
       "      <td>8.387778</td>\n",
       "      <td>7.595556</td>\n",
       "      <td>95.266667</td>\n",
       "    </tr>\n",
       "    <tr>\n",
       "      <th>3</th>\n",
       "      <td>1</td>\n",
       "      <td>8</td>\n",
       "      <td>Meal</td>\n",
       "      <td>cereal</td>\n",
       "      <td>44.131915</td>\n",
       "      <td>14.597872</td>\n",
       "      <td>192.176596</td>\n",
       "    </tr>\n",
       "    <tr>\n",
       "      <th>4</th>\n",
       "      <td>1</td>\n",
       "      <td>8</td>\n",
       "      <td>Snack</td>\n",
       "      <td>snack bar</td>\n",
       "      <td>37.414286</td>\n",
       "      <td>18.350000</td>\n",
       "      <td>230.071429</td>\n",
       "    </tr>\n",
       "    <tr>\n",
       "      <th>...</th>\n",
       "      <td>...</td>\n",
       "      <td>...</td>\n",
       "      <td>...</td>\n",
       "      <td>...</td>\n",
       "      <td>...</td>\n",
       "      <td>...</td>\n",
       "      <td>...</td>\n",
       "    </tr>\n",
       "    <tr>\n",
       "      <th>383</th>\n",
       "      <td>10</td>\n",
       "      <td>17</td>\n",
       "      <td>Snack</td>\n",
       "      <td>nuts</td>\n",
       "      <td>6.277419</td>\n",
       "      <td>1.467742</td>\n",
       "      <td>147.945161</td>\n",
       "    </tr>\n",
       "    <tr>\n",
       "      <th>384</th>\n",
       "      <td>10</td>\n",
       "      <td>19</td>\n",
       "      <td>Meal</td>\n",
       "      <td>desserts</td>\n",
       "      <td>46.802273</td>\n",
       "      <td>23.536364</td>\n",
       "      <td>332.002273</td>\n",
       "    </tr>\n",
       "    <tr>\n",
       "      <th>385</th>\n",
       "      <td>10</td>\n",
       "      <td>19</td>\n",
       "      <td>Snack</td>\n",
       "      <td>chips</td>\n",
       "      <td>56.095238</td>\n",
       "      <td>2.209524</td>\n",
       "      <td>430.714286</td>\n",
       "    </tr>\n",
       "    <tr>\n",
       "      <th>386</th>\n",
       "      <td>10</td>\n",
       "      <td>20</td>\n",
       "      <td>Beverage</td>\n",
       "      <td>soda</td>\n",
       "      <td>20.493651</td>\n",
       "      <td>20.230159</td>\n",
       "      <td>76.309524</td>\n",
       "    </tr>\n",
       "    <tr>\n",
       "      <th>387</th>\n",
       "      <td>10</td>\n",
       "      <td>20</td>\n",
       "      <td>Meal</td>\n",
       "      <td>sandwich</td>\n",
       "      <td>37.521212</td>\n",
       "      <td>7.318182</td>\n",
       "      <td>436.636364</td>\n",
       "    </tr>\n",
       "  </tbody>\n",
       "</table>\n",
       "<p>388 rows × 7 columns</p>\n",
       "</div>"
      ],
      "text/plain": [
       "     day  hour     class simplified_food   avg carb  avg sugar  avg calorie\n",
       "0      1     6  Beverage          coffee   5.415267   2.257252    42.806107\n",
       "1      1     6      Meal         seafood  11.554545   2.763636   258.472727\n",
       "2      1     8  Beverage            milk   8.387778   7.595556    95.266667\n",
       "3      1     8      Meal          cereal  44.131915  14.597872   192.176596\n",
       "4      1     8     Snack       snack bar  37.414286  18.350000   230.071429\n",
       "..   ...   ...       ...             ...        ...        ...          ...\n",
       "383   10    17     Snack            nuts   6.277419   1.467742   147.945161\n",
       "384   10    19      Meal        desserts  46.802273  23.536364   332.002273\n",
       "385   10    19     Snack           chips  56.095238   2.209524   430.714286\n",
       "386   10    20  Beverage            soda  20.493651  20.230159    76.309524\n",
       "387   10    20      Meal        sandwich  37.521212   7.318182   436.636364\n",
       "\n",
       "[388 rows x 7 columns]"
      ]
     },
     "execution_count": 43,
     "metadata": {},
     "output_type": "execute_result"
    }
   ],
   "source": [
    "avg_foods = pop_foods.merge(nutrition_stats, how='left', on='simplified_food')\n",
    "avg_foods"
   ]
  },
  {
   "cell_type": "code",
   "execution_count": 44,
   "metadata": {},
   "outputs": [],
   "source": [
    "avg_foods.to_csv('avg_foods.csv')"
   ]
  },
  {
   "cell_type": "code",
   "execution_count": null,
   "metadata": {},
   "outputs": [],
   "source": []
  }
 ],
 "metadata": {
  "kernelspec": {
   "display_name": "dsc80",
   "language": "python",
   "name": "python3"
  },
  "language_info": {
   "codemirror_mode": {
    "name": "ipython",
    "version": 3
   },
   "file_extension": ".py",
   "mimetype": "text/x-python",
   "name": "python",
   "nbconvert_exporter": "python",
   "pygments_lexer": "ipython3",
   "version": "3.8.19"
  }
 },
 "nbformat": 4,
 "nbformat_minor": 2
}
